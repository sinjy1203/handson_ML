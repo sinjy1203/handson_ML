{
 "cells": [
  {
   "cell_type": "code",
   "execution_count": 2,
   "metadata": {},
   "outputs": [],
   "source": [
    "import tensorflow as tf\n",
    "from tensorflow import keras"
   ]
  },
  {
   "cell_type": "code",
   "execution_count": 3,
   "metadata": {},
   "outputs": [
    {
     "data": {
      "text/plain": [
       "'2.3.1'"
      ]
     },
     "execution_count": 3,
     "metadata": {},
     "output_type": "execute_result"
    }
   ],
   "source": [
    "tf.__version__"
   ]
  },
  {
   "cell_type": "code",
   "execution_count": 4,
   "metadata": {},
   "outputs": [
    {
     "data": {
      "text/plain": [
       "'2.4.0'"
      ]
     },
     "execution_count": 4,
     "metadata": {},
     "output_type": "execute_result"
    }
   ],
   "source": [
    "keras.__version__"
   ]
  },
  {
   "cell_type": "code",
   "execution_count": 5,
   "metadata": {},
   "outputs": [],
   "source": [
    "fashion_mnist = keras.datasets.fashion_mnist\n",
    "(x_train_full, y_train_full), (x_test, y_test) = fashion_mnist.load_data()"
   ]
  },
  {
   "cell_type": "code",
   "execution_count": 6,
   "metadata": {},
   "outputs": [
    {
     "data": {
      "text/plain": [
       "(60000, 28, 28)"
      ]
     },
     "execution_count": 6,
     "metadata": {},
     "output_type": "execute_result"
    }
   ],
   "source": [
    "x_train_full.shape"
   ]
  },
  {
   "cell_type": "code",
   "execution_count": 7,
   "metadata": {},
   "outputs": [
    {
     "data": {
      "text/plain": [
       "(60000,)"
      ]
     },
     "execution_count": 7,
     "metadata": {},
     "output_type": "execute_result"
    }
   ],
   "source": [
    "y_train_full.shape"
   ]
  },
  {
   "cell_type": "code",
   "execution_count": 8,
   "metadata": {},
   "outputs": [
    {
     "data": {
      "text/plain": [
       "dtype('uint8')"
      ]
     },
     "execution_count": 8,
     "metadata": {},
     "output_type": "execute_result"
    }
   ],
   "source": [
    "x_train_full.dtype"
   ]
  },
  {
   "cell_type": "code",
   "execution_count": 9,
   "metadata": {},
   "outputs": [
    {
     "data": {
      "text/plain": [
       "dtype('uint8')"
      ]
     },
     "execution_count": 9,
     "metadata": {},
     "output_type": "execute_result"
    }
   ],
   "source": [
    "y_train_full.dtype"
   ]
  },
  {
   "cell_type": "code",
   "execution_count": 10,
   "metadata": {},
   "outputs": [],
   "source": [
    "x_valid, x_train = x_train_full[:5000] / 255., x_train_full[5000:] / 255.\n",
    "y_valid, y_train = y_train_full[:5000], y_train_full[5000:]\n",
    "x_test = x_test / 255."
   ]
  },
  {
   "cell_type": "code",
   "execution_count": 11,
   "metadata": {},
   "outputs": [],
   "source": [
    "class_names = [\"T-shirt/top\", \"Trouser\", \"Pullover\", \"Dress\", \"Coat\",\n",
    "               \"Sandal\", \"Shirt\", \"Sneaker\", \"Bag\", \"Ankle boot\"]"
   ]
  },
  {
   "cell_type": "code",
   "execution_count": 12,
   "metadata": {},
   "outputs": [],
   "source": [
    "model = keras.models.Sequential()\n",
    "model.add(keras.layers.Flatten(input_shape=(28, 28)))\n",
    "model.add(keras.layers.Dense(300, activation='relu'))\n",
    "model.add(keras.layers.Dense(300, activation='relu'))\n",
    "model.add(keras.layers.Dense(10, activation='softmax'))"
   ]
  },
  {
   "cell_type": "code",
   "execution_count": 13,
   "metadata": {},
   "outputs": [
    {
     "name": "stdout",
     "output_type": "stream",
     "text": [
      "Model: \"sequential\"\n",
      "_________________________________________________________________\n",
      "Layer (type)                 Output Shape              Param #   \n",
      "=================================================================\n",
      "flatten (Flatten)            (None, 784)               0         \n",
      "_________________________________________________________________\n",
      "dense (Dense)                (None, 300)               235500    \n",
      "_________________________________________________________________\n",
      "dense_1 (Dense)              (None, 300)               90300     \n",
      "_________________________________________________________________\n",
      "dense_2 (Dense)              (None, 10)                3010      \n",
      "=================================================================\n",
      "Total params: 328,810\n",
      "Trainable params: 328,810\n",
      "Non-trainable params: 0\n",
      "_________________________________________________________________\n"
     ]
    }
   ],
   "source": [
    "model.summary()"
   ]
  },
  {
   "cell_type": "code",
   "execution_count": 14,
   "metadata": {},
   "outputs": [],
   "source": [
    "layer = []\n",
    "layer += [keras.layers.Flatten(input_shape=(28, 28))]\n",
    "for i in range(3):\n",
    "    if i == 2:\n",
    "        layer += [keras.layers.Dense(10, activation='softmax')] \n",
    "    else:\n",
    "        layer += [keras.layers.Dense(300, activation='relu')]\n",
    "model2 = keras.models.Sequential(layer)"
   ]
  },
  {
   "cell_type": "code",
   "execution_count": 15,
   "metadata": {},
   "outputs": [
    {
     "name": "stdout",
     "output_type": "stream",
     "text": [
      "Model: \"sequential_1\"\n",
      "_________________________________________________________________\n",
      "Layer (type)                 Output Shape              Param #   \n",
      "=================================================================\n",
      "flatten_1 (Flatten)          (None, 784)               0         \n",
      "_________________________________________________________________\n",
      "dense_3 (Dense)              (None, 300)               235500    \n",
      "_________________________________________________________________\n",
      "dense_4 (Dense)              (None, 300)               90300     \n",
      "_________________________________________________________________\n",
      "dense_5 (Dense)              (None, 10)                3010      \n",
      "=================================================================\n",
      "Total params: 328,810\n",
      "Trainable params: 328,810\n",
      "Non-trainable params: 0\n",
      "_________________________________________________________________\n"
     ]
    }
   ],
   "source": [
    "model2.summary()"
   ]
  },
  {
   "cell_type": "code",
   "execution_count": 16,
   "metadata": {},
   "outputs": [
    {
     "data": {
      "text/plain": [
       "[<tensorflow.python.keras.layers.core.Flatten at 0x176e0730208>,\n",
       " <tensorflow.python.keras.layers.core.Dense at 0x176e0730ec8>,\n",
       " <tensorflow.python.keras.layers.core.Dense at 0x176eea45548>,\n",
       " <tensorflow.python.keras.layers.core.Dense at 0x176eea605c8>]"
      ]
     },
     "execution_count": 16,
     "metadata": {},
     "output_type": "execute_result"
    }
   ],
   "source": [
    "model.layers"
   ]
  },
  {
   "cell_type": "code",
   "execution_count": 17,
   "metadata": {},
   "outputs": [
    {
     "data": {
      "text/plain": [
       "'dense'"
      ]
     },
     "execution_count": 17,
     "metadata": {},
     "output_type": "execute_result"
    }
   ],
   "source": [
    "hidden1 = model.layers[1]\n",
    "hidden1.name"
   ]
  },
  {
   "cell_type": "code",
   "execution_count": 18,
   "metadata": {},
   "outputs": [],
   "source": [
    "weight, bias = hidden1.get_weights()"
   ]
  },
  {
   "cell_type": "code",
   "execution_count": 19,
   "metadata": {},
   "outputs": [
    {
     "data": {
      "text/plain": [
       "(784, 300)"
      ]
     },
     "execution_count": 19,
     "metadata": {},
     "output_type": "execute_result"
    }
   ],
   "source": [
    "weight.shape"
   ]
  },
  {
   "cell_type": "code",
   "execution_count": 20,
   "metadata": {},
   "outputs": [
    {
     "data": {
      "text/plain": [
       "(300,)"
      ]
     },
     "execution_count": 20,
     "metadata": {},
     "output_type": "execute_result"
    }
   ],
   "source": [
    "bias.shape"
   ]
  },
  {
   "cell_type": "code",
   "execution_count": 21,
   "metadata": {},
   "outputs": [],
   "source": [
    "model.compile(loss='sparse_categorical_crossentropy',\n",
    "             optimizer='sgd',\n",
    "             metrics=['accuracy'])"
   ]
  },
  {
   "cell_type": "code",
   "execution_count": 22,
   "metadata": {},
   "outputs": [
    {
     "name": "stdout",
     "output_type": "stream",
     "text": [
      "Epoch 1/30\n",
      "1719/1719 [==============================] - 3s 2ms/step - loss: 0.7192 - accuracy: 0.7665 - val_loss: 0.5005 - val_accuracy: 0.8324\n",
      "Epoch 2/30\n",
      "1719/1719 [==============================] - 3s 2ms/step - loss: 0.4865 - accuracy: 0.8318 - val_loss: 0.4475 - val_accuracy: 0.8540\n",
      "Epoch 3/30\n",
      "1719/1719 [==============================] - 3s 2ms/step - loss: 0.4419 - accuracy: 0.8451 - val_loss: 0.4137 - val_accuracy: 0.8622\n",
      "Epoch 4/30\n",
      "1719/1719 [==============================] - 3s 2ms/step - loss: 0.4141 - accuracy: 0.8553 - val_loss: 0.4144 - val_accuracy: 0.8596\n",
      "Epoch 5/30\n",
      "1719/1719 [==============================] - 3s 2ms/step - loss: 0.3949 - accuracy: 0.8610 - val_loss: 0.4526 - val_accuracy: 0.8306\n",
      "Epoch 6/30\n",
      "1719/1719 [==============================] - 3s 2ms/step - loss: 0.3788 - accuracy: 0.8666 - val_loss: 0.3734 - val_accuracy: 0.8722\n",
      "Epoch 7/30\n",
      "1719/1719 [==============================] - 3s 2ms/step - loss: 0.3659 - accuracy: 0.8703 - val_loss: 0.3633 - val_accuracy: 0.8754\n",
      "Epoch 8/30\n",
      "1719/1719 [==============================] - 3s 2ms/step - loss: 0.3530 - accuracy: 0.8750 - val_loss: 0.3720 - val_accuracy: 0.8686\n",
      "Epoch 9/30\n",
      "1719/1719 [==============================] - 3s 2ms/step - loss: 0.3429 - accuracy: 0.8773 - val_loss: 0.3633 - val_accuracy: 0.8708\n",
      "Epoch 10/30\n",
      "1719/1719 [==============================] - 3s 2ms/step - loss: 0.3337 - accuracy: 0.8803 - val_loss: 0.3388 - val_accuracy: 0.8774\n",
      "Epoch 11/30\n",
      "1719/1719 [==============================] - 3s 2ms/step - loss: 0.3250 - accuracy: 0.8837 - val_loss: 0.3479 - val_accuracy: 0.8780\n",
      "Epoch 12/30\n",
      "1719/1719 [==============================] - 3s 2ms/step - loss: 0.3179 - accuracy: 0.8862 - val_loss: 0.3425 - val_accuracy: 0.8782\n",
      "Epoch 13/30\n",
      "1719/1719 [==============================] - 3s 2ms/step - loss: 0.3091 - accuracy: 0.8889 - val_loss: 0.3262 - val_accuracy: 0.8844\n",
      "Epoch 14/30\n",
      "1719/1719 [==============================] - 3s 2ms/step - loss: 0.3031 - accuracy: 0.8917 - val_loss: 0.3280 - val_accuracy: 0.8812\n",
      "Epoch 15/30\n",
      "1719/1719 [==============================] - 3s 2ms/step - loss: 0.2962 - accuracy: 0.8925 - val_loss: 0.3147 - val_accuracy: 0.8858\n",
      "Epoch 16/30\n",
      "1719/1719 [==============================] - 3s 2ms/step - loss: 0.2914 - accuracy: 0.8951 - val_loss: 0.3280 - val_accuracy: 0.8824\n",
      "Epoch 17/30\n",
      "1719/1719 [==============================] - 3s 2ms/step - loss: 0.2843 - accuracy: 0.8977 - val_loss: 0.3138 - val_accuracy: 0.8870\n",
      "Epoch 18/30\n",
      "1719/1719 [==============================] - 3s 2ms/step - loss: 0.2782 - accuracy: 0.8988 - val_loss: 0.3157 - val_accuracy: 0.8884\n",
      "Epoch 19/30\n",
      "1719/1719 [==============================] - 3s 2ms/step - loss: 0.2736 - accuracy: 0.9018 - val_loss: 0.3240 - val_accuracy: 0.8848\n",
      "Epoch 20/30\n",
      "1719/1719 [==============================] - 3s 2ms/step - loss: 0.2679 - accuracy: 0.9043 - val_loss: 0.3143 - val_accuracy: 0.8882\n",
      "Epoch 21/30\n",
      "1719/1719 [==============================] - 3s 2ms/step - loss: 0.2637 - accuracy: 0.9044 - val_loss: 0.3117 - val_accuracy: 0.8886\n",
      "Epoch 22/30\n",
      "1719/1719 [==============================] - 3s 2ms/step - loss: 0.2600 - accuracy: 0.9060 - val_loss: 0.3109 - val_accuracy: 0.8896\n",
      "Epoch 23/30\n",
      "1719/1719 [==============================] - 3s 2ms/step - loss: 0.2550 - accuracy: 0.9078 - val_loss: 0.3003 - val_accuracy: 0.8928\n",
      "Epoch 24/30\n",
      "1719/1719 [==============================] - 3s 2ms/step - loss: 0.2502 - accuracy: 0.9100 - val_loss: 0.3008 - val_accuracy: 0.8944\n",
      "Epoch 25/30\n",
      "1719/1719 [==============================] - 3s 2ms/step - loss: 0.2456 - accuracy: 0.9123 - val_loss: 0.3071 - val_accuracy: 0.8896\n",
      "Epoch 26/30\n",
      "1719/1719 [==============================] - 3s 2ms/step - loss: 0.2415 - accuracy: 0.9132 - val_loss: 0.3058 - val_accuracy: 0.8898\n",
      "Epoch 27/30\n",
      "1719/1719 [==============================] - 3s 2ms/step - loss: 0.2365 - accuracy: 0.9155 - val_loss: 0.2966 - val_accuracy: 0.8938\n",
      "Epoch 28/30\n",
      "1719/1719 [==============================] - 3s 2ms/step - loss: 0.2336 - accuracy: 0.9159 - val_loss: 0.2958 - val_accuracy: 0.8940\n",
      "Epoch 29/30\n",
      "1719/1719 [==============================] - 3s 2ms/step - loss: 0.2295 - accuracy: 0.9180 - val_loss: 0.3052 - val_accuracy: 0.8876\n",
      "Epoch 30/30\n",
      "1719/1719 [==============================] - 3s 2ms/step - loss: 0.2254 - accuracy: 0.9189 - val_loss: 0.3158 - val_accuracy: 0.8864\n"
     ]
    }
   ],
   "source": [
    "history = model.fit(x_train, y_train, epochs=30, validation_data=(x_valid, y_valid))"
   ]
  },
  {
   "cell_type": "code",
   "execution_count": 23,
   "metadata": {},
   "outputs": [
    {
     "data": {
      "text/plain": [
       "{'verbose': 1, 'epochs': 30, 'steps': 1719}"
      ]
     },
     "execution_count": 23,
     "metadata": {},
     "output_type": "execute_result"
    }
   ],
   "source": [
    "history.params"
   ]
  },
  {
   "cell_type": "code",
   "execution_count": 24,
   "metadata": {},
   "outputs": [
    {
     "data": {
      "text/plain": [
       "[0,\n",
       " 1,\n",
       " 2,\n",
       " 3,\n",
       " 4,\n",
       " 5,\n",
       " 6,\n",
       " 7,\n",
       " 8,\n",
       " 9,\n",
       " 10,\n",
       " 11,\n",
       " 12,\n",
       " 13,\n",
       " 14,\n",
       " 15,\n",
       " 16,\n",
       " 17,\n",
       " 18,\n",
       " 19,\n",
       " 20,\n",
       " 21,\n",
       " 22,\n",
       " 23,\n",
       " 24,\n",
       " 25,\n",
       " 26,\n",
       " 27,\n",
       " 28,\n",
       " 29]"
      ]
     },
     "execution_count": 24,
     "metadata": {},
     "output_type": "execute_result"
    }
   ],
   "source": [
    "history.epoch"
   ]
  },
  {
   "cell_type": "code",
   "execution_count": 25,
   "metadata": {},
   "outputs": [
    {
     "data": {
      "text/plain": [
       "{'loss': [0.7191544771194458,\n",
       "  0.4864506721496582,\n",
       "  0.4419199526309967,\n",
       "  0.41412392258644104,\n",
       "  0.3949027359485626,\n",
       "  0.37881579995155334,\n",
       "  0.36587169766426086,\n",
       "  0.3530019521713257,\n",
       "  0.34285035729408264,\n",
       "  0.33369511365890503,\n",
       "  0.3250378966331482,\n",
       "  0.31790533661842346,\n",
       "  0.30913156270980835,\n",
       "  0.3030637800693512,\n",
       "  0.2962428033351898,\n",
       "  0.29138171672821045,\n",
       "  0.28431135416030884,\n",
       "  0.2782234847545624,\n",
       "  0.27356860041618347,\n",
       "  0.267943799495697,\n",
       "  0.2636605501174927,\n",
       "  0.26004594564437866,\n",
       "  0.25498202443122864,\n",
       "  0.25023889541625977,\n",
       "  0.24561168253421783,\n",
       "  0.24148671329021454,\n",
       "  0.2365272045135498,\n",
       "  0.23364636301994324,\n",
       "  0.22947964072227478,\n",
       "  0.22539584338665009],\n",
       " 'accuracy': [0.7664545178413391,\n",
       "  0.831818163394928,\n",
       "  0.845127284526825,\n",
       "  0.8552727103233337,\n",
       "  0.8609636425971985,\n",
       "  0.866563618183136,\n",
       "  0.8703272938728333,\n",
       "  0.875,\n",
       "  0.8773272633552551,\n",
       "  0.8802727460861206,\n",
       "  0.8836727142333984,\n",
       "  0.8862181901931763,\n",
       "  0.8888909220695496,\n",
       "  0.8917090892791748,\n",
       "  0.8925091028213501,\n",
       "  0.8951272964477539,\n",
       "  0.8977454304695129,\n",
       "  0.8987636566162109,\n",
       "  0.9017636179924011,\n",
       "  0.9043454527854919,\n",
       "  0.9044181704521179,\n",
       "  0.906036376953125,\n",
       "  0.9077818393707275,\n",
       "  0.9099636077880859,\n",
       "  0.9123272895812988,\n",
       "  0.9132363796234131,\n",
       "  0.9154909253120422,\n",
       "  0.9159454703330994,\n",
       "  0.9179999828338623,\n",
       "  0.9189090728759766],\n",
       " 'val_loss': [0.5005245804786682,\n",
       "  0.44751280546188354,\n",
       "  0.41368427872657776,\n",
       "  0.4144171476364136,\n",
       "  0.45258286595344543,\n",
       "  0.37342649698257446,\n",
       "  0.3632795810699463,\n",
       "  0.37204983830451965,\n",
       "  0.36334407329559326,\n",
       "  0.33880800008773804,\n",
       "  0.34793275594711304,\n",
       "  0.34254902601242065,\n",
       "  0.3262068033218384,\n",
       "  0.3279508054256439,\n",
       "  0.3147432208061218,\n",
       "  0.3279794752597809,\n",
       "  0.3138428330421448,\n",
       "  0.31574615836143494,\n",
       "  0.3240225315093994,\n",
       "  0.3143009841442108,\n",
       "  0.3116896450519562,\n",
       "  0.3108958601951599,\n",
       "  0.3002697825431824,\n",
       "  0.300801157951355,\n",
       "  0.30710703134536743,\n",
       "  0.30579495429992676,\n",
       "  0.29658085107803345,\n",
       "  0.29581740498542786,\n",
       "  0.30516305565834045,\n",
       "  0.3158388137817383],\n",
       " 'val_accuracy': [0.8324000239372253,\n",
       "  0.8539999723434448,\n",
       "  0.8622000217437744,\n",
       "  0.8596000075340271,\n",
       "  0.8306000232696533,\n",
       "  0.8722000122070312,\n",
       "  0.8754000067710876,\n",
       "  0.8686000108718872,\n",
       "  0.8708000183105469,\n",
       "  0.8773999810218811,\n",
       "  0.878000020980835,\n",
       "  0.8781999945640564,\n",
       "  0.8844000101089478,\n",
       "  0.8812000155448914,\n",
       "  0.8858000040054321,\n",
       "  0.8823999762535095,\n",
       "  0.8870000243186951,\n",
       "  0.8884000182151794,\n",
       "  0.8848000168800354,\n",
       "  0.8881999850273132,\n",
       "  0.8885999917984009,\n",
       "  0.8895999789237976,\n",
       "  0.892799973487854,\n",
       "  0.8944000005722046,\n",
       "  0.8895999789237976,\n",
       "  0.8898000121116638,\n",
       "  0.8938000202178955,\n",
       "  0.8939999938011169,\n",
       "  0.8876000046730042,\n",
       "  0.8863999843597412]}"
      ]
     },
     "execution_count": 25,
     "metadata": {},
     "output_type": "execute_result"
    }
   ],
   "source": [
    "history.history"
   ]
  },
  {
   "cell_type": "code",
   "execution_count": 26,
   "metadata": {},
   "outputs": [
    {
     "data": {
      "image/png": "[encoded data removed]",
      "text/plain": [
       "<Figure size 576x360 with 1 Axes>"
      ]
     },
     "metadata": {
      "needs_background": "light"
     },
     "output_type": "display_data"
    }
   ],
   "source": [
    "import pandas as pd\n",
    "import matplotlib.pyplot as plt\n",
    "\n",
    "pd.DataFrame(history.history).plot(figsize=(8, 5))\n",
    "plt.grid(True)\n",
    "plt.gca().set_ylim(0, 1)\n",
    "plt.show()"
   ]
  },
  {
   "cell_type": "code",
   "execution_count": 27,
   "metadata": {},
   "outputs": [
    {
     "name": "stdout",
     "output_type": "stream",
     "text": [
      "313/313 [==============================] - 0s 883us/step - loss: 0.3466 - accuracy: 0.8735\n"
     ]
    },
    {
     "data": {
      "text/plain": [
       "[0.346558153629303, 0.8734999895095825]"
      ]
     },
     "execution_count": 27,
     "metadata": {},
     "output_type": "execute_result"
    }
   ],
   "source": [
    "model.evaluate(x_test, y_test)"
   ]
  },
  {
   "cell_type": "code",
   "execution_count": 28,
   "metadata": {},
   "outputs": [],
   "source": [
    "\n",
    "from sklearn.datasets import fetch_california_housing\n",
    "from sklearn.model_selection import train_test_split\n",
    "from sklearn.preprocessing import StandardScaler\n",
    "\n",
    "housing = fetch_california_housing()\n",
    "\n",
    "X_train_full, X_test, y_train_full, y_test = train_test_split(housing.data, housing.target, random_state=42)\n",
    "X_train, X_valid, y_train, y_valid = train_test_split(X_train_full, y_train_full, random_state=42)\n",
    "\n",
    "scaler = StandardScaler()\n",
    "X_train = scaler.fit_transform(X_train)\n",
    "X_valid = scaler.transform(X_valid)\n",
    "X_test = scaler.transform(X_test)"
   ]
  },
  {
   "cell_type": "code",
   "execution_count": 29,
   "metadata": {},
   "outputs": [
    {
     "data": {
      "text/plain": [
       "((55000, 28, 28), (5160,))"
      ]
     },
     "execution_count": 29,
     "metadata": {},
     "output_type": "execute_result"
    }
   ],
   "source": [
    "x_train.shape, y_test.shape"
   ]
  },
  {
   "cell_type": "code",
   "execution_count": 30,
   "metadata": {},
   "outputs": [
    {
     "data": {
      "text/plain": [
       "(11610, 8)"
      ]
     },
     "execution_count": 30,
     "metadata": {},
     "output_type": "execute_result"
    }
   ],
   "source": [
    "X_train.shape"
   ]
  },
  {
   "cell_type": "code",
   "execution_count": 31,
   "metadata": {},
   "outputs": [
    {
     "name": "stdout",
     "output_type": "stream",
     "text": [
      "Model: \"sequential_2\"\n",
      "_________________________________________________________________\n",
      "Layer (type)                 Output Shape              Param #   \n",
      "=================================================================\n",
      "dense_6 (Dense)              (None, 200)               1800      \n",
      "_________________________________________________________________\n",
      "dense_7 (Dense)              (None, 200)               40200     \n",
      "_________________________________________________________________\n",
      "dense_8 (Dense)              (None, 200)               40200     \n",
      "_________________________________________________________________\n",
      "dense_9 (Dense)              (None, 1)                 201       \n",
      "=================================================================\n",
      "Total params: 82,401\n",
      "Trainable params: 82,401\n",
      "Non-trainable params: 0\n",
      "_________________________________________________________________\n"
     ]
    }
   ],
   "source": [
    "model = keras.models.Sequential()\n",
    "model.add(keras.layers.Dense(200, activation='relu', input_shape=(8,)))\n",
    "model.add(keras.layers.Dense(200, activation='relu'))\n",
    "model.add(keras.layers.Dense(200, activation='relu'))\n",
    "model.add(keras.layers.Dense(1))\n",
    "model.summary()"
   ]
  },
  {
   "cell_type": "code",
   "execution_count": 32,
   "metadata": {},
   "outputs": [],
   "source": [
    "model.compile(optimizer='sgd', loss='mse')"
   ]
  },
  {
   "cell_type": "code",
   "execution_count": 33,
   "metadata": {},
   "outputs": [
    {
     "name": "stdout",
     "output_type": "stream",
     "text": [
      "Epoch 1/100\n",
      "363/363 [==============================] - 1s 1ms/step - loss: 0.6645 - val_loss: 1.0767\n",
      "Epoch 2/100\n",
      "363/363 [==============================] - 0s 1ms/step - loss: 0.4043 - val_loss: 0.8758\n",
      "Epoch 3/100\n",
      "363/363 [==============================] - 0s 1ms/step - loss: 0.3720 - val_loss: 1.1325\n",
      "Epoch 4/100\n",
      "363/363 [==============================] - 0s 1ms/step - loss: 0.3653 - val_loss: 2.5315\n",
      "Epoch 5/100\n",
      "363/363 [==============================] - 0s 1ms/step - loss: 0.3604 - val_loss: 0.5100\n",
      "Epoch 6/100\n",
      "363/363 [==============================] - 0s 1ms/step - loss: 0.3409 - val_loss: 0.3307\n",
      "Epoch 7/100\n",
      "363/363 [==============================] - 0s 1ms/step - loss: 0.3321 - val_loss: 0.3290\n",
      "Epoch 8/100\n",
      "363/363 [==============================] - 0s 1ms/step - loss: 0.3258 - val_loss: 0.4210\n",
      "Epoch 9/100\n",
      "363/363 [==============================] - 0s 1ms/step - loss: 0.3230 - val_loss: 0.3204\n",
      "Epoch 10/100\n",
      "363/363 [==============================] - 0s 1ms/step - loss: 0.3193 - val_loss: 0.3366\n",
      "Epoch 11/100\n",
      "363/363 [==============================] - 0s 1ms/step - loss: 0.3152 - val_loss: 0.3457\n",
      "Epoch 12/100\n",
      "363/363 [==============================] - 0s 1ms/step - loss: 0.3097 - val_loss: 0.3703\n",
      "Epoch 13/100\n",
      "363/363 [==============================] - 0s 1ms/step - loss: 0.3080 - val_loss: 0.4132\n",
      "Epoch 14/100\n",
      "363/363 [==============================] - 0s 1ms/step - loss: 0.3094 - val_loss: 0.4503\n",
      "Epoch 15/100\n",
      "363/363 [==============================] - 0s 1ms/step - loss: 0.3030 - val_loss: 0.2920\n",
      "Epoch 16/100\n",
      "363/363 [==============================] - 0s 1ms/step - loss: 0.2988 - val_loss: 0.3051\n",
      "Epoch 17/100\n",
      "363/363 [==============================] - 0s 1ms/step - loss: 0.3000 - val_loss: 0.2820\n",
      "Epoch 18/100\n",
      "363/363 [==============================] - 0s 1ms/step - loss: 0.2937 - val_loss: 0.3144\n",
      "Epoch 19/100\n",
      "363/363 [==============================] - 0s 1ms/step - loss: 0.2911 - val_loss: 0.4334\n",
      "Epoch 20/100\n",
      "363/363 [==============================] - 0s 1ms/step - loss: 0.2876 - val_loss: 0.2849\n",
      "Epoch 21/100\n",
      "363/363 [==============================] - 0s 1ms/step - loss: 0.2855 - val_loss: 0.2733\n",
      "Epoch 22/100\n",
      "363/363 [==============================] - 0s 1ms/step - loss: 0.2828 - val_loss: 0.2914\n",
      "Epoch 23/100\n",
      "363/363 [==============================] - 0s 1ms/step - loss: 0.2794 - val_loss: 0.2788\n",
      "Epoch 24/100\n",
      "363/363 [==============================] - 0s 1ms/step - loss: 0.2788 - val_loss: 0.3610\n",
      "Epoch 25/100\n",
      "363/363 [==============================] - 0s 1ms/step - loss: 0.2786 - val_loss: 0.3593\n",
      "Epoch 26/100\n",
      "363/363 [==============================] - 0s 1ms/step - loss: 0.2766 - val_loss: 0.4012\n",
      "Epoch 27/100\n",
      "363/363 [==============================] - 0s 1ms/step - loss: 0.2749 - val_loss: 0.2950\n",
      "Epoch 28/100\n",
      "363/363 [==============================] - 0s 1ms/step - loss: 0.2726 - val_loss: 0.4919\n",
      "Epoch 29/100\n",
      "363/363 [==============================] - 0s 1ms/step - loss: 0.2727 - val_loss: 0.3205\n",
      "Epoch 30/100\n",
      "363/363 [==============================] - 0s 1ms/step - loss: 0.2705 - val_loss: 0.5971\n",
      "Epoch 31/100\n",
      "363/363 [==============================] - 0s 1ms/step - loss: 0.2709 - val_loss: 0.3339\n",
      "Epoch 32/100\n",
      "363/363 [==============================] - 0s 1ms/step - loss: 0.2679 - val_loss: 0.6037\n",
      "Epoch 33/100\n",
      "363/363 [==============================] - 0s 1ms/step - loss: 0.2703 - val_loss: 0.5062\n",
      "Epoch 34/100\n",
      "363/363 [==============================] - 0s 1ms/step - loss: 0.2665 - val_loss: 0.6182\n",
      "Epoch 35/100\n",
      "363/363 [==============================] - 0s 1ms/step - loss: 0.2694 - val_loss: 0.2948\n",
      "Epoch 36/100\n",
      "363/363 [==============================] - 0s 1ms/step - loss: 0.2641 - val_loss: 0.2840\n",
      "Epoch 37/100\n",
      "363/363 [==============================] - 0s 1ms/step - loss: 0.2622 - val_loss: 0.2664\n",
      "Epoch 38/100\n",
      "363/363 [==============================] - 0s 1ms/step - loss: 0.2598 - val_loss: 0.3376\n",
      "Epoch 39/100\n",
      "363/363 [==============================] - 0s 1ms/step - loss: 0.2608 - val_loss: 0.2905\n",
      "Epoch 40/100\n",
      "363/363 [==============================] - 0s 1ms/step - loss: 0.2597 - val_loss: 0.4293\n",
      "Epoch 41/100\n",
      "363/363 [==============================] - 0s 1ms/step - loss: 0.2607 - val_loss: 0.3250\n",
      "Epoch 42/100\n",
      "363/363 [==============================] - 0s 1ms/step - loss: 0.2609 - val_loss: 0.3198\n",
      "Epoch 43/100\n",
      "363/363 [==============================] - 0s 1ms/step - loss: 0.2582 - val_loss: 0.3279\n",
      "Epoch 44/100\n",
      "363/363 [==============================] - 0s 1ms/step - loss: 0.2565 - val_loss: 0.3667\n",
      "Epoch 45/100\n",
      "363/363 [==============================] - 0s 1ms/step - loss: 0.2536 - val_loss: 0.2792\n",
      "Epoch 46/100\n",
      "363/363 [==============================] - 0s 1ms/step - loss: 0.2531 - val_loss: 0.3103\n",
      "Epoch 47/100\n",
      "363/363 [==============================] - 0s 1ms/step - loss: 0.2521 - val_loss: 0.2759\n",
      "Epoch 48/100\n",
      "363/363 [==============================] - 0s 1ms/step - loss: 0.2513 - val_loss: 0.2562\n",
      "Epoch 49/100\n",
      "363/363 [==============================] - 0s 1ms/step - loss: 0.2505 - val_loss: 0.3012\n",
      "Epoch 50/100\n",
      "363/363 [==============================] - 0s 1ms/step - loss: 0.2500 - val_loss: 0.2671\n",
      "Epoch 51/100\n",
      "363/363 [==============================] - 0s 1ms/step - loss: 0.2481 - val_loss: 0.2960\n",
      "Epoch 52/100\n",
      "363/363 [==============================] - 0s 1ms/step - loss: 0.2499 - val_loss: 0.3691\n",
      "Epoch 53/100\n",
      "363/363 [==============================] - 0s 1ms/step - loss: 0.2479 - val_loss: 0.2742\n",
      "Epoch 54/100\n",
      "363/363 [==============================] - 0s 1ms/step - loss: 0.2497 - val_loss: 0.3731\n",
      "Epoch 55/100\n",
      "363/363 [==============================] - 0s 1ms/step - loss: 0.2471 - val_loss: 0.2577\n",
      "Epoch 56/100\n",
      "363/363 [==============================] - 0s 1ms/step - loss: 0.2447 - val_loss: 0.4249\n",
      "Epoch 57/100\n",
      "363/363 [==============================] - 0s 1ms/step - loss: 0.2468 - val_loss: 0.3039\n",
      "Epoch 58/100\n",
      "363/363 [==============================] - 0s 1ms/step - loss: 0.2450 - val_loss: 0.2760\n",
      "Epoch 59/100\n",
      "363/363 [==============================] - 0s 1ms/step - loss: 0.2409 - val_loss: 0.5450\n",
      "Epoch 60/100\n",
      "363/363 [==============================] - 0s 1ms/step - loss: 0.2452 - val_loss: 0.3281\n",
      "Epoch 61/100\n",
      "363/363 [==============================] - 0s 1ms/step - loss: 0.2431 - val_loss: 0.2551\n",
      "Epoch 62/100\n",
      "363/363 [==============================] - 0s 1ms/step - loss: 0.2420 - val_loss: 0.2885\n",
      "Epoch 63/100\n",
      "363/363 [==============================] - 0s 1ms/step - loss: 0.2421 - val_loss: 0.2563\n",
      "Epoch 64/100\n",
      "363/363 [==============================] - 0s 1ms/step - loss: 0.2383 - val_loss: 0.2632\n",
      "Epoch 65/100\n",
      "363/363 [==============================] - 0s 1ms/step - loss: 0.2389 - val_loss: 0.3094\n",
      "Epoch 66/100\n",
      "363/363 [==============================] - 0s 1ms/step - loss: 0.2395 - val_loss: 0.3001\n",
      "Epoch 67/100\n",
      "363/363 [==============================] - 0s 1ms/step - loss: 0.2370 - val_loss: 0.3426\n",
      "Epoch 68/100\n",
      "363/363 [==============================] - 0s 1ms/step - loss: 0.2374 - val_loss: 0.2758\n",
      "Epoch 69/100\n",
      "363/363 [==============================] - ETA: 0s - loss: 0.240 - 0s 1ms/step - loss: 0.2366 - val_loss: 0.4088\n",
      "Epoch 70/100\n",
      "363/363 [==============================] - 0s 1ms/step - loss: 0.2362 - val_loss: 0.3305\n",
      "Epoch 71/100\n",
      "363/363 [==============================] - 0s 1ms/step - loss: 0.2358 - val_loss: 0.3463\n",
      "Epoch 72/100\n",
      "363/363 [==============================] - 0s 1ms/step - loss: 0.2375 - val_loss: 0.2963\n",
      "Epoch 73/100\n",
      "363/363 [==============================] - 0s 1ms/step - loss: 0.2362 - val_loss: 0.2916\n",
      "Epoch 74/100\n",
      "363/363 [==============================] - 0s 1ms/step - loss: 0.2367 - val_loss: 0.3024\n",
      "Epoch 75/100\n",
      "363/363 [==============================] - 0s 1ms/step - loss: 0.2323 - val_loss: 0.2481\n",
      "Epoch 76/100\n",
      "363/363 [==============================] - 0s 1ms/step - loss: 0.2309 - val_loss: 0.2805\n",
      "Epoch 77/100\n",
      "363/363 [==============================] - 0s 1ms/step - loss: 0.2331 - val_loss: 0.2615\n",
      "Epoch 78/100\n",
      "363/363 [==============================] - 0s 1ms/step - loss: 0.2341 - val_loss: 0.2823\n",
      "Epoch 79/100\n",
      "363/363 [==============================] - 0s 1ms/step - loss: 0.2301 - val_loss: 0.2666\n",
      "Epoch 80/100\n",
      "363/363 [==============================] - 0s 1ms/step - loss: 0.2301 - val_loss: 0.2817\n",
      "Epoch 81/100\n",
      "363/363 [==============================] - 0s 1ms/step - loss: 0.2289 - val_loss: 0.2759\n",
      "Epoch 82/100\n",
      "363/363 [==============================] - 0s 1ms/step - loss: 0.2292 - val_loss: 0.3608\n",
      "Epoch 83/100\n",
      "363/363 [==============================] - 0s 1ms/step - loss: 0.2267 - val_loss: 0.2752\n",
      "Epoch 84/100\n",
      "363/363 [==============================] - 0s 1ms/step - loss: 0.2269 - val_loss: 0.3205\n",
      "Epoch 85/100\n",
      "363/363 [==============================] - 0s 1ms/step - loss: 0.2250 - val_loss: 0.2688\n",
      "Epoch 86/100\n",
      "363/363 [==============================] - 0s 1ms/step - loss: 0.2261 - val_loss: 0.3556\n",
      "Epoch 87/100\n",
      "363/363 [==============================] - 0s 1ms/step - loss: 0.2254 - val_loss: 0.2692\n",
      "Epoch 88/100\n",
      "363/363 [==============================] - 0s 1ms/step - loss: 0.2249 - val_loss: 0.3538\n",
      "Epoch 89/100\n",
      "363/363 [==============================] - 0s 1ms/step - loss: 0.2269 - val_loss: 0.3035\n",
      "Epoch 90/100\n",
      "363/363 [==============================] - 0s 1ms/step - loss: 0.2252 - val_loss: 0.3299\n",
      "Epoch 91/100\n",
      "363/363 [==============================] - 0s 1ms/step - loss: 0.2256 - val_loss: 0.2661\n",
      "Epoch 92/100\n",
      "363/363 [==============================] - 0s 1ms/step - loss: 0.2238 - val_loss: 0.3312\n",
      "Epoch 93/100\n",
      "363/363 [==============================] - 0s 1ms/step - loss: 0.2213 - val_loss: 0.2726\n",
      "Epoch 94/100\n",
      "363/363 [==============================] - 0s 1ms/step - loss: 0.2200 - val_loss: 0.3294\n",
      "Epoch 95/100\n",
      "363/363 [==============================] - 0s 1ms/step - loss: 0.2216 - val_loss: 0.2665\n",
      "Epoch 96/100\n",
      "363/363 [==============================] - 0s 1ms/step - loss: 0.2196 - val_loss: 0.3292\n",
      "Epoch 97/100\n",
      "363/363 [==============================] - 0s 1ms/step - loss: 0.2194 - val_loss: 0.2835\n",
      "Epoch 98/100\n",
      "363/363 [==============================] - 0s 1ms/step - loss: 0.2197 - val_loss: 0.5600\n",
      "Epoch 99/100\n",
      "363/363 [==============================] - 0s 1ms/step - loss: 0.2206 - val_loss: 0.3320\n",
      "Epoch 100/100\n",
      "363/363 [==============================] - 0s 1ms/step - loss: 0.2170 - val_loss: 0.3653\n"
     ]
    }
   ],
   "source": [
    "history = model.fit(X_train, y_train, epochs=100, validation_data=(X_valid, y_valid))"
   ]
  },
  {
   "cell_type": "code",
   "execution_count": 34,
   "metadata": {},
   "outputs": [
    {
     "data": {
      "image/png": "[encoded data removed]",
      "text/plain": [
       "<Figure size 432x288 with 1 Axes>"
      ]
     },
     "metadata": {
      "needs_background": "light"
     },
     "output_type": "display_data"
    }
   ],
   "source": [
    "pd.DataFrame(history.history).plot()\n",
    "plt.grid(True)\n",
    "plt.show()"
   ]
  },
  {
   "cell_type": "code",
   "execution_count": 35,
   "metadata": {
    "scrolled": true
   },
   "outputs": [
    {
     "name": "stdout",
     "output_type": "stream",
     "text": [
      "Model: \"functional_1\"\n",
      "__________________________________________________________________________________________________\n",
      "Layer (type)                    Output Shape         Param #     Connected to                     \n",
      "==================================================================================================\n",
      "input_1 (InputLayer)            [(None, 8)]          0                                            \n",
      "__________________________________________________________________________________________________\n",
      "dense_10 (Dense)                (None, 30)           270         input_1[0][0]                    \n",
      "__________________________________________________________________________________________________\n",
      "dense_11 (Dense)                (None, 30)           930         dense_10[0][0]                   \n",
      "__________________________________________________________________________________________________\n",
      "concatenate (Concatenate)       (None, 38)           0           input_1[0][0]                    \n",
      "                                                                 dense_11[0][0]                   \n",
      "__________________________________________________________________________________________________\n",
      "dense_12 (Dense)                (None, 1)            39          concatenate[0][0]                \n",
      "==================================================================================================\n",
      "Total params: 1,239\n",
      "Trainable params: 1,239\n",
      "Non-trainable params: 0\n",
      "__________________________________________________________________________________________________\n"
     ]
    }
   ],
   "source": [
    "input_ = keras.layers.Input(shape=(8, ))\n",
    "x = keras.layers.Dense(30, activation='relu')(input_)\n",
    "x = keras.layers.Dense(30, activation='relu')(x)\n",
    "y = keras.layers.Concatenate()([input_, x])\n",
    "output_ = keras.layers.Dense(1)(y)\n",
    "model = keras.models.Model(inputs=input_, outputs=output_)\n",
    "model.summary()"
   ]
  },
  {
   "cell_type": "code",
   "execution_count": 36,
   "metadata": {},
   "outputs": [
    {
     "data": {
      "image/png": "[encoded data removed]",
      "text/plain": [
       "<IPython.core.display.Image object>"
      ]
     },
     "execution_count": 36,
     "metadata": {},
     "output_type": "execute_result"
    }
   ],
   "source": [
    "keras.utils.plot_model(model,'model.png', show_shapes=True)"
   ]
  },
  {
   "cell_type": "code",
   "execution_count": 56,
   "metadata": {},
   "outputs": [],
   "source": [
    "class WideAndDeepModel(keras.models.Model):\n",
    "    def __init__(self, units=30, activation='relu', **kwargs):\n",
    "        super().__init__(**kwargs)\n",
    "        self.hidden1 = keras.layers.Dense(units, activation=activation)\n",
    "        self.hidden2 = keras.layers.Dense(units, activation=activation)\n",
    "        self.main_output = keras.layers.Dense(1)\n",
    "        self.aux_output = keras.layers.Dense(1)\n",
    "    \n",
    "    def call(self, inputs):\n",
    "        input_A, input_B = inputs\n",
    "        hidden1 = self.hidden1(input_B)\n",
    "        hidden2 = self.hidden2(hidden1)\n",
    "        concat = keras.layers.concatenate([input_A, hidden2])\n",
    "        main_output = self.main_output(concat)\n",
    "        aux_output = self.aux_output(hidden2)\n",
    "        return main_output, aux_output\n",
    "    \n",
    "model = WideAndDeepModel()\n",
    "# model.compile()"
   ]
  },
  {
   "cell_type": "code",
   "execution_count": 57,
   "metadata": {},
   "outputs": [],
   "source": [
    "model.compile(loss=\"mse\", loss_weights=[0.9, 0.1], optimizer=keras.optimizers.SGD(lr=1e-3))"
   ]
  },
  {
   "cell_type": "code",
   "execution_count": 58,
   "metadata": {},
   "outputs": [],
   "source": [
    "X_train_A, X_train_B = X_train[:, :5], X_train[:, 2:]\n",
    "X_valid_A, X_valid_B = X_valid[:, :5], X_valid[:, 2:]\n",
    "X_test_A, X_test_B = X_test[:, :5], X_test[:, 2:]\n",
    "X_new_A, X_new_B = X_test_A[:3], X_test_B[:3]"
   ]
  },
  {
   "cell_type": "code",
   "execution_count": 59,
   "metadata": {},
   "outputs": [
    {
     "name": "stdout",
     "output_type": "stream",
     "text": [
      "Epoch 1/10\n",
      "363/363 [==============================] - 0s 931us/step - loss: 2.5491 - output_1_loss: 2.4316 - output_2_loss: 3.6071 - val_loss: 2.2609 - val_output_1_loss: 2.1855 - val_output_2_loss: 2.9389\n",
      "Epoch 2/10\n",
      "363/363 [==============================] - 0s 681us/step - loss: 0.9824 - output_1_loss: 0.8333 - output_2_loss: 2.3242 - val_loss: 0.8716 - val_output_1_loss: 0.7170 - val_output_2_loss: 2.2626\n",
      "Epoch 3/10\n",
      "363/363 [==============================] - 0s 821us/step - loss: 0.8091 - output_1_loss: 0.6924 - output_2_loss: 1.8598 - val_loss: 0.7873 - val_output_1_loss: 0.6431 - val_output_2_loss: 2.0846\n",
      "Epoch 4/10\n",
      "363/363 [==============================] - 0s 701us/step - loss: 0.7433 - output_1_loss: 0.6424 - output_2_loss: 1.6517 - val_loss: 0.7370 - val_output_1_loss: 0.6032 - val_output_2_loss: 1.9415\n",
      "Epoch 5/10\n",
      "363/363 [==============================] - 0s 745us/step - loss: 0.7005 - output_1_loss: 0.6078 - output_2_loss: 1.5349 - val_loss: 0.6943 - val_output_1_loss: 0.5764 - val_output_2_loss: 1.7553\n",
      "Epoch 6/10\n",
      "363/363 [==============================] - 0s 682us/step - loss: 0.6679 - output_1_loss: 0.5800 - output_2_loss: 1.4586 - val_loss: 0.6490 - val_output_1_loss: 0.5465 - val_output_2_loss: 1.5709\n",
      "Epoch 7/10\n",
      "363/363 [==============================] - 0s 687us/step - loss: 0.6405 - output_1_loss: 0.5562 - output_2_loss: 1.3992 - val_loss: 0.6151 - val_output_1_loss: 0.5233 - val_output_2_loss: 1.4414\n",
      "Epoch 8/10\n",
      "363/363 [==============================] - 0s 692us/step - loss: 0.6175 - output_1_loss: 0.5361 - output_2_loss: 1.3499 - val_loss: 0.5828 - val_output_1_loss: 0.4970 - val_output_2_loss: 1.3548\n",
      "Epoch 9/10\n",
      "363/363 [==============================] - 0s 706us/step - loss: 0.5973 - output_1_loss: 0.5183 - output_2_loss: 1.3077 - val_loss: 0.5613 - val_output_1_loss: 0.4791 - val_output_2_loss: 1.3013\n",
      "Epoch 10/10\n",
      "363/363 [==============================] - 0s 769us/step - loss: 0.5800 - output_1_loss: 0.5034 - output_2_loss: 1.2687 - val_loss: 0.5514 - val_output_1_loss: 0.4716 - val_output_2_loss: 1.2691\n"
     ]
    }
   ],
   "source": [
    "history = model.fit((X_train_A, X_train_B), (y_train, y_train), epochs=10,\n",
    "                    validation_data=((X_valid_A, X_valid_B), (y_valid, y_valid)))"
   ]
  },
  {
   "cell_type": "code",
   "execution_count": 60,
   "metadata": {},
   "outputs": [
    {
     "name": "stdout",
     "output_type": "stream",
     "text": [
      "Model: \"wide_and_deep_model_3\"\n",
      "_________________________________________________________________\n",
      "Layer (type)                 Output Shape              Param #   \n",
      "=================================================================\n",
      "dense_22 (Dense)             multiple                  210       \n",
      "_________________________________________________________________\n",
      "dense_23 (Dense)             multiple                  930       \n",
      "_________________________________________________________________\n",
      "dense_24 (Dense)             multiple                  36        \n",
      "_________________________________________________________________\n",
      "dense_25 (Dense)             multiple                  31        \n",
      "=================================================================\n",
      "Total params: 1,207\n",
      "Trainable params: 1,207\n",
      "Non-trainable params: 0\n",
      "_________________________________________________________________\n"
     ]
    }
   ],
   "source": [
    "model.summary()"
   ]
  },
  {
   "cell_type": "code",
   "execution_count": 17,
   "metadata": {},
   "outputs": [],
   "source": [
    "import tensorflow as tf\n",
    "from tensorflow import keras\n",
    "\n",
    "mnist = keras.datasets.mnist.load_data()"
   ]
  },
  {
   "cell_type": "code",
   "execution_count": 18,
   "metadata": {},
   "outputs": [],
   "source": [
    "(x_train, y_train), (x_test, y_test) = mnist"
   ]
  },
  {
   "cell_type": "code",
   "execution_count": 19,
   "metadata": {},
   "outputs": [
    {
     "data": {
      "text/plain": [
       "(60000, 28, 28)"
      ]
     },
     "execution_count": 19,
     "metadata": {},
     "output_type": "execute_result"
    }
   ],
   "source": [
    "x_train.shape"
   ]
  },
  {
   "cell_type": "code",
   "execution_count": 20,
   "metadata": {},
   "outputs": [],
   "source": [
    "x_train = x_train /255.\n",
    "x_test = x_test / 255.\n",
    "x_train, y_train, x_val, y_val = x_train[:50000], y_train[:50000], \\\n",
    "x_train[50000:], y_train[50000:]"
   ]
  },
  {
   "cell_type": "code",
   "execution_count": 22,
   "metadata": {},
   "outputs": [
    {
     "data": {
      "text/plain": [
       "((50000, 28, 28), (50000,), (10000, 28, 28), (10000,))"
      ]
     },
     "execution_count": 22,
     "metadata": {},
     "output_type": "execute_result"
    }
   ],
   "source": [
    "x_train.shape, y_train.shape, x_val.shape, y_val.shape "
   ]
  },
  {
   "cell_type": "code",
   "execution_count": 23,
   "metadata": {},
   "outputs": [
    {
     "name": "stdout",
     "output_type": "stream",
     "text": [
      "Model: \"functional_1\"\n",
      "_________________________________________________________________\n",
      "Layer (type)                 Output Shape              Param #   \n",
      "=================================================================\n",
      "input_1 (InputLayer)         [(None, 28, 28)]          0         \n",
      "_________________________________________________________________\n",
      "flatten (Flatten)            (None, 784)               0         \n",
      "_________________________________________________________________\n",
      "dense (Dense)                (None, 300)               235500    \n",
      "_________________________________________________________________\n",
      "dense_1 (Dense)              (None, 300)               90300     \n",
      "_________________________________________________________________\n",
      "dense_2 (Dense)              (None, 10)                3010      \n",
      "=================================================================\n",
      "Total params: 328,810\n",
      "Trainable params: 328,810\n",
      "Non-trainable params: 0\n",
      "_________________________________________________________________\n"
     ]
    }
   ],
   "source": [
    "input_layer = keras.layers.Input(shape=(28, 28))\n",
    "x = keras.layers.Flatten()(input_layer)\n",
    "x = keras.layers.Dense(300, activation='relu')(x)\n",
    "x = keras.layers.Dense(300, activation='relu')(x)\n",
    "output_layer = keras.layers.Dense(10, activation='softmax')(x)\n",
    "\n",
    "model = keras.models.Model(inputs=input_layer, outputs=output_layer)\n",
    "model.summary()"
   ]
  },
  {
   "cell_type": "code",
   "execution_count": 26,
   "metadata": {},
   "outputs": [],
   "source": [
    "model.compile(optimizer=keras.optimizers.SGD(learning_rate=0.01), \n",
    "             loss='sparse_categorical_crossentropy', metrics=['accuracy'])"
   ]
  },
  {
   "cell_type": "code",
   "execution_count": 28,
   "metadata": {},
   "outputs": [],
   "source": [
    "import os\n",
    "import time\n",
    "root_logdir = os.path.join(os.curdir, 'my_logs')\n",
    "\n",
    "def get_run_logdir():\n",
    "    run_id = time.strftime('run_%Y_%m_%d-%H_%M_%S')\n",
    "    return os.path.join(root_logdir, run_id)\n",
    "\n",
    "run_logdir = get_run_logdir()"
   ]
  },
  {
   "cell_type": "code",
   "execution_count": 29,
   "metadata": {},
   "outputs": [
    {
     "data": {
      "text/plain": [
       "'.\\\\my_logs\\\\run_2021_03_24-19_35_41'"
      ]
     },
     "execution_count": 29,
     "metadata": {},
     "output_type": "execute_result"
    }
   ],
   "source": [
    "run_logdir"
   ]
  },
  {
   "cell_type": "code",
   "execution_count": 30,
   "metadata": {},
   "outputs": [
    {
     "name": "stdout",
     "output_type": "stream",
     "text": [
      "Epoch 1/100\n",
      "   1/1563 [..............................] - ETA: 0s - loss: 2.3316 - accuracy: 0.0938WARNING:tensorflow:From C:\\Users\\sinjy\\anaconda3\\envs\\tensorflow_2\\lib\\site-packages\\tensorflow\\python\\ops\\summary_ops_v2.py:1277: stop (from tensorflow.python.eager.profiler) is deprecated and will be removed after 2020-07-01.\n",
      "Instructions for updating:\n",
      "use `tf.profiler.experimental.stop` instead.\n",
      "   2/1563 [..............................] - ETA: 11:42 - loss: 2.3063 - accuracy: 0.1250WARNING:tensorflow:Callbacks method `on_train_batch_begin` is slow compared to the batch time (batch time: 0.0030s vs `on_train_batch_begin` time: 0.0060s). Check your callbacks.\n",
      "WARNING:tensorflow:Callbacks method `on_train_batch_end` is slow compared to the batch time (batch time: 0.0030s vs `on_train_batch_end` time: 0.8887s). Check your callbacks.\n",
      "1563/1563 [==============================] - 3s 2ms/step - loss: 0.6483 - accuracy: 0.8373 - val_loss: 0.3110 - val_accuracy: 0.9135\n",
      "Epoch 2/100\n",
      "1563/1563 [==============================] - 2s 1ms/step - loss: 0.3022 - accuracy: 0.9131 - val_loss: 0.2458 - val_accuracy: 0.9303\n",
      "Epoch 3/100\n",
      "1563/1563 [==============================] - 2s 1ms/step - loss: 0.2496 - accuracy: 0.9283 - val_loss: 0.2150 - val_accuracy: 0.9384\n",
      "Epoch 4/100\n",
      "1563/1563 [==============================] - 2s 1ms/step - loss: 0.2151 - accuracy: 0.9385 - val_loss: 0.1882 - val_accuracy: 0.9486\n",
      "Epoch 5/100\n",
      "1563/1563 [==============================] - 2s 1ms/step - loss: 0.1893 - accuracy: 0.9460 - val_loss: 0.1712 - val_accuracy: 0.9523\n",
      "Epoch 6/100\n",
      "1563/1563 [==============================] - 2s 1ms/step - loss: 0.1687 - accuracy: 0.9517 - val_loss: 0.1573 - val_accuracy: 0.9556\n",
      "Epoch 7/100\n",
      "1563/1563 [==============================] - 2s 1ms/step - loss: 0.1522 - accuracy: 0.9565 - val_loss: 0.1444 - val_accuracy: 0.9604\n",
      "Epoch 8/100\n",
      "1563/1563 [==============================] - 2s 1ms/step - loss: 0.1380 - accuracy: 0.9609 - val_loss: 0.1369 - val_accuracy: 0.9642\n",
      "Epoch 9/100\n",
      "1563/1563 [==============================] - 2s 1ms/step - loss: 0.1259 - accuracy: 0.9640 - val_loss: 0.1320 - val_accuracy: 0.9651\n",
      "Epoch 10/100\n",
      "1563/1563 [==============================] - 2s 1ms/step - loss: 0.1160 - accuracy: 0.9670 - val_loss: 0.1215 - val_accuracy: 0.9675\n",
      "Epoch 11/100\n",
      "1563/1563 [==============================] - 2s 1ms/step - loss: 0.1064 - accuracy: 0.9697 - val_loss: 0.1170 - val_accuracy: 0.9700\n",
      "Epoch 12/100\n",
      "1563/1563 [==============================] - 2s 1ms/step - loss: 0.0986 - accuracy: 0.9726 - val_loss: 0.1118 - val_accuracy: 0.9692\n",
      "Epoch 13/100\n",
      "1563/1563 [==============================] - 2s 1ms/step - loss: 0.0912 - accuracy: 0.9744 - val_loss: 0.1068 - val_accuracy: 0.9703\n",
      "Epoch 14/100\n",
      "1563/1563 [==============================] - 2s 1ms/step - loss: 0.0850 - accuracy: 0.9764 - val_loss: 0.1043 - val_accuracy: 0.9709\n",
      "Epoch 15/100\n",
      "1563/1563 [==============================] - 2s 1ms/step - loss: 0.0796 - accuracy: 0.9778 - val_loss: 0.1027 - val_accuracy: 0.9728\n",
      "Epoch 16/100\n",
      "1563/1563 [==============================] - 2s 1ms/step - loss: 0.0740 - accuracy: 0.9801 - val_loss: 0.0980 - val_accuracy: 0.9730\n",
      "Epoch 17/100\n",
      "1563/1563 [==============================] - 2s 1ms/step - loss: 0.0694 - accuracy: 0.9816 - val_loss: 0.0995 - val_accuracy: 0.9728\n",
      "Epoch 18/100\n",
      "1563/1563 [==============================] - 2s 1ms/step - loss: 0.0649 - accuracy: 0.9826 - val_loss: 0.0924 - val_accuracy: 0.9743\n",
      "Epoch 19/100\n",
      "1563/1563 [==============================] - 2s 1ms/step - loss: 0.0609 - accuracy: 0.9840 - val_loss: 0.0895 - val_accuracy: 0.9752\n",
      "Epoch 20/100\n",
      "1563/1563 [==============================] - 2s 1ms/step - loss: 0.0573 - accuracy: 0.9847 - val_loss: 0.0878 - val_accuracy: 0.9758\n",
      "Epoch 21/100\n",
      "1563/1563 [==============================] - 2s 1ms/step - loss: 0.0535 - accuracy: 0.9860 - val_loss: 0.0884 - val_accuracy: 0.9758\n",
      "Epoch 22/100\n",
      "1563/1563 [==============================] - 2s 1ms/step - loss: 0.0506 - accuracy: 0.9870 - val_loss: 0.0900 - val_accuracy: 0.9748\n",
      "Epoch 23/100\n",
      "1563/1563 [==============================] - 2s 1ms/step - loss: 0.0476 - accuracy: 0.9880 - val_loss: 0.0850 - val_accuracy: 0.9754\n",
      "Epoch 24/100\n",
      "1563/1563 [==============================] - 2s 1ms/step - loss: 0.0450 - accuracy: 0.9884 - val_loss: 0.0852 - val_accuracy: 0.9761\n",
      "Epoch 25/100\n",
      "1563/1563 [==============================] - 2s 2ms/step - loss: 0.0423 - accuracy: 0.9896 - val_loss: 0.0846 - val_accuracy: 0.9761\n",
      "Epoch 26/100\n",
      "1563/1563 [==============================] - 2s 2ms/step - loss: 0.0398 - accuracy: 0.9904 - val_loss: 0.0838 - val_accuracy: 0.9767\n",
      "Epoch 27/100\n",
      "1563/1563 [==============================] - 2s 2ms/step - loss: 0.0378 - accuracy: 0.9905 - val_loss: 0.0823 - val_accuracy: 0.9775\n",
      "Epoch 28/100\n",
      "1563/1563 [==============================] - 2s 2ms/step - loss: 0.0355 - accuracy: 0.9916 - val_loss: 0.0818 - val_accuracy: 0.9768\n",
      "Epoch 29/100\n",
      "1563/1563 [==============================] - 2s 2ms/step - loss: 0.0335 - accuracy: 0.9920 - val_loss: 0.0804 - val_accuracy: 0.9771\n",
      "Epoch 30/100\n",
      "1563/1563 [==============================] - 2s 2ms/step - loss: 0.0317 - accuracy: 0.9928 - val_loss: 0.0803 - val_accuracy: 0.9775\n",
      "Epoch 31/100\n",
      "1563/1563 [==============================] - 2s 2ms/step - loss: 0.0300 - accuracy: 0.9933 - val_loss: 0.0799 - val_accuracy: 0.9780\n",
      "Epoch 32/100\n",
      "1563/1563 [==============================] - 2s 2ms/step - loss: 0.0285 - accuracy: 0.9940 - val_loss: 0.0786 - val_accuracy: 0.9785\n",
      "Epoch 33/100\n",
      "1563/1563 [==============================] - 2s 2ms/step - loss: 0.0268 - accuracy: 0.9940 - val_loss: 0.0769 - val_accuracy: 0.9787\n",
      "Epoch 34/100\n",
      "1563/1563 [==============================] - 2s 2ms/step - loss: 0.0254 - accuracy: 0.9949 - val_loss: 0.0807 - val_accuracy: 0.9771\n",
      "Epoch 35/100\n",
      "1563/1563 [==============================] - 2s 2ms/step - loss: 0.0240 - accuracy: 0.9953 - val_loss: 0.0786 - val_accuracy: 0.9785\n",
      "Epoch 36/100\n",
      "1563/1563 [==============================] - 2s 1ms/step - loss: 0.0229 - accuracy: 0.9956 - val_loss: 0.0783 - val_accuracy: 0.9778\n",
      "Epoch 37/100\n",
      "1563/1563 [==============================] - 2s 2ms/step - loss: 0.0217 - accuracy: 0.9960 - val_loss: 0.0776 - val_accuracy: 0.9788\n",
      "Epoch 38/100\n",
      "1563/1563 [==============================] - 2s 1ms/step - loss: 0.0207 - accuracy: 0.9963 - val_loss: 0.0786 - val_accuracy: 0.9783\n",
      "Epoch 39/100\n",
      "1563/1563 [==============================] - 2s 2ms/step - loss: 0.0196 - accuracy: 0.9968 - val_loss: 0.0771 - val_accuracy: 0.9791\n",
      "Epoch 40/100\n",
      "1563/1563 [==============================] - 2s 2ms/step - loss: 0.0185 - accuracy: 0.9972 - val_loss: 0.0759 - val_accuracy: 0.9794\n",
      "Epoch 41/100\n",
      "1563/1563 [==============================] - 2s 1ms/step - loss: 0.0177 - accuracy: 0.9973 - val_loss: 0.0809 - val_accuracy: 0.9779\n",
      "Epoch 42/100\n",
      "1563/1563 [==============================] - 2s 1ms/step - loss: 0.0168 - accuracy: 0.9974 - val_loss: 0.0777 - val_accuracy: 0.9791\n",
      "Epoch 43/100\n",
      "1563/1563 [==============================] - 2s 1ms/step - loss: 0.0160 - accuracy: 0.9979 - val_loss: 0.0766 - val_accuracy: 0.9789\n",
      "Epoch 44/100\n",
      "1563/1563 [==============================] - 2s 1ms/step - loss: 0.0152 - accuracy: 0.9978 - val_loss: 0.0788 - val_accuracy: 0.9793\n",
      "Epoch 45/100\n",
      "1563/1563 [==============================] - 2s 1ms/step - loss: 0.0145 - accuracy: 0.9982 - val_loss: 0.0790 - val_accuracy: 0.9790\n",
      "Epoch 46/100\n",
      "1563/1563 [==============================] - 2s 2ms/step - loss: 0.0138 - accuracy: 0.9985 - val_loss: 0.0802 - val_accuracy: 0.9783\n",
      "Epoch 47/100\n",
      "1563/1563 [==============================] - 2s 1ms/step - loss: 0.0131 - accuracy: 0.9984 - val_loss: 0.0787 - val_accuracy: 0.9796\n",
      "Epoch 48/100\n",
      "1563/1563 [==============================] - 2s 1ms/step - loss: 0.0125 - accuracy: 0.9986 - val_loss: 0.0791 - val_accuracy: 0.9788\n",
      "Epoch 49/100\n",
      "1563/1563 [==============================] - 2s 2ms/step - loss: 0.0120 - accuracy: 0.9987 - val_loss: 0.0780 - val_accuracy: 0.9795\n",
      "Epoch 50/100\n",
      "1563/1563 [==============================] - 2s 2ms/step - loss: 0.0115 - accuracy: 0.9988 - val_loss: 0.0788 - val_accuracy: 0.9799\n",
      "Epoch 51/100\n",
      "1563/1563 [==============================] - 2s 1ms/step - loss: 0.0109 - accuracy: 0.9989 - val_loss: 0.0795 - val_accuracy: 0.9784\n",
      "Epoch 52/100\n",
      "1563/1563 [==============================] - 2s 1ms/step - loss: 0.0104 - accuracy: 0.9992 - val_loss: 0.0780 - val_accuracy: 0.9802\n",
      "Epoch 53/100\n",
      "1563/1563 [==============================] - 2s 1ms/step - loss: 0.0100 - accuracy: 0.9991 - val_loss: 0.0797 - val_accuracy: 0.9788\n",
      "Epoch 54/100\n",
      "1563/1563 [==============================] - 2s 1ms/step - loss: 0.0096 - accuracy: 0.9993 - val_loss: 0.0781 - val_accuracy: 0.9796\n",
      "Epoch 55/100\n",
      "1563/1563 [==============================] - 2s 1ms/step - loss: 0.0092 - accuracy: 0.9993 - val_loss: 0.0799 - val_accuracy: 0.9796\n",
      "Epoch 56/100\n",
      "1563/1563 [==============================] - 2s 1ms/step - loss: 0.0088 - accuracy: 0.9993 - val_loss: 0.0793 - val_accuracy: 0.9793\n",
      "Epoch 57/100\n",
      "1563/1563 [==============================] - 2s 1ms/step - loss: 0.0085 - accuracy: 0.9993 - val_loss: 0.0794 - val_accuracy: 0.9797\n",
      "Epoch 58/100\n",
      "1563/1563 [==============================] - 2s 2ms/step - loss: 0.0080 - accuracy: 0.9994 - val_loss: 0.0804 - val_accuracy: 0.9795\n",
      "Epoch 59/100\n",
      "1563/1563 [==============================] - 2s 2ms/step - loss: 0.0078 - accuracy: 0.9995 - val_loss: 0.0799 - val_accuracy: 0.9788\n",
      "Epoch 60/100\n",
      "1563/1563 [==============================] - 2s 2ms/step - loss: 0.0075 - accuracy: 0.9995 - val_loss: 0.0804 - val_accuracy: 0.9793\n",
      "Epoch 61/100\n",
      "1563/1563 [==============================] - 2s 1ms/step - loss: 0.0072 - accuracy: 0.9995 - val_loss: 0.0824 - val_accuracy: 0.9790\n",
      "Epoch 62/100\n",
      "1563/1563 [==============================] - 2s 1ms/step - loss: 0.0069 - accuracy: 0.9995 - val_loss: 0.0800 - val_accuracy: 0.9798\n",
      "Epoch 63/100\n",
      "1563/1563 [==============================] - 2s 1ms/step - loss: 0.0065 - accuracy: 0.9997 - val_loss: 0.0809 - val_accuracy: 0.9795\n",
      "Epoch 64/100\n",
      "1563/1563 [==============================] - 2s 1ms/step - loss: 0.0064 - accuracy: 0.9996 - val_loss: 0.0810 - val_accuracy: 0.9794\n",
      "Epoch 65/100\n",
      "1563/1563 [==============================] - 2s 1ms/step - loss: 0.0062 - accuracy: 0.9997 - val_loss: 0.0810 - val_accuracy: 0.9802\n",
      "Epoch 66/100\n",
      "1563/1563 [==============================] - 2s 1ms/step - loss: 0.0059 - accuracy: 0.9997 - val_loss: 0.0812 - val_accuracy: 0.9800\n",
      "Epoch 67/100\n",
      "1563/1563 [==============================] - 2s 1ms/step - loss: 0.0058 - accuracy: 0.9997 - val_loss: 0.0817 - val_accuracy: 0.9801\n",
      "Epoch 68/100\n",
      "1563/1563 [==============================] - 2s 1ms/step - loss: 0.0055 - accuracy: 0.9999 - val_loss: 0.0831 - val_accuracy: 0.9790\n",
      "Epoch 69/100\n",
      "1563/1563 [==============================] - 2s 1ms/step - loss: 0.0053 - accuracy: 0.9998 - val_loss: 0.0814 - val_accuracy: 0.9804\n",
      "Epoch 70/100\n",
      "1563/1563 [==============================] - 2s 1ms/step - loss: 0.0052 - accuracy: 0.9998 - val_loss: 0.0832 - val_accuracy: 0.9792\n",
      "Epoch 71/100\n",
      "1563/1563 [==============================] - 2s 1ms/step - loss: 0.0050 - accuracy: 0.9998 - val_loss: 0.0820 - val_accuracy: 0.9800\n",
      "Epoch 72/100\n",
      "1563/1563 [==============================] - 2s 1ms/step - loss: 0.0048 - accuracy: 0.9999 - val_loss: 0.0830 - val_accuracy: 0.9795\n",
      "Epoch 73/100\n",
      "1563/1563 [==============================] - 2s 1ms/step - loss: 0.0047 - accuracy: 0.9998 - val_loss: 0.0831 - val_accuracy: 0.9792\n",
      "Epoch 74/100\n",
      "1563/1563 [==============================] - 2s 1ms/step - loss: 0.0046 - accuracy: 0.9999 - val_loss: 0.0831 - val_accuracy: 0.9796\n",
      "Epoch 75/100\n",
      "1563/1563 [==============================] - 2s 1ms/step - loss: 0.0044 - accuracy: 0.9999 - val_loss: 0.0842 - val_accuracy: 0.9794\n",
      "Epoch 76/100\n",
      "1563/1563 [==============================] - 2s 1ms/step - loss: 0.0043 - accuracy: 0.9999 - val_loss: 0.0839 - val_accuracy: 0.9797\n",
      "Epoch 77/100\n",
      "1563/1563 [==============================] - 2s 1ms/step - loss: 0.0041 - accuracy: 0.9999 - val_loss: 0.0832 - val_accuracy: 0.9799\n",
      "Epoch 78/100\n",
      "1563/1563 [==============================] - 2s 1ms/step - loss: 0.0040 - accuracy: 0.9998 - val_loss: 0.0845 - val_accuracy: 0.9797\n",
      "Epoch 79/100\n",
      "1563/1563 [==============================] - 2s 1ms/step - loss: 0.0039 - accuracy: 0.9999 - val_loss: 0.0837 - val_accuracy: 0.9800\n",
      "Epoch 80/100\n",
      "1563/1563 [==============================] - 2s 1ms/step - loss: 0.0038 - accuracy: 1.0000 - val_loss: 0.0849 - val_accuracy: 0.9797\n",
      "Epoch 81/100\n",
      "1563/1563 [==============================] - 2s 1ms/step - loss: 0.0037 - accuracy: 0.9999 - val_loss: 0.0848 - val_accuracy: 0.9799\n",
      "Epoch 82/100\n",
      "1563/1563 [==============================] - 2s 1ms/step - loss: 0.0036 - accuracy: 0.9999 - val_loss: 0.0849 - val_accuracy: 0.9793\n",
      "Epoch 83/100\n",
      "1563/1563 [==============================] - 2s 1ms/step - loss: 0.0035 - accuracy: 0.9999 - val_loss: 0.0848 - val_accuracy: 0.9800\n",
      "Epoch 84/100\n",
      "1563/1563 [==============================] - 2s 1ms/step - loss: 0.0034 - accuracy: 0.9999 - val_loss: 0.0844 - val_accuracy: 0.9796\n",
      "Epoch 85/100\n",
      "1563/1563 [==============================] - 2s 1ms/step - loss: 0.0033 - accuracy: 0.9999 - val_loss: 0.0860 - val_accuracy: 0.9801\n",
      "Epoch 86/100\n",
      "1563/1563 [==============================] - 2s 1ms/step - loss: 0.0032 - accuracy: 1.0000 - val_loss: 0.0867 - val_accuracy: 0.9795\n",
      "Epoch 87/100\n",
      "1563/1563 [==============================] - 2s 1ms/step - loss: 0.0032 - accuracy: 1.0000 - val_loss: 0.0850 - val_accuracy: 0.9800\n",
      "Epoch 88/100\n",
      "1563/1563 [==============================] - 2s 1ms/step - loss: 0.0031 - accuracy: 1.0000 - val_loss: 0.0865 - val_accuracy: 0.9796\n",
      "Epoch 89/100\n",
      "1563/1563 [==============================] - 2s 1ms/step - loss: 0.0030 - accuracy: 1.0000 - val_loss: 0.0863 - val_accuracy: 0.9798\n",
      "Epoch 90/100\n",
      "1563/1563 [==============================] - 2s 1ms/step - loss: 0.0029 - accuracy: 0.9999 - val_loss: 0.0864 - val_accuracy: 0.9794\n",
      "Epoch 91/100\n",
      "1563/1563 [==============================] - 2s 1ms/step - loss: 0.0029 - accuracy: 0.9999 - val_loss: 0.0860 - val_accuracy: 0.9798\n",
      "Epoch 92/100\n",
      "1563/1563 [==============================] - 2s 1ms/step - loss: 0.0028 - accuracy: 1.0000 - val_loss: 0.0870 - val_accuracy: 0.9799\n",
      "Epoch 93/100\n",
      "1563/1563 [==============================] - 2s 1ms/step - loss: 0.0028 - accuracy: 1.0000 - val_loss: 0.0866 - val_accuracy: 0.9802\n",
      "Epoch 94/100\n",
      "1563/1563 [==============================] - 2s 1ms/step - loss: 0.0027 - accuracy: 1.0000 - val_loss: 0.0866 - val_accuracy: 0.9800\n",
      "Epoch 95/100\n",
      "1563/1563 [==============================] - 2s 1ms/step - loss: 0.0026 - accuracy: 1.0000 - val_loss: 0.0864 - val_accuracy: 0.9800\n",
      "Epoch 96/100\n",
      "1563/1563 [==============================] - 2s 1ms/step - loss: 0.0026 - accuracy: 1.0000 - val_loss: 0.0879 - val_accuracy: 0.9801\n",
      "Epoch 97/100\n",
      "1563/1563 [==============================] - 2s 1ms/step - loss: 0.0025 - accuracy: 1.0000 - val_loss: 0.0866 - val_accuracy: 0.9802\n",
      "Epoch 98/100\n",
      "1563/1563 [==============================] - 2s 1ms/step - loss: 0.0025 - accuracy: 1.0000 - val_loss: 0.0878 - val_accuracy: 0.9796\n",
      "Epoch 99/100\n",
      "1563/1563 [==============================] - 2s 1ms/step - loss: 0.0024 - accuracy: 1.0000 - val_loss: 0.0870 - val_accuracy: 0.9800\n",
      "Epoch 100/100\n",
      "1563/1563 [==============================] - 2s 1ms/step - loss: 0.0024 - accuracy: 1.0000 - val_loss: 0.0884 - val_accuracy: 0.9802\n"
     ]
    }
   ],
   "source": [
    "tensorboard_cb = keras.callbacks.TensorBoard(run_logdir)\n",
    "history = model.fit(x_train, y_train, epochs=100, \n",
    "                   validation_data=(x_val, y_val), callbacks=[tensorboard_cb])"
   ]
  },
  {
   "cell_type": "code",
   "execution_count": 31,
   "metadata": {},
   "outputs": [
    {
     "data": {
      "text/plain": [
       "ERROR: Could not find `tensorboard`. Please ensure that your PATH\n",
       "contains an executable `tensorboard` program, or explicitly specify\n",
       "the path to a TensorBoard binary by setting the `TENSORBOARD_BINARY`\n",
       "environment variable."
      ]
     },
     "metadata": {},
     "output_type": "display_data"
    }
   ],
   "source": [
    "%load_ext tensorboard\n",
    "%tensorboard --logdir=./my_logs --port=6006"
   ]
  },
  {
   "cell_type": "code",
   "execution_count": 32,
   "metadata": {},
   "outputs": [
    {
     "data": {
      "text/plain": [
       "[1, 2]"
      ]
     },
     "execution_count": 32,
     "metadata": {},
     "output_type": "execute_result"
    }
   ],
   "source": [
    "a = [1, 2, 3]\n",
    "a[:-1]"
   ]
  },
  {
   "cell_type": "markdown",
   "metadata": {},
   "source": [
    "# 연습문제 8번.\n",
    "# cifar10 training"
   ]
  },
  {
   "cell_type": "code",
   "execution_count": 5,
   "metadata": {},
   "outputs": [],
   "source": [
    "import tensorflow as tf\n",
    "from tensorflow import keras\n",
    "\n",
    "cifar10 = keras.datasets.cifar10.load_data()"
   ]
  },
  {
   "cell_type": "code",
   "execution_count": 6,
   "metadata": {},
   "outputs": [
    {
     "data": {
      "text/plain": [
       "2"
      ]
     },
     "execution_count": 6,
     "metadata": {},
     "output_type": "execute_result"
    }
   ],
   "source": [
    "len(cifar10)"
   ]
  },
  {
   "cell_type": "code",
   "execution_count": 7,
   "metadata": {},
   "outputs": [
    {
     "data": {
      "text/plain": [
       "2"
      ]
     },
     "execution_count": 7,
     "metadata": {},
     "output_type": "execute_result"
    }
   ],
   "source": [
    "len(cifar10[0])"
   ]
  },
  {
   "cell_type": "code",
   "execution_count": 8,
   "metadata": {},
   "outputs": [],
   "source": [
    "(x_train_full, y_train_full), (x_test, y_test) = cifar10"
   ]
  },
  {
   "cell_type": "code",
   "execution_count": 9,
   "metadata": {},
   "outputs": [
    {
     "data": {
      "text/plain": [
       "(50000, 32, 32, 3)"
      ]
     },
     "execution_count": 9,
     "metadata": {},
     "output_type": "execute_result"
    }
   ],
   "source": [
    "x_train_full.shape"
   ]
  },
  {
   "cell_type": "code",
   "execution_count": 10,
   "metadata": {},
   "outputs": [
    {
     "data": {
      "text/plain": [
       "(50000, 1)"
      ]
     },
     "execution_count": 10,
     "metadata": {},
     "output_type": "execute_result"
    }
   ],
   "source": [
    "y_train_full.shape"
   ]
  },
  {
   "cell_type": "code",
   "execution_count": 38,
   "metadata": {},
   "outputs": [],
   "source": [
    "# x_train, x_val = x_train_full[:40000] / 255, x_train_full[40000:] / 255\n",
    "# y_train, y_val = y_train_full[:40000], y_train_full[40000:]\n",
    "# x_test = x_test / 255.\n",
    "x_train, x_val = x_train_full[:40000], x_train_full[40000:]\n",
    "y_train, y_val = y_train_full[:40000], y_train_full[40000:]\n",
    "\n",
    "x_mean = x_train.mean(axis=0)\n",
    "x_std = x_train.std(axis=0)\n",
    "\n",
    "x_train = (x_train - x_mean) / x_std\n",
    "x_val = (x_val - x_mean) / x_std\n",
    "x_test = (x_test - x_mean) / x_std"
   ]
  },
  {
   "cell_type": "code",
   "execution_count": 39,
   "metadata": {},
   "outputs": [
    {
     "data": {
      "text/plain": [
       "dtype('float64')"
      ]
     },
     "execution_count": 39,
     "metadata": {},
     "output_type": "execute_result"
    }
   ],
   "source": [
    "x_train.dtype"
   ]
  },
  {
   "cell_type": "code",
   "execution_count": 40,
   "metadata": {},
   "outputs": [
    {
     "data": {
      "text/plain": [
       "((40000, 32, 32, 3), (10000, 32, 32, 3))"
      ]
     },
     "execution_count": 40,
     "metadata": {},
     "output_type": "execute_result"
    }
   ],
   "source": [
    "x_train.shape, x_val.shape"
   ]
  },
  {
   "cell_type": "markdown",
   "metadata": {},
   "source": [
    "## a. 100개의 뉴런을 가진 은닉층 20개로 신경망 만들기( he초기화, elu활성화함수)"
   ]
  },
  {
   "cell_type": "markdown",
   "metadata": {},
   "source": [
    "### 모델 제작"
   ]
  },
  {
   "cell_type": "code",
   "execution_count": 28,
   "metadata": {},
   "outputs": [],
   "source": [
    "from functools import partial\n",
    "\n",
    "NEURONS = 100\n",
    "HIDDEN = 20\n",
    "ACTIVATION = 'elu'\n",
    "INITIALIZER = 'he_normal'\n",
    "\n",
    "Dense = partial(keras.layers.Dense, units=NEURONS, activation=ACTIVATION,\n",
    "                                  kernel_initializer=INITIALIZER)\n",
    "\n",
    "layers_lst = []\n",
    "\n",
    "layers_lst += [keras.layers.Flatten(input_shape=(32, 32, 3))]\n",
    "for i in range(HIDDEN):\n",
    "    layers_lst += [Dense()]\n",
    "layers_lst += [keras.layers.Dense(10, activation='softmax', \n",
    "                                  kernel_initializer=INITIALIZER)]\n",
    "\n",
    "model = keras.models.Sequential(layers_lst)"
   ]
  },
  {
   "cell_type": "code",
   "execution_count": 29,
   "metadata": {},
   "outputs": [
    {
     "name": "stdout",
     "output_type": "stream",
     "text": [
      "Model: \"sequential\"\n",
      "_________________________________________________________________\n",
      "Layer (type)                 Output Shape              Param #   \n",
      "=================================================================\n",
      "flatten_1 (Flatten)          (None, 3072)              0         \n",
      "_________________________________________________________________\n",
      "dense_1 (Dense)              (None, 100)               307300    \n",
      "_________________________________________________________________\n",
      "dense_2 (Dense)              (None, 100)               10100     \n",
      "_________________________________________________________________\n",
      "dense_3 (Dense)              (None, 100)               10100     \n",
      "_________________________________________________________________\n",
      "dense_4 (Dense)              (None, 100)               10100     \n",
      "_________________________________________________________________\n",
      "dense_5 (Dense)              (None, 100)               10100     \n",
      "_________________________________________________________________\n",
      "dense_6 (Dense)              (None, 100)               10100     \n",
      "_________________________________________________________________\n",
      "dense_7 (Dense)              (None, 100)               10100     \n",
      "_________________________________________________________________\n",
      "dense_8 (Dense)              (None, 100)               10100     \n",
      "_________________________________________________________________\n",
      "dense_9 (Dense)              (None, 100)               10100     \n",
      "_________________________________________________________________\n",
      "dense_10 (Dense)             (None, 100)               10100     \n",
      "_________________________________________________________________\n",
      "dense_11 (Dense)             (None, 100)               10100     \n",
      "_________________________________________________________________\n",
      "dense_12 (Dense)             (None, 100)               10100     \n",
      "_________________________________________________________________\n",
      "dense_13 (Dense)             (None, 100)               10100     \n",
      "_________________________________________________________________\n",
      "dense_14 (Dense)             (None, 100)               10100     \n",
      "_________________________________________________________________\n",
      "dense_15 (Dense)             (None, 100)               10100     \n",
      "_________________________________________________________________\n",
      "dense_16 (Dense)             (None, 100)               10100     \n",
      "_________________________________________________________________\n",
      "dense_17 (Dense)             (None, 100)               10100     \n",
      "_________________________________________________________________\n",
      "dense_18 (Dense)             (None, 100)               10100     \n",
      "_________________________________________________________________\n",
      "dense_19 (Dense)             (None, 100)               10100     \n",
      "_________________________________________________________________\n",
      "dense_20 (Dense)             (None, 100)               10100     \n",
      "_________________________________________________________________\n",
      "dense_21 (Dense)             (None, 10)                1010      \n",
      "=================================================================\n",
      "Total params: 500,210\n",
      "Trainable params: 500,210\n",
      "Non-trainable params: 0\n",
      "_________________________________________________________________\n"
     ]
    }
   ],
   "source": [
    "model.summary()"
   ]
  },
  {
   "cell_type": "code",
   "execution_count": 37,
   "metadata": {},
   "outputs": [
    {
     "name": "stdout",
     "output_type": "stream",
     "text": [
      "Epoch 1/100\n",
      "   1/1250 [..............................] - ETA: 0s - loss: 1.8298 - accuracy: 0.2812WARNING:tensorflow:From C:\\Users\\sinjy\\anaconda3\\envs\\tensorflow_2\\lib\\site-packages\\tensorflow\\python\\ops\\summary_ops_v2.py:1277: stop (from tensorflow.python.eager.profiler) is deprecated and will be removed after 2020-07-01.\n",
      "Instructions for updating:\n",
      "use `tf.profiler.experimental.stop` instead.\n",
      "   2/1250 [..............................] - ETA: 9:28 - loss: 4.8505 - accuracy: 0.2031WARNING:tensorflow:Callbacks method `on_train_batch_begin` is slow compared to the batch time (batch time: 0.0050s vs `on_train_batch_begin` time: 0.0100s). Check your callbacks.\n",
      "WARNING:tensorflow:Callbacks method `on_train_batch_end` is slow compared to the batch time (batch time: 0.0050s vs `on_train_batch_end` time: 0.8946s). Check your callbacks.\n",
      "1250/1250 [==============================] - 5s 4ms/step - loss: 2.0692 - accuracy: 0.2633 - val_loss: 1.8341 - val_accuracy: 0.3249\n",
      "Epoch 2/100\n",
      "1250/1250 [==============================] - 4s 3ms/step - loss: 1.8109 - accuracy: 0.3453 - val_loss: 1.8010 - val_accuracy: 0.3426\n",
      "Epoch 3/100\n",
      "1250/1250 [==============================] - 4s 3ms/step - loss: 1.7323 - accuracy: 0.3749 - val_loss: 1.7771 - val_accuracy: 0.3601\n",
      "Epoch 4/100\n",
      "1250/1250 [==============================] - 4s 3ms/step - loss: 1.6799 - accuracy: 0.3950 - val_loss: 1.6974 - val_accuracy: 0.3938\n",
      "Epoch 5/100\n",
      "1250/1250 [==============================] - 4s 3ms/step - loss: 1.6364 - accuracy: 0.4120 - val_loss: 1.6807 - val_accuracy: 0.4018\n",
      "Epoch 6/100\n",
      "1250/1250 [==============================] - 4s 3ms/step - loss: 1.5943 - accuracy: 0.4314 - val_loss: 1.6619 - val_accuracy: 0.4059\n",
      "Epoch 7/100\n",
      "1250/1250 [==============================] - 4s 3ms/step - loss: 1.5610 - accuracy: 0.4406 - val_loss: 1.7246 - val_accuracy: 0.3995\n",
      "Epoch 8/100\n",
      "1250/1250 [==============================] - 4s 3ms/step - loss: 1.5262 - accuracy: 0.4531 - val_loss: 1.5800 - val_accuracy: 0.4394\n",
      "Epoch 9/100\n",
      "1250/1250 [==============================] - 4s 3ms/step - loss: 1.5018 - accuracy: 0.4636 - val_loss: 1.6525 - val_accuracy: 0.4199\n",
      "Epoch 10/100\n",
      "1250/1250 [==============================] - 4s 3ms/step - loss: 1.4760 - accuracy: 0.4712 - val_loss: 1.6411 - val_accuracy: 0.4289\n",
      "Epoch 11/100\n",
      "1250/1250 [==============================] - 4s 3ms/step - loss: 1.4515 - accuracy: 0.4798 - val_loss: 1.5558 - val_accuracy: 0.4501\n",
      "Epoch 12/100\n",
      "1250/1250 [==============================] - 4s 3ms/step - loss: 1.4279 - accuracy: 0.4882 - val_loss: 1.5482 - val_accuracy: 0.4522\n",
      "Epoch 13/100\n",
      "1250/1250 [==============================] - 4s 3ms/step - loss: 1.4075 - accuracy: 0.4971 - val_loss: 1.5521 - val_accuracy: 0.4507\n",
      "Epoch 14/100\n",
      "1250/1250 [==============================] - 4s 3ms/step - loss: 1.3875 - accuracy: 0.5020 - val_loss: 1.5121 - val_accuracy: 0.4618\n",
      "Epoch 15/100\n",
      "1250/1250 [==============================] - 4s 3ms/step - loss: 1.3716 - accuracy: 0.5107 - val_loss: 1.5184 - val_accuracy: 0.4594\n",
      "Epoch 16/100\n",
      "1250/1250 [==============================] - 4s 3ms/step - loss: 1.3468 - accuracy: 0.5195 - val_loss: 1.4861 - val_accuracy: 0.4764\n",
      "Epoch 17/100\n",
      "1250/1250 [==============================] - 4s 3ms/step - loss: 1.3325 - accuracy: 0.5245 - val_loss: 1.5213 - val_accuracy: 0.4745\n",
      "Epoch 18/100\n",
      "1250/1250 [==============================] - 4s 3ms/step - loss: 1.3154 - accuracy: 0.5301 - val_loss: 1.4998 - val_accuracy: 0.4667\n",
      "Epoch 19/100\n",
      "1250/1250 [==============================] - 4s 3ms/step - loss: 1.2959 - accuracy: 0.5373 - val_loss: 1.5381 - val_accuracy: 0.4715\n",
      "Epoch 20/100\n",
      "1250/1250 [==============================] - 4s 3ms/step - loss: 1.2775 - accuracy: 0.5440 - val_loss: 1.5134 - val_accuracy: 0.4722\n",
      "Epoch 21/100\n",
      "1250/1250 [==============================] - 4s 3ms/step - loss: 1.2656 - accuracy: 0.5450 - val_loss: 1.5503 - val_accuracy: 0.4701\n",
      "Epoch 22/100\n",
      "1250/1250 [==============================] - 4s 3ms/step - loss: 1.2470 - accuracy: 0.5536 - val_loss: 1.5327 - val_accuracy: 0.4704\n",
      "Epoch 23/100\n",
      "1250/1250 [==============================] - 4s 3ms/step - loss: 1.2286 - accuracy: 0.5604 - val_loss: 1.5205 - val_accuracy: 0.4751\n",
      "Epoch 24/100\n",
      "1250/1250 [==============================] - 4s 3ms/step - loss: 1.2164 - accuracy: 0.5645 - val_loss: 1.4898 - val_accuracy: 0.4796\n",
      "Epoch 25/100\n",
      "1250/1250 [==============================] - 4s 3ms/step - loss: 1.1999 - accuracy: 0.5695 - val_loss: 1.5221 - val_accuracy: 0.4797\n",
      "Epoch 26/100\n",
      "1250/1250 [==============================] - 4s 3ms/step - loss: 1.1885 - accuracy: 0.5753 - val_loss: 1.5422 - val_accuracy: 0.4788\n",
      "Epoch 27/100\n",
      "1250/1250 [==============================] - 4s 3ms/step - loss: 1.1695 - accuracy: 0.5802 - val_loss: 1.5506 - val_accuracy: 0.4832\n",
      "Epoch 28/100\n",
      "1250/1250 [==============================] - 4s 3ms/step - loss: 1.1546 - accuracy: 0.5870 - val_loss: 1.5057 - val_accuracy: 0.4927\n",
      "Epoch 29/100\n",
      "1250/1250 [==============================] - 4s 3ms/step - loss: 1.1405 - accuracy: 0.5921 - val_loss: 1.5283 - val_accuracy: 0.4862\n",
      "Epoch 30/100\n",
      "1250/1250 [==============================] - 4s 3ms/step - loss: 1.1293 - accuracy: 0.5934 - val_loss: 1.5955 - val_accuracy: 0.4831\n",
      "Epoch 31/100\n",
      "1250/1250 [==============================] - 4s 3ms/step - loss: 1.1149 - accuracy: 0.6006 - val_loss: 1.5382 - val_accuracy: 0.4795\n",
      "Epoch 32/100\n",
      "1250/1250 [==============================] - 4s 3ms/step - loss: 1.1057 - accuracy: 0.6031 - val_loss: 1.5343 - val_accuracy: 0.4897\n",
      "Epoch 33/100\n",
      "1250/1250 [==============================] - 4s 3ms/step - loss: 1.0853 - accuracy: 0.6146 - val_loss: 1.5631 - val_accuracy: 0.4776\n",
      "Epoch 34/100\n",
      "1250/1250 [==============================] - 4s 3ms/step - loss: 1.0713 - accuracy: 0.6122 - val_loss: 1.5841 - val_accuracy: 0.4837\n",
      "Epoch 35/100\n",
      "1250/1250 [==============================] - 4s 3ms/step - loss: 1.0643 - accuracy: 0.6181 - val_loss: 1.5613 - val_accuracy: 0.4939\n",
      "Epoch 36/100\n",
      "1250/1250 [==============================] - 4s 3ms/step - loss: 1.0488 - accuracy: 0.6253 - val_loss: 1.7064 - val_accuracy: 0.4649\n",
      "Epoch 37/100\n",
      "1250/1250 [==============================] - 4s 3ms/step - loss: 1.0331 - accuracy: 0.6283 - val_loss: 1.6247 - val_accuracy: 0.4721\n",
      "Epoch 38/100\n",
      "1250/1250 [==============================] - 4s 3ms/step - loss: 1.0227 - accuracy: 0.6324 - val_loss: 1.6399 - val_accuracy: 0.4818\n",
      "Epoch 39/100\n",
      "1250/1250 [==============================] - 4s 3ms/step - loss: 1.0202 - accuracy: 0.6331 - val_loss: 1.5714 - val_accuracy: 0.4862\n",
      "Epoch 40/100\n",
      "1250/1250 [==============================] - 4s 3ms/step - loss: 1.0035 - accuracy: 0.6408 - val_loss: 1.6016 - val_accuracy: 0.4829\n",
      "Epoch 41/100\n",
      "1250/1250 [==============================] - 4s 3ms/step - loss: 0.9911 - accuracy: 0.6444 - val_loss: 1.6157 - val_accuracy: 0.4875\n",
      "Epoch 42/100\n",
      "1250/1250 [==============================] - 4s 3ms/step - loss: 0.9820 - accuracy: 0.6478 - val_loss: 1.5978 - val_accuracy: 0.4901\n",
      "Epoch 43/100\n",
      "1250/1250 [==============================] - 4s 3ms/step - loss: 0.9698 - accuracy: 0.6520 - val_loss: 1.6200 - val_accuracy: 0.4960\n",
      "Epoch 44/100\n",
      "1250/1250 [==============================] - 4s 3ms/step - loss: 0.9588 - accuracy: 0.6539 - val_loss: 1.6963 - val_accuracy: 0.4737\n",
      "Epoch 45/100\n",
      "1250/1250 [==============================] - 4s 3ms/step - loss: 0.9472 - accuracy: 0.6603 - val_loss: 1.7562 - val_accuracy: 0.4633\n",
      "Epoch 46/100\n",
      "1250/1250 [==============================] - 4s 3ms/step - loss: 0.9414 - accuracy: 0.6633 - val_loss: 1.6850 - val_accuracy: 0.4916\n",
      "Epoch 47/100\n",
      "1250/1250 [==============================] - 4s 3ms/step - loss: 0.9282 - accuracy: 0.6654 - val_loss: 1.7126 - val_accuracy: 0.4800\n",
      "Epoch 48/100\n",
      "1250/1250 [==============================] - 4s 3ms/step - loss: 0.9210 - accuracy: 0.6698 - val_loss: 1.7109 - val_accuracy: 0.4811\n",
      "Epoch 49/100\n",
      "1250/1250 [==============================] - 4s 3ms/step - loss: 0.9066 - accuracy: 0.6756 - val_loss: 1.7497 - val_accuracy: 0.4824\n",
      "Epoch 50/100\n",
      "1250/1250 [==============================] - 4s 3ms/step - loss: 0.8992 - accuracy: 0.6778 - val_loss: 1.7771 - val_accuracy: 0.4703\n",
      "Epoch 51/100\n",
      "1250/1250 [==============================] - 4s 3ms/step - loss: 0.8896 - accuracy: 0.6822 - val_loss: 1.7125 - val_accuracy: 0.4835\n",
      "Epoch 52/100\n",
      "1250/1250 [==============================] - 4s 3ms/step - loss: 0.8807 - accuracy: 0.6854 - val_loss: 1.6687 - val_accuracy: 0.4824\n",
      "Epoch 53/100\n",
      "1250/1250 [==============================] - 4s 3ms/step - loss: 0.8751 - accuracy: 0.6854 - val_loss: 1.7544 - val_accuracy: 0.4874\n",
      "Epoch 54/100\n",
      "1250/1250 [==============================] - 4s 3ms/step - loss: 0.8592 - accuracy: 0.6928 - val_loss: 1.7087 - val_accuracy: 0.4834\n",
      "Epoch 55/100\n",
      "1250/1250 [==============================] - 4s 3ms/step - loss: 0.8590 - accuracy: 0.6937 - val_loss: 1.7481 - val_accuracy: 0.4910\n",
      "Epoch 56/100\n",
      "1250/1250 [==============================] - 4s 3ms/step - loss: 0.8510 - accuracy: 0.6963 - val_loss: 1.7107 - val_accuracy: 0.4839\n",
      "Epoch 57/100\n",
      "1250/1250 [==============================] - 4s 3ms/step - loss: 0.8340 - accuracy: 0.7032 - val_loss: 1.7151 - val_accuracy: 0.4907\n",
      "Epoch 58/100\n",
      "1250/1250 [==============================] - 4s 3ms/step - loss: 0.8312 - accuracy: 0.7018 - val_loss: 1.7418 - val_accuracy: 0.4947\n",
      "Epoch 59/100\n",
      "1250/1250 [==============================] - 4s 3ms/step - loss: 0.8197 - accuracy: 0.7062 - val_loss: 1.8431 - val_accuracy: 0.4674\n",
      "Epoch 60/100\n",
      "1250/1250 [==============================] - 4s 3ms/step - loss: 0.8208 - accuracy: 0.7040 - val_loss: 1.8558 - val_accuracy: 0.4665\n",
      "Epoch 61/100\n",
      "1250/1250 [==============================] - 4s 3ms/step - loss: 0.8156 - accuracy: 0.7114 - val_loss: 1.7976 - val_accuracy: 0.4912\n",
      "Epoch 62/100\n",
      "1250/1250 [==============================] - 4s 3ms/step - loss: 0.7956 - accuracy: 0.7141 - val_loss: 1.8392 - val_accuracy: 0.4910\n",
      "Epoch 63/100\n",
      "1250/1250 [==============================] - 4s 3ms/step - loss: 0.7892 - accuracy: 0.7212 - val_loss: 1.8511 - val_accuracy: 0.4819\n",
      "Epoch 64/100\n",
      "1250/1250 [==============================] - 4s 3ms/step - loss: 0.7814 - accuracy: 0.7209 - val_loss: 1.8234 - val_accuracy: 0.4840\n",
      "Epoch 65/100\n",
      "1250/1250 [==============================] - 4s 3ms/step - loss: 0.7823 - accuracy: 0.7204 - val_loss: 1.8337 - val_accuracy: 0.4694\n",
      "Epoch 66/100\n",
      "1250/1250 [==============================] - 4s 3ms/step - loss: 0.7754 - accuracy: 0.7222 - val_loss: 1.8381 - val_accuracy: 0.4725\n",
      "Epoch 67/100\n",
      "1250/1250 [==============================] - 4s 3ms/step - loss: 0.7622 - accuracy: 0.7271 - val_loss: 1.8030 - val_accuracy: 0.4833\n",
      "Epoch 68/100\n",
      "1250/1250 [==============================] - 4s 3ms/step - loss: 0.7587 - accuracy: 0.7297 - val_loss: 1.8157 - val_accuracy: 0.4807\n",
      "Epoch 69/100\n",
      "1250/1250 [==============================] - 4s 3ms/step - loss: 0.7530 - accuracy: 0.7305 - val_loss: 1.8320 - val_accuracy: 0.4836\n",
      "Epoch 70/100\n",
      "1250/1250 [==============================] - 4s 3ms/step - loss: 0.7419 - accuracy: 0.7337 - val_loss: 1.8487 - val_accuracy: 0.4890\n",
      "Epoch 71/100\n",
      "1250/1250 [==============================] - 4s 3ms/step - loss: 0.7412 - accuracy: 0.7380 - val_loss: 1.8970 - val_accuracy: 0.4762\n",
      "Epoch 72/100\n",
      "1250/1250 [==============================] - 4s 3ms/step - loss: 0.7246 - accuracy: 0.7416 - val_loss: 1.9093 - val_accuracy: 0.4777\n",
      "Epoch 73/100\n",
      "1250/1250 [==============================] - 4s 3ms/step - loss: 0.7208 - accuracy: 0.7420 - val_loss: 1.8944 - val_accuracy: 0.4789\n",
      "Epoch 74/100\n",
      "1250/1250 [==============================] - 4s 3ms/step - loss: 0.7219 - accuracy: 0.7425 - val_loss: 1.9083 - val_accuracy: 0.4851\n",
      "Epoch 75/100\n",
      "1250/1250 [==============================] - 4s 3ms/step - loss: 0.7109 - accuracy: 0.7447 - val_loss: 1.9292 - val_accuracy: 0.4866\n",
      "Epoch 76/100\n",
      "1250/1250 [==============================] - 4s 3ms/step - loss: 0.6980 - accuracy: 0.7503 - val_loss: 1.9574 - val_accuracy: 0.4760\n",
      "Epoch 77/100\n",
      "1250/1250 [==============================] - 4s 3ms/step - loss: 0.6999 - accuracy: 0.7517 - val_loss: 1.9146 - val_accuracy: 0.4752\n",
      "Epoch 78/100\n",
      "1250/1250 [==============================] - 4s 3ms/step - loss: 0.7000 - accuracy: 0.7511 - val_loss: 1.9152 - val_accuracy: 0.4786\n",
      "Epoch 79/100\n",
      "1250/1250 [==============================] - 4s 3ms/step - loss: 0.6888 - accuracy: 0.7557 - val_loss: 2.0638 - val_accuracy: 0.4800\n",
      "Epoch 80/100\n",
      "1250/1250 [==============================] - 4s 3ms/step - loss: 0.6886 - accuracy: 0.7525 - val_loss: 1.9819 - val_accuracy: 0.4771\n",
      "Epoch 81/100\n",
      "1250/1250 [==============================] - 4s 3ms/step - loss: 0.6738 - accuracy: 0.7612 - val_loss: 1.9706 - val_accuracy: 0.4754\n",
      "Epoch 82/100\n",
      "1250/1250 [==============================] - 4s 3ms/step - loss: 0.6746 - accuracy: 0.7592 - val_loss: 1.9749 - val_accuracy: 0.4823\n",
      "Epoch 83/100\n",
      "1250/1250 [==============================] - 4s 3ms/step - loss: 0.6638 - accuracy: 0.7638 - val_loss: 1.9942 - val_accuracy: 0.4687\n",
      "Epoch 84/100\n",
      "1250/1250 [==============================] - 4s 3ms/step - loss: 0.6541 - accuracy: 0.7671 - val_loss: 1.9686 - val_accuracy: 0.4824\n",
      "Epoch 85/100\n",
      "1250/1250 [==============================] - 4s 3ms/step - loss: 0.6520 - accuracy: 0.7693 - val_loss: 1.9497 - val_accuracy: 0.4760\n",
      "Epoch 86/100\n",
      "1250/1250 [==============================] - 4s 3ms/step - loss: 0.6450 - accuracy: 0.7705 - val_loss: 2.0240 - val_accuracy: 0.4791\n",
      "Epoch 87/100\n",
      "1250/1250 [==============================] - 4s 3ms/step - loss: 0.6376 - accuracy: 0.7716 - val_loss: 2.0338 - val_accuracy: 0.4814\n",
      "Epoch 88/100\n",
      "1250/1250 [==============================] - 4s 3ms/step - loss: 0.6413 - accuracy: 0.7731 - val_loss: 2.0481 - val_accuracy: 0.4835\n",
      "Epoch 89/100\n",
      "1250/1250 [==============================] - 4s 3ms/step - loss: 0.6396 - accuracy: 0.7724 - val_loss: 2.1947 - val_accuracy: 0.4498\n",
      "Epoch 90/100\n",
      "1250/1250 [==============================] - 4s 3ms/step - loss: 0.6329 - accuracy: 0.7748 - val_loss: 1.9889 - val_accuracy: 0.4764\n",
      "Epoch 91/100\n",
      "1250/1250 [==============================] - 4s 3ms/step - loss: 0.6065 - accuracy: 0.7817 - val_loss: 2.0871 - val_accuracy: 0.4720\n",
      "Epoch 92/100\n",
      "1250/1250 [==============================] - 4s 3ms/step - loss: 0.6105 - accuracy: 0.7836 - val_loss: 2.0823 - val_accuracy: 0.4738\n",
      "Epoch 93/100\n",
      "1250/1250 [==============================] - 4s 3ms/step - loss: 0.6217 - accuracy: 0.7773 - val_loss: 2.0684 - val_accuracy: 0.4768\n",
      "Epoch 94/100\n",
      "1250/1250 [==============================] - 4s 3ms/step - loss: 0.6050 - accuracy: 0.7865 - val_loss: 2.1004 - val_accuracy: 0.4768\n",
      "Epoch 95/100\n",
      "1250/1250 [==============================] - 4s 3ms/step - loss: 0.6044 - accuracy: 0.7846 - val_loss: 2.1169 - val_accuracy: 0.4709\n",
      "Epoch 96/100\n",
      "1250/1250 [==============================] - 4s 3ms/step - loss: 0.6034 - accuracy: 0.7864 - val_loss: 2.2277 - val_accuracy: 0.4569\n",
      "Epoch 97/100\n",
      "1250/1250 [==============================] - 4s 3ms/step - loss: 0.6007 - accuracy: 0.7883 - val_loss: 2.0945 - val_accuracy: 0.4836\n",
      "Epoch 98/100\n",
      "1250/1250 [==============================] - 4s 3ms/step - loss: 0.5854 - accuracy: 0.7942 - val_loss: 2.1047 - val_accuracy: 0.4761\n",
      "Epoch 99/100\n",
      "1250/1250 [==============================] - 4s 3ms/step - loss: 0.5955 - accuracy: 0.7893 - val_loss: 2.1516 - val_accuracy: 0.4736\n",
      "Epoch 100/100\n",
      "1250/1250 [==============================] - 4s 3ms/step - loss: 0.5856 - accuracy: 0.7916 - val_loss: 2.1650 - val_accuracy: 0.4724\n"
     ]
    }
   ],
   "source": [
    "import os\n",
    "\n",
    "model_path = \"./model\"\n",
    "log_dir = './my_logs'\n",
    "\n",
    "tensorboard_cb = keras.callbacks.TensorBoard(log_dir=log_dir)\n",
    "model.compile(optimizer=keras.optimizers.SGD(learning_rate=0.01), \n",
    "              loss='sparse_categorical_crossentropy', metrics=['accuracy'])\n",
    "model.fit(x=x_train, y=y_train, batch_size=32, epochs=100, \n",
    "          validation_data=(x_val, y_val), callbacks=[tensorboard_cb])\n",
    "model.save(os.path.join(model_path, \"Deep_model_3_25.h5\"))"
   ]
  },
  {
   "cell_type": "code",
   "execution_count": 38,
   "metadata": {},
   "outputs": [],
   "source": [
    "model = keras.models.load_model(os.path.join(model_path, 'Deep_model_3_25.h5'))"
   ]
  },
  {
   "cell_type": "code",
   "execution_count": 39,
   "metadata": {},
   "outputs": [
    {
     "name": "stdout",
     "output_type": "stream",
     "text": [
      "313/313 [==============================] - 0s 1ms/step - loss: 70.8810 - accuracy: 0.4017\n"
     ]
    },
    {
     "data": {
      "text/plain": [
       "[70.88101959228516, 0.4016999900341034]"
      ]
     },
     "execution_count": 39,
     "metadata": {},
     "output_type": "execute_result"
    }
   ],
   "source": [
    "model.evaluate(x=x_test, y=y_test, batch_size=32)"
   ]
  },
  {
   "cell_type": "markdown",
   "metadata": {},
   "source": [
    "## b. Nadam optimizer, early stopping"
   ]
  },
  {
   "cell_type": "code",
   "execution_count": 10,
   "metadata": {},
   "outputs": [],
   "source": [
    "log_dir = './my_logs/simple_2'\n",
    "model_path = './model/model_3_25.h5'"
   ]
  },
  {
   "cell_type": "code",
   "execution_count": 14,
   "metadata": {},
   "outputs": [
    {
     "name": "stdout",
     "output_type": "stream",
     "text": [
      "Epoch 1/100\n",
      "   1/1250 [..............................] - ETA: 0s - loss: 1.7801 - accuracy: 0.3438WARNING:tensorflow:From C:\\Users\\sinjy\\anaconda3\\envs\\tensorflow_2\\lib\\site-packages\\tensorflow\\python\\ops\\summary_ops_v2.py:1277: stop (from tensorflow.python.eager.profiler) is deprecated and will be removed after 2020-07-01.\n",
      "Instructions for updating:\n",
      "use `tf.profiler.experimental.stop` instead.\n",
      "   2/1250 [..............................] - ETA: 9:50 - loss: 1.7538 - accuracy: 0.3281WARNING:tensorflow:Callbacks method `on_train_batch_end` is slow compared to the batch time (batch time: 0.0100s vs `on_train_batch_end` time: 0.9301s). Check your callbacks.\n",
      "1250/1250 [==============================] - 12s 10ms/step - loss: 1.2423 - accuracy: 0.5652 - val_loss: 1.4738 - val_accuracy: 0.5034\n",
      "Epoch 2/100\n",
      "1250/1250 [==============================] - 11s 9ms/step - loss: 1.1910 - accuracy: 0.5789 - val_loss: 1.4717 - val_accuracy: 0.5003\n",
      "Epoch 3/100\n",
      "1250/1250 [==============================] - 11s 9ms/step - loss: 1.1650 - accuracy: 0.5918 - val_loss: 1.4396 - val_accuracy: 0.5116\n",
      "Epoch 4/100\n",
      "1250/1250 [==============================] - 10s 8ms/step - loss: 1.1373 - accuracy: 0.6034 - val_loss: 1.4591 - val_accuracy: 0.5076\n",
      "Epoch 5/100\n",
      "1250/1250 [==============================] - 10s 8ms/step - loss: 1.1132 - accuracy: 0.6107 - val_loss: 1.4949 - val_accuracy: 0.5037\n",
      "Epoch 6/100\n",
      "1250/1250 [==============================] - 10s 8ms/step - loss: 1.0942 - accuracy: 0.6154 - val_loss: 1.5302 - val_accuracy: 0.4943\n",
      "Epoch 7/100\n",
      "1250/1250 [==============================] - 10s 8ms/step - loss: 1.0796 - accuracy: 0.6222 - val_loss: 1.4839 - val_accuracy: 0.5031\n",
      "Epoch 8/100\n",
      "1250/1250 [==============================] - 10s 8ms/step - loss: 1.0574 - accuracy: 0.6298 - val_loss: 1.4935 - val_accuracy: 0.5065\n",
      "Epoch 9/100\n",
      "1250/1250 [==============================] - 10s 8ms/step - loss: 1.0391 - accuracy: 0.6353 - val_loss: 1.4931 - val_accuracy: 0.5110\n",
      "Epoch 10/100\n",
      "1250/1250 [==============================] - 10s 8ms/step - loss: 1.0249 - accuracy: 0.6412 - val_loss: 1.5692 - val_accuracy: 0.4853\n",
      "Epoch 11/100\n",
      "1250/1250 [==============================] - 11s 9ms/step - loss: 1.0108 - accuracy: 0.6493 - val_loss: 1.5407 - val_accuracy: 0.5052\n",
      "Epoch 12/100\n",
      "1250/1250 [==============================] - 11s 9ms/step - loss: 0.9925 - accuracy: 0.6517 - val_loss: 1.5075 - val_accuracy: 0.5111\n",
      "Epoch 13/100\n",
      "1250/1250 [==============================] - 11s 9ms/step - loss: 0.9881 - accuracy: 0.6517 - val_loss: 1.5367 - val_accuracy: 0.5046\n"
     ]
    }
   ],
   "source": [
    "tensorboard_cb = keras.callbacks.TensorBoard(log_dir=log_dir)\n",
    "early_stopping_cb = keras.callbacks.EarlyStopping(patience=10)\n",
    "model.compile(optimizer=keras.optimizers.Nadam(learning_rate=0.0005), \n",
    "              loss='sparse_categorical_crossentropy', metrics=['accuracy'])\n",
    "model.fit(x=x_train, y=y_train, batch_size=32, epochs=100,\n",
    "         validation_data=(x_val, y_val), \n",
    "          callbacks=[tensorboard_cb, early_stopping_cb])\n",
    "model.save(model_path)"
   ]
  },
  {
   "cell_type": "code",
   "execution_count": 12,
   "metadata": {},
   "outputs": [],
   "source": [
    "model = keras.models.load_model(model_path)"
   ]
  },
  {
   "cell_type": "code",
   "execution_count": 15,
   "metadata": {},
   "outputs": [
    {
     "name": "stdout",
     "output_type": "stream",
     "text": [
      "313/313 [==============================] - 1s 2ms/step - loss: 178.0827 - accuracy: 0.3344\n"
     ]
    },
    {
     "data": {
      "text/plain": [
       "[178.08274841308594, 0.3343999981880188]"
      ]
     },
     "execution_count": 15,
     "metadata": {},
     "output_type": "execute_result"
    }
   ],
   "source": [
    "model.evaluate(x=x_test, y=y_test, batch_size=32)"
   ]
  },
  {
   "cell_type": "code",
   "execution_count": 20,
   "metadata": {},
   "outputs": [],
   "source": [
    "log_dir = './my_logs/batchnorm_2'\n",
    "model_path = './model/model_3_26.h5'"
   ]
  },
  {
   "cell_type": "code",
   "execution_count": 16,
   "metadata": {},
   "outputs": [],
   "source": [
    "from functools import partial\n",
    "\n",
    "NEURONS = 100\n",
    "HIDDEN = 20\n",
    "ACTIVATION = 'elu'\n",
    "INITIALIZER = 'he_normal'\n",
    "\n",
    "Dense = partial(keras.layers.Dense, units=NEURONS, kernel_initializer=INITIALIZER)\n",
    "\n",
    "layers_lst = []\n",
    "\n",
    "layers_lst += [keras.layers.Flatten(input_shape=(32, 32, 3))]\n",
    "for i in range(HIDDEN):\n",
    "    layers_lst += [Dense()]\n",
    "    layers_lst += [keras.layers.BatchNormalization()]\n",
    "    layers_lst += [keras.layers.Activation(ACTIVATION)]\n",
    "layers_lst += [keras.layers.Dense(10, activation='softmax', \n",
    "                                  kernel_initializer=INITIALIZER)]\n",
    "\n",
    "model = keras.models.Sequential(layers_lst)"
   ]
  },
  {
   "cell_type": "code",
   "execution_count": 21,
   "metadata": {},
   "outputs": [
    {
     "name": "stdout",
     "output_type": "stream",
     "text": [
      "Epoch 1/100\n",
      "   2/1250 [..............................] - ETA: 14:06 - loss: 1.3042 - accuracy: 0.4844WARNING:tensorflow:Callbacks method `on_train_batch_end` is slow compared to the batch time (batch time: 0.0140s vs `on_train_batch_end` time: 1.3250s). Check your callbacks.\n",
      "1250/1250 [==============================] - 15s 12ms/step - loss: 0.9603 - accuracy: 0.6639 - val_loss: 1.4364 - val_accuracy: 0.5237\n",
      "Epoch 2/100\n",
      "1250/1250 [==============================] - 13s 11ms/step - loss: 0.9392 - accuracy: 0.6725 - val_loss: 1.5152 - val_accuracy: 0.5008\n",
      "Epoch 3/100\n",
      "1250/1250 [==============================] - 13s 11ms/step - loss: 0.9303 - accuracy: 0.6733 - val_loss: 1.4970 - val_accuracy: 0.5198\n",
      "Epoch 4/100\n",
      "1250/1250 [==============================] - 14s 11ms/step - loss: 0.9189 - accuracy: 0.6789 - val_loss: 1.4939 - val_accuracy: 0.5175\n",
      "Epoch 5/100\n",
      "1250/1250 [==============================] - 13s 11ms/step - loss: 0.9004 - accuracy: 0.6855 - val_loss: 1.5163 - val_accuracy: 0.5168\n",
      "Epoch 6/100\n",
      "1250/1250 [==============================] - 16s 13ms/step - loss: 0.8926 - accuracy: 0.6851 - val_loss: 1.4231 - val_accuracy: 0.5337\n",
      "Epoch 7/100\n",
      "1250/1250 [==============================] - 14s 11ms/step - loss: 0.8887 - accuracy: 0.6895 - val_loss: 1.4771 - val_accuracy: 0.5187\n",
      "Epoch 8/100\n",
      "1250/1250 [==============================] - 15s 12ms/step - loss: 0.8783 - accuracy: 0.6939 - val_loss: 1.5330 - val_accuracy: 0.5055\n",
      "Epoch 9/100\n",
      "1250/1250 [==============================] - 14s 11ms/step - loss: 0.8684 - accuracy: 0.6958 - val_loss: 1.5229 - val_accuracy: 0.5118\n",
      "Epoch 10/100\n",
      "1250/1250 [==============================] - 14s 11ms/step - loss: 0.8568 - accuracy: 0.6991 - val_loss: 1.5645 - val_accuracy: 0.4951\n",
      "Epoch 11/100\n",
      "1250/1250 [==============================] - 14s 11ms/step - loss: 0.8481 - accuracy: 0.7036 - val_loss: 1.5939 - val_accuracy: 0.4936\n",
      "Epoch 12/100\n",
      "1250/1250 [==============================] - 14s 11ms/step - loss: 0.8394 - accuracy: 0.7068 - val_loss: 1.5083 - val_accuracy: 0.5169\n",
      "Epoch 13/100\n",
      "1250/1250 [==============================] - 14s 11ms/step - loss: 0.8325 - accuracy: 0.7072 - val_loss: 1.6797 - val_accuracy: 0.4967\n",
      "Epoch 14/100\n",
      "1250/1250 [==============================] - 13s 10ms/step - loss: 0.8319 - accuracy: 0.7106 - val_loss: 1.6760 - val_accuracy: 0.4825\n",
      "Epoch 15/100\n",
      "1250/1250 [==============================] - 13s 10ms/step - loss: 0.8188 - accuracy: 0.7138 - val_loss: 1.5637 - val_accuracy: 0.5130\n",
      "Epoch 16/100\n",
      "1250/1250 [==============================] - 13s 10ms/step - loss: 0.8168 - accuracy: 0.7113 - val_loss: 1.5545 - val_accuracy: 0.5153\n"
     ]
    },
    {
     "data": {
      "text/plain": [
       "<tensorflow.python.keras.callbacks.History at 0x1c67e828508>"
      ]
     },
     "execution_count": 21,
     "metadata": {},
     "output_type": "execute_result"
    }
   ],
   "source": [
    "tensorboard_cb = keras.callbacks.TensorBoard(log_dir=log_dir)\n",
    "early_stopping_cb = keras.callbacks.EarlyStopping(patience=10)\n",
    "checkpoint_cb = keras.callbacks.ModelCheckpoint(model_path, save_best_only=True)\n",
    "\n",
    "model.compile(optimizer=keras.optimizers.Nadam(learning_rate=0.0005), \n",
    "              loss='sparse_categorical_crossentropy', metrics=['accuracy'])\n",
    "model.fit(x=x_train, y=y_train, batch_size=32, epochs=100,\n",
    "         validation_data=(x_val, y_val), \n",
    "          callbacks=[tensorboard_cb, early_stopping_cb, checkpoint_cb])\n",
    "# model.save(model_path)"
   ]
  },
  {
   "cell_type": "code",
   "execution_count": 24,
   "metadata": {},
   "outputs": [
    {
     "name": "stdout",
     "output_type": "stream",
     "text": [
      "313/313 [==============================] - 1s 2ms/step - loss: 1.5645 - accuracy: 0.5101\n"
     ]
    },
    {
     "data": {
      "text/plain": [
       "[1.5645298957824707, 0.5101000070571899]"
      ]
     },
     "execution_count": 24,
     "metadata": {},
     "output_type": "execute_result"
    }
   ],
   "source": [
    "model.evaluate(x=x_test, y=y_test, batch_size=32)"
   ]
  },
  {
   "cell_type": "markdown",
   "metadata": {},
   "source": [
    "## d. selu, 자기정규화(입력 특성 표준화, 르쿤 초기화)"
   ]
  },
  {
   "cell_type": "code",
   "execution_count": 39,
   "metadata": {},
   "outputs": [],
   "source": [
    "log_dir = './my_logs/selu_4'\n",
    "model_path = './model/model_3_26.h5'"
   ]
  },
  {
   "cell_type": "code",
   "execution_count": 40,
   "metadata": {},
   "outputs": [],
   "source": [
    "from functools import partial\n",
    "keras.backend.clear_session()\n",
    "\n",
    "NEURONS = 100\n",
    "HIDDEN = 20\n",
    "ACTIVATION = 'selu'\n",
    "INITIALIZER = 'lecun_normal'\n",
    "\n",
    "Dense = partial(keras.layers.Dense, units=NEURONS, \n",
    "                activation=ACTIVATION, kernel_initializer=INITIALIZER)\n",
    "\n",
    "layers_lst = []\n",
    "\n",
    "layers_lst += [keras.layers.Flatten(input_shape=(32, 32, 3))]\n",
    "for i in range(HIDDEN):\n",
    "    layers_lst += [Dense()]\n",
    "layers_lst += [keras.layers.Dense(10, activation='softmax', \n",
    "                                  kernel_initializer=INITIALIZER)]\n",
    "\n",
    "model = keras.models.Sequential(layers_lst)"
   ]
  },
  {
   "cell_type": "code",
   "execution_count": 41,
   "metadata": {},
   "outputs": [
    {
     "name": "stdout",
     "output_type": "stream",
     "text": [
      "Epoch 1/100\n",
      "   2/1250 [..............................] - ETA: 11:01 - loss: 2.7338 - accuracy: 0.0781WARNING:tensorflow:Callbacks method `on_train_batch_end` is slow compared to the batch time (batch time: 0.0080s vs `on_train_batch_end` time: 1.0469s). Check your callbacks.\n",
      "1250/1250 [==============================] - 12s 9ms/step - loss: 1.8933 - accuracy: 0.3111 - val_loss: 1.7792 - val_accuracy: 0.3498\n",
      "Epoch 2/100\n",
      "1250/1250 [==============================] - 10s 8ms/step - loss: 1.7162 - accuracy: 0.3788 - val_loss: 1.6754 - val_accuracy: 0.3930\n",
      "Epoch 3/100\n",
      "1250/1250 [==============================] - 11s 9ms/step - loss: 1.6403 - accuracy: 0.4124 - val_loss: 1.6801 - val_accuracy: 0.3950\n",
      "Epoch 4/100\n",
      "1250/1250 [==============================] - 11s 9ms/step - loss: 1.5819 - accuracy: 0.4315 - val_loss: 1.6054 - val_accuracy: 0.4323\n",
      "Epoch 5/100\n",
      "1250/1250 [==============================] - 10s 8ms/step - loss: 1.5402 - accuracy: 0.4459 - val_loss: 1.6114 - val_accuracy: 0.4247\n",
      "Epoch 6/100\n",
      "1250/1250 [==============================] - 10s 8ms/step - loss: 1.5046 - accuracy: 0.4570 - val_loss: 1.5554 - val_accuracy: 0.4488\n",
      "Epoch 7/100\n",
      "1149/1250 [==========================>...] - ETA: 0s - loss: 1.4761 - accuracy: 0.4696"
     ]
    },
    {
     "ename": "KeyboardInterrupt",
     "evalue": "",
     "output_type": "error",
     "traceback": [
      "\u001b[1;31m---------------------------------------------------------------------------\u001b[0m",
      "\u001b[1;31mKeyboardInterrupt\u001b[0m                         Traceback (most recent call last)",
      "\u001b[1;32m<ipython-input-41-c31f84620724>\u001b[0m in \u001b[0;36m<module>\u001b[1;34m\u001b[0m\n\u001b[0;32m      7\u001b[0m model.fit(x=x_train, y=y_train, batch_size=32, epochs=100,\n\u001b[0;32m      8\u001b[0m          \u001b[0mvalidation_data\u001b[0m\u001b[1;33m=\u001b[0m\u001b[1;33m(\u001b[0m\u001b[0mx_val\u001b[0m\u001b[1;33m,\u001b[0m \u001b[0my_val\u001b[0m\u001b[1;33m)\u001b[0m\u001b[1;33m,\u001b[0m\u001b[1;33m\u001b[0m\u001b[1;33m\u001b[0m\u001b[0m\n\u001b[1;32m----> 9\u001b[1;33m           callbacks=[tensorboard_cb, early_stopping_cb, checkpoint_cb])\n\u001b[0m\u001b[0;32m     10\u001b[0m \u001b[1;31m# model.save(model_path)\u001b[0m\u001b[1;33m\u001b[0m\u001b[1;33m\u001b[0m\u001b[1;33m\u001b[0m\u001b[0m\n",
      "\u001b[1;32m~\\anaconda3\\envs\\tensorflow_2\\lib\\site-packages\\tensorflow\\python\\keras\\engine\\training.py\u001b[0m in \u001b[0;36m_method_wrapper\u001b[1;34m(self, *args, **kwargs)\u001b[0m\n\u001b[0;32m    106\u001b[0m   \u001b[1;32mdef\u001b[0m \u001b[0m_method_wrapper\u001b[0m\u001b[1;33m(\u001b[0m\u001b[0mself\u001b[0m\u001b[1;33m,\u001b[0m \u001b[1;33m*\u001b[0m\u001b[0margs\u001b[0m\u001b[1;33m,\u001b[0m \u001b[1;33m**\u001b[0m\u001b[0mkwargs\u001b[0m\u001b[1;33m)\u001b[0m\u001b[1;33m:\u001b[0m\u001b[1;33m\u001b[0m\u001b[1;33m\u001b[0m\u001b[0m\n\u001b[0;32m    107\u001b[0m     \u001b[1;32mif\u001b[0m \u001b[1;32mnot\u001b[0m \u001b[0mself\u001b[0m\u001b[1;33m.\u001b[0m\u001b[0m_in_multi_worker_mode\u001b[0m\u001b[1;33m(\u001b[0m\u001b[1;33m)\u001b[0m\u001b[1;33m:\u001b[0m  \u001b[1;31m# pylint: disable=protected-access\u001b[0m\u001b[1;33m\u001b[0m\u001b[1;33m\u001b[0m\u001b[0m\n\u001b[1;32m--> 108\u001b[1;33m       \u001b[1;32mreturn\u001b[0m \u001b[0mmethod\u001b[0m\u001b[1;33m(\u001b[0m\u001b[0mself\u001b[0m\u001b[1;33m,\u001b[0m \u001b[1;33m*\u001b[0m\u001b[0margs\u001b[0m\u001b[1;33m,\u001b[0m \u001b[1;33m**\u001b[0m\u001b[0mkwargs\u001b[0m\u001b[1;33m)\u001b[0m\u001b[1;33m\u001b[0m\u001b[1;33m\u001b[0m\u001b[0m\n\u001b[0m\u001b[0;32m    109\u001b[0m \u001b[1;33m\u001b[0m\u001b[0m\n\u001b[0;32m    110\u001b[0m     \u001b[1;31m# Running inside `run_distribute_coordinator` already.\u001b[0m\u001b[1;33m\u001b[0m\u001b[1;33m\u001b[0m\u001b[1;33m\u001b[0m\u001b[0m\n",
      "\u001b[1;32m~\\anaconda3\\envs\\tensorflow_2\\lib\\site-packages\\tensorflow\\python\\keras\\engine\\training.py\u001b[0m in \u001b[0;36mfit\u001b[1;34m(self, x, y, batch_size, epochs, verbose, callbacks, validation_split, validation_data, shuffle, class_weight, sample_weight, initial_epoch, steps_per_epoch, validation_steps, validation_batch_size, validation_freq, max_queue_size, workers, use_multiprocessing)\u001b[0m\n\u001b[0;32m   1096\u001b[0m                 batch_size=batch_size):\n\u001b[0;32m   1097\u001b[0m               \u001b[0mcallbacks\u001b[0m\u001b[1;33m.\u001b[0m\u001b[0mon_train_batch_begin\u001b[0m\u001b[1;33m(\u001b[0m\u001b[0mstep\u001b[0m\u001b[1;33m)\u001b[0m\u001b[1;33m\u001b[0m\u001b[1;33m\u001b[0m\u001b[0m\n\u001b[1;32m-> 1098\u001b[1;33m               \u001b[0mtmp_logs\u001b[0m \u001b[1;33m=\u001b[0m \u001b[0mtrain_function\u001b[0m\u001b[1;33m(\u001b[0m\u001b[0miterator\u001b[0m\u001b[1;33m)\u001b[0m\u001b[1;33m\u001b[0m\u001b[1;33m\u001b[0m\u001b[0m\n\u001b[0m\u001b[0;32m   1099\u001b[0m               \u001b[1;32mif\u001b[0m \u001b[0mdata_handler\u001b[0m\u001b[1;33m.\u001b[0m\u001b[0mshould_sync\u001b[0m\u001b[1;33m:\u001b[0m\u001b[1;33m\u001b[0m\u001b[1;33m\u001b[0m\u001b[0m\n\u001b[0;32m   1100\u001b[0m                 \u001b[0mcontext\u001b[0m\u001b[1;33m.\u001b[0m\u001b[0masync_wait\u001b[0m\u001b[1;33m(\u001b[0m\u001b[1;33m)\u001b[0m\u001b[1;33m\u001b[0m\u001b[1;33m\u001b[0m\u001b[0m\n",
      "\u001b[1;32m~\\anaconda3\\envs\\tensorflow_2\\lib\\site-packages\\tensorflow\\python\\eager\\def_function.py\u001b[0m in \u001b[0;36m__call__\u001b[1;34m(self, *args, **kwds)\u001b[0m\n\u001b[0;32m    778\u001b[0m       \u001b[1;32melse\u001b[0m\u001b[1;33m:\u001b[0m\u001b[1;33m\u001b[0m\u001b[1;33m\u001b[0m\u001b[0m\n\u001b[0;32m    779\u001b[0m         \u001b[0mcompiler\u001b[0m \u001b[1;33m=\u001b[0m \u001b[1;34m\"nonXla\"\u001b[0m\u001b[1;33m\u001b[0m\u001b[1;33m\u001b[0m\u001b[0m\n\u001b[1;32m--> 780\u001b[1;33m         \u001b[0mresult\u001b[0m \u001b[1;33m=\u001b[0m \u001b[0mself\u001b[0m\u001b[1;33m.\u001b[0m\u001b[0m_call\u001b[0m\u001b[1;33m(\u001b[0m\u001b[1;33m*\u001b[0m\u001b[0margs\u001b[0m\u001b[1;33m,\u001b[0m \u001b[1;33m**\u001b[0m\u001b[0mkwds\u001b[0m\u001b[1;33m)\u001b[0m\u001b[1;33m\u001b[0m\u001b[1;33m\u001b[0m\u001b[0m\n\u001b[0m\u001b[0;32m    781\u001b[0m \u001b[1;33m\u001b[0m\u001b[0m\n\u001b[0;32m    782\u001b[0m       \u001b[0mnew_tracing_count\u001b[0m \u001b[1;33m=\u001b[0m \u001b[0mself\u001b[0m\u001b[1;33m.\u001b[0m\u001b[0m_get_tracing_count\u001b[0m\u001b[1;33m(\u001b[0m\u001b[1;33m)\u001b[0m\u001b[1;33m\u001b[0m\u001b[1;33m\u001b[0m\u001b[0m\n",
      "\u001b[1;32m~\\anaconda3\\envs\\tensorflow_2\\lib\\site-packages\\tensorflow\\python\\eager\\def_function.py\u001b[0m in \u001b[0;36m_call\u001b[1;34m(self, *args, **kwds)\u001b[0m\n\u001b[0;32m    805\u001b[0m       \u001b[1;31m# In this case we have created variables on the first call, so we run the\u001b[0m\u001b[1;33m\u001b[0m\u001b[1;33m\u001b[0m\u001b[1;33m\u001b[0m\u001b[0m\n\u001b[0;32m    806\u001b[0m       \u001b[1;31m# defunned version which is guaranteed to never create variables.\u001b[0m\u001b[1;33m\u001b[0m\u001b[1;33m\u001b[0m\u001b[1;33m\u001b[0m\u001b[0m\n\u001b[1;32m--> 807\u001b[1;33m       \u001b[1;32mreturn\u001b[0m \u001b[0mself\u001b[0m\u001b[1;33m.\u001b[0m\u001b[0m_stateless_fn\u001b[0m\u001b[1;33m(\u001b[0m\u001b[1;33m*\u001b[0m\u001b[0margs\u001b[0m\u001b[1;33m,\u001b[0m \u001b[1;33m**\u001b[0m\u001b[0mkwds\u001b[0m\u001b[1;33m)\u001b[0m  \u001b[1;31m# pylint: disable=not-callable\u001b[0m\u001b[1;33m\u001b[0m\u001b[1;33m\u001b[0m\u001b[0m\n\u001b[0m\u001b[0;32m    808\u001b[0m     \u001b[1;32melif\u001b[0m \u001b[0mself\u001b[0m\u001b[1;33m.\u001b[0m\u001b[0m_stateful_fn\u001b[0m \u001b[1;32mis\u001b[0m \u001b[1;32mnot\u001b[0m \u001b[1;32mNone\u001b[0m\u001b[1;33m:\u001b[0m\u001b[1;33m\u001b[0m\u001b[1;33m\u001b[0m\u001b[0m\n\u001b[0;32m    809\u001b[0m       \u001b[1;31m# Release the lock early so that multiple threads can perform the call\u001b[0m\u001b[1;33m\u001b[0m\u001b[1;33m\u001b[0m\u001b[1;33m\u001b[0m\u001b[0m\n",
      "\u001b[1;32m~\\anaconda3\\envs\\tensorflow_2\\lib\\site-packages\\tensorflow\\python\\eager\\function.py\u001b[0m in \u001b[0;36m__call__\u001b[1;34m(self, *args, **kwargs)\u001b[0m\n\u001b[0;32m   2827\u001b[0m     \u001b[1;32mwith\u001b[0m \u001b[0mself\u001b[0m\u001b[1;33m.\u001b[0m\u001b[0m_lock\u001b[0m\u001b[1;33m:\u001b[0m\u001b[1;33m\u001b[0m\u001b[1;33m\u001b[0m\u001b[0m\n\u001b[0;32m   2828\u001b[0m       \u001b[0mgraph_function\u001b[0m\u001b[1;33m,\u001b[0m \u001b[0margs\u001b[0m\u001b[1;33m,\u001b[0m \u001b[0mkwargs\u001b[0m \u001b[1;33m=\u001b[0m \u001b[0mself\u001b[0m\u001b[1;33m.\u001b[0m\u001b[0m_maybe_define_function\u001b[0m\u001b[1;33m(\u001b[0m\u001b[0margs\u001b[0m\u001b[1;33m,\u001b[0m \u001b[0mkwargs\u001b[0m\u001b[1;33m)\u001b[0m\u001b[1;33m\u001b[0m\u001b[1;33m\u001b[0m\u001b[0m\n\u001b[1;32m-> 2829\u001b[1;33m     \u001b[1;32mreturn\u001b[0m \u001b[0mgraph_function\u001b[0m\u001b[1;33m.\u001b[0m\u001b[0m_filtered_call\u001b[0m\u001b[1;33m(\u001b[0m\u001b[0margs\u001b[0m\u001b[1;33m,\u001b[0m \u001b[0mkwargs\u001b[0m\u001b[1;33m)\u001b[0m  \u001b[1;31m# pylint: disable=protected-access\u001b[0m\u001b[1;33m\u001b[0m\u001b[1;33m\u001b[0m\u001b[0m\n\u001b[0m\u001b[0;32m   2830\u001b[0m \u001b[1;33m\u001b[0m\u001b[0m\n\u001b[0;32m   2831\u001b[0m   \u001b[1;33m@\u001b[0m\u001b[0mproperty\u001b[0m\u001b[1;33m\u001b[0m\u001b[1;33m\u001b[0m\u001b[0m\n",
      "\u001b[1;32m~\\anaconda3\\envs\\tensorflow_2\\lib\\site-packages\\tensorflow\\python\\eager\\function.py\u001b[0m in \u001b[0;36m_filtered_call\u001b[1;34m(self, args, kwargs, cancellation_manager)\u001b[0m\n\u001b[0;32m   1846\u001b[0m                            resource_variable_ops.BaseResourceVariable))],\n\u001b[0;32m   1847\u001b[0m         \u001b[0mcaptured_inputs\u001b[0m\u001b[1;33m=\u001b[0m\u001b[0mself\u001b[0m\u001b[1;33m.\u001b[0m\u001b[0mcaptured_inputs\u001b[0m\u001b[1;33m,\u001b[0m\u001b[1;33m\u001b[0m\u001b[1;33m\u001b[0m\u001b[0m\n\u001b[1;32m-> 1848\u001b[1;33m         cancellation_manager=cancellation_manager)\n\u001b[0m\u001b[0;32m   1849\u001b[0m \u001b[1;33m\u001b[0m\u001b[0m\n\u001b[0;32m   1850\u001b[0m   \u001b[1;32mdef\u001b[0m \u001b[0m_call_flat\u001b[0m\u001b[1;33m(\u001b[0m\u001b[0mself\u001b[0m\u001b[1;33m,\u001b[0m \u001b[0margs\u001b[0m\u001b[1;33m,\u001b[0m \u001b[0mcaptured_inputs\u001b[0m\u001b[1;33m,\u001b[0m \u001b[0mcancellation_manager\u001b[0m\u001b[1;33m=\u001b[0m\u001b[1;32mNone\u001b[0m\u001b[1;33m)\u001b[0m\u001b[1;33m:\u001b[0m\u001b[1;33m\u001b[0m\u001b[1;33m\u001b[0m\u001b[0m\n",
      "\u001b[1;32m~\\anaconda3\\envs\\tensorflow_2\\lib\\site-packages\\tensorflow\\python\\eager\\function.py\u001b[0m in \u001b[0;36m_call_flat\u001b[1;34m(self, args, captured_inputs, cancellation_manager)\u001b[0m\n\u001b[0;32m   1922\u001b[0m       \u001b[1;31m# No tape is watching; skip to running the function.\u001b[0m\u001b[1;33m\u001b[0m\u001b[1;33m\u001b[0m\u001b[1;33m\u001b[0m\u001b[0m\n\u001b[0;32m   1923\u001b[0m       return self._build_call_outputs(self._inference_function.call(\n\u001b[1;32m-> 1924\u001b[1;33m           ctx, args, cancellation_manager=cancellation_manager))\n\u001b[0m\u001b[0;32m   1925\u001b[0m     forward_backward = self._select_forward_and_backward_functions(\n\u001b[0;32m   1926\u001b[0m         \u001b[0margs\u001b[0m\u001b[1;33m,\u001b[0m\u001b[1;33m\u001b[0m\u001b[1;33m\u001b[0m\u001b[0m\n",
      "\u001b[1;32m~\\anaconda3\\envs\\tensorflow_2\\lib\\site-packages\\tensorflow\\python\\eager\\function.py\u001b[0m in \u001b[0;36mcall\u001b[1;34m(self, ctx, args, cancellation_manager)\u001b[0m\n\u001b[0;32m    548\u001b[0m               \u001b[0minputs\u001b[0m\u001b[1;33m=\u001b[0m\u001b[0margs\u001b[0m\u001b[1;33m,\u001b[0m\u001b[1;33m\u001b[0m\u001b[1;33m\u001b[0m\u001b[0m\n\u001b[0;32m    549\u001b[0m               \u001b[0mattrs\u001b[0m\u001b[1;33m=\u001b[0m\u001b[0mattrs\u001b[0m\u001b[1;33m,\u001b[0m\u001b[1;33m\u001b[0m\u001b[1;33m\u001b[0m\u001b[0m\n\u001b[1;32m--> 550\u001b[1;33m               ctx=ctx)\n\u001b[0m\u001b[0;32m    551\u001b[0m         \u001b[1;32melse\u001b[0m\u001b[1;33m:\u001b[0m\u001b[1;33m\u001b[0m\u001b[1;33m\u001b[0m\u001b[0m\n\u001b[0;32m    552\u001b[0m           outputs = execute.execute_with_cancellation(\n",
      "\u001b[1;32m~\\anaconda3\\envs\\tensorflow_2\\lib\\site-packages\\tensorflow\\python\\eager\\execute.py\u001b[0m in \u001b[0;36mquick_execute\u001b[1;34m(op_name, num_outputs, inputs, attrs, ctx, name)\u001b[0m\n\u001b[0;32m     58\u001b[0m     \u001b[0mctx\u001b[0m\u001b[1;33m.\u001b[0m\u001b[0mensure_initialized\u001b[0m\u001b[1;33m(\u001b[0m\u001b[1;33m)\u001b[0m\u001b[1;33m\u001b[0m\u001b[1;33m\u001b[0m\u001b[0m\n\u001b[0;32m     59\u001b[0m     tensors = pywrap_tfe.TFE_Py_Execute(ctx._handle, device_name, op_name,\n\u001b[1;32m---> 60\u001b[1;33m                                         inputs, attrs, num_outputs)\n\u001b[0m\u001b[0;32m     61\u001b[0m   \u001b[1;32mexcept\u001b[0m \u001b[0mcore\u001b[0m\u001b[1;33m.\u001b[0m\u001b[0m_NotOkStatusException\u001b[0m \u001b[1;32mas\u001b[0m \u001b[0me\u001b[0m\u001b[1;33m:\u001b[0m\u001b[1;33m\u001b[0m\u001b[1;33m\u001b[0m\u001b[0m\n\u001b[0;32m     62\u001b[0m     \u001b[1;32mif\u001b[0m \u001b[0mname\u001b[0m \u001b[1;32mis\u001b[0m \u001b[1;32mnot\u001b[0m \u001b[1;32mNone\u001b[0m\u001b[1;33m:\u001b[0m\u001b[1;33m\u001b[0m\u001b[1;33m\u001b[0m\u001b[0m\n",
      "\u001b[1;31mKeyboardInterrupt\u001b[0m: "
     ]
    }
   ],
   "source": [
    "tensorboard_cb = keras.callbacks.TensorBoard(log_dir=log_dir)\n",
    "early_stopping_cb = keras.callbacks.EarlyStopping(patience=10)\n",
    "checkpoint_cb = keras.callbacks.ModelCheckpoint(model_path, save_best_only=True)\n",
    "\n",
    "model.compile(optimizer=keras.optimizers.Nadam(learning_rate=0.00005), \n",
    "              loss='sparse_categorical_crossentropy', metrics=['accuracy'])\n",
    "model.fit(x=x_train, y=y_train, batch_size=32, epochs=100,\n",
    "         validation_data=(x_val, y_val), \n",
    "          callbacks=[tensorboard_cb, early_stopping_cb, checkpoint_cb])\n",
    "# model.save(model_path)"
   ]
  },
  {
   "cell_type": "code",
   "execution_count": 32,
   "metadata": {},
   "outputs": [
    {
     "name": "stdout",
     "output_type": "stream",
     "text": [
      "313/313 [==============================] - 1s 2ms/step - loss: 1.4603 - accuracy: 0.4988\n"
     ]
    },
    {
     "data": {
      "text/plain": [
       "[1.4603245258331299, 0.49880000948905945]"
      ]
     },
     "execution_count": 32,
     "metadata": {},
     "output_type": "execute_result"
    }
   ],
   "source": [
    "model.evaluate(x=x_test, y=y_test, batch_size=32)"
   ]
  },
  {
   "cell_type": "markdown",
   "metadata": {},
   "source": [
    "## e. alpha dropout, mcdropout"
   ]
  },
  {
   "cell_type": "code",
   "execution_count": 41,
   "metadata": {},
   "outputs": [],
   "source": [
    "log_dir = './my_logs/alpha_dropout_3'\n",
    "model_path = './model/model_3_26.h5'"
   ]
  },
  {
   "cell_type": "code",
   "execution_count": 42,
   "metadata": {},
   "outputs": [],
   "source": [
    "import tensorflow as tf\n",
    "from tensorflow import keras\n",
    "from functools import partial\n",
    "keras.backend.clear_session()\n",
    "\n",
    "NEURONS = 100\n",
    "HIDDEN = 20\n",
    "ACTIVATION = 'selu'\n",
    "INITIALIZER = 'lecun_normal'\n",
    "\n",
    "Dense = partial(keras.layers.Dense, units=NEURONS, \n",
    "                activation=ACTIVATION, kernel_initializer=INITIALIZER)\n",
    "\n",
    "layers_lst = []\n",
    "\n",
    "layers_lst += [keras.layers.Flatten(input_shape=(32, 32, 3))]\n",
    "for i in range(HIDDEN):\n",
    "    layers_lst += [keras.layers.AlphaDropout(.1)]\n",
    "    layers_lst += [Dense()]\n",
    "layers_lst += [keras.layers.AlphaDropout(.1)]\n",
    "layers_lst += [keras.layers.Dense(10, activation='softmax', \n",
    "                                  kernel_initializer=INITIALIZER)]\n",
    "\n",
    "model = keras.models.Sequential(layers_lst)"
   ]
  },
  {
   "cell_type": "code",
   "execution_count": 43,
   "metadata": {},
   "outputs": [
    {
     "name": "stdout",
     "output_type": "stream",
     "text": [
      "Epoch 1/100\n",
      "   2/1250 [..............................] - ETA: 11:18 - loss: 2.8122 - accuracy: 0.1250WARNING:tensorflow:Callbacks method `on_train_batch_end` is slow compared to the batch time (batch time: 0.0080s vs `on_train_batch_end` time: 1.0762s). Check your callbacks.\n",
      "1250/1250 [==============================] - 13s 10ms/step - loss: 2.1810 - accuracy: 0.1908 - val_loss: 2.9838 - val_accuracy: 0.2300\n",
      "Epoch 2/100\n",
      "1250/1250 [==============================] - 11s 9ms/step - loss: 1.9937 - accuracy: 0.2402 - val_loss: 6.2338 - val_accuracy: 0.2500\n",
      "Epoch 3/100\n",
      "1250/1250 [==============================] - 11s 9ms/step - loss: 1.9254 - accuracy: 0.2663 - val_loss: 6.8157 - val_accuracy: 0.2859\n",
      "Epoch 4/100\n",
      "1250/1250 [==============================] - 11s 9ms/step - loss: 1.8691 - accuracy: 0.2963 - val_loss: 6.5770 - val_accuracy: 0.2866\n",
      "Epoch 5/100\n",
      "1250/1250 [==============================] - 11s 9ms/step - loss: 1.8297 - accuracy: 0.3125 - val_loss: 7.5576 - val_accuracy: 0.2969\n",
      "Epoch 6/100\n",
      "1250/1250 [==============================] - 12s 9ms/step - loss: 1.7972 - accuracy: 0.3305 - val_loss: 7.3005 - val_accuracy: 0.3294\n",
      "Epoch 7/100\n",
      "1250/1250 [==============================] - 12s 9ms/step - loss: 1.7640 - accuracy: 0.3477 - val_loss: 7.4837 - val_accuracy: 0.3596\n",
      "Epoch 8/100\n",
      "1250/1250 [==============================] - 12s 9ms/step - loss: 1.7332 - accuracy: 0.3603 - val_loss: 7.5265 - val_accuracy: 0.3516\n",
      "Epoch 9/100\n",
      "1250/1250 [==============================] - 12s 9ms/step - loss: 1.7127 - accuracy: 0.3745 - val_loss: 7.3212 - val_accuracy: 0.3637\n",
      "Epoch 10/100\n",
      "1250/1250 [==============================] - 12s 9ms/step - loss: 1.6895 - accuracy: 0.3851 - val_loss: 7.1710 - val_accuracy: 0.3814\n",
      "Epoch 11/100\n",
      "1250/1250 [==============================] - 12s 9ms/step - loss: 1.6681 - accuracy: 0.3904 - val_loss: 6.6660 - val_accuracy: 0.3931\n",
      "Epoch 12/100\n",
      "1250/1250 [==============================] - 12s 9ms/step - loss: 1.6550 - accuracy: 0.3971 - val_loss: 8.1479 - val_accuracy: 0.3771\n",
      "Epoch 13/100\n",
      "1250/1250 [==============================] - 12s 9ms/step - loss: 1.6484 - accuracy: 0.4036 - val_loss: 5.3602 - val_accuracy: 0.3910\n",
      "Epoch 14/100\n",
      "1250/1250 [==============================] - 12s 9ms/step - loss: 1.6359 - accuracy: 0.4051 - val_loss: 6.1656 - val_accuracy: 0.3896\n",
      "Epoch 15/100\n",
      "1250/1250 [==============================] - 12s 9ms/step - loss: 1.6216 - accuracy: 0.4094 - val_loss: 7.5994 - val_accuracy: 0.3730\n",
      "Epoch 16/100\n",
      "1250/1250 [==============================] - 12s 9ms/step - loss: 1.6131 - accuracy: 0.4131 - val_loss: 6.4088 - val_accuracy: 0.3695\n",
      "Epoch 17/100\n",
      "1250/1250 [==============================] - 12s 9ms/step - loss: 1.6102 - accuracy: 0.4151 - val_loss: 7.7133 - val_accuracy: 0.4000\n",
      "Epoch 18/100\n",
      "1250/1250 [==============================] - 12s 9ms/step - loss: 1.5991 - accuracy: 0.4234 - val_loss: 7.1049 - val_accuracy: 0.3952\n",
      "Epoch 19/100\n",
      "1250/1250 [==============================] - 12s 9ms/step - loss: 1.5796 - accuracy: 0.4258 - val_loss: 7.0822 - val_accuracy: 0.3880\n",
      "Epoch 20/100\n",
      "1250/1250 [==============================] - 12s 9ms/step - loss: 1.5788 - accuracy: 0.4267 - val_loss: 7.5704 - val_accuracy: 0.4052\n",
      "Epoch 21/100\n",
      "1250/1250 [==============================] - 13s 10ms/step - loss: 1.5627 - accuracy: 0.4328 - val_loss: 6.6313 - val_accuracy: 0.4061\n"
     ]
    },
    {
     "data": {
      "text/plain": [
       "<tensorflow.python.keras.callbacks.History at 0x1b3001c32c8>"
      ]
     },
     "execution_count": 43,
     "metadata": {},
     "output_type": "execute_result"
    }
   ],
   "source": [
    "tensorboard_cb = keras.callbacks.TensorBoard(log_dir=log_dir)\n",
    "early_stopping_cb = keras.callbacks.EarlyStopping(patience=20)\n",
    "checkpoint_cb = keras.callbacks.ModelCheckpoint(model_path, save_best_only=True)\n",
    "\n",
    "model.compile(optimizer=keras.optimizers.Nadam(learning_rate=0.0005), \n",
    "              loss='sparse_categorical_crossentropy', metrics=['accuracy'])\n",
    "model.fit(x=x_train, y=y_train, batch_size=32, epochs=100,\n",
    "         validation_data=(x_val, y_val), \n",
    "          callbacks=[tensorboard_cb, early_stopping_cb, checkpoint_cb])\n",
    "# model.save(model_path)"
   ]
  },
  {
   "cell_type": "code",
   "execution_count": 44,
   "metadata": {},
   "outputs": [
    {
     "name": "stdout",
     "output_type": "stream",
     "text": [
      "313/313 [==============================] - 0s 2ms/step - loss: 5.7211 - accuracy: 0.1000\n"
     ]
    },
    {
     "data": {
      "text/plain": [
       "[5.721122741699219, 0.10000000149011612]"
      ]
     },
     "execution_count": 44,
     "metadata": {},
     "output_type": "execute_result"
    }
   ],
   "source": [
    "model.evaluate(x=x_test, y=y_test, batch_size=32)"
   ]
  },
  {
   "cell_type": "markdown",
   "metadata": {},
   "source": [
    "## mcdropout"
   ]
  },
  {
   "cell_type": "code",
   "execution_count": 46,
   "metadata": {},
   "outputs": [],
   "source": [
    "class MCAlphaDropout(keras.layers.AlphaDropout):\n",
    "    def call(self, inputs):\n",
    "        return super().call(inputs, training=True)"
   ]
  },
  {
   "cell_type": "code",
   "execution_count": 47,
   "metadata": {},
   "outputs": [],
   "source": [
    "mc_model = keras.models.Sequential([\n",
    "    MCAlphaDropout(layer.rate) if isinstance(layer, keras.layers.AlphaDropout)\n",
    "    else layer for layer in model.layers\n",
    "])"
   ]
  },
  {
   "cell_type": "code",
   "execution_count": 48,
   "metadata": {},
   "outputs": [
    {
     "name": "stdout",
     "output_type": "stream",
     "text": [
      "Model: \"sequential_1\"\n",
      "_________________________________________________________________\n",
      "Layer (type)                 Output Shape              Param #   \n",
      "=================================================================\n",
      "flatten (Flatten)            (None, 3072)              0         \n",
      "_________________________________________________________________\n",
      "mc_alpha_dropout (MCAlphaDro (None, 3072)              0         \n",
      "_________________________________________________________________\n",
      "dense (Dense)                (None, 100)               307300    \n",
      "_________________________________________________________________\n",
      "mc_alpha_dropout_1 (MCAlphaD (None, 100)               0         \n",
      "_________________________________________________________________\n",
      "dense_1 (Dense)              (None, 100)               10100     \n",
      "_________________________________________________________________\n",
      "mc_alpha_dropout_2 (MCAlphaD (None, 100)               0         \n",
      "_________________________________________________________________\n",
      "dense_2 (Dense)              (None, 100)               10100     \n",
      "_________________________________________________________________\n",
      "mc_alpha_dropout_3 (MCAlphaD (None, 100)               0         \n",
      "_________________________________________________________________\n",
      "dense_3 (Dense)              (None, 100)               10100     \n",
      "_________________________________________________________________\n",
      "mc_alpha_dropout_4 (MCAlphaD (None, 100)               0         \n",
      "_________________________________________________________________\n",
      "dense_4 (Dense)              (None, 100)               10100     \n",
      "_________________________________________________________________\n",
      "mc_alpha_dropout_5 (MCAlphaD (None, 100)               0         \n",
      "_________________________________________________________________\n",
      "dense_5 (Dense)              (None, 100)               10100     \n",
      "_________________________________________________________________\n",
      "mc_alpha_dropout_6 (MCAlphaD (None, 100)               0         \n",
      "_________________________________________________________________\n",
      "dense_6 (Dense)              (None, 100)               10100     \n",
      "_________________________________________________________________\n",
      "mc_alpha_dropout_7 (MCAlphaD (None, 100)               0         \n",
      "_________________________________________________________________\n",
      "dense_7 (Dense)              (None, 100)               10100     \n",
      "_________________________________________________________________\n",
      "mc_alpha_dropout_8 (MCAlphaD (None, 100)               0         \n",
      "_________________________________________________________________\n",
      "dense_8 (Dense)              (None, 100)               10100     \n",
      "_________________________________________________________________\n",
      "mc_alpha_dropout_9 (MCAlphaD (None, 100)               0         \n",
      "_________________________________________________________________\n",
      "dense_9 (Dense)              (None, 100)               10100     \n",
      "_________________________________________________________________\n",
      "mc_alpha_dropout_10 (MCAlpha (None, 100)               0         \n",
      "_________________________________________________________________\n",
      "dense_10 (Dense)             (None, 100)               10100     \n",
      "_________________________________________________________________\n",
      "mc_alpha_dropout_11 (MCAlpha (None, 100)               0         \n",
      "_________________________________________________________________\n",
      "dense_11 (Dense)             (None, 100)               10100     \n",
      "_________________________________________________________________\n",
      "mc_alpha_dropout_12 (MCAlpha (None, 100)               0         \n",
      "_________________________________________________________________\n",
      "dense_12 (Dense)             (None, 100)               10100     \n",
      "_________________________________________________________________\n",
      "mc_alpha_dropout_13 (MCAlpha (None, 100)               0         \n",
      "_________________________________________________________________\n",
      "dense_13 (Dense)             (None, 100)               10100     \n",
      "_________________________________________________________________\n",
      "mc_alpha_dropout_14 (MCAlpha (None, 100)               0         \n",
      "_________________________________________________________________\n",
      "dense_14 (Dense)             (None, 100)               10100     \n",
      "_________________________________________________________________\n",
      "mc_alpha_dropout_15 (MCAlpha (None, 100)               0         \n",
      "_________________________________________________________________\n",
      "dense_15 (Dense)             (None, 100)               10100     \n",
      "_________________________________________________________________\n",
      "mc_alpha_dropout_16 (MCAlpha (None, 100)               0         \n",
      "_________________________________________________________________\n",
      "dense_16 (Dense)             (None, 100)               10100     \n",
      "_________________________________________________________________\n",
      "mc_alpha_dropout_17 (MCAlpha (None, 100)               0         \n",
      "_________________________________________________________________\n",
      "dense_17 (Dense)             (None, 100)               10100     \n",
      "_________________________________________________________________\n",
      "mc_alpha_dropout_18 (MCAlpha (None, 100)               0         \n",
      "_________________________________________________________________\n",
      "dense_18 (Dense)             (None, 100)               10100     \n",
      "_________________________________________________________________\n",
      "mc_alpha_dropout_19 (MCAlpha (None, 100)               0         \n",
      "_________________________________________________________________\n",
      "dense_19 (Dense)             (None, 100)               10100     \n",
      "_________________________________________________________________\n",
      "mc_alpha_dropout_20 (MCAlpha (None, 100)               0         \n",
      "_________________________________________________________________\n",
      "dense_20 (Dense)             (None, 10)                1010      \n",
      "=================================================================\n",
      "Total params: 500,210\n",
      "Trainable params: 500,210\n",
      "Non-trainable params: 0\n",
      "_________________________________________________________________\n"
     ]
    }
   ],
   "source": [
    "mc_model.summary()"
   ]
  },
  {
   "cell_type": "code",
   "execution_count": 51,
   "metadata": {},
   "outputs": [],
   "source": [
    "import numpy as np\n",
    "def mc_dropout_predict_probas(mc_model, x, n_samples=10):\n",
    "    y_probas = [mc_model.predict(x) for i in range(n_samples)]\n",
    "    return np.mean(y_probas, axis=0)\n",
    "\n",
    "def mc_dropout_predict_classes(mc_model, x, n_samples=10):\n",
    "    probas = mc_dropout_predict_probas(mc_model, x, n_samples=n_samples)\n",
    "    return np.argmax(probas, axis=1)\n",
    "\n",
    "pred = mc_dropout_predict_classes(mc_model, x_test)\n",
    "# accuracy = np.mean(y_test == pred[:, 0])\n",
    "# accuracy"
   ]
  },
  {
   "cell_type": "code",
   "execution_count": 52,
   "metadata": {},
   "outputs": [
    {
     "data": {
      "text/plain": [
       "(10000,)"
      ]
     },
     "execution_count": 52,
     "metadata": {},
     "output_type": "execute_result"
    }
   ],
   "source": [
    "pred.shape"
   ]
  },
  {
   "cell_type": "code",
   "execution_count": 54,
   "metadata": {},
   "outputs": [
    {
     "data": {
      "text/plain": [
       "(10000, 1)"
      ]
     },
     "execution_count": 54,
     "metadata": {},
     "output_type": "execute_result"
    }
   ],
   "source": [
    "y_test.shape"
   ]
  },
  {
   "cell_type": "code",
   "execution_count": 55,
   "metadata": {},
   "outputs": [
    {
     "data": {
      "text/plain": [
       "0.0999"
      ]
     },
     "execution_count": 55,
     "metadata": {},
     "output_type": "execute_result"
    }
   ],
   "source": [
    "accuracy = np.mean(y_test[:, 0] == pred)\n",
    "accuracy"
   ]
  },
  {
   "cell_type": "markdown",
   "metadata": {},
   "source": [
    "## f. 1사이클스케줄링"
   ]
  },
  {
   "cell_type": "code",
   "execution_count": null,
   "metadata": {},
   "outputs": [],
   "source": []
  }
 ],
 "metadata": {
  "kernelspec": {
   "display_name": "tensorflow_2",
   "language": "python",
   "name": "tensorflow_2"
  },
  "language_info": {
   "codemirror_mode": {
    "name": "ipython",
    "version": 3
   },
   "file_extension": ".py",
   "mimetype": "text/x-python",
   "name": "python",
   "nbconvert_exporter": "python",
   "pygments_lexer": "ipython3",
   "version": "3.7.9"
  }
 },
 "nbformat": 4,
 "nbformat_minor": 4
}
