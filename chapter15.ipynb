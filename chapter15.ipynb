{
 "cells": [
  {
   "cell_type": "code",
   "execution_count": 1,
   "metadata": {},
   "outputs": [],
   "source": [
    "import numpy as np\n",
    "import tensorflow as tf\n",
    "from tensorflow import keras"
   ]
  },
  {
   "cell_type": "code",
   "execution_count": 9,
   "metadata": {},
   "outputs": [],
   "source": [
    "def generate_time_series(batch_size, n_steps):\n",
    "    freq1, freq2, offset1, offset2 = np.random.rand(4, batch_size, 1)\n",
    "    time = np.linspace(0, 1, n_steps)\n",
    "    series = 0.5 * np.sin((time - offset1) * (freq1 * 10 + 10))\n",
    "    series += 0.2 * np.sin((time - offset2) * (freq2 * 20 + 20))\n",
    "    series += 0.1 * (np.random.rand(batch_size, n_steps) - 0.5)\n",
    "    return series[...,np.newaxis].astype(np.float32)"
   ]
  },
  {
   "cell_type": "code",
   "execution_count": 11,
   "metadata": {},
   "outputs": [],
   "source": [
    "np.random.seed(42)\n",
    "\n",
    "n_steps = 50\n",
    "series = generate_time_series(10000, n_steps + 1)\n",
    "x_train, y_train = series[:7000, :n_steps], series[:7000, -1]\n",
    "x_valid, y_valid = series[7000:9000, :n_steps], series[7000:9000, -1]\n",
    "x_test, y_test = series[9000:, n_steps], series[9000:, -1]"
   ]
  },
  {
   "cell_type": "code",
   "execution_count": 17,
   "metadata": {},
   "outputs": [
    {
     "data": {
      "text/plain": [
       "0.020211367"
      ]
     },
     "execution_count": 17,
     "metadata": {},
     "output_type": "execute_result"
    }
   ],
   "source": [
    "y_pred = x_valid[:, -1]\n",
    "np.mean(keras.losses.mean_squared_error(y_valid, y_pred))"
   ]
  },
  {
   "cell_type": "code",
   "execution_count": 18,
   "metadata": {},
   "outputs": [
    {
     "name": "stdout",
     "output_type": "stream",
     "text": [
      "Epoch 1/20\n",
      "219/219 [==============================] - 0s 409us/step - loss: 0.1415\n",
      "Epoch 2/20\n",
      "219/219 [==============================] - 0s 414us/step - loss: 0.0362\n",
      "Epoch 3/20\n",
      "219/219 [==============================] - 0s 416us/step - loss: 0.0187\n",
      "Epoch 4/20\n",
      "219/219 [==============================] - 0s 412us/step - loss: 0.0124\n",
      "Epoch 5/20\n",
      "219/219 [==============================] - 0s 412us/step - loss: 0.0103\n",
      "Epoch 6/20\n",
      "219/219 [==============================] - 0s 455us/step - loss: 0.0089\n",
      "Epoch 7/20\n",
      "219/219 [==============================] - 0s 628us/step - loss: 0.0078\n",
      "Epoch 8/20\n",
      "219/219 [==============================] - 0s 428us/step - loss: 0.0069\n",
      "Epoch 9/20\n",
      "219/219 [==============================] - 0s 481us/step - loss: 0.0064\n",
      "Epoch 10/20\n",
      "219/219 [==============================] - 0s 430us/step - loss: 0.0060\n",
      "Epoch 11/20\n",
      "219/219 [==============================] - 0s 421us/step - loss: 0.0055\n",
      "Epoch 12/20\n",
      "219/219 [==============================] - 0s 412us/step - loss: 0.0052\n",
      "Epoch 13/20\n",
      "219/219 [==============================] - 0s 410us/step - loss: 0.0048\n",
      "Epoch 14/20\n",
      "219/219 [==============================] - 0s 397us/step - loss: 0.0046\n",
      "Epoch 15/20\n",
      "219/219 [==============================] - 0s 414us/step - loss: 0.0045\n",
      "Epoch 16/20\n",
      "219/219 [==============================] - 0s 444us/step - loss: 0.0044\n",
      "Epoch 17/20\n",
      "219/219 [==============================] - 0s 409us/step - loss: 0.0043\n",
      "Epoch 18/20\n",
      "219/219 [==============================] - 0s 441us/step - loss: 0.0043\n",
      "Epoch 19/20\n",
      "219/219 [==============================] - 0s 526us/step - loss: 0.0042\n",
      "Epoch 20/20\n",
      "219/219 [==============================] - 0s 457us/step - loss: 0.0040\n"
     ]
    },
    {
     "data": {
      "text/plain": [
       "<tensorflow.python.keras.callbacks.History at 0x11c89dc6588>"
      ]
     },
     "execution_count": 18,
     "metadata": {},
     "output_type": "execute_result"
    }
   ],
   "source": [
    "model = keras.models.Sequential([\n",
    "    keras.layers.Flatten(input_shape=[50, 1]),\n",
    "    keras.layers.Dense(1)\n",
    "])\n",
    "\n",
    "model.compile(optimizer='Adam', loss='mean_squared_error')\n",
    "model.fit(x_train, y_train, epochs=20)"
   ]
  },
  {
   "cell_type": "code",
   "execution_count": 19,
   "metadata": {},
   "outputs": [
    {
     "name": "stdout",
     "output_type": "stream",
     "text": [
      "63/63 [==============================] - 0s 486us/step - loss: 0.0039\n"
     ]
    },
    {
     "data": {
      "text/plain": [
       "0.003887005615979433"
      ]
     },
     "execution_count": 19,
     "metadata": {},
     "output_type": "execute_result"
    }
   ],
   "source": [
    "model.evaluate(x_valid, y_valid)"
   ]
  },
  {
   "cell_type": "code",
   "execution_count": 20,
   "metadata": {},
   "outputs": [],
   "source": [
    "model = keras.models.Sequential([\n",
    "    keras.layers.SimpleRNN(1, input_shape=[None, 1])\n",
    "])"
   ]
  },
  {
   "cell_type": "code",
   "execution_count": 21,
   "metadata": {},
   "outputs": [
    {
     "name": "stdout",
     "output_type": "stream",
     "text": [
      "Model: \"sequential_1\"\n",
      "_________________________________________________________________\n",
      "Layer (type)                 Output Shape              Param #   \n",
      "=================================================================\n",
      "simple_rnn (SimpleRNN)       (None, 1)                 3         \n",
      "=================================================================\n",
      "Total params: 3\n",
      "Trainable params: 3\n",
      "Non-trainable params: 0\n",
      "_________________________________________________________________\n"
     ]
    }
   ],
   "source": [
    "model.summary()"
   ]
  },
  {
   "cell_type": "code",
   "execution_count": 22,
   "metadata": {},
   "outputs": [
    {
     "name": "stdout",
     "output_type": "stream",
     "text": [
      "Epoch 1/20\n",
      "219/219 [==============================] - 1s 4ms/step - loss: 0.2649\n",
      "Epoch 2/20\n",
      "219/219 [==============================] - 1s 4ms/step - loss: 0.1216\n",
      "Epoch 3/20\n",
      "219/219 [==============================] - 1s 4ms/step - loss: 0.0733\n",
      "Epoch 4/20\n",
      "219/219 [==============================] - 1s 4ms/step - loss: 0.0592\n",
      "Epoch 5/20\n",
      "219/219 [==============================] - 1s 4ms/step - loss: 0.0506\n",
      "Epoch 6/20\n",
      "219/219 [==============================] - 1s 4ms/step - loss: 0.0431\n",
      "Epoch 7/20\n",
      "219/219 [==============================] - 1s 4ms/step - loss: 0.0385\n",
      "Epoch 8/20\n",
      "219/219 [==============================] - 1s 4ms/step - loss: 0.0350\n",
      "Epoch 9/20\n",
      "219/219 [==============================] - 1s 4ms/step - loss: 0.0308\n",
      "Epoch 10/20\n",
      "219/219 [==============================] - 1s 4ms/step - loss: 0.0288\n",
      "Epoch 11/20\n",
      "219/219 [==============================] - 1s 4ms/step - loss: 0.0259\n",
      "Epoch 12/20\n",
      "219/219 [==============================] - 1s 4ms/step - loss: 0.0238\n",
      "Epoch 13/20\n",
      "219/219 [==============================] - 1s 4ms/step - loss: 0.0221\n",
      "Epoch 14/20\n",
      "219/219 [==============================] - 1s 4ms/step - loss: 0.0211\n",
      "Epoch 15/20\n",
      "219/219 [==============================] - 1s 4ms/step - loss: 0.0196\n",
      "Epoch 16/20\n",
      "219/219 [==============================] - 1s 4ms/step - loss: 0.0186\n",
      "Epoch 17/20\n",
      "219/219 [==============================] - 1s 4ms/step - loss: 0.0175\n",
      "Epoch 18/20\n",
      "219/219 [==============================] - 1s 4ms/step - loss: 0.0165A: 0s - loss: 0\n",
      "Epoch 19/20\n",
      "219/219 [==============================] - 1s 4ms/step - loss: 0.0156\n",
      "Epoch 20/20\n",
      "219/219 [==============================] - 1s 4ms/step - loss: 0.0151\n"
     ]
    },
    {
     "data": {
      "text/plain": [
       "<tensorflow.python.keras.callbacks.History at 0x11c9331db88>"
      ]
     },
     "execution_count": 22,
     "metadata": {},
     "output_type": "execute_result"
    }
   ],
   "source": [
    "model.compile(optimizer='Adam', loss='mean_squared_error')\n",
    "model.fit(x_train, y_train, epochs=20)"
   ]
  },
  {
   "cell_type": "code",
   "execution_count": 23,
   "metadata": {},
   "outputs": [
    {
     "name": "stdout",
     "output_type": "stream",
     "text": [
      "63/63 [==============================] - 0s 1ms/step - loss: 0.0140\n"
     ]
    },
    {
     "data": {
      "text/plain": [
       "0.013981986790895462"
      ]
     },
     "execution_count": 23,
     "metadata": {},
     "output_type": "execute_result"
    }
   ],
   "source": [
    "model.evaluate(x_valid, y_valid)"
   ]
  },
  {
   "cell_type": "code",
   "execution_count": 24,
   "metadata": {},
   "outputs": [],
   "source": [
    "keras.backend.clear_session()"
   ]
  },
  {
   "cell_type": "code",
   "execution_count": 32,
   "metadata": {},
   "outputs": [],
   "source": [
    "model = keras.models.Sequential([\n",
    "    keras.layers.SimpleRNN(20, return_sequences=True, input_shape=[None, 1]),\n",
    "    keras.layers.SimpleRNN(20, return_sequences=True),\n",
    "    keras.layers.SimpleRNN(1)\n",
    "])"
   ]
  },
  {
   "cell_type": "code",
   "execution_count": 33,
   "metadata": {},
   "outputs": [
    {
     "name": "stdout",
     "output_type": "stream",
     "text": [
      "Model: \"sequential_1\"\n",
      "_________________________________________________________________\n",
      "Layer (type)                 Output Shape              Param #   \n",
      "=================================================================\n",
      "simple_rnn_2 (SimpleRNN)     (None, None, 20)          440       \n",
      "_________________________________________________________________\n",
      "simple_rnn_3 (SimpleRNN)     (None, None, 20)          820       \n",
      "_________________________________________________________________\n",
      "simple_rnn_4 (SimpleRNN)     (None, 1)                 22        \n",
      "=================================================================\n",
      "Total params: 1,282\n",
      "Trainable params: 1,282\n",
      "Non-trainable params: 0\n",
      "_________________________________________________________________\n"
     ]
    }
   ],
   "source": [
    "model.summary()"
   ]
  },
  {
   "cell_type": "code",
   "execution_count": 26,
   "metadata": {},
   "outputs": [
    {
     "name": "stdout",
     "output_type": "stream",
     "text": [
      "Epoch 1/20\n",
      "219/219 [==============================] - 4s 10ms/step - loss: 0.1098\n",
      "Epoch 2/20\n",
      "219/219 [==============================] - 2s 10ms/step - loss: 0.0078\n",
      "Epoch 3/20\n",
      "219/219 [==============================] - 2s 10ms/step - loss: 0.0058\n",
      "Epoch 4/20\n",
      "219/219 [==============================] - 2s 10ms/step - loss: 0.0052\n",
      "Epoch 5/20\n",
      "219/219 [==============================] - 2s 10ms/step - loss: 0.0045\n",
      "Epoch 6/20\n",
      "219/219 [==============================] - 2s 10ms/step - loss: 0.0040\n",
      "Epoch 7/20\n",
      "219/219 [==============================] - 2s 10ms/step - loss: 0.0039\n",
      "Epoch 8/20\n",
      "219/219 [==============================] - 2s 10ms/step - loss: 0.0035\n",
      "Epoch 9/20\n",
      "219/219 [==============================] - 2s 10ms/step - loss: 0.0035\n",
      "Epoch 10/20\n",
      "219/219 [==============================] - 2s 10ms/step - loss: 0.0036\n",
      "Epoch 11/20\n",
      "219/219 [==============================] - 2s 10ms/step - loss: 0.0034\n",
      "Epoch 12/20\n",
      "219/219 [==============================] - 2s 10ms/step - loss: 0.0032\n",
      "Epoch 13/20\n",
      "219/219 [==============================] - 2s 10ms/step - loss: 0.0032\n",
      "Epoch 14/20\n",
      "219/219 [==============================] - 2s 10ms/step - loss: 0.0032\n",
      "Epoch 15/20\n",
      "219/219 [==============================] - 2s 10ms/step - loss: 0.0031\n",
      "Epoch 16/20\n",
      "219/219 [==============================] - 2s 10ms/step - loss: 0.0032\n",
      "Epoch 17/20\n",
      "219/219 [==============================] - 2s 10ms/step - loss: 0.0029\n",
      "Epoch 18/20\n",
      "219/219 [==============================] - 2s 10ms/step - loss: 0.0031\n",
      "Epoch 19/20\n",
      "219/219 [==============================] - 2s 10ms/step - loss: 0.0030\n",
      "Epoch 20/20\n",
      "219/219 [==============================] - 2s 10ms/step - loss: 0.0031\n"
     ]
    },
    {
     "data": {
      "text/plain": [
       "<tensorflow.python.keras.callbacks.History at 0x11c946d8608>"
      ]
     },
     "execution_count": 26,
     "metadata": {},
     "output_type": "execute_result"
    }
   ],
   "source": [
    "model.compile(optimizer='Adam', loss='mean_squared_error')\n",
    "model.fit(x_train, y_train, epochs=20)"
   ]
  },
  {
   "cell_type": "code",
   "execution_count": 27,
   "metadata": {},
   "outputs": [
    {
     "name": "stdout",
     "output_type": "stream",
     "text": [
      "63/63 [==============================] - 0s 3ms/step - loss: 0.0029\n"
     ]
    },
    {
     "data": {
      "text/plain": [
       "0.002926837420091033"
      ]
     },
     "execution_count": 27,
     "metadata": {},
     "output_type": "execute_result"
    }
   ],
   "source": [
    "model.evaluate(x_valid, y_valid)"
   ]
  },
  {
   "cell_type": "code",
   "execution_count": 34,
   "metadata": {},
   "outputs": [],
   "source": [
    "keras.backend.clear_session()\n",
    "model = keras.models.Sequential([\n",
    "    keras.layers.SimpleRNN(20, return_sequences=True, input_shape=[None, 1]),\n",
    "    keras.layers.SimpleRNN(20),\n",
    "    keras.layers.Dense(1)\n",
    "])"
   ]
  },
  {
   "cell_type": "code",
   "execution_count": 35,
   "metadata": {},
   "outputs": [
    {
     "name": "stdout",
     "output_type": "stream",
     "text": [
      "Model: \"sequential\"\n",
      "_________________________________________________________________\n",
      "Layer (type)                 Output Shape              Param #   \n",
      "=================================================================\n",
      "simple_rnn (SimpleRNN)       (None, None, 20)          440       \n",
      "_________________________________________________________________\n",
      "simple_rnn_1 (SimpleRNN)     (None, 20)                820       \n",
      "_________________________________________________________________\n",
      "dense (Dense)                (None, 1)                 21        \n",
      "=================================================================\n",
      "Total params: 1,281\n",
      "Trainable params: 1,281\n",
      "Non-trainable params: 0\n",
      "_________________________________________________________________\n"
     ]
    }
   ],
   "source": [
    "model.summary()"
   ]
  },
  {
   "cell_type": "code",
   "execution_count": 36,
   "metadata": {},
   "outputs": [
    {
     "name": "stdout",
     "output_type": "stream",
     "text": [
      "Epoch 1/20\n",
      "219/219 [==============================] - 2s 8ms/step - loss: 0.0334\n",
      "Epoch 2/20\n",
      "219/219 [==============================] - 2s 7ms/step - loss: 0.0050\n",
      "Epoch 3/20\n",
      "219/219 [==============================] - 2s 7ms/step - loss: 0.0034\n",
      "Epoch 4/20\n",
      "219/219 [==============================] - 2s 7ms/step - loss: 0.0033\n",
      "Epoch 5/20\n",
      "219/219 [==============================] - 2s 7ms/step - loss: 0.0030\n",
      "Epoch 6/20\n",
      "219/219 [==============================] - 2s 7ms/step - loss: 0.0030\n",
      "Epoch 7/20\n",
      "219/219 [==============================] - 2s 7ms/step - loss: 0.0030\n",
      "Epoch 8/20\n",
      "219/219 [==============================] - 2s 8ms/step - loss: 0.0029\n",
      "Epoch 9/20\n",
      "219/219 [==============================] - 2s 7ms/step - loss: 0.0028\n",
      "Epoch 10/20\n",
      "219/219 [==============================] - 2s 7ms/step - loss: 0.0029\n",
      "Epoch 11/20\n",
      "219/219 [==============================] - 2s 8ms/step - loss: 0.0028\n",
      "Epoch 12/20\n",
      "219/219 [==============================] - 2s 7ms/step - loss: 0.0029\n",
      "Epoch 13/20\n",
      "219/219 [==============================] - 2s 7ms/step - loss: 0.0028\n",
      "Epoch 14/20\n",
      "219/219 [==============================] - 2s 8ms/step - loss: 0.0029\n",
      "Epoch 15/20\n",
      "219/219 [==============================] - 2s 8ms/step - loss: 0.0028\n",
      "Epoch 16/20\n",
      "219/219 [==============================] - 2s 7ms/step - loss: 0.0028\n",
      "Epoch 17/20\n",
      "219/219 [==============================] - 2s 8ms/step - loss: 0.0028\n",
      "Epoch 18/20\n",
      "219/219 [==============================] - 2s 7ms/step - loss: 0.0029\n",
      "Epoch 19/20\n",
      "219/219 [==============================] - 2s 7ms/step - loss: 0.0027\n",
      "Epoch 20/20\n",
      "219/219 [==============================] - 2s 8ms/step - loss: 0.0027\n"
     ]
    },
    {
     "data": {
      "text/plain": [
       "<tensorflow.python.keras.callbacks.History at 0x11c934177c8>"
      ]
     },
     "execution_count": 36,
     "metadata": {},
     "output_type": "execute_result"
    }
   ],
   "source": [
    "model.compile(optimizer='Adam', loss='mean_squared_error')\n",
    "model.fit(x_train, y_train, epochs=20)"
   ]
  },
  {
   "cell_type": "code",
   "execution_count": 37,
   "metadata": {},
   "outputs": [
    {
     "name": "stdout",
     "output_type": "stream",
     "text": [
      "63/63 [==============================] - 0s 2ms/step - loss: 0.0030\n"
     ]
    },
    {
     "data": {
      "text/plain": [
       "0.0029832404106855392"
      ]
     },
     "execution_count": 37,
     "metadata": {},
     "output_type": "execute_result"
    }
   ],
   "source": [
    "model.evaluate(x_valid, y_valid)"
   ]
  },
  {
   "cell_type": "code",
   "execution_count": 39,
   "metadata": {},
   "outputs": [
    {
     "data": {
      "text/plain": [
       "(1, 60, 1)"
      ]
     },
     "execution_count": 39,
     "metadata": {},
     "output_type": "execute_result"
    }
   ],
   "source": [
    "series = generate_time_series(1, n_steps + 10)\n",
    "series.shape"
   ]
  },
  {
   "cell_type": "code",
   "execution_count": 45,
   "metadata": {},
   "outputs": [
    {
     "data": {
      "text/plain": [
       "(1, 1)"
      ]
     },
     "execution_count": 45,
     "metadata": {},
     "output_type": "execute_result"
    }
   ],
   "source": [
    "x_new, y_new = series[:, :n_steps], series[:, n_steps:]\n",
    "model.predict(x_new).shape"
   ]
  },
  {
   "cell_type": "code",
   "execution_count": 46,
   "metadata": {},
   "outputs": [],
   "source": [
    "x_new, y_new = series[:, :n_steps], series[:, n_steps:]\n",
    "x = x_new\n",
    "for step_ahead in range(10):\n",
    "    y_pred_one = model.predict(x[:, step_ahead:])[:, np.newaxis, :]\n",
    "    x = np.concatenate([x, y_pred_one], axis=1)\n",
    "y_pred = x[:, n_steps:]"
   ]
  },
  {
   "cell_type": "code",
   "execution_count": 47,
   "metadata": {},
   "outputs": [
    {
     "data": {
      "text/plain": [
       "(1, 10, 1)"
      ]
     },
     "execution_count": 47,
     "metadata": {},
     "output_type": "execute_result"
    }
   ],
   "source": [
    "y_pred.shape"
   ]
  },
  {
   "cell_type": "code",
   "execution_count": 51,
   "metadata": {},
   "outputs": [
    {
     "data": {
      "image/png": "[encoded data removed]",
      "text/plain": [
       "<Figure size 432x288 with 1 Axes>"
      ]
     },
     "metadata": {
      "needs_background": "light"
     },
     "output_type": "display_data"
    }
   ],
   "source": [
    "plt.plot(np.arange(50), x_new[0], \"--\")\n",
    "plt.plot(np.arange(50, 60), y_new[0], \"ro-\", label=\"actual\")\n",
    "plt.plot(np.arange(50, 60), y_pred[0], \"bx-\", label='forecast')\n",
    "plt.legend()\n",
    "plt.show()"
   ]
  },
  {
   "cell_type": "code",
   "execution_count": 52,
   "metadata": {},
   "outputs": [],
   "source": [
    "series = generate_time_series(10000, n_steps + 10)"
   ]
  },
  {
   "cell_type": "code",
   "execution_count": 53,
   "metadata": {},
   "outputs": [
    {
     "data": {
      "text/plain": [
       "(10000, 60, 1)"
      ]
     },
     "execution_count": 53,
     "metadata": {},
     "output_type": "execute_result"
    }
   ],
   "source": [
    "series.shape"
   ]
  },
  {
   "cell_type": "code",
   "execution_count": 54,
   "metadata": {},
   "outputs": [],
   "source": [
    "x_train, y_train = series[:7000, :n_steps], series[:7000, -10:, 0]\n",
    "x_valid, y_valid = series[7000:9000, :n_steps], series[7000:9000, -10:, 0]\n",
    "x_test, y_test = series[9000:, :n_steps], series[9000:, -10:, 0]"
   ]
  },
  {
   "cell_type": "code",
   "execution_count": 55,
   "metadata": {},
   "outputs": [],
   "source": [
    "model = keras.models.Sequential([\n",
    "    keras.layers.SimpleRNN(20, return_sequences=True, input_shape=[None, 1]),\n",
    "    keras.layers.SimpleRNN(20),\n",
    "    keras.layers.Dense(10)\n",
    "])"
   ]
  },
  {
   "cell_type": "code",
   "execution_count": 63,
   "metadata": {},
   "outputs": [
    {
     "name": "stdout",
     "output_type": "stream",
     "text": [
      "Epoch 1/20\n",
      "219/219 [==============================] - 3s 8ms/step - loss: 0.1241\n",
      "Epoch 2/20\n",
      "219/219 [==============================] - 2s 7ms/step - loss: 0.0254\n",
      "Epoch 3/20\n",
      "219/219 [==============================] - 2s 7ms/step - loss: 0.0181\n",
      "Epoch 4/20\n",
      "219/219 [==============================] - 2s 7ms/step - loss: 0.0154\n",
      "Epoch 5/20\n",
      "219/219 [==============================] - 2s 7ms/step - loss: 0.0137\n",
      "Epoch 6/20\n",
      "219/219 [==============================] - 2s 7ms/step - loss: 0.0124\n",
      "Epoch 7/20\n",
      "219/219 [==============================] - 2s 7ms/step - loss: 0.0118\n",
      "Epoch 8/20\n",
      "219/219 [==============================] - 2s 8ms/step - loss: 0.0116\n",
      "Epoch 9/20\n",
      "219/219 [==============================] - 2s 7ms/step - loss: 0.0109\n",
      "Epoch 10/20\n",
      "219/219 [==============================] - 2s 7ms/step - loss: 0.0103\n",
      "Epoch 11/20\n",
      "219/219 [==============================] - 2s 7ms/step - loss: 0.0102\n",
      "Epoch 12/20\n",
      "219/219 [==============================] - 2s 7ms/step - loss: 0.0100\n",
      "Epoch 13/20\n",
      "219/219 [==============================] - 2s 7ms/step - loss: 0.0099\n",
      "Epoch 14/20\n",
      "219/219 [==============================] - 2s 7ms/step - loss: 0.0097\n",
      "Epoch 15/20\n",
      "219/219 [==============================] - 2s 7ms/step - loss: 0.0094\n",
      "Epoch 16/20\n",
      "219/219 [==============================] - 2s 7ms/step - loss: 0.0094\n",
      "Epoch 17/20\n",
      "219/219 [==============================] - 2s 8ms/step - loss: 0.0096\n",
      "Epoch 18/20\n",
      "219/219 [==============================] - 2s 7ms/step - loss: 0.0094\n",
      "Epoch 19/20\n",
      "219/219 [==============================] - 2s 7ms/step - loss: 0.0092\n",
      "Epoch 20/20\n",
      "219/219 [==============================] - 2s 7ms/step - loss: 0.0090\n"
     ]
    },
    {
     "data": {
      "text/plain": [
       "<tensorflow.python.keras.callbacks.History at 0x11c9b877848>"
      ]
     },
     "execution_count": 63,
     "metadata": {},
     "output_type": "execute_result"
    }
   ],
   "source": [
    "model.compile(optimizer='Adam', loss='mean_squared_error')\n",
    "model.fit(x_train, y_train, epochs=20)"
   ]
  },
  {
   "cell_type": "code",
   "execution_count": 64,
   "metadata": {},
   "outputs": [],
   "source": [
    "y_pred = model.predict(x_new)"
   ]
  },
  {
   "cell_type": "code",
   "execution_count": 65,
   "metadata": {},
   "outputs": [
    {
     "data": {
      "text/plain": [
       "(1, 10, 1)"
      ]
     },
     "execution_count": 65,
     "metadata": {},
     "output_type": "execute_result"
    }
   ],
   "source": [
    "y_pred = y_pred[..., np.newaxis]\n",
    "y_pred.shape"
   ]
  },
  {
   "cell_type": "code",
   "execution_count": 66,
   "metadata": {},
   "outputs": [
    {
     "data": {
      "image/png": "[encoded data removed]",
      "text/plain": [
       "<Figure size 432x288 with 1 Axes>"
      ]
     },
     "metadata": {
      "needs_background": "light"
     },
     "output_type": "display_data"
    }
   ],
   "source": [
    "plt.plot(np.arange(50), x_new[0], \"--\")\n",
    "plt.plot(np.arange(50, 60), y_new[0], \"ro-\", label=\"actual\")\n",
    "plt.plot(np.arange(50, 60), y_pred[0], \"bx-\", label='forecast')\n",
    "plt.legend()\n",
    "plt.show()"
   ]
  },
  {
   "cell_type": "code",
   "execution_count": 67,
   "metadata": {},
   "outputs": [],
   "source": [
    "y = np.empty((10000, n_steps, 10))\n",
    "for step_ahead in range(1, 10 + 1):\n",
    "    y[:, :, step_ahead - 1] = series[:, step_ahead:step_ahead + n_steps, 0]\n",
    "y_train = y[:7000]\n",
    "y_valid = y[7000:9000]\n",
    "y_test = y[9000:]"
   ]
  },
  {
   "cell_type": "code",
   "execution_count": 68,
   "metadata": {},
   "outputs": [],
   "source": [
    "keras.backend.clear_session()"
   ]
  },
  {
   "cell_type": "code",
   "execution_count": 69,
   "metadata": {},
   "outputs": [],
   "source": [
    "model = keras.models.Sequential([\n",
    "    keras.layers.SimpleRNN(20, return_sequences=True, input_shape=[None, 1]),\n",
    "    keras.layers.SimpleRNN(20, return_sequences=True),\n",
    "    keras.layers.TimeDistributed(keras.layers.Dense(10))\n",
    "])"
   ]
  },
  {
   "cell_type": "code",
   "execution_count": 70,
   "metadata": {},
   "outputs": [
    {
     "name": "stdout",
     "output_type": "stream",
     "text": [
      "Model: \"sequential\"\n",
      "_________________________________________________________________\n",
      "Layer (type)                 Output Shape              Param #   \n",
      "=================================================================\n",
      "simple_rnn (SimpleRNN)       (None, None, 20)          440       \n",
      "_________________________________________________________________\n",
      "simple_rnn_1 (SimpleRNN)     (None, None, 20)          820       \n",
      "_________________________________________________________________\n",
      "time_distributed (TimeDistri (None, None, 10)          210       \n",
      "=================================================================\n",
      "Total params: 1,470\n",
      "Trainable params: 1,470\n",
      "Non-trainable params: 0\n",
      "_________________________________________________________________\n"
     ]
    }
   ],
   "source": [
    "model.summary()"
   ]
  },
  {
   "cell_type": "code",
   "execution_count": 77,
   "metadata": {},
   "outputs": [],
   "source": [
    "def last_time_step_mse(y_true, y_pred):\n",
    "    return keras.metrics.mean_squared_error(y_true[:, -1], y_pred[:, -1])\n",
    "\n",
    "optimizer = keras.optimizers.Adam(lr=0.01)\n",
    "model.compile(loss='mse', optimizer=optimizer, metrics=[last_time_step_mse])"
   ]
  },
  {
   "cell_type": "code",
   "execution_count": 78,
   "metadata": {},
   "outputs": [
    {
     "name": "stdout",
     "output_type": "stream",
     "text": [
      "Epoch 1/20\n",
      "219/219 [==============================] - 3s 10ms/step - loss: 0.0696 - last_time_step_mse: 0.0604 - val_loss: 0.0406 - val_last_time_step_mse: 0.0290\n",
      "Epoch 2/20\n",
      "219/219 [==============================] - 2s 8ms/step - loss: 0.0359 - last_time_step_mse: 0.0239 - val_loss: 0.0316 - val_last_time_step_mse: 0.0215\n",
      "Epoch 3/20\n",
      "219/219 [==============================] - 2s 8ms/step - loss: 0.0304 - last_time_step_mse: 0.0177 - val_loss: 0.0278 - val_last_time_step_mse: 0.0147\n",
      "Epoch 4/20\n",
      "219/219 [==============================] - 2s 8ms/step - loss: 0.0282 - last_time_step_mse: 0.0148 - val_loss: 0.0268 - val_last_time_step_mse: 0.0143\n",
      "Epoch 5/20\n",
      "219/219 [==============================] - 2s 8ms/step - loss: 0.0251 - last_time_step_mse: 0.0121 - val_loss: 0.0249 - val_last_time_step_mse: 0.0126\n",
      "Epoch 6/20\n",
      "219/219 [==============================] - 2s 8ms/step - loss: 0.0243 - last_time_step_mse: 0.0118 - val_loss: 0.0211 - val_last_time_step_mse: 0.0079\n",
      "Epoch 7/20\n",
      "219/219 [==============================] - 2s 8ms/step - loss: 0.0231 - last_time_step_mse: 0.0104 - val_loss: 0.0217 - val_last_time_step_mse: 0.0092\n",
      "Epoch 8/20\n",
      "219/219 [==============================] - 2s 8ms/step - loss: 0.0221 - last_time_step_mse: 0.0093 - val_loss: 0.0209 - val_last_time_step_mse: 0.0084\n",
      "Epoch 9/20\n",
      "219/219 [==============================] - 2s 8ms/step - loss: 0.0211 - last_time_step_mse: 0.0089 - val_loss: 0.0203 - val_last_time_step_mse: 0.0077\n",
      "Epoch 10/20\n",
      "219/219 [==============================] - 2s 8ms/step - loss: 0.0202 - last_time_step_mse: 0.0077 - val_loss: 0.0193 - val_last_time_step_mse: 0.0069\n",
      "Epoch 11/20\n",
      "219/219 [==============================] - 2s 8ms/step - loss: 0.0195 - last_time_step_mse: 0.0070 - val_loss: 0.0205 - val_last_time_step_mse: 0.0081\n",
      "Epoch 12/20\n",
      "219/219 [==============================] - 2s 8ms/step - loss: 0.0197 - last_time_step_mse: 0.0078 - val_loss: 0.0192 - val_last_time_step_mse: 0.0070\n",
      "Epoch 13/20\n",
      "219/219 [==============================] - 2s 8ms/step - loss: 0.0192 - last_time_step_mse: 0.0073 - val_loss: 0.0181 - val_last_time_step_mse: 0.0060\n",
      "Epoch 14/20\n",
      "219/219 [==============================] - 2s 8ms/step - loss: 0.0198 - last_time_step_mse: 0.0080 - val_loss: 0.0193 - val_last_time_step_mse: 0.0067\n",
      "Epoch 15/20\n",
      "219/219 [==============================] - 2s 8ms/step - loss: 0.0190 - last_time_step_mse: 0.0070 - val_loss: 0.0188 - val_last_time_step_mse: 0.0075\n",
      "Epoch 16/20\n",
      "219/219 [==============================] - 2s 8ms/step - loss: 0.0184 - last_time_step_mse: 0.0067 - val_loss: 0.0190 - val_last_time_step_mse: 0.0074\n",
      "Epoch 17/20\n",
      "219/219 [==============================] - 2s 8ms/step - loss: 0.0184 - last_time_step_mse: 0.0068 - val_loss: 0.0177 - val_last_time_step_mse: 0.0058\n",
      "Epoch 18/20\n",
      "219/219 [==============================] - 2s 8ms/step - loss: 0.0181 - last_time_step_mse: 0.0066 - val_loss: 0.0178 - val_last_time_step_mse: 0.0062\n",
      "Epoch 19/20\n",
      "219/219 [==============================] - 2s 8ms/step - loss: 0.0183 - last_time_step_mse: 0.0067 - val_loss: 0.0187 - val_last_time_step_mse: 0.0068\n",
      "Epoch 20/20\n",
      "219/219 [==============================] - 2s 9ms/step - loss: 0.0181 - last_time_step_mse: 0.0068 - val_loss: 0.0189 - val_last_time_step_mse: 0.0074\n"
     ]
    },
    {
     "data": {
      "text/plain": [
       "<tensorflow.python.keras.callbacks.History at 0x11ca0011f88>"
      ]
     },
     "execution_count": 78,
     "metadata": {},
     "output_type": "execute_result"
    }
   ],
   "source": [
    "model.fit(x_train, y_train, epochs=20, validation_data=(x_valid, y_valid))"
   ]
  },
  {
   "cell_type": "code",
   "execution_count": 1,
   "metadata": {},
   "outputs": [],
   "source": [
    "import numpy as np\n",
    "import tensorflow as tf\n",
    "from tensorflow import keras"
   ]
  },
  {
   "cell_type": "code",
   "execution_count": 2,
   "metadata": {},
   "outputs": [],
   "source": [
    "class LNSimpleRNNCell(keras.layers.Layer):\n",
    "    def __init__(self, units, activation='tanh', **kwargs):\n",
    "        super().__init__(**kwargs)\n",
    "        self.state_size = units\n",
    "        self.output_size = units\n",
    "        self.simple_rnn_cell = keras.layers.SimpleRNNCell(units, activation=None)\n",
    "        self.layer_norm = keras.layers.LayerNormalization()\n",
    "        self.activation = keras.activations.get(activation)\n",
    "    def call(self, inputs, states):\n",
    "        outputs, new_states = self.simple_rnn_cell(inputs, states)\n",
    "        norm_outputs = self.activation(self.layer_norm(outputs))\n",
    "        return norm_outputs, [norm_outputs]"
   ]
  },
  {
   "cell_type": "code",
   "execution_count": 3,
   "metadata": {},
   "outputs": [],
   "source": [
    "model = keras.models.Sequential([\n",
    "    keras.layers.RNN(LNSimpleRNNCell(20), return_sequences=True, \n",
    "                    input_shape=[None, 1]),\n",
    "    keras.layers.RNN(LNSimpleRNNCell(20), return_sequences=True),\n",
    "    keras.layers.TimeDistributed(keras.layers.Dense(10))\n",
    "])"
   ]
  },
  {
   "cell_type": "code",
   "execution_count": 4,
   "metadata": {},
   "outputs": [],
   "source": [
    "keras.backend.clear_session()"
   ]
  },
  {
   "cell_type": "code",
   "execution_count": 5,
   "metadata": {},
   "outputs": [],
   "source": [
    "model = keras.models.Sequential([\n",
    "    keras.layers.LSTM(20, return_sequences=True, input_shape=[None, 1]),\n",
    "    keras.layers.LSTM(20, return_sequences=True),\n",
    "    keras.layers.TimeDistributed(keras.layers.Dense(10))\n",
    "])"
   ]
  },
  {
   "cell_type": "code",
   "execution_count": 6,
   "metadata": {},
   "outputs": [],
   "source": [
    "model = keras.models.Sequential([\n",
    "    keras.layers.RNN(keras.layers.LSTMCell(20), return_sequences=True, \n",
    "                     input_shape=[None, 1]),\n",
    "    keras.layers.RNN(keras.layers.LSTMCell(20), return_sequences=True),\n",
    "    keras.layers.TimeDistributed(keras.layers.Dense(10))\n",
    "])"
   ]
  },
  {
   "cell_type": "code",
   "execution_count": 1,
   "metadata": {},
   "outputs": [],
   "source": [
    "import numpy as np\n",
    "import matplotlib.pyplot as plt\n",
    "import tensorflow as tf\n",
    "from tensorflow import keras"
   ]
  },
  {
   "cell_type": "code",
   "execution_count": 3,
   "metadata": {},
   "outputs": [],
   "source": [
    "def generate_time_series(batch_size, n_steps):\n",
    "    freq1, freq2, offset1, offset2 = np.random.rand(4, batch_size, 1)\n",
    "    time = np.linspace(0, 1, n_steps)\n",
    "    series = 0.5 * np.sin((time - offset1) * (freq1 * 10 + 10))\n",
    "    series += 0.2 * np.sin((time - offset2) * (freq2 * 20 + 20))\n",
    "    series += 0.1 * (np.random.rand(batch_size, n_steps) - 0.5)\n",
    "    return series[...,np.newaxis].astype(np.float32)\n",
    "\n",
    "n_steps = 50\n",
    "series = generate_time_series(10000, n_steps + 10)\n",
    "\n",
    "x_train, y_train = series[:7000, :n_steps], series[:7000, -10:, 0]\n",
    "x_valid, y_valid = series[7000:9000, :n_steps], series[7000:9000, -10:, 0]\n",
    "x_test, y_test = series[9000:, :n_steps], series[9000:, -10:, 0]\n",
    "\n",
    "y = np.empty((10000, n_steps, 10))\n",
    "for step_ahead in range(1, 10 + 1):\n",
    "    y[:, :, step_ahead - 1] = series[:, step_ahead:step_ahead + n_steps, 0]\n",
    "y_train = y[:7000]\n",
    "y_valid = y[7000:9000]\n",
    "y_test = y[9000:]"
   ]
  },
  {
   "cell_type": "code",
   "execution_count": 15,
   "metadata": {},
   "outputs": [
    {
     "data": {
      "text/plain": [
       "(7000, 50, 1)"
      ]
     },
     "execution_count": 15,
     "metadata": {},
     "output_type": "execute_result"
    }
   ],
   "source": [
    "x_train.shape"
   ]
  },
  {
   "cell_type": "code",
   "execution_count": 5,
   "metadata": {},
   "outputs": [],
   "source": [
    "model = keras.models.Sequential([\n",
    "    keras.layers.GRU(20, return_sequences=True, input_shape=[None, 1]),\n",
    "    keras.layers.GRU(20, return_sequences=True),\n",
    "    keras.layers.TimeDistributed(keras.layers.Dense(10))\n",
    "])"
   ]
  },
  {
   "cell_type": "code",
   "execution_count": 6,
   "metadata": {},
   "outputs": [],
   "source": [
    "def last_time_step_mse(y_true, y_pred):\n",
    "    return keras.metrics.mean_squared_error(y_true[:, -1], y_pred[:, -1])\n",
    "\n",
    "optimizer = keras.optimizers.Adam(lr=0.01)\n",
    "model.compile(loss='mse', optimizer=optimizer, metrics=[last_time_step_mse])"
   ]
  },
  {
   "cell_type": "code",
   "execution_count": 7,
   "metadata": {},
   "outputs": [
    {
     "name": "stdout",
     "output_type": "stream",
     "text": [
      "Epoch 1/20\n",
      "219/219 [==============================] - 7s 22ms/step - loss: 0.0626 - last_time_step_mse: 0.0541 - val_loss: 0.0340 - val_last_time_step_mse: 0.0217\n",
      "Epoch 2/20\n",
      "219/219 [==============================] - 4s 19ms/step - loss: 0.0308 - last_time_step_mse: 0.0179 - val_loss: 0.0247 - val_last_time_step_mse: 0.0114\n",
      "Epoch 3/20\n",
      "219/219 [==============================] - 4s 19ms/step - loss: 0.0231 - last_time_step_mse: 0.0091 - val_loss: 0.0196 - val_last_time_step_mse: 0.0067\n",
      "Epoch 4/20\n",
      "219/219 [==============================] - 4s 20ms/step - loss: 0.0192 - last_time_step_mse: 0.0061 - val_loss: 0.0183 - val_last_time_step_mse: 0.0063\n",
      "Epoch 5/20\n",
      "219/219 [==============================] - 4s 20ms/step - loss: 0.0176 - last_time_step_mse: 0.0055 - val_loss: 0.0169 - val_last_time_step_mse: 0.0049\n",
      "Epoch 6/20\n",
      "219/219 [==============================] - 4s 20ms/step - loss: 0.0168 - last_time_step_mse: 0.0050 - val_loss: 0.0169 - val_last_time_step_mse: 0.0051\n",
      "Epoch 7/20\n",
      "219/219 [==============================] - 4s 20ms/step - loss: 0.0161 - last_time_step_mse: 0.0046 - val_loss: 0.0157 - val_last_time_step_mse: 0.0041\n",
      "Epoch 8/20\n",
      "219/219 [==============================] - 4s 20ms/step - loss: 0.0157 - last_time_step_mse: 0.0043 - val_loss: 0.0155 - val_last_time_step_mse: 0.0043\n",
      "Epoch 9/20\n",
      "219/219 [==============================] - 4s 20ms/step - loss: 0.0155 - last_time_step_mse: 0.0041 - val_loss: 0.0156 - val_last_time_step_mse: 0.0041\n",
      "Epoch 10/20\n",
      "219/219 [==============================] - 4s 20ms/step - loss: 0.0155 - last_time_step_mse: 0.0043 - val_loss: 0.0152 - val_last_time_step_mse: 0.0042\n",
      "Epoch 11/20\n",
      "219/219 [==============================] - 4s 20ms/step - loss: 0.0150 - last_time_step_mse: 0.0043 - val_loss: 0.0149 - val_last_time_step_mse: 0.0037\n",
      "Epoch 12/20\n",
      "219/219 [==============================] - 4s 20ms/step - loss: 0.0149 - last_time_step_mse: 0.0038 - val_loss: 0.0153 - val_last_time_step_mse: 0.0047\n",
      "Epoch 13/20\n",
      "219/219 [==============================] - 4s 20ms/step - loss: 0.0146 - last_time_step_mse: 0.0038 - val_loss: 0.0147 - val_last_time_step_mse: 0.0037\n",
      "Epoch 14/20\n",
      "219/219 [==============================] - 5s 21ms/step - loss: 0.0147 - last_time_step_mse: 0.0038 - val_loss: 0.0142 - val_last_time_step_mse: 0.0033\n",
      "Epoch 15/20\n",
      "219/219 [==============================] - 5s 21ms/step - loss: 0.0144 - last_time_step_mse: 0.0035 - val_loss: 0.0141 - val_last_time_step_mse: 0.0034\n",
      "Epoch 16/20\n",
      "219/219 [==============================] - 5s 21ms/step - loss: 0.0145 - last_time_step_mse: 0.0039 - val_loss: 0.0145 - val_last_time_step_mse: 0.0038\n",
      "Epoch 17/20\n",
      "219/219 [==============================] - 5s 21ms/step - loss: 0.0141 - last_time_step_mse: 0.0035 - val_loss: 0.0142 - val_last_time_step_mse: 0.0034\n",
      "Epoch 18/20\n",
      "219/219 [==============================] - 5s 21ms/step - loss: 0.0142 - last_time_step_mse: 0.0036 - val_loss: 0.0142 - val_last_time_step_mse: 0.0036\n",
      "Epoch 19/20\n",
      "219/219 [==============================] - 5s 21ms/step - loss: 0.0140 - last_time_step_mse: 0.0034 - val_loss: 0.0139 - val_last_time_step_mse: 0.0033\n",
      "Epoch 20/20\n",
      "219/219 [==============================] - 5s 21ms/step - loss: 0.0141 - last_time_step_mse: 0.0035 - val_loss: 0.0141 - val_last_time_step_mse: 0.0034\n"
     ]
    }
   ],
   "source": [
    "history = model.fit(x_train, y_train, epochs=20, validation_data=(x_valid, y_valid))"
   ]
  },
  {
   "cell_type": "code",
   "execution_count": 9,
   "metadata": {},
   "outputs": [
    {
     "data": {
      "text/plain": [
       "dict_keys(['loss', 'last_time_step_mse', 'val_loss', 'val_last_time_step_mse'])"
      ]
     },
     "execution_count": 9,
     "metadata": {},
     "output_type": "execute_result"
    }
   ],
   "source": [
    "history.history.keys()"
   ]
  },
  {
   "cell_type": "code",
   "execution_count": 10,
   "metadata": {},
   "outputs": [
    {
     "name": "stdout",
     "output_type": "stream",
     "text": [
      "32/32 [==============================] - 0s 4ms/step - loss: 0.0140 - last_time_step_mse: 0.0034\n"
     ]
    },
    {
     "data": {
      "text/plain": [
       "[0.014039264991879463, 0.0033989588264375925]"
      ]
     },
     "execution_count": 10,
     "metadata": {},
     "output_type": "execute_result"
    }
   ],
   "source": [
    "model.evaluate(x_test, y_test)"
   ]
  },
  {
   "cell_type": "code",
   "execution_count": 13,
   "metadata": {},
   "outputs": [
    {
     "data": {
      "image/png": "[encoded data removed]",
      "text/plain": [
       "<Figure size 432x288 with 1 Axes>"
      ]
     },
     "metadata": {
      "needs_background": "light"
     },
     "output_type": "display_data"
    }
   ],
   "source": [
    "plt.plot(history.history['last_time_step_mse'], \"b-o\", label='training_loss')\n",
    "plt.plot(history.history['val_last_time_step_mse'], \"r-o\", label='validation_loss')\n",
    "plt.legend()\n",
    "plt.show()"
   ]
  },
  {
   "cell_type": "code",
   "execution_count": 23,
   "metadata": {},
   "outputs": [],
   "source": [
    "keras.backend.clear_session()"
   ]
  },
  {
   "cell_type": "code",
   "execution_count": 24,
   "metadata": {},
   "outputs": [],
   "source": [
    "model = keras.models.Sequential([\n",
    "    keras.layers.Conv1D(filters=20, kernel_size=4, strides=2, padding='valid',\n",
    "                       input_shape=[None, 1]),\n",
    "    keras.layers.GRU(20, return_sequences=True),\n",
    "    keras.layers.GRU(20, return_sequences=True),\n",
    "    keras.layers.TimeDistributed(keras.layers.Dense(10))\n",
    "])"
   ]
  },
  {
   "cell_type": "code",
   "execution_count": 25,
   "metadata": {},
   "outputs": [
    {
     "name": "stdout",
     "output_type": "stream",
     "text": [
      "Model: \"sequential\"\n",
      "_________________________________________________________________\n",
      "Layer (type)                 Output Shape              Param #   \n",
      "=================================================================\n",
      "conv1d (Conv1D)              (None, None, 20)          100       \n",
      "_________________________________________________________________\n",
      "gru (GRU)                    (None, None, 20)          2520      \n",
      "_________________________________________________________________\n",
      "gru_1 (GRU)                  (None, None, 20)          2520      \n",
      "_________________________________________________________________\n",
      "time_distributed (TimeDistri (None, None, 10)          210       \n",
      "=================================================================\n",
      "Total params: 5,350\n",
      "Trainable params: 5,350\n",
      "Non-trainable params: 0\n",
      "_________________________________________________________________\n"
     ]
    }
   ],
   "source": [
    "model.summary()"
   ]
  },
  {
   "cell_type": "code",
   "execution_count": 26,
   "metadata": {},
   "outputs": [],
   "source": [
    "def last_time_step_mse(y_true, y_pred):\n",
    "    return keras.metrics.mean_squared_error(y_true[:, -1], y_pred[:, -1])\n",
    "\n",
    "optimizer = keras.optimizers.Adam(lr=0.01)\n",
    "model.compile(loss='mse', optimizer=optimizer, metrics=[last_time_step_mse])"
   ]
  },
  {
   "cell_type": "code",
   "execution_count": 27,
   "metadata": {},
   "outputs": [
    {
     "name": "stdout",
     "output_type": "stream",
     "text": [
      "Epoch 1/20\n",
      "219/219 [==============================] - 5s 13ms/step - loss: 0.0576 - last_time_step_mse: 0.0514 - val_loss: 0.0240 - val_last_time_step_mse: 0.0148\n",
      "Epoch 2/20\n",
      "219/219 [==============================] - 2s 11ms/step - loss: 0.0228 - last_time_step_mse: 0.0121 - val_loss: 0.0173 - val_last_time_step_mse: 0.0068\n",
      "Epoch 3/20\n",
      "219/219 [==============================] - 2s 11ms/step - loss: 0.0170 - last_time_step_mse: 0.0062 - val_loss: 0.0148 - val_last_time_step_mse: 0.0050\n",
      "Epoch 4/20\n",
      "219/219 [==============================] - 2s 11ms/step - loss: 0.0150 - last_time_step_mse: 0.0053 - val_loss: 0.0137 - val_last_time_step_mse: 0.0041\n",
      "Epoch 5/20\n",
      "219/219 [==============================] - 2s 11ms/step - loss: 0.0140 - last_time_step_mse: 0.0046 - val_loss: 0.0138 - val_last_time_step_mse: 0.0049\n",
      "Epoch 6/20\n",
      "219/219 [==============================] - 2s 11ms/step - loss: 0.0134 - last_time_step_mse: 0.0046 - val_loss: 0.0130 - val_last_time_step_mse: 0.0044\n",
      "Epoch 7/20\n",
      "219/219 [==============================] - 2s 11ms/step - loss: 0.0130 - last_time_step_mse: 0.0042 - val_loss: 0.0126 - val_last_time_step_mse: 0.0045\n",
      "Epoch 8/20\n",
      "219/219 [==============================] - 2s 11ms/step - loss: 0.0124 - last_time_step_mse: 0.0041 - val_loss: 0.0122 - val_last_time_step_mse: 0.0044\n",
      "Epoch 9/20\n",
      "219/219 [==============================] - 2s 11ms/step - loss: 0.0120 - last_time_step_mse: 0.0038 - val_loss: 0.0122 - val_last_time_step_mse: 0.0047\n",
      "Epoch 10/20\n",
      "219/219 [==============================] - 2s 11ms/step - loss: 0.0118 - last_time_step_mse: 0.0038 - val_loss: 0.0113 - val_last_time_step_mse: 0.0033\n",
      "Epoch 11/20\n",
      "219/219 [==============================] - 2s 11ms/step - loss: 0.0115 - last_time_step_mse: 0.0036 - val_loss: 0.0117 - val_last_time_step_mse: 0.0039\n",
      "Epoch 12/20\n",
      "219/219 [==============================] - 2s 11ms/step - loss: 0.0113 - last_time_step_mse: 0.0036 - val_loss: 0.0110 - val_last_time_step_mse: 0.0034\n",
      "Epoch 13/20\n",
      "219/219 [==============================] - 2s 11ms/step - loss: 0.0111 - last_time_step_mse: 0.0035 - val_loss: 0.0109 - val_last_time_step_mse: 0.0033\n",
      "Epoch 14/20\n",
      "219/219 [==============================] - 2s 11ms/step - loss: 0.0110 - last_time_step_mse: 0.0034 - val_loss: 0.0109 - val_last_time_step_mse: 0.0034\n",
      "Epoch 15/20\n",
      "219/219 [==============================] - 2s 11ms/step - loss: 0.0109 - last_time_step_mse: 0.0036 - val_loss: 0.0110 - val_last_time_step_mse: 0.0038\n",
      "Epoch 16/20\n",
      "219/219 [==============================] - 2s 11ms/step - loss: 0.0108 - last_time_step_mse: 0.0034 - val_loss: 0.0106 - val_last_time_step_mse: 0.0032\n",
      "Epoch 17/20\n",
      "219/219 [==============================] - 2s 11ms/step - loss: 0.0107 - last_time_step_mse: 0.0034 - val_loss: 0.0111 - val_last_time_step_mse: 0.0039\n",
      "Epoch 18/20\n",
      "219/219 [==============================] - 2s 11ms/step - loss: 0.0107 - last_time_step_mse: 0.0033 - val_loss: 0.0104 - val_last_time_step_mse: 0.0031\n",
      "Epoch 19/20\n",
      "219/219 [==============================] - 2s 11ms/step - loss: 0.0104 - last_time_step_mse: 0.0032 - val_loss: 0.0106 - val_last_time_step_mse: 0.0033\n",
      "Epoch 20/20\n",
      "219/219 [==============================] - 2s 11ms/step - loss: 0.0105 - last_time_step_mse: 0.0033 - val_loss: 0.0115 - val_last_time_step_mse: 0.0045\n"
     ]
    }
   ],
   "source": [
    "history = model.fit(x_train, y_train[:, 3::2], epochs=20, validation_data=(x_valid, y_valid[:, 3::2]))"
   ]
  },
  {
   "cell_type": "code",
   "execution_count": 28,
   "metadata": {},
   "outputs": [
    {
     "name": "stdout",
     "output_type": "stream",
     "text": [
      "32/32 [==============================] - 0s 2ms/step - loss: 0.0114 - last_time_step_mse: 0.0042\n"
     ]
    },
    {
     "data": {
      "text/plain": [
       "[0.011416233144700527, 0.004248199053108692]"
      ]
     },
     "execution_count": 28,
     "metadata": {},
     "output_type": "execute_result"
    }
   ],
   "source": [
    "model.evaluate(x_test, y_test[:, 3::2])"
   ]
  },
  {
   "cell_type": "code",
   "execution_count": 29,
   "metadata": {},
   "outputs": [
    {
     "data": {
      "image/png": "[encoded data removed]",
      "text/plain": [
       "<Figure size 432x288 with 1 Axes>"
      ]
     },
     "metadata": {
      "needs_background": "light"
     },
     "output_type": "display_data"
    }
   ],
   "source": [
    "plt.plot(history.history['last_time_step_mse'], \"b-o\", label='training_loss')\n",
    "plt.plot(history.history['val_last_time_step_mse'], \"r-o\", label='validation_loss')\n",
    "plt.legend()\n",
    "plt.show()"
   ]
  },
  {
   "cell_type": "code",
   "execution_count": 30,
   "metadata": {},
   "outputs": [],
   "source": [
    "keras.backend.clear_session()"
   ]
  },
  {
   "cell_type": "code",
   "execution_count": 31,
   "metadata": {},
   "outputs": [],
   "source": [
    "model = keras.models.Sequential()\n",
    "model.add(keras.layers.InputLayer(input_shape=[None, 1]))\n",
    "for rate in (1, 2, 4, 8) * 2:\n",
    "    model.add(keras.layers.Conv1D(filters=20, kernel_size=2, padding='causal',\n",
    "                                 activation='relu', dilation_rate=rate))\n",
    "model.add(keras.layers.Conv1D(filters=10, kernel_size=1))\n",
    "optimizer = keras.optimizers.Adam(lr=0.01)\n",
    "model.compile(loss='mse', optimizer=optimizer, metrics=[last_time_step_mse])"
   ]
  },
  {
   "cell_type": "code",
   "execution_count": 32,
   "metadata": {},
   "outputs": [
    {
     "name": "stdout",
     "output_type": "stream",
     "text": [
      "Epoch 1/20\n",
      "219/219 [==============================] - 2s 6ms/step - loss: 0.0700 - last_time_step_mse: 0.0611 - val_loss: 0.0275 - val_last_time_step_mse: 0.0161\n",
      "Epoch 2/20\n",
      "219/219 [==============================] - 1s 5ms/step - loss: 0.0269 - last_time_step_mse: 0.0155 - val_loss: 0.0249 - val_last_time_step_mse: 0.0139\n",
      "Epoch 3/20\n",
      "219/219 [==============================] - 1s 5ms/step - loss: 0.0243 - last_time_step_mse: 0.0131 - val_loss: 0.0221 - val_last_time_step_mse: 0.0108\n",
      "Epoch 4/20\n",
      "219/219 [==============================] - 1s 5ms/step - loss: 0.0226 - last_time_step_mse: 0.0113 - val_loss: 0.0209 - val_last_time_step_mse: 0.0097\n",
      "Epoch 5/20\n",
      "219/219 [==============================] - 1s 5ms/step - loss: 0.0214 - last_time_step_mse: 0.0103 - val_loss: 0.0202 - val_last_time_step_mse: 0.0087\n",
      "Epoch 6/20\n",
      "219/219 [==============================] - 1s 5ms/step - loss: 0.0197 - last_time_step_mse: 0.0084 - val_loss: 0.0189 - val_last_time_step_mse: 0.0076\n",
      "Epoch 7/20\n",
      "219/219 [==============================] - 1s 5ms/step - loss: 0.0187 - last_time_step_mse: 0.0077 - val_loss: 0.0180 - val_last_time_step_mse: 0.0069\n",
      "Epoch 8/20\n",
      "219/219 [==============================] - 1s 5ms/step - loss: 0.0187 - last_time_step_mse: 0.0075 - val_loss: 0.0182 - val_last_time_step_mse: 0.0070\n",
      "Epoch 9/20\n",
      "219/219 [==============================] - 1s 5ms/step - loss: 0.0182 - last_time_step_mse: 0.0071 - val_loss: 0.0170 - val_last_time_step_mse: 0.0061\n",
      "Epoch 10/20\n",
      "219/219 [==============================] - 1s 5ms/step - loss: 0.0177 - last_time_step_mse: 0.0067 - val_loss: 0.0175 - val_last_time_step_mse: 0.0065\n",
      "Epoch 11/20\n",
      "219/219 [==============================] - 1s 5ms/step - loss: 0.0173 - last_time_step_mse: 0.0065 - val_loss: 0.0170 - val_last_time_step_mse: 0.0060\n",
      "Epoch 12/20\n",
      "219/219 [==============================] - 1s 5ms/step - loss: 0.0172 - last_time_step_mse: 0.0064 - val_loss: 0.0182 - val_last_time_step_mse: 0.0074\n",
      "Epoch 13/20\n",
      "219/219 [==============================] - 1s 5ms/step - loss: 0.0175 - last_time_step_mse: 0.0068 - val_loss: 0.0178 - val_last_time_step_mse: 0.0068\n",
      "Epoch 14/20\n",
      "219/219 [==============================] - 1s 5ms/step - loss: 0.0168 - last_time_step_mse: 0.0062 - val_loss: 0.0180 - val_last_time_step_mse: 0.0073\n",
      "Epoch 15/20\n",
      "219/219 [==============================] - 1s 5ms/step - loss: 0.0168 - last_time_step_mse: 0.0060 - val_loss: 0.0167 - val_last_time_step_mse: 0.0059\n",
      "Epoch 16/20\n",
      "219/219 [==============================] - 1s 5ms/step - loss: 0.0167 - last_time_step_mse: 0.0062 - val_loss: 0.0168 - val_last_time_step_mse: 0.0058\n",
      "Epoch 17/20\n",
      "219/219 [==============================] - 1s 5ms/step - loss: 0.0165 - last_time_step_mse: 0.0062 - val_loss: 0.0165 - val_last_time_step_mse: 0.0061\n",
      "Epoch 18/20\n",
      "219/219 [==============================] - 1s 5ms/step - loss: 0.0164 - last_time_step_mse: 0.0058 - val_loss: 0.0162 - val_last_time_step_mse: 0.0056\n",
      "Epoch 19/20\n",
      "219/219 [==============================] - 1s 5ms/step - loss: 0.0163 - last_time_step_mse: 0.0060 - val_loss: 0.0174 - val_last_time_step_mse: 0.0074\n",
      "Epoch 20/20\n",
      "219/219 [==============================] - 1s 5ms/step - loss: 0.0164 - last_time_step_mse: 0.0062 - val_loss: 0.0162 - val_last_time_step_mse: 0.0054\n"
     ]
    }
   ],
   "source": [
    "history = model.fit(x_train, y_train, validation_data=(x_valid, y_valid), epochs=20)"
   ]
  },
  {
   "cell_type": "code",
   "execution_count": 33,
   "metadata": {},
   "outputs": [
    {
     "name": "stdout",
     "output_type": "stream",
     "text": [
      "32/32 [==============================] - 0s 2ms/step - loss: 0.0160 - last_time_step_mse: 0.0051\n"
     ]
    },
    {
     "data": {
      "text/plain": [
       "[0.016047779470682144, 0.005101033020764589]"
      ]
     },
     "execution_count": 33,
     "metadata": {},
     "output_type": "execute_result"
    }
   ],
   "source": [
    "model.evaluate(x_test, y_test)"
   ]
  },
  {
   "cell_type": "code",
   "execution_count": 34,
   "metadata": {},
   "outputs": [
    {
     "data": {
      "image/png": "[encoded data removed]",
      "text/plain": [
       "<Figure size 432x288 with 1 Axes>"
      ]
     },
     "metadata": {
      "needs_background": "light"
     },
     "output_type": "display_data"
    }
   ],
   "source": [
    "plt.plot(history.history['last_time_step_mse'], \"b-o\", label='training_loss')\n",
    "plt.plot(history.history['val_last_time_step_mse'], \"r-o\", label='validation_loss')\n",
    "plt.legend()\n",
    "plt.show()"
   ]
  },
  {
   "cell_type": "markdown",
   "metadata": {},
   "source": [
    "# 연습문제 9번 SketchRNN 데이터셋으로 분류모델"
   ]
  },
  {
   "cell_type": "code",
   "execution_count": 35,
   "metadata": {},
   "outputs": [
    {
     "name": "stdout",
     "output_type": "stream",
     "text": [
      "Downloading data from http://download.tensorflow.org/data/quickdraw_tutorial_dataset_v1.tar.gz\n",
      "1065304064/1065301781 [==============================] - 108s 0us/step\n"
     ]
    }
   ],
   "source": [
    "DOWNLOAD_ROOT = \"http://download.tensorflow.org/data/\"\n",
    "FILENAME = \"quickdraw_tutorial_dataset_v1.tar.gz\"\n",
    "filepath = keras.utils.get_file(FILENAME,\n",
    "                                DOWNLOAD_ROOT + FILENAME,\n",
    "                                cache_subdir=\"datasets/quickdraw\",\n",
    "                                extract=True)"
   ]
  },
  {
   "cell_type": "code",
   "execution_count": 37,
   "metadata": {},
   "outputs": [],
   "source": [
    "from pathlib import Path"
   ]
  },
  {
   "cell_type": "code",
   "execution_count": 39,
   "metadata": {},
   "outputs": [
    {
     "data": {
      "text/plain": [
       "'C:\\\\Users\\\\sinjy\\\\.keras\\\\datasets/quickdraw\\\\quickdraw_tutorial_dataset_v1.tar.gz'"
      ]
     },
     "execution_count": 39,
     "metadata": {},
     "output_type": "execute_result"
    }
   ],
   "source": [
    "filepath"
   ]
  },
  {
   "cell_type": "code",
   "execution_count": 38,
   "metadata": {},
   "outputs": [
    {
     "data": {
      "text/plain": [
       "WindowsPath('C:/Users/sinjy/.keras/datasets/quickdraw')"
      ]
     },
     "execution_count": 38,
     "metadata": {},
     "output_type": "execute_result"
    }
   ],
   "source": [
    "quickdraw_dir = Path(filepath).parent\n",
    "quickdraw_dir"
   ]
  },
  {
   "cell_type": "code",
   "execution_count": 42,
   "metadata": {},
   "outputs": [
    {
     "data": {
      "text/plain": [
       "[WindowsPath('C:/Users/sinjy/.keras/datasets/quickdraw/eval.tfrecord-00000-of-00010'),\n",
       " WindowsPath('C:/Users/sinjy/.keras/datasets/quickdraw/eval.tfrecord-00001-of-00010'),\n",
       " WindowsPath('C:/Users/sinjy/.keras/datasets/quickdraw/eval.tfrecord-00002-of-00010'),\n",
       " WindowsPath('C:/Users/sinjy/.keras/datasets/quickdraw/eval.tfrecord-00003-of-00010'),\n",
       " WindowsPath('C:/Users/sinjy/.keras/datasets/quickdraw/eval.tfrecord-00004-of-00010'),\n",
       " WindowsPath('C:/Users/sinjy/.keras/datasets/quickdraw/eval.tfrecord-00005-of-00010'),\n",
       " WindowsPath('C:/Users/sinjy/.keras/datasets/quickdraw/eval.tfrecord-00006-of-00010'),\n",
       " WindowsPath('C:/Users/sinjy/.keras/datasets/quickdraw/eval.tfrecord-00007-of-00010'),\n",
       " WindowsPath('C:/Users/sinjy/.keras/datasets/quickdraw/eval.tfrecord-00008-of-00010'),\n",
       " WindowsPath('C:/Users/sinjy/.keras/datasets/quickdraw/eval.tfrecord-00009-of-00010'),\n",
       " WindowsPath('C:/Users/sinjy/.keras/datasets/quickdraw/eval.tfrecord.classes'),\n",
       " WindowsPath('C:/Users/sinjy/.keras/datasets/quickdraw/quickdraw_tutorial_dataset_v1.tar.gz'),\n",
       " WindowsPath('C:/Users/sinjy/.keras/datasets/quickdraw/training.tfrecord-00000-of-00010'),\n",
       " WindowsPath('C:/Users/sinjy/.keras/datasets/quickdraw/training.tfrecord-00001-of-00010'),\n",
       " WindowsPath('C:/Users/sinjy/.keras/datasets/quickdraw/training.tfrecord-00002-of-00010'),\n",
       " WindowsPath('C:/Users/sinjy/.keras/datasets/quickdraw/training.tfrecord-00003-of-00010'),\n",
       " WindowsPath('C:/Users/sinjy/.keras/datasets/quickdraw/training.tfrecord-00004-of-00010'),\n",
       " WindowsPath('C:/Users/sinjy/.keras/datasets/quickdraw/training.tfrecord-00005-of-00010'),\n",
       " WindowsPath('C:/Users/sinjy/.keras/datasets/quickdraw/training.tfrecord-00006-of-00010'),\n",
       " WindowsPath('C:/Users/sinjy/.keras/datasets/quickdraw/training.tfrecord-00007-of-00010'),\n",
       " WindowsPath('C:/Users/sinjy/.keras/datasets/quickdraw/training.tfrecord-00008-of-00010'),\n",
       " WindowsPath('C:/Users/sinjy/.keras/datasets/quickdraw/training.tfrecord-00009-of-00010'),\n",
       " WindowsPath('C:/Users/sinjy/.keras/datasets/quickdraw/training.tfrecord.classes')]"
      ]
     },
     "execution_count": 42,
     "metadata": {},
     "output_type": "execute_result"
    }
   ],
   "source": [
    "list(quickdraw_dir.glob(\"*\"))"
   ]
  },
  {
   "cell_type": "code",
   "execution_count": 43,
   "metadata": {},
   "outputs": [],
   "source": [
    "train_files = sorted([str(path) for path in quickdraw_dir.glob(\"training.tfrecord-*\")])\n",
    "eval_files = sorted([str(path) for path in quickdraw_dir.glob(\"eval.tfrecord-*\")])"
   ]
  },
  {
   "cell_type": "code",
   "execution_count": 44,
   "metadata": {},
   "outputs": [
    {
     "data": {
      "text/plain": [
       "['C:\\\\Users\\\\sinjy\\\\.keras\\\\datasets\\\\quickdraw\\\\training.tfrecord-00000-of-00010',\n",
       " 'C:\\\\Users\\\\sinjy\\\\.keras\\\\datasets\\\\quickdraw\\\\training.tfrecord-00001-of-00010',\n",
       " 'C:\\\\Users\\\\sinjy\\\\.keras\\\\datasets\\\\quickdraw\\\\training.tfrecord-00002-of-00010',\n",
       " 'C:\\\\Users\\\\sinjy\\\\.keras\\\\datasets\\\\quickdraw\\\\training.tfrecord-00003-of-00010',\n",
       " 'C:\\\\Users\\\\sinjy\\\\.keras\\\\datasets\\\\quickdraw\\\\training.tfrecord-00004-of-00010',\n",
       " 'C:\\\\Users\\\\sinjy\\\\.keras\\\\datasets\\\\quickdraw\\\\training.tfrecord-00005-of-00010',\n",
       " 'C:\\\\Users\\\\sinjy\\\\.keras\\\\datasets\\\\quickdraw\\\\training.tfrecord-00006-of-00010',\n",
       " 'C:\\\\Users\\\\sinjy\\\\.keras\\\\datasets\\\\quickdraw\\\\training.tfrecord-00007-of-00010',\n",
       " 'C:\\\\Users\\\\sinjy\\\\.keras\\\\datasets\\\\quickdraw\\\\training.tfrecord-00008-of-00010',\n",
       " 'C:\\\\Users\\\\sinjy\\\\.keras\\\\datasets\\\\quickdraw\\\\training.tfrecord-00009-of-00010']"
      ]
     },
     "execution_count": 44,
     "metadata": {},
     "output_type": "execute_result"
    }
   ],
   "source": [
    "train_files"
   ]
  },
  {
   "cell_type": "code",
   "execution_count": 45,
   "metadata": {},
   "outputs": [
    {
     "data": {
      "text/plain": [
       "['C:\\\\Users\\\\sinjy\\\\.keras\\\\datasets\\\\quickdraw\\\\eval.tfrecord-00000-of-00010',\n",
       " 'C:\\\\Users\\\\sinjy\\\\.keras\\\\datasets\\\\quickdraw\\\\eval.tfrecord-00001-of-00010',\n",
       " 'C:\\\\Users\\\\sinjy\\\\.keras\\\\datasets\\\\quickdraw\\\\eval.tfrecord-00002-of-00010',\n",
       " 'C:\\\\Users\\\\sinjy\\\\.keras\\\\datasets\\\\quickdraw\\\\eval.tfrecord-00003-of-00010',\n",
       " 'C:\\\\Users\\\\sinjy\\\\.keras\\\\datasets\\\\quickdraw\\\\eval.tfrecord-00004-of-00010',\n",
       " 'C:\\\\Users\\\\sinjy\\\\.keras\\\\datasets\\\\quickdraw\\\\eval.tfrecord-00005-of-00010',\n",
       " 'C:\\\\Users\\\\sinjy\\\\.keras\\\\datasets\\\\quickdraw\\\\eval.tfrecord-00006-of-00010',\n",
       " 'C:\\\\Users\\\\sinjy\\\\.keras\\\\datasets\\\\quickdraw\\\\eval.tfrecord-00007-of-00010',\n",
       " 'C:\\\\Users\\\\sinjy\\\\.keras\\\\datasets\\\\quickdraw\\\\eval.tfrecord-00008-of-00010',\n",
       " 'C:\\\\Users\\\\sinjy\\\\.keras\\\\datasets\\\\quickdraw\\\\eval.tfrecord-00009-of-00010']"
      ]
     },
     "execution_count": 45,
     "metadata": {},
     "output_type": "execute_result"
    }
   ],
   "source": [
    "eval_files"
   ]
  },
  {
   "cell_type": "code",
   "execution_count": 47,
   "metadata": {},
   "outputs": [],
   "source": [
    "with open(quickdraw_dir / \"eval.tfrecord.classes\") as test_classes_file:\n",
    "    test_classes = test_classes_file.readlines()\n",
    "\n",
    "with open(quickdraw_dir / \"training.tfrecord.classes\") as train_classes_file:\n",
    "    train_classes = train_classes_file.readlines()"
   ]
  },
  {
   "cell_type": "code",
   "execution_count": 50,
   "metadata": {},
   "outputs": [
    {
     "data": {
      "text/plain": [
       "345"
      ]
     },
     "execution_count": 50,
     "metadata": {},
     "output_type": "execute_result"
    }
   ],
   "source": [
    "len(train_classes)"
   ]
  },
  {
   "cell_type": "code",
   "execution_count": 51,
   "metadata": {},
   "outputs": [
    {
     "data": {
      "text/plain": [
       "True"
      ]
     },
     "execution_count": 51,
     "metadata": {},
     "output_type": "execute_result"
    }
   ],
   "source": [
    "train_classes == test_classes"
   ]
  },
  {
   "cell_type": "code",
   "execution_count": 54,
   "metadata": {},
   "outputs": [
    {
     "data": {
      "text/plain": [
       "['garden hose\\n',\n",
       " 'lighter\\n',\n",
       " 'penguin\\n',\n",
       " 'tractor\\n',\n",
       " 'sheep\\n',\n",
       " 'skateboard\\n',\n",
       " 'mountain\\n',\n",
       " 'mouse\\n',\n",
       " 'chandelier\\n',\n",
       " 'guitar\\n',\n",
       " 'roller coaster\\n',\n",
       " 'owl\\n',\n",
       " 'toilet\\n',\n",
       " 'map\\n',\n",
       " 'snail\\n',\n",
       " 'yoga\\n',\n",
       " 'spoon\\n',\n",
       " 'camera\\n',\n",
       " 'telephone\\n',\n",
       " 'bench\\n',\n",
       " 'pig\\n',\n",
       " 'lion\\n',\n",
       " 'skull\\n',\n",
       " 'hand\\n',\n",
       " 'raccoon\\n',\n",
       " 'beard\\n',\n",
       " 'church\\n',\n",
       " 'animal migration\\n',\n",
       " 'whale\\n',\n",
       " 'sun\\n',\n",
       " 'washing machine\\n',\n",
       " 'airplane\\n',\n",
       " 'megaphone\\n',\n",
       " 'sleeping bag\\n',\n",
       " 'jail\\n',\n",
       " 'fire hydrant\\n',\n",
       " 'car\\n',\n",
       " 'barn\\n',\n",
       " 'swing set\\n',\n",
       " 'rake\\n',\n",
       " 'paintbrush\\n',\n",
       " 'van\\n',\n",
       " 'dragon\\n',\n",
       " 'sailboat\\n',\n",
       " 'compass\\n',\n",
       " 'duck\\n',\n",
       " 'hat\\n',\n",
       " 'kangaroo\\n',\n",
       " 'donut\\n',\n",
       " 'crocodile\\n',\n",
       " 'coffee cup\\n',\n",
       " 'cooler\\n',\n",
       " 'waterslide\\n',\n",
       " 'feather\\n',\n",
       " 'firetruck\\n',\n",
       " 'stereo\\n',\n",
       " 'leg\\n',\n",
       " 'tree\\n',\n",
       " 'pillow\\n',\n",
       " 'purse\\n',\n",
       " 'hourglass\\n',\n",
       " 'ear\\n',\n",
       " 'broccoli\\n',\n",
       " 'goatee\\n',\n",
       " 'moon\\n',\n",
       " 'bridge\\n',\n",
       " 'peas\\n',\n",
       " 'squiggle\\n',\n",
       " 'foot\\n',\n",
       " 'camouflage\\n',\n",
       " 'string bean\\n',\n",
       " 'pants\\n',\n",
       " 'lipstick\\n',\n",
       " 'jacket\\n',\n",
       " 'hockey puck\\n',\n",
       " 'truck\\n',\n",
       " 'table\\n',\n",
       " 'hammer\\n',\n",
       " 'The Great Wall of China\\n',\n",
       " 'paint can\\n',\n",
       " 'fireplace\\n',\n",
       " 'leaf\\n',\n",
       " 'apple\\n',\n",
       " 'beach\\n',\n",
       " 'windmill\\n',\n",
       " 'pear\\n',\n",
       " 'umbrella\\n',\n",
       " 'butterfly\\n',\n",
       " 'flower\\n',\n",
       " 'lighthouse\\n',\n",
       " 'parachute\\n',\n",
       " 'cow\\n',\n",
       " 'cat\\n',\n",
       " 'bottlecap\\n',\n",
       " 'elephant\\n',\n",
       " 'stethoscope\\n',\n",
       " 'river\\n',\n",
       " 'knife\\n',\n",
       " 'speedboat\\n',\n",
       " 'sweater\\n',\n",
       " 'axe\\n',\n",
       " 'tornado\\n',\n",
       " 'bulldozer\\n',\n",
       " 'microphone\\n',\n",
       " 'basketball\\n',\n",
       " 'crown\\n',\n",
       " 'rainbow\\n',\n",
       " 'cookie\\n',\n",
       " 'bathtub\\n',\n",
       " 'watermelon\\n',\n",
       " 'diving board\\n',\n",
       " 'remote control\\n',\n",
       " 'campfire\\n',\n",
       " 'sea turtle\\n',\n",
       " 'bird\\n',\n",
       " 'alarm clock\\n',\n",
       " 'eyeglasses\\n',\n",
       " 'laptop\\n',\n",
       " 'pickup truck\\n',\n",
       " 'onion\\n',\n",
       " 'wheel\\n',\n",
       " 'saxophone\\n',\n",
       " 'skyscraper\\n',\n",
       " 'bracelet\\n',\n",
       " 'syringe\\n',\n",
       " 'anvil\\n',\n",
       " 'rollerskates\\n',\n",
       " 'tooth\\n',\n",
       " 'broom\\n',\n",
       " 'oven\\n',\n",
       " 'belt\\n',\n",
       " 'asparagus\\n',\n",
       " 'necklace\\n',\n",
       " 'pond\\n',\n",
       " 'shoe\\n',\n",
       " 'envelope\\n',\n",
       " 'ant\\n',\n",
       " 'marker\\n',\n",
       " 'ladder\\n',\n",
       " 'tiger\\n',\n",
       " 'golf club\\n',\n",
       " 'hamburger\\n',\n",
       " 'birthday cake\\n',\n",
       " 'stitches\\n',\n",
       " 'moustache\\n',\n",
       " 'stove\\n',\n",
       " 'dresser\\n',\n",
       " 'triangle\\n',\n",
       " 'piano\\n',\n",
       " 'lollipop\\n',\n",
       " 'elbow\\n',\n",
       " 'hospital\\n',\n",
       " 'toothbrush\\n',\n",
       " 'bowtie\\n',\n",
       " 'suitcase\\n',\n",
       " 'dumbbell\\n',\n",
       " 'cup\\n',\n",
       " 'baseball bat\\n',\n",
       " 'clock\\n',\n",
       " 'monkey\\n',\n",
       " 'frog\\n',\n",
       " 'stop sign\\n',\n",
       " 'blackberry\\n',\n",
       " 'floor lamp\\n',\n",
       " 'dog\\n',\n",
       " 'trombone\\n',\n",
       " 'eraser\\n',\n",
       " 'parrot\\n',\n",
       " 'couch\\n',\n",
       " 'flashlight\\n',\n",
       " 'harp\\n',\n",
       " 'mug\\n',\n",
       " 'horse\\n',\n",
       " 'violin\\n',\n",
       " 'bee\\n',\n",
       " 'tennis racquet\\n',\n",
       " 'bat\\n',\n",
       " 'motorbike\\n',\n",
       " 'underwear\\n',\n",
       " 'frying pan\\n',\n",
       " 'rhinoceros\\n',\n",
       " 'brain\\n',\n",
       " 'passport\\n',\n",
       " 'steak\\n',\n",
       " 'see saw\\n',\n",
       " 'hockey stick\\n',\n",
       " 'rain\\n',\n",
       " 'snorkel\\n',\n",
       " 'strawberry\\n',\n",
       " 'knee\\n',\n",
       " 'baseball\\n',\n",
       " 'boomerang\\n',\n",
       " 'postcard\\n',\n",
       " 'fish\\n',\n",
       " 'mouth\\n',\n",
       " 'headphones\\n',\n",
       " 'snowflake\\n',\n",
       " 'bucket\\n',\n",
       " 'grapes\\n',\n",
       " 'scorpion\\n',\n",
       " 'drill\\n',\n",
       " 'helmet\\n',\n",
       " 'sock\\n',\n",
       " 'lobster\\n',\n",
       " 'radio\\n',\n",
       " 'bicycle\\n',\n",
       " 'arm\\n',\n",
       " 'helicopter\\n',\n",
       " 'house plant\\n',\n",
       " 'eye\\n',\n",
       " 'mermaid\\n',\n",
       " 'bush\\n',\n",
       " 'angel\\n',\n",
       " 'vase\\n',\n",
       " 'swan\\n',\n",
       " 'wine glass\\n',\n",
       " 'television\\n',\n",
       " 'traffic light\\n',\n",
       " 'soccer ball\\n',\n",
       " 'power outlet\\n',\n",
       " 'matches\\n',\n",
       " 'mosquito\\n',\n",
       " 'hot air balloon\\n',\n",
       " 'flip flops\\n',\n",
       " 'circle\\n',\n",
       " 'line\\n',\n",
       " 'picture frame\\n',\n",
       " 'crab\\n',\n",
       " 'panda\\n',\n",
       " 'pizza\\n',\n",
       " 'ceiling fan\\n',\n",
       " 'shark\\n',\n",
       " 'pliers\\n',\n",
       " 'zigzag\\n',\n",
       " 'rifle\\n',\n",
       " 'police car\\n',\n",
       " 'castle\\n',\n",
       " 'hexagon\\n',\n",
       " 'cello\\n',\n",
       " 'book\\n',\n",
       " 'door\\n',\n",
       " 'giraffe\\n',\n",
       " 'rabbit\\n',\n",
       " 'key\\n',\n",
       " 'ocean\\n',\n",
       " 'finger\\n',\n",
       " 'The Eiffel Tower\\n',\n",
       " 'clarinet\\n',\n",
       " 'flamingo\\n',\n",
       " 'banana\\n',\n",
       " 'spreadsheet\\n',\n",
       " 'sink\\n',\n",
       " 'face\\n',\n",
       " 'tent\\n',\n",
       " 'cruise ship\\n',\n",
       " 'square\\n',\n",
       " 'fence\\n',\n",
       " 'aircraft carrier\\n',\n",
       " 'canoe\\n',\n",
       " 'teapot\\n',\n",
       " 'camel\\n',\n",
       " 'mushroom\\n',\n",
       " 'streetlight\\n',\n",
       " 'submarine\\n',\n",
       " 'dolphin\\n',\n",
       " 'microwave\\n',\n",
       " 'octagon\\n',\n",
       " 'hot tub\\n',\n",
       " 'cactus\\n',\n",
       " 'hurricane\\n',\n",
       " 't-shirt\\n',\n",
       " 'snowman\\n',\n",
       " 'sandwich\\n',\n",
       " 'shovel\\n',\n",
       " 'lightning\\n',\n",
       " 'bread\\n',\n",
       " 'zebra\\n',\n",
       " 'teddy-bear\\n',\n",
       " 'smiley face\\n',\n",
       " 'toe\\n',\n",
       " 'train\\n',\n",
       " 'backpack\\n',\n",
       " 'blueberry\\n',\n",
       " 'stairs\\n',\n",
       " 'octopus\\n',\n",
       " 'cell phone\\n',\n",
       " 'calculator\\n',\n",
       " 'chair\\n',\n",
       " 'house\\n',\n",
       " 'peanut\\n',\n",
       " 'squirrel\\n',\n",
       " 'pineapple\\n',\n",
       " 'nail\\n',\n",
       " 'bus\\n',\n",
       " 'light bulb\\n',\n",
       " 'trumpet\\n',\n",
       " 'pencil\\n',\n",
       " 'saw\\n',\n",
       " 'nose\\n',\n",
       " 'keyboard\\n',\n",
       " 'crayon\\n',\n",
       " 'garden\\n',\n",
       " 'cake\\n',\n",
       " 'fan\\n',\n",
       " 'screwdriver\\n',\n",
       " 'dishwasher\\n',\n",
       " 'carrot\\n',\n",
       " 'cloud\\n',\n",
       " 'The Mona Lisa\\n',\n",
       " 'candle\\n',\n",
       " 'toothpaste\\n',\n",
       " 'computer\\n',\n",
       " 'drums\\n',\n",
       " 'school bus\\n',\n",
       " 'bandage\\n',\n",
       " 'pool\\n',\n",
       " 'toaster\\n',\n",
       " 'potato\\n',\n",
       " 'paper clip\\n',\n",
       " 'wristwatch\\n',\n",
       " 'fork\\n',\n",
       " 'grass\\n',\n",
       " 'bed\\n',\n",
       " 'bear\\n',\n",
       " 'ambulance\\n',\n",
       " 'basket\\n',\n",
       " 'hot dog\\n',\n",
       " 'scissors\\n',\n",
       " 'snake\\n',\n",
       " 'cannon\\n',\n",
       " 'spider\\n',\n",
       " 'hedgehog\\n',\n",
       " 'wine bottle\\n',\n",
       " 'calendar\\n',\n",
       " 'mailbox\\n',\n",
       " 'palm tree\\n',\n",
       " 'binoculars\\n',\n",
       " 'diamond\\n',\n",
       " 'star\\n',\n",
       " 'popsicle\\n',\n",
       " 'flying saucer\\n',\n",
       " 'sword\\n',\n",
       " 'ice cream\\n',\n",
       " 'lantern\\n',\n",
       " 'shorts\\n']"
      ]
     },
     "execution_count": 54,
     "metadata": {},
     "output_type": "execute_result"
    }
   ],
   "source": [
    "train_classes"
   ]
  },
  {
   "cell_type": "code",
   "execution_count": 55,
   "metadata": {},
   "outputs": [],
   "source": [
    "class_names = [name.strip().lower() for name in train_classes]"
   ]
  },
  {
   "cell_type": "code",
   "execution_count": 91,
   "metadata": {},
   "outputs": [
    {
     "data": {
      "text/plain": [
       "['garden hose',\n",
       " 'lighter',\n",
       " 'penguin',\n",
       " 'tractor',\n",
       " 'sheep',\n",
       " 'skateboard',\n",
       " 'mountain',\n",
       " 'mouse',\n",
       " 'chandelier',\n",
       " 'guitar',\n",
       " 'roller coaster',\n",
       " 'owl',\n",
       " 'toilet',\n",
       " 'map',\n",
       " 'snail',\n",
       " 'yoga',\n",
       " 'spoon',\n",
       " 'camera',\n",
       " 'telephone',\n",
       " 'bench',\n",
       " 'pig',\n",
       " 'lion',\n",
       " 'skull',\n",
       " 'hand',\n",
       " 'raccoon',\n",
       " 'beard',\n",
       " 'church',\n",
       " 'animal migration',\n",
       " 'whale',\n",
       " 'sun',\n",
       " 'washing machine',\n",
       " 'airplane',\n",
       " 'megaphone',\n",
       " 'sleeping bag',\n",
       " 'jail',\n",
       " 'fire hydrant',\n",
       " 'car',\n",
       " 'barn',\n",
       " 'swing set',\n",
       " 'rake',\n",
       " 'paintbrush',\n",
       " 'van',\n",
       " 'dragon',\n",
       " 'sailboat',\n",
       " 'compass',\n",
       " 'duck',\n",
       " 'hat',\n",
       " 'kangaroo',\n",
       " 'donut',\n",
       " 'crocodile',\n",
       " 'coffee cup',\n",
       " 'cooler',\n",
       " 'waterslide',\n",
       " 'feather',\n",
       " 'firetruck',\n",
       " 'stereo',\n",
       " 'leg',\n",
       " 'tree',\n",
       " 'pillow',\n",
       " 'purse',\n",
       " 'hourglass',\n",
       " 'ear',\n",
       " 'broccoli',\n",
       " 'goatee',\n",
       " 'moon',\n",
       " 'bridge',\n",
       " 'peas',\n",
       " 'squiggle',\n",
       " 'foot',\n",
       " 'camouflage',\n",
       " 'string bean',\n",
       " 'pants',\n",
       " 'lipstick',\n",
       " 'jacket',\n",
       " 'hockey puck',\n",
       " 'truck',\n",
       " 'table',\n",
       " 'hammer',\n",
       " 'the great wall of china',\n",
       " 'paint can',\n",
       " 'fireplace',\n",
       " 'leaf',\n",
       " 'apple',\n",
       " 'beach',\n",
       " 'windmill',\n",
       " 'pear',\n",
       " 'umbrella',\n",
       " 'butterfly',\n",
       " 'flower',\n",
       " 'lighthouse',\n",
       " 'parachute',\n",
       " 'cow',\n",
       " 'cat',\n",
       " 'bottlecap',\n",
       " 'elephant',\n",
       " 'stethoscope',\n",
       " 'river',\n",
       " 'knife',\n",
       " 'speedboat',\n",
       " 'sweater',\n",
       " 'axe',\n",
       " 'tornado',\n",
       " 'bulldozer',\n",
       " 'microphone',\n",
       " 'basketball',\n",
       " 'crown',\n",
       " 'rainbow',\n",
       " 'cookie',\n",
       " 'bathtub',\n",
       " 'watermelon',\n",
       " 'diving board',\n",
       " 'remote control',\n",
       " 'campfire',\n",
       " 'sea turtle',\n",
       " 'bird',\n",
       " 'alarm clock',\n",
       " 'eyeglasses',\n",
       " 'laptop',\n",
       " 'pickup truck',\n",
       " 'onion',\n",
       " 'wheel',\n",
       " 'saxophone',\n",
       " 'skyscraper',\n",
       " 'bracelet',\n",
       " 'syringe',\n",
       " 'anvil',\n",
       " 'rollerskates',\n",
       " 'tooth',\n",
       " 'broom',\n",
       " 'oven',\n",
       " 'belt',\n",
       " 'asparagus',\n",
       " 'necklace',\n",
       " 'pond',\n",
       " 'shoe',\n",
       " 'envelope',\n",
       " 'ant',\n",
       " 'marker',\n",
       " 'ladder',\n",
       " 'tiger',\n",
       " 'golf club',\n",
       " 'hamburger',\n",
       " 'birthday cake',\n",
       " 'stitches',\n",
       " 'moustache',\n",
       " 'stove',\n",
       " 'dresser',\n",
       " 'triangle',\n",
       " 'piano',\n",
       " 'lollipop',\n",
       " 'elbow',\n",
       " 'hospital',\n",
       " 'toothbrush',\n",
       " 'bowtie',\n",
       " 'suitcase',\n",
       " 'dumbbell',\n",
       " 'cup',\n",
       " 'baseball bat',\n",
       " 'clock',\n",
       " 'monkey',\n",
       " 'frog',\n",
       " 'stop sign',\n",
       " 'blackberry',\n",
       " 'floor lamp',\n",
       " 'dog',\n",
       " 'trombone',\n",
       " 'eraser',\n",
       " 'parrot',\n",
       " 'couch',\n",
       " 'flashlight',\n",
       " 'harp',\n",
       " 'mug',\n",
       " 'horse',\n",
       " 'violin',\n",
       " 'bee',\n",
       " 'tennis racquet',\n",
       " 'bat',\n",
       " 'motorbike',\n",
       " 'underwear',\n",
       " 'frying pan',\n",
       " 'rhinoceros',\n",
       " 'brain',\n",
       " 'passport',\n",
       " 'steak',\n",
       " 'see saw',\n",
       " 'hockey stick',\n",
       " 'rain',\n",
       " 'snorkel',\n",
       " 'strawberry',\n",
       " 'knee',\n",
       " 'baseball',\n",
       " 'boomerang',\n",
       " 'postcard',\n",
       " 'fish',\n",
       " 'mouth',\n",
       " 'headphones',\n",
       " 'snowflake',\n",
       " 'bucket',\n",
       " 'grapes',\n",
       " 'scorpion',\n",
       " 'drill',\n",
       " 'helmet',\n",
       " 'sock',\n",
       " 'lobster',\n",
       " 'radio',\n",
       " 'bicycle',\n",
       " 'arm',\n",
       " 'helicopter',\n",
       " 'house plant',\n",
       " 'eye',\n",
       " 'mermaid',\n",
       " 'bush',\n",
       " 'angel',\n",
       " 'vase',\n",
       " 'swan',\n",
       " 'wine glass',\n",
       " 'television',\n",
       " 'traffic light',\n",
       " 'soccer ball',\n",
       " 'power outlet',\n",
       " 'matches',\n",
       " 'mosquito',\n",
       " 'hot air balloon',\n",
       " 'flip flops',\n",
       " 'circle',\n",
       " 'line',\n",
       " 'picture frame',\n",
       " 'crab',\n",
       " 'panda',\n",
       " 'pizza',\n",
       " 'ceiling fan',\n",
       " 'shark',\n",
       " 'pliers',\n",
       " 'zigzag',\n",
       " 'rifle',\n",
       " 'police car',\n",
       " 'castle',\n",
       " 'hexagon',\n",
       " 'cello',\n",
       " 'book',\n",
       " 'door',\n",
       " 'giraffe',\n",
       " 'rabbit',\n",
       " 'key',\n",
       " 'ocean',\n",
       " 'finger',\n",
       " 'the eiffel tower',\n",
       " 'clarinet',\n",
       " 'flamingo',\n",
       " 'banana',\n",
       " 'spreadsheet',\n",
       " 'sink',\n",
       " 'face',\n",
       " 'tent',\n",
       " 'cruise ship',\n",
       " 'square',\n",
       " 'fence',\n",
       " 'aircraft carrier',\n",
       " 'canoe',\n",
       " 'teapot',\n",
       " 'camel',\n",
       " 'mushroom',\n",
       " 'streetlight',\n",
       " 'submarine',\n",
       " 'dolphin',\n",
       " 'microwave',\n",
       " 'octagon',\n",
       " 'hot tub',\n",
       " 'cactus',\n",
       " 'hurricane',\n",
       " 't-shirt',\n",
       " 'snowman',\n",
       " 'sandwich',\n",
       " 'shovel',\n",
       " 'lightning',\n",
       " 'bread',\n",
       " 'zebra',\n",
       " 'teddy-bear',\n",
       " 'smiley face',\n",
       " 'toe',\n",
       " 'train',\n",
       " 'backpack',\n",
       " 'blueberry',\n",
       " 'stairs',\n",
       " 'octopus',\n",
       " 'cell phone',\n",
       " 'calculator',\n",
       " 'chair',\n",
       " 'house',\n",
       " 'peanut',\n",
       " 'squirrel',\n",
       " 'pineapple',\n",
       " 'nail',\n",
       " 'bus',\n",
       " 'light bulb',\n",
       " 'trumpet',\n",
       " 'pencil',\n",
       " 'saw',\n",
       " 'nose',\n",
       " 'keyboard',\n",
       " 'crayon',\n",
       " 'garden',\n",
       " 'cake',\n",
       " 'fan',\n",
       " 'screwdriver',\n",
       " 'dishwasher',\n",
       " 'carrot',\n",
       " 'cloud',\n",
       " 'the mona lisa',\n",
       " 'candle',\n",
       " 'toothpaste',\n",
       " 'computer',\n",
       " 'drums',\n",
       " 'school bus',\n",
       " 'bandage',\n",
       " 'pool',\n",
       " 'toaster',\n",
       " 'potato',\n",
       " 'paper clip',\n",
       " 'wristwatch',\n",
       " 'fork',\n",
       " 'grass',\n",
       " 'bed',\n",
       " 'bear',\n",
       " 'ambulance',\n",
       " 'basket',\n",
       " 'hot dog',\n",
       " 'scissors',\n",
       " 'snake',\n",
       " 'cannon',\n",
       " 'spider',\n",
       " 'hedgehog',\n",
       " 'wine bottle',\n",
       " 'calendar',\n",
       " 'mailbox',\n",
       " 'palm tree',\n",
       " 'binoculars',\n",
       " 'diamond',\n",
       " 'star',\n",
       " 'popsicle',\n",
       " 'flying saucer',\n",
       " 'sword',\n",
       " 'ice cream',\n",
       " 'lantern',\n",
       " 'shorts']"
      ]
     },
     "execution_count": 91,
     "metadata": {},
     "output_type": "execute_result"
    }
   ],
   "source": [
    "class_names"
   ]
  },
  {
   "cell_type": "code",
   "execution_count": 60,
   "metadata": {},
   "outputs": [],
   "source": [
    "def parse(data_batch):\n",
    "    feature_descriptions = {\n",
    "        \"ink\": tf.io.VarLenFeature(dtype=tf.float32),\n",
    "        \"shape\": tf.io.FixedLenFeature([2], dtype=tf.int64),\n",
    "        \"class_index\": tf.io.FixedLenFeature([1], dtype=tf.int64)\n",
    "    }\n",
    "    examples = tf.io.parse_example(data_batch, feature_descriptions)\n",
    "    flat_sketches = tf.sparse.to_dense(examples['ink'])\n",
    "    sketches = tf.reshape(flat_sketches, shape=[tf.size(data_batch), -1, 3])\n",
    "    lengths = examples['shape'][:, 0]\n",
    "    labels = examples['class_index'][:, 0]\n",
    "    return sketches, lengths, labels"
   ]
  },
  {
   "cell_type": "code",
   "execution_count": 61,
   "metadata": {},
   "outputs": [],
   "source": [
    "def quickdraw_dataset(filepaths, batch_size=32, shuffle_buffer_size=None,\n",
    "                     n_parse_threads=5, n_read_threads=5, cache=False):\n",
    "    dataset = tf.data.TFRecordDataset(filepaths, \n",
    "                                      num_parallel_reads=n_read_threads)\n",
    "    \n",
    "    if cache:\n",
    "        dataset = dataset.cache()\n",
    "    if shuffle_buffer_size:\n",
    "        dataset = dataset.shuffle(shuffle_buffer_size)\n",
    "    dataset = dataset.batch(batch_size)\n",
    "    dataset = dataset.map(parse, num_parallel_calls=n_parse_threads)\n",
    "    return dataset.prefetch(1)"
   ]
  },
  {
   "cell_type": "code",
   "execution_count": 62,
   "metadata": {},
   "outputs": [],
   "source": [
    "train_set = quickdraw_dataset(train_files, shuffle_buffer_size=10000)\n",
    "valid_set = quickdraw_dataset(eval_files[:5])\n",
    "test_set = quickdraw_dataset(eval_files[5:])"
   ]
  },
  {
   "cell_type": "code",
   "execution_count": 66,
   "metadata": {},
   "outputs": [],
   "source": [
    "sketch, length, label = None, None, None\n",
    "for sketches, lengths, labels in train_set.take(1):\n",
    "    sketch = sketches[0]\n",
    "    length = lengths[0]\n",
    "    label = labels[0]"
   ]
  },
  {
   "cell_type": "code",
   "execution_count": 68,
   "metadata": {},
   "outputs": [
    {
     "data": {
      "text/plain": [
       "<tf.Tensor: shape=(174, 3), dtype=float32, numpy=\n",
       "array([[-0.01724139,  0.00784314,  0.        ],\n",
       "       [ 0.        ,  0.02745098,  0.        ],\n",
       "       [ 0.03017242,  0.17254902,  0.        ],\n",
       "       [ 0.00862069,  0.2901961 ,  0.        ],\n",
       "       [-0.0474138 ,  0.12941176,  0.        ],\n",
       "       [-0.06896552,  0.07843137,  1.        ],\n",
       "       [ 0.19827586, -0.5960784 ,  0.        ],\n",
       "       [ 0.00431034,  0.654902  ,  1.        ],\n",
       "       [-0.14224137, -0.572549  ,  0.        ],\n",
       "       [-0.03448276,  0.03921568,  0.        ],\n",
       "       [-0.0775862 , -0.01568627,  0.        ],\n",
       "       [-0.04310345, -0.05098039,  0.        ],\n",
       "       [-0.00862069, -0.09411764,  0.        ],\n",
       "       [ 0.05603448, -0.06274511,  0.        ],\n",
       "       [ 0.05172414, -0.03529412,  0.        ],\n",
       "       [ 0.06034482, -0.01176471,  0.        ],\n",
       "       [ 0.00431035,  0.03921568,  0.        ],\n",
       "       [-0.05172414,  0.01960784,  0.        ],\n",
       "       [-0.03448275, -0.00784314,  0.        ],\n",
       "       [ 0.00431034, -0.03921568,  0.        ],\n",
       "       [ 0.02155173, -0.02745098,  0.        ],\n",
       "       [ 0.13793103, -0.10588236,  0.        ],\n",
       "       [ 0.09051725, -0.01960784,  0.        ],\n",
       "       [ 0.01724136,  0.01568628,  0.        ],\n",
       "       [ 0.        ,  0.04313725,  0.        ],\n",
       "       [-0.0775862 ,  0.05882353,  0.        ],\n",
       "       [ 0.09051725, -0.05490196,  0.        ],\n",
       "       [ 0.07327586, -0.00784314,  0.        ],\n",
       "       [ 0.01724136,  0.00784314,  0.        ],\n",
       "       [ 0.02155173,  0.03529412,  0.        ],\n",
       "       [ 0.        ,  0.0509804 ,  0.        ],\n",
       "       [-0.00431034,  0.02352941,  0.        ],\n",
       "       [-0.0474138 ,  0.04705882,  0.        ],\n",
       "       [ 0.06034485,  0.03137256,  0.        ],\n",
       "       [ 0.02586204,  0.05490196,  0.        ],\n",
       "       [ 0.        ,  0.04313725,  0.        ],\n",
       "       [-0.03017241,  0.03529412,  0.        ],\n",
       "       [-0.05172414,  0.02745098,  0.        ],\n",
       "       [-0.07327586,  0.01960784,  1.        ],\n",
       "       [-0.21982758, -0.03529412,  0.        ],\n",
       "       [-0.07327586,  0.03921568,  0.        ],\n",
       "       [-0.02155172,  0.04313725,  0.        ],\n",
       "       [ 0.        ,  0.04705885,  0.        ],\n",
       "       [ 0.03879311,  0.03137255,  0.        ],\n",
       "       [ 0.0775862 ,  0.00784314,  0.        ],\n",
       "       [ 0.0474138 , -0.04705882,  1.        ],\n",
       "       [ 0.29741377,  0.19215685,  0.        ],\n",
       "       [-0.03017241,  0.        ,  0.        ],\n",
       "       [ 0.00862068,  0.03137255,  0.        ],\n",
       "       [ 0.05603451,  0.00392157,  0.        ],\n",
       "       [-0.00431037, -0.03529412,  0.        ],\n",
       "       [-0.03879309,  0.00392157,  1.        ],\n",
       "       [-0.06465518, -0.01176471,  0.        ],\n",
       "       [ 0.00431037, -0.02745098,  0.        ],\n",
       "       [-0.03017244,  0.01960784,  0.        ],\n",
       "       [ 0.00431037,  0.06666666,  0.        ],\n",
       "       [ 0.03448275,  0.01176471,  0.        ],\n",
       "       [ 0.03879309, -0.00784314,  0.        ],\n",
       "       [-0.01293102,  0.03921568,  0.        ],\n",
       "       [ 0.02155173,  0.01176471,  0.        ],\n",
       "       [ 0.03879312, -0.00392157,  0.        ],\n",
       "       [ 0.04310346, -0.04705882,  0.        ],\n",
       "       [ 0.02155167, -0.04313725,  0.        ],\n",
       "       [ 0.00431037, -0.04705882,  0.        ],\n",
       "       [-0.02586204, -0.02745098,  0.        ],\n",
       "       [-0.1034483 ,  0.        ,  0.        ],\n",
       "       [-0.01724139,  0.01568627,  0.        ],\n",
       "       [-0.00862068,  0.04705882,  1.        ],\n",
       "       [ 0.03448275,  0.0745098 ,  0.        ],\n",
       "       [-0.01293102,  0.02352941,  0.        ],\n",
       "       [ 0.00862068,  0.15686274,  1.        ],\n",
       "       [-0.01293102, -0.04313725,  0.        ],\n",
       "       [-0.02155173,  0.00392157,  0.        ],\n",
       "       [-0.02586207, -0.07843137,  0.        ],\n",
       "       [-0.03017241, -0.02745098,  1.        ],\n",
       "       [ 0.08189654,  0.11764705,  0.        ],\n",
       "       [ 0.02586207, -0.00392157,  0.        ],\n",
       "       [ 0.06465515, -0.05490196,  1.        ],\n",
       "       [ 0.10775864, -0.03921568,  0.        ],\n",
       "       [ 0.        ,  0.        ,  1.        ],\n",
       "       [ 0.00431031,  0.01960784,  0.        ],\n",
       "       [ 0.        ,  0.02745098,  0.        ],\n",
       "       [ 0.02155173,  0.02745098,  0.        ],\n",
       "       [ 0.00431037, -0.08235294,  0.        ],\n",
       "       [ 0.05603451,  0.14117646,  0.        ],\n",
       "       [ 0.01293099, -0.10980392,  0.        ],\n",
       "       [ 0.00431037,  0.08235294,  0.        ],\n",
       "       [ 0.03017241,  0.04705882,  0.        ],\n",
       "       [ 0.03448278, -0.01176471,  0.        ],\n",
       "       [ 0.01724136, -0.12156862,  0.        ],\n",
       "       [-0.01724136,  0.05882353,  0.        ],\n",
       "       [ 0.06896549, -0.10588235,  0.        ],\n",
       "       [ 0.00431037,  0.02352941,  0.        ],\n",
       "       [-0.03448278,  0.12941176,  0.        ],\n",
       "       [ 0.08620691, -0.12156862,  0.        ],\n",
       "       [ 0.03879309, -0.02745098,  0.        ],\n",
       "       [-0.00862068,  0.03921568,  0.        ],\n",
       "       [-0.04741383,  0.05098039,  0.        ],\n",
       "       [ 0.0258621 ,  0.00392157,  0.        ],\n",
       "       [ 0.02155173, -0.01176471,  0.        ],\n",
       "       [-0.06896555,  0.0862745 ,  0.        ],\n",
       "       [ 0.00431037, -0.07058823,  1.        ],\n",
       "       [-0.21120691, -0.04313725,  0.        ],\n",
       "       [-0.03017241,  0.01960784,  0.        ],\n",
       "       [ 0.05172414,  0.10980392,  0.        ],\n",
       "       [ 0.        , -0.04313725,  0.        ],\n",
       "       [-0.05603445, -0.17647058,  0.        ],\n",
       "       [ 0.03017241,  0.0745098 ,  0.        ],\n",
       "       [ 0.03879309,  0.05098039,  0.        ],\n",
       "       [ 0.02155173,  0.00392157,  0.        ],\n",
       "       [ 0.00862068, -0.02352941,  1.        ],\n",
       "       [ 0.        ,  0.        ,  0.        ],\n",
       "       [ 0.        ,  0.        ,  0.        ],\n",
       "       [ 0.        ,  0.        ,  0.        ],\n",
       "       [ 0.        ,  0.        ,  0.        ],\n",
       "       [ 0.        ,  0.        ,  0.        ],\n",
       "       [ 0.        ,  0.        ,  0.        ],\n",
       "       [ 0.        ,  0.        ,  0.        ],\n",
       "       [ 0.        ,  0.        ,  0.        ],\n",
       "       [ 0.        ,  0.        ,  0.        ],\n",
       "       [ 0.        ,  0.        ,  0.        ],\n",
       "       [ 0.        ,  0.        ,  0.        ],\n",
       "       [ 0.        ,  0.        ,  0.        ],\n",
       "       [ 0.        ,  0.        ,  0.        ],\n",
       "       [ 0.        ,  0.        ,  0.        ],\n",
       "       [ 0.        ,  0.        ,  0.        ],\n",
       "       [ 0.        ,  0.        ,  0.        ],\n",
       "       [ 0.        ,  0.        ,  0.        ],\n",
       "       [ 0.        ,  0.        ,  0.        ],\n",
       "       [ 0.        ,  0.        ,  0.        ],\n",
       "       [ 0.        ,  0.        ,  0.        ],\n",
       "       [ 0.        ,  0.        ,  0.        ],\n",
       "       [ 0.        ,  0.        ,  0.        ],\n",
       "       [ 0.        ,  0.        ,  0.        ],\n",
       "       [ 0.        ,  0.        ,  0.        ],\n",
       "       [ 0.        ,  0.        ,  0.        ],\n",
       "       [ 0.        ,  0.        ,  0.        ],\n",
       "       [ 0.        ,  0.        ,  0.        ],\n",
       "       [ 0.        ,  0.        ,  0.        ],\n",
       "       [ 0.        ,  0.        ,  0.        ],\n",
       "       [ 0.        ,  0.        ,  0.        ],\n",
       "       [ 0.        ,  0.        ,  0.        ],\n",
       "       [ 0.        ,  0.        ,  0.        ],\n",
       "       [ 0.        ,  0.        ,  0.        ],\n",
       "       [ 0.        ,  0.        ,  0.        ],\n",
       "       [ 0.        ,  0.        ,  0.        ],\n",
       "       [ 0.        ,  0.        ,  0.        ],\n",
       "       [ 0.        ,  0.        ,  0.        ],\n",
       "       [ 0.        ,  0.        ,  0.        ],\n",
       "       [ 0.        ,  0.        ,  0.        ],\n",
       "       [ 0.        ,  0.        ,  0.        ],\n",
       "       [ 0.        ,  0.        ,  0.        ],\n",
       "       [ 0.        ,  0.        ,  0.        ],\n",
       "       [ 0.        ,  0.        ,  0.        ],\n",
       "       [ 0.        ,  0.        ,  0.        ],\n",
       "       [ 0.        ,  0.        ,  0.        ],\n",
       "       [ 0.        ,  0.        ,  0.        ],\n",
       "       [ 0.        ,  0.        ,  0.        ],\n",
       "       [ 0.        ,  0.        ,  0.        ],\n",
       "       [ 0.        ,  0.        ,  0.        ],\n",
       "       [ 0.        ,  0.        ,  0.        ],\n",
       "       [ 0.        ,  0.        ,  0.        ],\n",
       "       [ 0.        ,  0.        ,  0.        ],\n",
       "       [ 0.        ,  0.        ,  0.        ],\n",
       "       [ 0.        ,  0.        ,  0.        ],\n",
       "       [ 0.        ,  0.        ,  0.        ],\n",
       "       [ 0.        ,  0.        ,  0.        ],\n",
       "       [ 0.        ,  0.        ,  0.        ],\n",
       "       [ 0.        ,  0.        ,  0.        ],\n",
       "       [ 0.        ,  0.        ,  0.        ],\n",
       "       [ 0.        ,  0.        ,  0.        ],\n",
       "       [ 0.        ,  0.        ,  0.        ],\n",
       "       [ 0.        ,  0.        ,  0.        ],\n",
       "       [ 0.        ,  0.        ,  0.        ]], dtype=float32)>"
      ]
     },
     "execution_count": 68,
     "metadata": {},
     "output_type": "execute_result"
    }
   ],
   "source": [
    "sketch"
   ]
  },
  {
   "cell_type": "code",
   "execution_count": 84,
   "metadata": {},
   "outputs": [],
   "source": [
    "origin = np.zeros((3), dtype='float32')[np.newaxis, :]\n",
    "sketch_ = np.r_[origin, sketch]\n",
    "stroke_end_indices = np.argwhere(sketch_[:, -1] == 1.)[:, 0]\n",
    "coordinates = np.cumsum(sketch[:, :2], axis=0)\n",
    "strokes = np.split(coordinates, stroke_end_indices + 1)"
   ]
  },
  {
   "cell_type": "code",
   "execution_count": 93,
   "metadata": {},
   "outputs": [
    {
     "data": {
      "image/png": "[encoded data removed]",
      "text/plain": [
       "<Figure size 432x288 with 1 Axes>"
      ]
     },
     "metadata": {
      "needs_background": "light"
     },
     "output_type": "display_data"
    }
   ],
   "source": [
    "plt.plot(coordinates[:, 0], - coordinates[:, 1], \"y:\")\n",
    "# for stroke in strokes:\n",
    "#     plt.plot(stroke[:, 0], -stroke[:, 1], \".-\")\n",
    "plt.show()"
   ]
  },
  {
   "cell_type": "code",
   "execution_count": 92,
   "metadata": {},
   "outputs": [
    {
     "data": {
      "text/plain": [
       "'garden'"
      ]
     },
     "execution_count": 92,
     "metadata": {},
     "output_type": "execute_result"
    }
   ],
   "source": [
    "class_names[label.numpy()]"
   ]
  },
  {
   "cell_type": "code",
   "execution_count": null,
   "metadata": {},
   "outputs": [],
   "source": []
  }
 ],
 "metadata": {
  "kernelspec": {
   "display_name": "tensorflow_2",
   "language": "python",
   "name": "tensorflow_2"
  },
  "language_info": {
   "codemirror_mode": {
    "name": "ipython",
    "version": 3
   },
   "file_extension": ".py",
   "mimetype": "text/x-python",
   "name": "python",
   "nbconvert_exporter": "python",
   "pygments_lexer": "ipython3",
   "version": "3.7.9"
  }
 },
 "nbformat": 4,
 "nbformat_minor": 4
}
