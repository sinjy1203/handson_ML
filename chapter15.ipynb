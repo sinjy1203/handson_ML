{
 "cells": [
  {
   "cell_type": "code",
   "execution_count": null,
   "metadata": {
    "id": "fkT18yJafpxk"
   },
   "outputs": [],
   "source": [
    "import numpy as np\n",
    "import tensorflow as tf\n",
    "from tensorflow import keras"
   ]
  },
  {
   "cell_type": "code",
   "execution_count": null,
   "metadata": {
    "id": "Zh9swe7Xfpx3"
   },
   "outputs": [],
   "source": [
    "def generate_time_series(batch_size, n_steps):\n",
    "    freq1, freq2, offset1, offset2 = np.random.rand(4, batch_size, 1)\n",
    "    time = np.linspace(0, 1, n_steps)\n",
    "    series = 0.5 * np.sin((time - offset1) * (freq1 * 10 + 10))\n",
    "    series += 0.2 * np.sin((time - offset2) * (freq2 * 20 + 20))\n",
    "    series += 0.1 * (np.random.rand(batch_size, n_steps) - 0.5)\n",
    "    return series[...,np.newaxis].astype(np.float32)"
   ]
  },
  {
   "cell_type": "code",
   "execution_count": null,
   "metadata": {
    "id": "UR5EFyjUfpx6"
   },
   "outputs": [],
   "source": [
    "np.random.seed(42)\n",
    "\n",
    "n_steps = 50\n",
    "series = generate_time_series(10000, n_steps + 1)\n",
    "x_train, y_train = series[:7000, :n_steps], series[:7000, -1]\n",
    "x_valid, y_valid = series[7000:9000, :n_steps], series[7000:9000, -1]\n",
    "x_test, y_test = series[9000:, n_steps], series[9000:, -1]"
   ]
  },
  {
   "cell_type": "code",
   "execution_count": null,
   "metadata": {
    "id": "zC5JPeKDfpx7",
    "outputId": "d2187876-06b0-48de-bb2d-575ab57651a0"
   },
   "outputs": [
    {
     "data": {
      "text/plain": [
       "0.020211367"
      ]
     },
     "execution_count": 17,
     "metadata": {
      "tags": []
     },
     "output_type": "execute_result"
    }
   ],
   "source": [
    "y_pred = x_valid[:, -1]\n",
    "np.mean(keras.losses.mean_squared_error(y_valid, y_pred))"
   ]
  },
  {
   "cell_type": "code",
   "execution_count": null,
   "metadata": {
    "id": "FGP6DBIrfpx8",
    "outputId": "1a3ac327-09c5-4fdc-e648-21f63b4b9dee"
   },
   "outputs": [
    {
     "name": "stdout",
     "output_type": "stream",
     "text": [
      "Epoch 1/20\n",
      "219/219 [==============================] - 0s 409us/step - loss: 0.1415\n",
      "Epoch 2/20\n",
      "219/219 [==============================] - 0s 414us/step - loss: 0.0362\n",
      "Epoch 3/20\n",
      "219/219 [==============================] - 0s 416us/step - loss: 0.0187\n",
      "Epoch 4/20\n",
      "219/219 [==============================] - 0s 412us/step - loss: 0.0124\n",
      "Epoch 5/20\n",
      "219/219 [==============================] - 0s 412us/step - loss: 0.0103\n",
      "Epoch 6/20\n",
      "219/219 [==============================] - 0s 455us/step - loss: 0.0089\n",
      "Epoch 7/20\n",
      "219/219 [==============================] - 0s 628us/step - loss: 0.0078\n",
      "Epoch 8/20\n",
      "219/219 [==============================] - 0s 428us/step - loss: 0.0069\n",
      "Epoch 9/20\n",
      "219/219 [==============================] - 0s 481us/step - loss: 0.0064\n",
      "Epoch 10/20\n",
      "219/219 [==============================] - 0s 430us/step - loss: 0.0060\n",
      "Epoch 11/20\n",
      "219/219 [==============================] - 0s 421us/step - loss: 0.0055\n",
      "Epoch 12/20\n",
      "219/219 [==============================] - 0s 412us/step - loss: 0.0052\n",
      "Epoch 13/20\n",
      "219/219 [==============================] - 0s 410us/step - loss: 0.0048\n",
      "Epoch 14/20\n",
      "219/219 [==============================] - 0s 397us/step - loss: 0.0046\n",
      "Epoch 15/20\n",
      "219/219 [==============================] - 0s 414us/step - loss: 0.0045\n",
      "Epoch 16/20\n",
      "219/219 [==============================] - 0s 444us/step - loss: 0.0044\n",
      "Epoch 17/20\n",
      "219/219 [==============================] - 0s 409us/step - loss: 0.0043\n",
      "Epoch 18/20\n",
      "219/219 [==============================] - 0s 441us/step - loss: 0.0043\n",
      "Epoch 19/20\n",
      "219/219 [==============================] - 0s 526us/step - loss: 0.0042\n",
      "Epoch 20/20\n",
      "219/219 [==============================] - 0s 457us/step - loss: 0.0040\n"
     ]
    },
    {
     "data": {
      "text/plain": [
       "<tensorflow.python.keras.callbacks.History at 0x11c89dc6588>"
      ]
     },
     "execution_count": 18,
     "metadata": {
      "tags": []
     },
     "output_type": "execute_result"
    }
   ],
   "source": [
    "model = keras.models.Sequential([\n",
    "    keras.layers.Flatten(input_shape=[50, 1]),\n",
    "    keras.layers.Dense(1)\n",
    "])\n",
    "\n",
    "model.compile(optimizer='Adam', loss='mean_squared_error')\n",
    "model.fit(x_train, y_train, epochs=20)"
   ]
  },
  {
   "cell_type": "code",
   "execution_count": null,
   "metadata": {
    "id": "4JgaMOfgfpx9",
    "outputId": "27d02e0f-c2d9-48e0-87d7-21c076bef992"
   },
   "outputs": [
    {
     "name": "stdout",
     "output_type": "stream",
     "text": [
      "63/63 [==============================] - 0s 486us/step - loss: 0.0039\n"
     ]
    },
    {
     "data": {
      "text/plain": [
       "0.003887005615979433"
      ]
     },
     "execution_count": 19,
     "metadata": {
      "tags": []
     },
     "output_type": "execute_result"
    }
   ],
   "source": [
    "model.evaluate(x_valid, y_valid)"
   ]
  },
  {
   "cell_type": "code",
   "execution_count": null,
   "metadata": {
    "id": "7jehuEj4fpx9"
   },
   "outputs": [],
   "source": [
    "model = keras.models.Sequential([\n",
    "    keras.layers.SimpleRNN(1, input_shape=[None, 1])\n",
    "])"
   ]
  },
  {
   "cell_type": "code",
   "execution_count": null,
   "metadata": {
    "id": "_ohu7gQefpx-",
    "outputId": "a65f26d4-9dcd-4cc4-cfb6-5b8f88498260"
   },
   "outputs": [
    {
     "name": "stdout",
     "output_type": "stream",
     "text": [
      "Model: \"sequential_1\"\n",
      "_________________________________________________________________\n",
      "Layer (type)                 Output Shape              Param #   \n",
      "=================================================================\n",
      "simple_rnn (SimpleRNN)       (None, 1)                 3         \n",
      "=================================================================\n",
      "Total params: 3\n",
      "Trainable params: 3\n",
      "Non-trainable params: 0\n",
      "_________________________________________________________________\n"
     ]
    }
   ],
   "source": [
    "model.summary()"
   ]
  },
  {
   "cell_type": "code",
   "execution_count": null,
   "metadata": {
    "id": "zol2PlrVfpx-",
    "outputId": "5239bca0-c380-4e18-c5ec-d82ff576dc7b"
   },
   "outputs": [
    {
     "name": "stdout",
     "output_type": "stream",
     "text": [
      "Epoch 1/20\n",
      "219/219 [==============================] - 1s 4ms/step - loss: 0.2649\n",
      "Epoch 2/20\n",
      "219/219 [==============================] - 1s 4ms/step - loss: 0.1216\n",
      "Epoch 3/20\n",
      "219/219 [==============================] - 1s 4ms/step - loss: 0.0733\n",
      "Epoch 4/20\n",
      "219/219 [==============================] - 1s 4ms/step - loss: 0.0592\n",
      "Epoch 5/20\n",
      "219/219 [==============================] - 1s 4ms/step - loss: 0.0506\n",
      "Epoch 6/20\n",
      "219/219 [==============================] - 1s 4ms/step - loss: 0.0431\n",
      "Epoch 7/20\n",
      "219/219 [==============================] - 1s 4ms/step - loss: 0.0385\n",
      "Epoch 8/20\n",
      "219/219 [==============================] - 1s 4ms/step - loss: 0.0350\n",
      "Epoch 9/20\n",
      "219/219 [==============================] - 1s 4ms/step - loss: 0.0308\n",
      "Epoch 10/20\n",
      "219/219 [==============================] - 1s 4ms/step - loss: 0.0288\n",
      "Epoch 11/20\n",
      "219/219 [==============================] - 1s 4ms/step - loss: 0.0259\n",
      "Epoch 12/20\n",
      "219/219 [==============================] - 1s 4ms/step - loss: 0.0238\n",
      "Epoch 13/20\n",
      "219/219 [==============================] - 1s 4ms/step - loss: 0.0221\n",
      "Epoch 14/20\n",
      "219/219 [==============================] - 1s 4ms/step - loss: 0.0211\n",
      "Epoch 15/20\n",
      "219/219 [==============================] - 1s 4ms/step - loss: 0.0196\n",
      "Epoch 16/20\n",
      "219/219 [==============================] - 1s 4ms/step - loss: 0.0186\n",
      "Epoch 17/20\n",
      "219/219 [==============================] - 1s 4ms/step - loss: 0.0175\n",
      "Epoch 18/20\n",
      "219/219 [==============================] - 1s 4ms/step - loss: 0.0165A: 0s - loss: 0\n",
      "Epoch 19/20\n",
      "219/219 [==============================] - 1s 4ms/step - loss: 0.0156\n",
      "Epoch 20/20\n",
      "219/219 [==============================] - 1s 4ms/step - loss: 0.0151\n"
     ]
    },
    {
     "data": {
      "text/plain": [
       "<tensorflow.python.keras.callbacks.History at 0x11c9331db88>"
      ]
     },
     "execution_count": 22,
     "metadata": {
      "tags": []
     },
     "output_type": "execute_result"
    }
   ],
   "source": [
    "model.compile(optimizer='Adam', loss='mean_squared_error')\n",
    "model.fit(x_train, y_train, epochs=20)"
   ]
  },
  {
   "cell_type": "code",
   "execution_count": null,
   "metadata": {
    "id": "I4hFli30fpx_",
    "outputId": "d59e59a3-1164-4546-f87e-5445e9297158"
   },
   "outputs": [
    {
     "name": "stdout",
     "output_type": "stream",
     "text": [
      "63/63 [==============================] - 0s 1ms/step - loss: 0.0140\n"
     ]
    },
    {
     "data": {
      "text/plain": [
       "0.013981986790895462"
      ]
     },
     "execution_count": 23,
     "metadata": {
      "tags": []
     },
     "output_type": "execute_result"
    }
   ],
   "source": [
    "model.evaluate(x_valid, y_valid)"
   ]
  },
  {
   "cell_type": "code",
   "execution_count": null,
   "metadata": {
    "id": "mES-9tPFfpx_"
   },
   "outputs": [],
   "source": [
    "keras.backend.clear_session()"
   ]
  },
  {
   "cell_type": "code",
   "execution_count": null,
   "metadata": {
    "id": "18KJ8hDhfpyA"
   },
   "outputs": [],
   "source": [
    "model = keras.models.Sequential([\n",
    "    keras.layers.SimpleRNN(20, return_sequences=True, input_shape=[None, 1]),\n",
    "    keras.layers.SimpleRNN(20, return_sequences=True),\n",
    "    keras.layers.SimpleRNN(1)\n",
    "])"
   ]
  },
  {
   "cell_type": "code",
   "execution_count": null,
   "metadata": {
    "id": "nIslKSrafpyA",
    "outputId": "11b058e4-48da-453f-e28b-2beddbc7634f"
   },
   "outputs": [
    {
     "name": "stdout",
     "output_type": "stream",
     "text": [
      "Model: \"sequential_1\"\n",
      "_________________________________________________________________\n",
      "Layer (type)                 Output Shape              Param #   \n",
      "=================================================================\n",
      "simple_rnn_2 (SimpleRNN)     (None, None, 20)          440       \n",
      "_________________________________________________________________\n",
      "simple_rnn_3 (SimpleRNN)     (None, None, 20)          820       \n",
      "_________________________________________________________________\n",
      "simple_rnn_4 (SimpleRNN)     (None, 1)                 22        \n",
      "=================================================================\n",
      "Total params: 1,282\n",
      "Trainable params: 1,282\n",
      "Non-trainable params: 0\n",
      "_________________________________________________________________\n"
     ]
    }
   ],
   "source": [
    "model.summary()"
   ]
  },
  {
   "cell_type": "code",
   "execution_count": null,
   "metadata": {
    "id": "GpsPfn1AfpyA",
    "outputId": "65c7232e-5e3a-40d0-8a67-113258dd0942"
   },
   "outputs": [
    {
     "name": "stdout",
     "output_type": "stream",
     "text": [
      "Epoch 1/20\n",
      "219/219 [==============================] - 4s 10ms/step - loss: 0.1098\n",
      "Epoch 2/20\n",
      "219/219 [==============================] - 2s 10ms/step - loss: 0.0078\n",
      "Epoch 3/20\n",
      "219/219 [==============================] - 2s 10ms/step - loss: 0.0058\n",
      "Epoch 4/20\n",
      "219/219 [==============================] - 2s 10ms/step - loss: 0.0052\n",
      "Epoch 5/20\n",
      "219/219 [==============================] - 2s 10ms/step - loss: 0.0045\n",
      "Epoch 6/20\n",
      "219/219 [==============================] - 2s 10ms/step - loss: 0.0040\n",
      "Epoch 7/20\n",
      "219/219 [==============================] - 2s 10ms/step - loss: 0.0039\n",
      "Epoch 8/20\n",
      "219/219 [==============================] - 2s 10ms/step - loss: 0.0035\n",
      "Epoch 9/20\n",
      "219/219 [==============================] - 2s 10ms/step - loss: 0.0035\n",
      "Epoch 10/20\n",
      "219/219 [==============================] - 2s 10ms/step - loss: 0.0036\n",
      "Epoch 11/20\n",
      "219/219 [==============================] - 2s 10ms/step - loss: 0.0034\n",
      "Epoch 12/20\n",
      "219/219 [==============================] - 2s 10ms/step - loss: 0.0032\n",
      "Epoch 13/20\n",
      "219/219 [==============================] - 2s 10ms/step - loss: 0.0032\n",
      "Epoch 14/20\n",
      "219/219 [==============================] - 2s 10ms/step - loss: 0.0032\n",
      "Epoch 15/20\n",
      "219/219 [==============================] - 2s 10ms/step - loss: 0.0031\n",
      "Epoch 16/20\n",
      "219/219 [==============================] - 2s 10ms/step - loss: 0.0032\n",
      "Epoch 17/20\n",
      "219/219 [==============================] - 2s 10ms/step - loss: 0.0029\n",
      "Epoch 18/20\n",
      "219/219 [==============================] - 2s 10ms/step - loss: 0.0031\n",
      "Epoch 19/20\n",
      "219/219 [==============================] - 2s 10ms/step - loss: 0.0030\n",
      "Epoch 20/20\n",
      "219/219 [==============================] - 2s 10ms/step - loss: 0.0031\n"
     ]
    },
    {
     "data": {
      "text/plain": [
       "<tensorflow.python.keras.callbacks.History at 0x11c946d8608>"
      ]
     },
     "execution_count": 26,
     "metadata": {
      "tags": []
     },
     "output_type": "execute_result"
    }
   ],
   "source": [
    "model.compile(optimizer='Adam', loss='mean_squared_error')\n",
    "model.fit(x_train, y_train, epochs=20)"
   ]
  },
  {
   "cell_type": "code",
   "execution_count": null,
   "metadata": {
    "id": "_jZnI5K3fpyB",
    "outputId": "121738f7-45a1-4cb3-8422-9f2f8b4cc640"
   },
   "outputs": [
    {
     "name": "stdout",
     "output_type": "stream",
     "text": [
      "63/63 [==============================] - 0s 3ms/step - loss: 0.0029\n"
     ]
    },
    {
     "data": {
      "text/plain": [
       "0.002926837420091033"
      ]
     },
     "execution_count": 27,
     "metadata": {
      "tags": []
     },
     "output_type": "execute_result"
    }
   ],
   "source": [
    "model.evaluate(x_valid, y_valid)"
   ]
  },
  {
   "cell_type": "code",
   "execution_count": null,
   "metadata": {
    "id": "op-AjzFCfpyB"
   },
   "outputs": [],
   "source": [
    "keras.backend.clear_session()\n",
    "model = keras.models.Sequential([\n",
    "    keras.layers.SimpleRNN(20, return_sequences=True, input_shape=[None, 1]),\n",
    "    keras.layers.SimpleRNN(20),\n",
    "    keras.layers.Dense(1)\n",
    "])"
   ]
  },
  {
   "cell_type": "code",
   "execution_count": null,
   "metadata": {
    "id": "1eOvDmnNfpyC",
    "outputId": "d35875dd-8081-41f7-94de-daee3ac4af4f"
   },
   "outputs": [
    {
     "name": "stdout",
     "output_type": "stream",
     "text": [
      "Model: \"sequential\"\n",
      "_________________________________________________________________\n",
      "Layer (type)                 Output Shape              Param #   \n",
      "=================================================================\n",
      "simple_rnn (SimpleRNN)       (None, None, 20)          440       \n",
      "_________________________________________________________________\n",
      "simple_rnn_1 (SimpleRNN)     (None, 20)                820       \n",
      "_________________________________________________________________\n",
      "dense (Dense)                (None, 1)                 21        \n",
      "=================================================================\n",
      "Total params: 1,281\n",
      "Trainable params: 1,281\n",
      "Non-trainable params: 0\n",
      "_________________________________________________________________\n"
     ]
    }
   ],
   "source": [
    "model.summary()"
   ]
  },
  {
   "cell_type": "code",
   "execution_count": null,
   "metadata": {
    "id": "r9HcdfJxfpyC",
    "outputId": "2c5649ba-6a43-4f4c-e85e-2b396743daec"
   },
   "outputs": [
    {
     "name": "stdout",
     "output_type": "stream",
     "text": [
      "Epoch 1/20\n",
      "219/219 [==============================] - 2s 8ms/step - loss: 0.0334\n",
      "Epoch 2/20\n",
      "219/219 [==============================] - 2s 7ms/step - loss: 0.0050\n",
      "Epoch 3/20\n",
      "219/219 [==============================] - 2s 7ms/step - loss: 0.0034\n",
      "Epoch 4/20\n",
      "219/219 [==============================] - 2s 7ms/step - loss: 0.0033\n",
      "Epoch 5/20\n",
      "219/219 [==============================] - 2s 7ms/step - loss: 0.0030\n",
      "Epoch 6/20\n",
      "219/219 [==============================] - 2s 7ms/step - loss: 0.0030\n",
      "Epoch 7/20\n",
      "219/219 [==============================] - 2s 7ms/step - loss: 0.0030\n",
      "Epoch 8/20\n",
      "219/219 [==============================] - 2s 8ms/step - loss: 0.0029\n",
      "Epoch 9/20\n",
      "219/219 [==============================] - 2s 7ms/step - loss: 0.0028\n",
      "Epoch 10/20\n",
      "219/219 [==============================] - 2s 7ms/step - loss: 0.0029\n",
      "Epoch 11/20\n",
      "219/219 [==============================] - 2s 8ms/step - loss: 0.0028\n",
      "Epoch 12/20\n",
      "219/219 [==============================] - 2s 7ms/step - loss: 0.0029\n",
      "Epoch 13/20\n",
      "219/219 [==============================] - 2s 7ms/step - loss: 0.0028\n",
      "Epoch 14/20\n",
      "219/219 [==============================] - 2s 8ms/step - loss: 0.0029\n",
      "Epoch 15/20\n",
      "219/219 [==============================] - 2s 8ms/step - loss: 0.0028\n",
      "Epoch 16/20\n",
      "219/219 [==============================] - 2s 7ms/step - loss: 0.0028\n",
      "Epoch 17/20\n",
      "219/219 [==============================] - 2s 8ms/step - loss: 0.0028\n",
      "Epoch 18/20\n",
      "219/219 [==============================] - 2s 7ms/step - loss: 0.0029\n",
      "Epoch 19/20\n",
      "219/219 [==============================] - 2s 7ms/step - loss: 0.0027\n",
      "Epoch 20/20\n",
      "219/219 [==============================] - 2s 8ms/step - loss: 0.0027\n"
     ]
    },
    {
     "data": {
      "text/plain": [
       "<tensorflow.python.keras.callbacks.History at 0x11c934177c8>"
      ]
     },
     "execution_count": 36,
     "metadata": {
      "tags": []
     },
     "output_type": "execute_result"
    }
   ],
   "source": [
    "model.compile(optimizer='Adam', loss='mean_squared_error')\n",
    "model.fit(x_train, y_train, epochs=20)"
   ]
  },
  {
   "cell_type": "code",
   "execution_count": null,
   "metadata": {
    "id": "vIpseUc5fpyC",
    "outputId": "cb378d80-7000-4fea-9cdb-179f4edc5c4c"
   },
   "outputs": [
    {
     "name": "stdout",
     "output_type": "stream",
     "text": [
      "63/63 [==============================] - 0s 2ms/step - loss: 0.0030\n"
     ]
    },
    {
     "data": {
      "text/plain": [
       "0.0029832404106855392"
      ]
     },
     "execution_count": 37,
     "metadata": {
      "tags": []
     },
     "output_type": "execute_result"
    }
   ],
   "source": [
    "model.evaluate(x_valid, y_valid)"
   ]
  },
  {
   "cell_type": "code",
   "execution_count": null,
   "metadata": {
    "id": "Dur1ocvqfpyD",
    "outputId": "885bfea7-4c71-40c8-a92b-44b0f17af3d1"
   },
   "outputs": [
    {
     "data": {
      "text/plain": [
       "(1, 60, 1)"
      ]
     },
     "execution_count": 39,
     "metadata": {
      "tags": []
     },
     "output_type": "execute_result"
    }
   ],
   "source": [
    "series = generate_time_series(1, n_steps + 10)\n",
    "series.shape"
   ]
  },
  {
   "cell_type": "code",
   "execution_count": null,
   "metadata": {
    "id": "2wF5zVF4fpyD",
    "outputId": "006ff328-dc83-45ae-dbba-31620edd2dbd"
   },
   "outputs": [
    {
     "data": {
      "text/plain": [
       "(1, 1)"
      ]
     },
     "execution_count": 45,
     "metadata": {
      "tags": []
     },
     "output_type": "execute_result"
    }
   ],
   "source": [
    "x_new, y_new = series[:, :n_steps], series[:, n_steps:]\n",
    "model.predict(x_new).shape"
   ]
  },
  {
   "cell_type": "code",
   "execution_count": null,
   "metadata": {
    "id": "siLqIj6CfpyE"
   },
   "outputs": [],
   "source": [
    "x_new, y_new = series[:, :n_steps], series[:, n_steps:]\n",
    "x = x_new\n",
    "for step_ahead in range(10):\n",
    "    y_pred_one = model.predict(x[:, step_ahead:])[:, np.newaxis, :]\n",
    "    x = np.concatenate([x, y_pred_one], axis=1)\n",
    "y_pred = x[:, n_steps:]"
   ]
  },
  {
   "cell_type": "code",
   "execution_count": null,
   "metadata": {
    "id": "plbW1eTvfpyE",
    "outputId": "f2f119e8-d90c-4d29-b54f-c7667899a1d8"
   },
   "outputs": [
    {
     "data": {
      "text/plain": [
       "(1, 10, 1)"
      ]
     },
     "execution_count": 47,
     "metadata": {
      "tags": []
     },
     "output_type": "execute_result"
    }
   ],
   "source": [
    "y_pred.shape"
   ]
  },
  {
   "cell_type": "code",
   "execution_count": null,
   "metadata": {
    "id": "m7hvxG-8fpyE",
    "outputId": "0b27ac20-b730-42e2-efff-3b5e2e7e9033"
   },
   "outputs": [
    {
     "data": {
      "image/png": "[encoded data removed]",
      "text/plain": [
       "<Figure size 432x288 with 1 Axes>"
      ]
     },
     "metadata": {
      "needs_background": "light",
      "tags": []
     },
     "output_type": "display_data"
    }
   ],
   "source": [
    "plt.plot(np.arange(50), x_new[0], \"--\")\n",
    "plt.plot(np.arange(50, 60), y_new[0], \"ro-\", label=\"actual\")\n",
    "plt.plot(np.arange(50, 60), y_pred[0], \"bx-\", label='forecast')\n",
    "plt.legend()\n",
    "plt.show()"
   ]
  },
  {
   "cell_type": "code",
   "execution_count": null,
   "metadata": {
    "id": "gPQSWU92fpyF"
   },
   "outputs": [],
   "source": [
    "series = generate_time_series(10000, n_steps + 10)"
   ]
  },
  {
   "cell_type": "code",
   "execution_count": null,
   "metadata": {
    "id": "CHh5p7w7fpyF",
    "outputId": "6f9ba26d-e853-44d8-c7a6-dd6e2b86980b"
   },
   "outputs": [
    {
     "data": {
      "text/plain": [
       "(10000, 60, 1)"
      ]
     },
     "execution_count": 53,
     "metadata": {
      "tags": []
     },
     "output_type": "execute_result"
    }
   ],
   "source": [
    "series.shape"
   ]
  },
  {
   "cell_type": "code",
   "execution_count": null,
   "metadata": {
    "id": "YUBquX9QfpyF"
   },
   "outputs": [],
   "source": [
    "x_train, y_train = series[:7000, :n_steps], series[:7000, -10:, 0]\n",
    "x_valid, y_valid = series[7000:9000, :n_steps], series[7000:9000, -10:, 0]\n",
    "x_test, y_test = series[9000:, :n_steps], series[9000:, -10:, 0]"
   ]
  },
  {
   "cell_type": "code",
   "execution_count": null,
   "metadata": {
    "id": "UB-jjthsfpyF"
   },
   "outputs": [],
   "source": [
    "model = keras.models.Sequential([\n",
    "    keras.layers.SimpleRNN(20, return_sequences=True, input_shape=[None, 1]),\n",
    "    keras.layers.SimpleRNN(20),\n",
    "    keras.layers.Dense(10)\n",
    "])"
   ]
  },
  {
   "cell_type": "code",
   "execution_count": null,
   "metadata": {
    "id": "xnf3GomBfpyF",
    "outputId": "5fac80d4-1a13-42bb-f7ee-5b9dc054bf37"
   },
   "outputs": [
    {
     "name": "stdout",
     "output_type": "stream",
     "text": [
      "Epoch 1/20\n",
      "219/219 [==============================] - 3s 8ms/step - loss: 0.1241\n",
      "Epoch 2/20\n",
      "219/219 [==============================] - 2s 7ms/step - loss: 0.0254\n",
      "Epoch 3/20\n",
      "219/219 [==============================] - 2s 7ms/step - loss: 0.0181\n",
      "Epoch 4/20\n",
      "219/219 [==============================] - 2s 7ms/step - loss: 0.0154\n",
      "Epoch 5/20\n",
      "219/219 [==============================] - 2s 7ms/step - loss: 0.0137\n",
      "Epoch 6/20\n",
      "219/219 [==============================] - 2s 7ms/step - loss: 0.0124\n",
      "Epoch 7/20\n",
      "219/219 [==============================] - 2s 7ms/step - loss: 0.0118\n",
      "Epoch 8/20\n",
      "219/219 [==============================] - 2s 8ms/step - loss: 0.0116\n",
      "Epoch 9/20\n",
      "219/219 [==============================] - 2s 7ms/step - loss: 0.0109\n",
      "Epoch 10/20\n",
      "219/219 [==============================] - 2s 7ms/step - loss: 0.0103\n",
      "Epoch 11/20\n",
      "219/219 [==============================] - 2s 7ms/step - loss: 0.0102\n",
      "Epoch 12/20\n",
      "219/219 [==============================] - 2s 7ms/step - loss: 0.0100\n",
      "Epoch 13/20\n",
      "219/219 [==============================] - 2s 7ms/step - loss: 0.0099\n",
      "Epoch 14/20\n",
      "219/219 [==============================] - 2s 7ms/step - loss: 0.0097\n",
      "Epoch 15/20\n",
      "219/219 [==============================] - 2s 7ms/step - loss: 0.0094\n",
      "Epoch 16/20\n",
      "219/219 [==============================] - 2s 7ms/step - loss: 0.0094\n",
      "Epoch 17/20\n",
      "219/219 [==============================] - 2s 8ms/step - loss: 0.0096\n",
      "Epoch 18/20\n",
      "219/219 [==============================] - 2s 7ms/step - loss: 0.0094\n",
      "Epoch 19/20\n",
      "219/219 [==============================] - 2s 7ms/step - loss: 0.0092\n",
      "Epoch 20/20\n",
      "219/219 [==============================] - 2s 7ms/step - loss: 0.0090\n"
     ]
    },
    {
     "data": {
      "text/plain": [
       "<tensorflow.python.keras.callbacks.History at 0x11c9b877848>"
      ]
     },
     "execution_count": 63,
     "metadata": {
      "tags": []
     },
     "output_type": "execute_result"
    }
   ],
   "source": [
    "model.compile(optimizer='Adam', loss='mean_squared_error')\n",
    "model.fit(x_train, y_train, epochs=20)"
   ]
  },
  {
   "cell_type": "code",
   "execution_count": null,
   "metadata": {
    "id": "z9FOtKDTfpyG"
   },
   "outputs": [],
   "source": [
    "y_pred = model.predict(x_new)"
   ]
  },
  {
   "cell_type": "code",
   "execution_count": null,
   "metadata": {
    "id": "R_cPeckOfpyG",
    "outputId": "c27cc76c-2a8e-4826-9924-7a2fb349a515"
   },
   "outputs": [
    {
     "data": {
      "text/plain": [
       "(1, 10, 1)"
      ]
     },
     "execution_count": 65,
     "metadata": {
      "tags": []
     },
     "output_type": "execute_result"
    }
   ],
   "source": [
    "y_pred = y_pred[..., np.newaxis]\n",
    "y_pred.shape"
   ]
  },
  {
   "cell_type": "code",
   "execution_count": null,
   "metadata": {
    "id": "iwVvr1SrfpyG",
    "outputId": "f66c9b81-be07-4628-b548-a1b26b7a8deb"
   },
   "outputs": [
    {
     "data": {
      "image/png": "[encoded data removed]",
      "text/plain": [
       "<Figure size 432x288 with 1 Axes>"
      ]
     },
     "metadata": {
      "needs_background": "light",
      "tags": []
     },
     "output_type": "display_data"
    }
   ],
   "source": [
    "plt.plot(np.arange(50), x_new[0], \"--\")\n",
    "plt.plot(np.arange(50, 60), y_new[0], \"ro-\", label=\"actual\")\n",
    "plt.plot(np.arange(50, 60), y_pred[0], \"bx-\", label='forecast')\n",
    "plt.legend()\n",
    "plt.show()"
   ]
  },
  {
   "cell_type": "code",
   "execution_count": null,
   "metadata": {
    "id": "Rn39y7DNfpyG"
   },
   "outputs": [],
   "source": [
    "y = np.empty((10000, n_steps, 10))\n",
    "for step_ahead in range(1, 10 + 1):\n",
    "    y[:, :, step_ahead - 1] = series[:, step_ahead:step_ahead + n_steps, 0]\n",
    "y_train = y[:7000]\n",
    "y_valid = y[7000:9000]\n",
    "y_test = y[9000:]"
   ]
  },
  {
   "cell_type": "code",
   "execution_count": null,
   "metadata": {
    "id": "g8Ze14dffpyG"
   },
   "outputs": [],
   "source": [
    "keras.backend.clear_session()"
   ]
  },
  {
   "cell_type": "code",
   "execution_count": null,
   "metadata": {
    "id": "8fNrubmkfpyH"
   },
   "outputs": [],
   "source": [
    "model = keras.models.Sequential([\n",
    "    keras.layers.SimpleRNN(20, return_sequences=True, input_shape=[None, 1]),\n",
    "    keras.layers.SimpleRNN(20, return_sequences=True),\n",
    "    keras.layers.TimeDistributed(keras.layers.Dense(10))\n",
    "])"
   ]
  },
  {
   "cell_type": "code",
   "execution_count": null,
   "metadata": {
    "id": "JO-HccqgfpyH",
    "outputId": "5da7d3bb-6164-49fa-cb37-a6498983d7d3"
   },
   "outputs": [
    {
     "name": "stdout",
     "output_type": "stream",
     "text": [
      "Model: \"sequential\"\n",
      "_________________________________________________________________\n",
      "Layer (type)                 Output Shape              Param #   \n",
      "=================================================================\n",
      "simple_rnn (SimpleRNN)       (None, None, 20)          440       \n",
      "_________________________________________________________________\n",
      "simple_rnn_1 (SimpleRNN)     (None, None, 20)          820       \n",
      "_________________________________________________________________\n",
      "time_distributed (TimeDistri (None, None, 10)          210       \n",
      "=================================================================\n",
      "Total params: 1,470\n",
      "Trainable params: 1,470\n",
      "Non-trainable params: 0\n",
      "_________________________________________________________________\n"
     ]
    }
   ],
   "source": [
    "model.summary()"
   ]
  },
  {
   "cell_type": "code",
   "execution_count": null,
   "metadata": {
    "id": "dSrQJCIxfpyH"
   },
   "outputs": [],
   "source": [
    "def last_time_step_mse(y_true, y_pred):\n",
    "    return keras.metrics.mean_squared_error(y_true[:, -1], y_pred[:, -1])\n",
    "\n",
    "optimizer = keras.optimizers.Adam(lr=0.01)\n",
    "model.compile(loss='mse', optimizer=optimizer, metrics=[last_time_step_mse])"
   ]
  },
  {
   "cell_type": "code",
   "execution_count": null,
   "metadata": {
    "id": "Y6CC9AG7fpyH",
    "outputId": "c5ede257-999a-455e-be92-b2a57ec2b642"
   },
   "outputs": [
    {
     "name": "stdout",
     "output_type": "stream",
     "text": [
      "Epoch 1/20\n",
      "219/219 [==============================] - 3s 10ms/step - loss: 0.0696 - last_time_step_mse: 0.0604 - val_loss: 0.0406 - val_last_time_step_mse: 0.0290\n",
      "Epoch 2/20\n",
      "219/219 [==============================] - 2s 8ms/step - loss: 0.0359 - last_time_step_mse: 0.0239 - val_loss: 0.0316 - val_last_time_step_mse: 0.0215\n",
      "Epoch 3/20\n",
      "219/219 [==============================] - 2s 8ms/step - loss: 0.0304 - last_time_step_mse: 0.0177 - val_loss: 0.0278 - val_last_time_step_mse: 0.0147\n",
      "Epoch 4/20\n",
      "219/219 [==============================] - 2s 8ms/step - loss: 0.0282 - last_time_step_mse: 0.0148 - val_loss: 0.0268 - val_last_time_step_mse: 0.0143\n",
      "Epoch 5/20\n",
      "219/219 [==============================] - 2s 8ms/step - loss: 0.0251 - last_time_step_mse: 0.0121 - val_loss: 0.0249 - val_last_time_step_mse: 0.0126\n",
      "Epoch 6/20\n",
      "219/219 [==============================] - 2s 8ms/step - loss: 0.0243 - last_time_step_mse: 0.0118 - val_loss: 0.0211 - val_last_time_step_mse: 0.0079\n",
      "Epoch 7/20\n",
      "219/219 [==============================] - 2s 8ms/step - loss: 0.0231 - last_time_step_mse: 0.0104 - val_loss: 0.0217 - val_last_time_step_mse: 0.0092\n",
      "Epoch 8/20\n",
      "219/219 [==============================] - 2s 8ms/step - loss: 0.0221 - last_time_step_mse: 0.0093 - val_loss: 0.0209 - val_last_time_step_mse: 0.0084\n",
      "Epoch 9/20\n",
      "219/219 [==============================] - 2s 8ms/step - loss: 0.0211 - last_time_step_mse: 0.0089 - val_loss: 0.0203 - val_last_time_step_mse: 0.0077\n",
      "Epoch 10/20\n",
      "219/219 [==============================] - 2s 8ms/step - loss: 0.0202 - last_time_step_mse: 0.0077 - val_loss: 0.0193 - val_last_time_step_mse: 0.0069\n",
      "Epoch 11/20\n",
      "219/219 [==============================] - 2s 8ms/step - loss: 0.0195 - last_time_step_mse: 0.0070 - val_loss: 0.0205 - val_last_time_step_mse: 0.0081\n",
      "Epoch 12/20\n",
      "219/219 [==============================] - 2s 8ms/step - loss: 0.0197 - last_time_step_mse: 0.0078 - val_loss: 0.0192 - val_last_time_step_mse: 0.0070\n",
      "Epoch 13/20\n",
      "219/219 [==============================] - 2s 8ms/step - loss: 0.0192 - last_time_step_mse: 0.0073 - val_loss: 0.0181 - val_last_time_step_mse: 0.0060\n",
      "Epoch 14/20\n",
      "219/219 [==============================] - 2s 8ms/step - loss: 0.0198 - last_time_step_mse: 0.0080 - val_loss: 0.0193 - val_last_time_step_mse: 0.0067\n",
      "Epoch 15/20\n",
      "219/219 [==============================] - 2s 8ms/step - loss: 0.0190 - last_time_step_mse: 0.0070 - val_loss: 0.0188 - val_last_time_step_mse: 0.0075\n",
      "Epoch 16/20\n",
      "219/219 [==============================] - 2s 8ms/step - loss: 0.0184 - last_time_step_mse: 0.0067 - val_loss: 0.0190 - val_last_time_step_mse: 0.0074\n",
      "Epoch 17/20\n",
      "219/219 [==============================] - 2s 8ms/step - loss: 0.0184 - last_time_step_mse: 0.0068 - val_loss: 0.0177 - val_last_time_step_mse: 0.0058\n",
      "Epoch 18/20\n",
      "219/219 [==============================] - 2s 8ms/step - loss: 0.0181 - last_time_step_mse: 0.0066 - val_loss: 0.0178 - val_last_time_step_mse: 0.0062\n",
      "Epoch 19/20\n",
      "219/219 [==============================] - 2s 8ms/step - loss: 0.0183 - last_time_step_mse: 0.0067 - val_loss: 0.0187 - val_last_time_step_mse: 0.0068\n",
      "Epoch 20/20\n",
      "219/219 [==============================] - 2s 9ms/step - loss: 0.0181 - last_time_step_mse: 0.0068 - val_loss: 0.0189 - val_last_time_step_mse: 0.0074\n"
     ]
    },
    {
     "data": {
      "text/plain": [
       "<tensorflow.python.keras.callbacks.History at 0x11ca0011f88>"
      ]
     },
     "execution_count": 78,
     "metadata": {
      "tags": []
     },
     "output_type": "execute_result"
    }
   ],
   "source": [
    "model.fit(x_train, y_train, epochs=20, validation_data=(x_valid, y_valid))"
   ]
  },
  {
   "cell_type": "code",
   "execution_count": null,
   "metadata": {
    "id": "NRDnxwwFfpyH"
   },
   "outputs": [],
   "source": [
    "import numpy as np\n",
    "import tensorflow as tf\n",
    "from tensorflow import keras"
   ]
  },
  {
   "cell_type": "code",
   "execution_count": null,
   "metadata": {
    "id": "JDjTnVW-fpyH"
   },
   "outputs": [],
   "source": [
    "class LNSimpleRNNCell(keras.layers.Layer):\n",
    "    def __init__(self, units, activation='tanh', **kwargs):\n",
    "        super().__init__(**kwargs)\n",
    "        self.state_size = units\n",
    "        self.output_size = units\n",
    "        self.simple_rnn_cell = keras.layers.SimpleRNNCell(units, activation=None)\n",
    "        self.layer_norm = keras.layers.LayerNormalization()\n",
    "        self.activation = keras.activations.get(activation)\n",
    "    def call(self, inputs, states):\n",
    "        outputs, new_states = self.simple_rnn_cell(inputs, states)\n",
    "        norm_outputs = self.activation(self.layer_norm(outputs))\n",
    "        return norm_outputs, [norm_outputs]"
   ]
  },
  {
   "cell_type": "code",
   "execution_count": null,
   "metadata": {
    "id": "YCl-AQ4pfpyI"
   },
   "outputs": [],
   "source": [
    "model = keras.models.Sequential([\n",
    "    keras.layers.RNN(LNSimpleRNNCell(20), return_sequences=True, \n",
    "                    input_shape=[None, 1]),\n",
    "    keras.layers.RNN(LNSimpleRNNCell(20), return_sequences=True),\n",
    "    keras.layers.TimeDistributed(keras.layers.Dense(10))\n",
    "])"
   ]
  },
  {
   "cell_type": "code",
   "execution_count": null,
   "metadata": {
    "id": "Cqud5zAufpyI"
   },
   "outputs": [],
   "source": [
    "keras.backend.clear_session()"
   ]
  },
  {
   "cell_type": "code",
   "execution_count": null,
   "metadata": {
    "id": "irfcf5AmfpyI"
   },
   "outputs": [],
   "source": [
    "model = keras.models.Sequential([\n",
    "    keras.layers.LSTM(20, return_sequences=True, input_shape=[None, 1]),\n",
    "    keras.layers.LSTM(20, return_sequences=True),\n",
    "    keras.layers.TimeDistributed(keras.layers.Dense(10))\n",
    "])"
   ]
  },
  {
   "cell_type": "code",
   "execution_count": null,
   "metadata": {
    "id": "YDJCg605fpyI"
   },
   "outputs": [],
   "source": [
    "model = keras.models.Sequential([\n",
    "    keras.layers.RNN(keras.layers.LSTMCell(20), return_sequences=True, \n",
    "                     input_shape=[None, 1]),\n",
    "    keras.layers.RNN(keras.layers.LSTMCell(20), return_sequences=True),\n",
    "    keras.layers.TimeDistributed(keras.layers.Dense(10))\n",
    "])"
   ]
  },
  {
   "cell_type": "code",
   "execution_count": null,
   "metadata": {
    "id": "qst9x6SxfpyI"
   },
   "outputs": [],
   "source": [
    "import numpy as np\n",
    "import matplotlib.pyplot as plt\n",
    "import tensorflow as tf\n",
    "from tensorflow import keras"
   ]
  },
  {
   "cell_type": "code",
   "execution_count": null,
   "metadata": {
    "id": "3zHXf35UfpyJ"
   },
   "outputs": [],
   "source": [
    "def generate_time_series(batch_size, n_steps):\n",
    "    freq1, freq2, offset1, offset2 = np.random.rand(4, batch_size, 1)\n",
    "    time = np.linspace(0, 1, n_steps)\n",
    "    series = 0.5 * np.sin((time - offset1) * (freq1 * 10 + 10))\n",
    "    series += 0.2 * np.sin((time - offset2) * (freq2 * 20 + 20))\n",
    "    series += 0.1 * (np.random.rand(batch_size, n_steps) - 0.5)\n",
    "    return series[...,np.newaxis].astype(np.float32)\n",
    "\n",
    "n_steps = 50\n",
    "series = generate_time_series(10000, n_steps + 10)\n",
    "\n",
    "x_train, y_train = series[:7000, :n_steps], series[:7000, -10:, 0]\n",
    "x_valid, y_valid = series[7000:9000, :n_steps], series[7000:9000, -10:, 0]\n",
    "x_test, y_test = series[9000:, :n_steps], series[9000:, -10:, 0]\n",
    "\n",
    "y = np.empty((10000, n_steps, 10))\n",
    "for step_ahead in range(1, 10 + 1):\n",
    "    y[:, :, step_ahead - 1] = series[:, step_ahead:step_ahead + n_steps, 0]\n",
    "y_train = y[:7000]\n",
    "y_valid = y[7000:9000]\n",
    "y_test = y[9000:]"
   ]
  },
  {
   "cell_type": "code",
   "execution_count": null,
   "metadata": {
    "id": "p0X_pt7zfpyJ",
    "outputId": "831a5a31-756b-4982-988b-600f53106ede"
   },
   "outputs": [
    {
     "data": {
      "text/plain": [
       "(7000, 50, 1)"
      ]
     },
     "execution_count": 15,
     "metadata": {
      "tags": []
     },
     "output_type": "execute_result"
    }
   ],
   "source": [
    "x_train.shape"
   ]
  },
  {
   "cell_type": "code",
   "execution_count": null,
   "metadata": {
    "id": "y8vVww8KfpyJ"
   },
   "outputs": [],
   "source": [
    "model = keras.models.Sequential([\n",
    "    keras.layers.GRU(20, return_sequences=True, input_shape=[None, 1]),\n",
    "    keras.layers.GRU(20, return_sequences=True),\n",
    "    keras.layers.TimeDistributed(keras.layers.Dense(10))\n",
    "])"
   ]
  },
  {
   "cell_type": "code",
   "execution_count": null,
   "metadata": {
    "id": "4HerECuOfpyK"
   },
   "outputs": [],
   "source": [
    "def last_time_step_mse(y_true, y_pred):\n",
    "    return keras.metrics.mean_squared_error(y_true[:, -1], y_pred[:, -1])\n",
    "\n",
    "optimizer = keras.optimizers.Adam(lr=0.01)\n",
    "model.compile(loss='mse', optimizer=optimizer, metrics=[last_time_step_mse])"
   ]
  },
  {
   "cell_type": "code",
   "execution_count": null,
   "metadata": {
    "id": "L83cSoacfpyK",
    "outputId": "f2c3d486-2e51-40bc-e390-c3f6aaff6191"
   },
   "outputs": [
    {
     "name": "stdout",
     "output_type": "stream",
     "text": [
      "Epoch 1/20\n",
      "219/219 [==============================] - 7s 22ms/step - loss: 0.0626 - last_time_step_mse: 0.0541 - val_loss: 0.0340 - val_last_time_step_mse: 0.0217\n",
      "Epoch 2/20\n",
      "219/219 [==============================] - 4s 19ms/step - loss: 0.0308 - last_time_step_mse: 0.0179 - val_loss: 0.0247 - val_last_time_step_mse: 0.0114\n",
      "Epoch 3/20\n",
      "219/219 [==============================] - 4s 19ms/step - loss: 0.0231 - last_time_step_mse: 0.0091 - val_loss: 0.0196 - val_last_time_step_mse: 0.0067\n",
      "Epoch 4/20\n",
      "219/219 [==============================] - 4s 20ms/step - loss: 0.0192 - last_time_step_mse: 0.0061 - val_loss: 0.0183 - val_last_time_step_mse: 0.0063\n",
      "Epoch 5/20\n",
      "219/219 [==============================] - 4s 20ms/step - loss: 0.0176 - last_time_step_mse: 0.0055 - val_loss: 0.0169 - val_last_time_step_mse: 0.0049\n",
      "Epoch 6/20\n",
      "219/219 [==============================] - 4s 20ms/step - loss: 0.0168 - last_time_step_mse: 0.0050 - val_loss: 0.0169 - val_last_time_step_mse: 0.0051\n",
      "Epoch 7/20\n",
      "219/219 [==============================] - 4s 20ms/step - loss: 0.0161 - last_time_step_mse: 0.0046 - val_loss: 0.0157 - val_last_time_step_mse: 0.0041\n",
      "Epoch 8/20\n",
      "219/219 [==============================] - 4s 20ms/step - loss: 0.0157 - last_time_step_mse: 0.0043 - val_loss: 0.0155 - val_last_time_step_mse: 0.0043\n",
      "Epoch 9/20\n",
      "219/219 [==============================] - 4s 20ms/step - loss: 0.0155 - last_time_step_mse: 0.0041 - val_loss: 0.0156 - val_last_time_step_mse: 0.0041\n",
      "Epoch 10/20\n",
      "219/219 [==============================] - 4s 20ms/step - loss: 0.0155 - last_time_step_mse: 0.0043 - val_loss: 0.0152 - val_last_time_step_mse: 0.0042\n",
      "Epoch 11/20\n",
      "219/219 [==============================] - 4s 20ms/step - loss: 0.0150 - last_time_step_mse: 0.0043 - val_loss: 0.0149 - val_last_time_step_mse: 0.0037\n",
      "Epoch 12/20\n",
      "219/219 [==============================] - 4s 20ms/step - loss: 0.0149 - last_time_step_mse: 0.0038 - val_loss: 0.0153 - val_last_time_step_mse: 0.0047\n",
      "Epoch 13/20\n",
      "219/219 [==============================] - 4s 20ms/step - loss: 0.0146 - last_time_step_mse: 0.0038 - val_loss: 0.0147 - val_last_time_step_mse: 0.0037\n",
      "Epoch 14/20\n",
      "219/219 [==============================] - 5s 21ms/step - loss: 0.0147 - last_time_step_mse: 0.0038 - val_loss: 0.0142 - val_last_time_step_mse: 0.0033\n",
      "Epoch 15/20\n",
      "219/219 [==============================] - 5s 21ms/step - loss: 0.0144 - last_time_step_mse: 0.0035 - val_loss: 0.0141 - val_last_time_step_mse: 0.0034\n",
      "Epoch 16/20\n",
      "219/219 [==============================] - 5s 21ms/step - loss: 0.0145 - last_time_step_mse: 0.0039 - val_loss: 0.0145 - val_last_time_step_mse: 0.0038\n",
      "Epoch 17/20\n",
      "219/219 [==============================] - 5s 21ms/step - loss: 0.0141 - last_time_step_mse: 0.0035 - val_loss: 0.0142 - val_last_time_step_mse: 0.0034\n",
      "Epoch 18/20\n",
      "219/219 [==============================] - 5s 21ms/step - loss: 0.0142 - last_time_step_mse: 0.0036 - val_loss: 0.0142 - val_last_time_step_mse: 0.0036\n",
      "Epoch 19/20\n",
      "219/219 [==============================] - 5s 21ms/step - loss: 0.0140 - last_time_step_mse: 0.0034 - val_loss: 0.0139 - val_last_time_step_mse: 0.0033\n",
      "Epoch 20/20\n",
      "219/219 [==============================] - 5s 21ms/step - loss: 0.0141 - last_time_step_mse: 0.0035 - val_loss: 0.0141 - val_last_time_step_mse: 0.0034\n"
     ]
    }
   ],
   "source": [
    "history = model.fit(x_train, y_train, epochs=20, validation_data=(x_valid, y_valid))"
   ]
  },
  {
   "cell_type": "code",
   "execution_count": null,
   "metadata": {
    "id": "ob5C4Dr9fpyK",
    "outputId": "01f02965-61c3-45b4-f0b3-80460f9e3275"
   },
   "outputs": [
    {
     "data": {
      "text/plain": [
       "dict_keys(['loss', 'last_time_step_mse', 'val_loss', 'val_last_time_step_mse'])"
      ]
     },
     "execution_count": 9,
     "metadata": {
      "tags": []
     },
     "output_type": "execute_result"
    }
   ],
   "source": [
    "history.history.keys()"
   ]
  },
  {
   "cell_type": "code",
   "execution_count": null,
   "metadata": {
    "id": "llz_n4HvfpyK",
    "outputId": "e1c5410e-9fee-4e9e-9b95-2f98896db6e7"
   },
   "outputs": [
    {
     "name": "stdout",
     "output_type": "stream",
     "text": [
      "32/32 [==============================] - 0s 4ms/step - loss: 0.0140 - last_time_step_mse: 0.0034\n"
     ]
    },
    {
     "data": {
      "text/plain": [
       "[0.014039264991879463, 0.0033989588264375925]"
      ]
     },
     "execution_count": 10,
     "metadata": {
      "tags": []
     },
     "output_type": "execute_result"
    }
   ],
   "source": [
    "model.evaluate(x_test, y_test)"
   ]
  },
  {
   "cell_type": "code",
   "execution_count": null,
   "metadata": {
    "id": "XOCtoVbkfpyL",
    "outputId": "3d1b3d48-c3ec-48d3-a985-32da05ae324c"
   },
   "outputs": [
    {
     "data": {
      "image/png": "[encoded data removed]",
      "text/plain": [
       "<Figure size 432x288 with 1 Axes>"
      ]
     },
     "metadata": {
      "needs_background": "light",
      "tags": []
     },
     "output_type": "display_data"
    }
   ],
   "source": [
    "plt.plot(history.history['last_time_step_mse'], \"b-o\", label='training_loss')\n",
    "plt.plot(history.history['val_last_time_step_mse'], \"r-o\", label='validation_loss')\n",
    "plt.legend()\n",
    "plt.show()"
   ]
  },
  {
   "cell_type": "code",
   "execution_count": null,
   "metadata": {
    "id": "9NSq3Y0ffpyL"
   },
   "outputs": [],
   "source": [
    "keras.backend.clear_session()"
   ]
  },
  {
   "cell_type": "code",
   "execution_count": null,
   "metadata": {
    "id": "nD6Yf_-QfpyL"
   },
   "outputs": [],
   "source": [
    "model = keras.models.Sequential([\n",
    "    keras.layers.Conv1D(filters=20, kernel_size=4, strides=2, padding='valid',\n",
    "                       input_shape=[None, 1]),\n",
    "    keras.layers.GRU(20, return_sequences=True),\n",
    "    keras.layers.GRU(20, return_sequences=True),\n",
    "    keras.layers.TimeDistributed(keras.layers.Dense(10))\n",
    "])"
   ]
  },
  {
   "cell_type": "code",
   "execution_count": null,
   "metadata": {
    "id": "HU5PNefrfpyL",
    "outputId": "0db3104f-a394-45a0-ef7c-6621c1f45932"
   },
   "outputs": [
    {
     "name": "stdout",
     "output_type": "stream",
     "text": [
      "Model: \"sequential\"\n",
      "_________________________________________________________________\n",
      "Layer (type)                 Output Shape              Param #   \n",
      "=================================================================\n",
      "conv1d (Conv1D)              (None, None, 20)          100       \n",
      "_________________________________________________________________\n",
      "gru (GRU)                    (None, None, 20)          2520      \n",
      "_________________________________________________________________\n",
      "gru_1 (GRU)                  (None, None, 20)          2520      \n",
      "_________________________________________________________________\n",
      "time_distributed (TimeDistri (None, None, 10)          210       \n",
      "=================================================================\n",
      "Total params: 5,350\n",
      "Trainable params: 5,350\n",
      "Non-trainable params: 0\n",
      "_________________________________________________________________\n"
     ]
    }
   ],
   "source": [
    "model.summary()"
   ]
  },
  {
   "cell_type": "code",
   "execution_count": null,
   "metadata": {
    "id": "HS62l7rkfpyL"
   },
   "outputs": [],
   "source": [
    "def last_time_step_mse(y_true, y_pred):\n",
    "    return keras.metrics.mean_squared_error(y_true[:, -1], y_pred[:, -1])\n",
    "\n",
    "optimizer = keras.optimizers.Adam(lr=0.01)\n",
    "model.compile(loss='mse', optimizer=optimizer, metrics=[last_time_step_mse])"
   ]
  },
  {
   "cell_type": "code",
   "execution_count": null,
   "metadata": {
    "id": "RJ4H3Q7LfpyL",
    "outputId": "8d396cb7-9b30-4ffe-b700-f6756498bf31"
   },
   "outputs": [
    {
     "name": "stdout",
     "output_type": "stream",
     "text": [
      "Epoch 1/20\n",
      "219/219 [==============================] - 5s 13ms/step - loss: 0.0576 - last_time_step_mse: 0.0514 - val_loss: 0.0240 - val_last_time_step_mse: 0.0148\n",
      "Epoch 2/20\n",
      "219/219 [==============================] - 2s 11ms/step - loss: 0.0228 - last_time_step_mse: 0.0121 - val_loss: 0.0173 - val_last_time_step_mse: 0.0068\n",
      "Epoch 3/20\n",
      "219/219 [==============================] - 2s 11ms/step - loss: 0.0170 - last_time_step_mse: 0.0062 - val_loss: 0.0148 - val_last_time_step_mse: 0.0050\n",
      "Epoch 4/20\n",
      "219/219 [==============================] - 2s 11ms/step - loss: 0.0150 - last_time_step_mse: 0.0053 - val_loss: 0.0137 - val_last_time_step_mse: 0.0041\n",
      "Epoch 5/20\n",
      "219/219 [==============================] - 2s 11ms/step - loss: 0.0140 - last_time_step_mse: 0.0046 - val_loss: 0.0138 - val_last_time_step_mse: 0.0049\n",
      "Epoch 6/20\n",
      "219/219 [==============================] - 2s 11ms/step - loss: 0.0134 - last_time_step_mse: 0.0046 - val_loss: 0.0130 - val_last_time_step_mse: 0.0044\n",
      "Epoch 7/20\n",
      "219/219 [==============================] - 2s 11ms/step - loss: 0.0130 - last_time_step_mse: 0.0042 - val_loss: 0.0126 - val_last_time_step_mse: 0.0045\n",
      "Epoch 8/20\n",
      "219/219 [==============================] - 2s 11ms/step - loss: 0.0124 - last_time_step_mse: 0.0041 - val_loss: 0.0122 - val_last_time_step_mse: 0.0044\n",
      "Epoch 9/20\n",
      "219/219 [==============================] - 2s 11ms/step - loss: 0.0120 - last_time_step_mse: 0.0038 - val_loss: 0.0122 - val_last_time_step_mse: 0.0047\n",
      "Epoch 10/20\n",
      "219/219 [==============================] - 2s 11ms/step - loss: 0.0118 - last_time_step_mse: 0.0038 - val_loss: 0.0113 - val_last_time_step_mse: 0.0033\n",
      "Epoch 11/20\n",
      "219/219 [==============================] - 2s 11ms/step - loss: 0.0115 - last_time_step_mse: 0.0036 - val_loss: 0.0117 - val_last_time_step_mse: 0.0039\n",
      "Epoch 12/20\n",
      "219/219 [==============================] - 2s 11ms/step - loss: 0.0113 - last_time_step_mse: 0.0036 - val_loss: 0.0110 - val_last_time_step_mse: 0.0034\n",
      "Epoch 13/20\n",
      "219/219 [==============================] - 2s 11ms/step - loss: 0.0111 - last_time_step_mse: 0.0035 - val_loss: 0.0109 - val_last_time_step_mse: 0.0033\n",
      "Epoch 14/20\n",
      "219/219 [==============================] - 2s 11ms/step - loss: 0.0110 - last_time_step_mse: 0.0034 - val_loss: 0.0109 - val_last_time_step_mse: 0.0034\n",
      "Epoch 15/20\n",
      "219/219 [==============================] - 2s 11ms/step - loss: 0.0109 - last_time_step_mse: 0.0036 - val_loss: 0.0110 - val_last_time_step_mse: 0.0038\n",
      "Epoch 16/20\n",
      "219/219 [==============================] - 2s 11ms/step - loss: 0.0108 - last_time_step_mse: 0.0034 - val_loss: 0.0106 - val_last_time_step_mse: 0.0032\n",
      "Epoch 17/20\n",
      "219/219 [==============================] - 2s 11ms/step - loss: 0.0107 - last_time_step_mse: 0.0034 - val_loss: 0.0111 - val_last_time_step_mse: 0.0039\n",
      "Epoch 18/20\n",
      "219/219 [==============================] - 2s 11ms/step - loss: 0.0107 - last_time_step_mse: 0.0033 - val_loss: 0.0104 - val_last_time_step_mse: 0.0031\n",
      "Epoch 19/20\n",
      "219/219 [==============================] - 2s 11ms/step - loss: 0.0104 - last_time_step_mse: 0.0032 - val_loss: 0.0106 - val_last_time_step_mse: 0.0033\n",
      "Epoch 20/20\n",
      "219/219 [==============================] - 2s 11ms/step - loss: 0.0105 - last_time_step_mse: 0.0033 - val_loss: 0.0115 - val_last_time_step_mse: 0.0045\n"
     ]
    }
   ],
   "source": [
    "history = model.fit(x_train, y_train[:, 3::2], epochs=20, validation_data=(x_valid, y_valid[:, 3::2]))"
   ]
  },
  {
   "cell_type": "code",
   "execution_count": null,
   "metadata": {
    "id": "NjngcceBfpyM",
    "outputId": "2eb8487d-351c-4f54-90e6-9dbe81ff8e82"
   },
   "outputs": [
    {
     "name": "stdout",
     "output_type": "stream",
     "text": [
      "32/32 [==============================] - 0s 2ms/step - loss: 0.0114 - last_time_step_mse: 0.0042\n"
     ]
    },
    {
     "data": {
      "text/plain": [
       "[0.011416233144700527, 0.004248199053108692]"
      ]
     },
     "execution_count": 28,
     "metadata": {
      "tags": []
     },
     "output_type": "execute_result"
    }
   ],
   "source": [
    "model.evaluate(x_test, y_test[:, 3::2])"
   ]
  },
  {
   "cell_type": "code",
   "execution_count": null,
   "metadata": {
    "id": "Q34kif8cfpyM",
    "outputId": "30022c18-64a4-49f9-a91b-0f08534ecf7b"
   },
   "outputs": [
    {
     "data": {
      "image/png": "[encoded data removed]",
      "text/plain": [
       "<Figure size 432x288 with 1 Axes>"
      ]
     },
     "metadata": {
      "needs_background": "light",
      "tags": []
     },
     "output_type": "display_data"
    }
   ],
   "source": [
    "plt.plot(history.history['last_time_step_mse'], \"b-o\", label='training_loss')\n",
    "plt.plot(history.history['val_last_time_step_mse'], \"r-o\", label='validation_loss')\n",
    "plt.legend()\n",
    "plt.show()"
   ]
  },
  {
   "cell_type": "code",
   "execution_count": null,
   "metadata": {
    "id": "B-NlQCcHfpyM"
   },
   "outputs": [],
   "source": [
    "keras.backend.clear_session()"
   ]
  },
  {
   "cell_type": "code",
   "execution_count": null,
   "metadata": {
    "id": "b7ioNAUlfpyM"
   },
   "outputs": [],
   "source": [
    "model = keras.models.Sequential()\n",
    "model.add(keras.layers.InputLayer(input_shape=[None, 1]))\n",
    "for rate in (1, 2, 4, 8) * 2:\n",
    "    model.add(keras.layers.Conv1D(filters=20, kernel_size=2, padding='causal',\n",
    "                                 activation='relu', dilation_rate=rate))\n",
    "model.add(keras.layers.Conv1D(filters=10, kernel_size=1))\n",
    "optimizer = keras.optimizers.Adam(lr=0.01)\n",
    "model.compile(loss='mse', optimizer=optimizer, metrics=[last_time_step_mse])"
   ]
  },
  {
   "cell_type": "code",
   "execution_count": null,
   "metadata": {
    "id": "WEB0FFsSfpyM",
    "outputId": "056a8a6e-c492-4077-81d2-2810e3637e6f"
   },
   "outputs": [
    {
     "name": "stdout",
     "output_type": "stream",
     "text": [
      "Epoch 1/20\n",
      "219/219 [==============================] - 2s 6ms/step - loss: 0.0700 - last_time_step_mse: 0.0611 - val_loss: 0.0275 - val_last_time_step_mse: 0.0161\n",
      "Epoch 2/20\n",
      "219/219 [==============================] - 1s 5ms/step - loss: 0.0269 - last_time_step_mse: 0.0155 - val_loss: 0.0249 - val_last_time_step_mse: 0.0139\n",
      "Epoch 3/20\n",
      "219/219 [==============================] - 1s 5ms/step - loss: 0.0243 - last_time_step_mse: 0.0131 - val_loss: 0.0221 - val_last_time_step_mse: 0.0108\n",
      "Epoch 4/20\n",
      "219/219 [==============================] - 1s 5ms/step - loss: 0.0226 - last_time_step_mse: 0.0113 - val_loss: 0.0209 - val_last_time_step_mse: 0.0097\n",
      "Epoch 5/20\n",
      "219/219 [==============================] - 1s 5ms/step - loss: 0.0214 - last_time_step_mse: 0.0103 - val_loss: 0.0202 - val_last_time_step_mse: 0.0087\n",
      "Epoch 6/20\n",
      "219/219 [==============================] - 1s 5ms/step - loss: 0.0197 - last_time_step_mse: 0.0084 - val_loss: 0.0189 - val_last_time_step_mse: 0.0076\n",
      "Epoch 7/20\n",
      "219/219 [==============================] - 1s 5ms/step - loss: 0.0187 - last_time_step_mse: 0.0077 - val_loss: 0.0180 - val_last_time_step_mse: 0.0069\n",
      "Epoch 8/20\n",
      "219/219 [==============================] - 1s 5ms/step - loss: 0.0187 - last_time_step_mse: 0.0075 - val_loss: 0.0182 - val_last_time_step_mse: 0.0070\n",
      "Epoch 9/20\n",
      "219/219 [==============================] - 1s 5ms/step - loss: 0.0182 - last_time_step_mse: 0.0071 - val_loss: 0.0170 - val_last_time_step_mse: 0.0061\n",
      "Epoch 10/20\n",
      "219/219 [==============================] - 1s 5ms/step - loss: 0.0177 - last_time_step_mse: 0.0067 - val_loss: 0.0175 - val_last_time_step_mse: 0.0065\n",
      "Epoch 11/20\n",
      "219/219 [==============================] - 1s 5ms/step - loss: 0.0173 - last_time_step_mse: 0.0065 - val_loss: 0.0170 - val_last_time_step_mse: 0.0060\n",
      "Epoch 12/20\n",
      "219/219 [==============================] - 1s 5ms/step - loss: 0.0172 - last_time_step_mse: 0.0064 - val_loss: 0.0182 - val_last_time_step_mse: 0.0074\n",
      "Epoch 13/20\n",
      "219/219 [==============================] - 1s 5ms/step - loss: 0.0175 - last_time_step_mse: 0.0068 - val_loss: 0.0178 - val_last_time_step_mse: 0.0068\n",
      "Epoch 14/20\n",
      "219/219 [==============================] - 1s 5ms/step - loss: 0.0168 - last_time_step_mse: 0.0062 - val_loss: 0.0180 - val_last_time_step_mse: 0.0073\n",
      "Epoch 15/20\n",
      "219/219 [==============================] - 1s 5ms/step - loss: 0.0168 - last_time_step_mse: 0.0060 - val_loss: 0.0167 - val_last_time_step_mse: 0.0059\n",
      "Epoch 16/20\n",
      "219/219 [==============================] - 1s 5ms/step - loss: 0.0167 - last_time_step_mse: 0.0062 - val_loss: 0.0168 - val_last_time_step_mse: 0.0058\n",
      "Epoch 17/20\n",
      "219/219 [==============================] - 1s 5ms/step - loss: 0.0165 - last_time_step_mse: 0.0062 - val_loss: 0.0165 - val_last_time_step_mse: 0.0061\n",
      "Epoch 18/20\n",
      "219/219 [==============================] - 1s 5ms/step - loss: 0.0164 - last_time_step_mse: 0.0058 - val_loss: 0.0162 - val_last_time_step_mse: 0.0056\n",
      "Epoch 19/20\n",
      "219/219 [==============================] - 1s 5ms/step - loss: 0.0163 - last_time_step_mse: 0.0060 - val_loss: 0.0174 - val_last_time_step_mse: 0.0074\n",
      "Epoch 20/20\n",
      "219/219 [==============================] - 1s 5ms/step - loss: 0.0164 - last_time_step_mse: 0.0062 - val_loss: 0.0162 - val_last_time_step_mse: 0.0054\n"
     ]
    }
   ],
   "source": [
    "history = model.fit(x_train, y_train, validation_data=(x_valid, y_valid), epochs=20)"
   ]
  },
  {
   "cell_type": "code",
   "execution_count": null,
   "metadata": {
    "id": "pOycbklafpyN",
    "outputId": "ec027951-d247-49d7-81aa-8d28d868dc4d"
   },
   "outputs": [
    {
     "name": "stdout",
     "output_type": "stream",
     "text": [
      "32/32 [==============================] - 0s 2ms/step - loss: 0.0160 - last_time_step_mse: 0.0051\n"
     ]
    },
    {
     "data": {
      "text/plain": [
       "[0.016047779470682144, 0.005101033020764589]"
      ]
     },
     "execution_count": 33,
     "metadata": {
      "tags": []
     },
     "output_type": "execute_result"
    }
   ],
   "source": [
    "model.evaluate(x_test, y_test)"
   ]
  },
  {
   "cell_type": "code",
   "execution_count": null,
   "metadata": {
    "id": "Xbi0et25fpyN",
    "outputId": "798689a1-9734-4392-ec96-12558adc73f0"
   },
   "outputs": [
    {
     "data": {
      "image/png": "[encoded data removed]",
      "text/plain": [
       "<Figure size 432x288 with 1 Axes>"
      ]
     },
     "metadata": {
      "needs_background": "light",
      "tags": []
     },
     "output_type": "display_data"
    }
   ],
   "source": [
    "plt.plot(history.history['last_time_step_mse'], \"b-o\", label='training_loss')\n",
    "plt.plot(history.history['val_last_time_step_mse'], \"r-o\", label='validation_loss')\n",
    "plt.legend()\n",
    "plt.show()"
   ]
  },
  {
   "cell_type": "markdown",
   "metadata": {
    "id": "9ZCW-dbLfpyN"
   },
   "source": [
    "# 연습문제 9번 SketchRNN 데이터셋으로 분류모델"
   ]
  },
  {
   "cell_type": "code",
   "execution_count": 238,
   "metadata": {
    "id": "oSPlBEopfpyN"
   },
   "outputs": [],
   "source": [
    "import tensorflow as tf\n",
    "import numpy as np\n",
    "from tensorflow import keras"
   ]
  },
  {
   "cell_type": "code",
   "execution_count": 239,
   "metadata": {
    "id": "Kseh9ZJ5fpyO"
   },
   "outputs": [],
   "source": [
    "DOWNLOAD_ROOT = \"http://download.tensorflow.org/data/\"\n",
    "FILENAME = \"quickdraw_tutorial_dataset_v1.tar.gz\"\n",
    "filepath = keras.utils.get_file(FILENAME,\n",
    "                                DOWNLOAD_ROOT + FILENAME,\n",
    "                                cache_subdir=\"datasets/quickdraw\",\n",
    "                                extract=True)"
   ]
  },
  {
   "cell_type": "code",
   "execution_count": 240,
   "metadata": {
    "id": "q3wA7DpSfpyO"
   },
   "outputs": [],
   "source": [
    "from pathlib import Path"
   ]
  },
  {
   "cell_type": "code",
   "execution_count": 241,
   "metadata": {
    "id": "euHRbSNofpyO",
    "outputId": "efe33087-2cf9-4298-bb5a-cf1743d35ae6"
   },
   "outputs": [
    {
     "data": {
      "text/plain": [
       "'C:\\\\Users\\\\sinjy\\\\.keras\\\\datasets/quickdraw\\\\quickdraw_tutorial_dataset_v1.tar.gz'"
      ]
     },
     "execution_count": 241,
     "metadata": {},
     "output_type": "execute_result"
    }
   ],
   "source": [
    "filepath"
   ]
  },
  {
   "cell_type": "code",
   "execution_count": 242,
   "metadata": {
    "id": "ripngWBIfpyO",
    "outputId": "3ad054e5-5373-470d-d28e-bc5be70d0848"
   },
   "outputs": [
    {
     "data": {
      "text/plain": [
       "WindowsPath('C:/Users/sinjy/.keras/datasets/quickdraw')"
      ]
     },
     "execution_count": 242,
     "metadata": {},
     "output_type": "execute_result"
    }
   ],
   "source": [
    "quickdraw_dir = Path(filepath).parent\n",
    "quickdraw_dir"
   ]
  },
  {
   "cell_type": "code",
   "execution_count": 243,
   "metadata": {
    "id": "pyq9l8rdfpyO",
    "outputId": "7d6a44a0-ce66-4b02-f9f2-d52b1d0a41e8"
   },
   "outputs": [
    {
     "data": {
      "text/plain": [
       "[WindowsPath('C:/Users/sinjy/.keras/datasets/quickdraw/eval.tfrecord-00000-of-00010'),\n",
       " WindowsPath('C:/Users/sinjy/.keras/datasets/quickdraw/eval.tfrecord-00001-of-00010'),\n",
       " WindowsPath('C:/Users/sinjy/.keras/datasets/quickdraw/eval.tfrecord-00002-of-00010'),\n",
       " WindowsPath('C:/Users/sinjy/.keras/datasets/quickdraw/eval.tfrecord-00003-of-00010'),\n",
       " WindowsPath('C:/Users/sinjy/.keras/datasets/quickdraw/eval.tfrecord-00004-of-00010'),\n",
       " WindowsPath('C:/Users/sinjy/.keras/datasets/quickdraw/eval.tfrecord-00005-of-00010'),\n",
       " WindowsPath('C:/Users/sinjy/.keras/datasets/quickdraw/eval.tfrecord-00006-of-00010'),\n",
       " WindowsPath('C:/Users/sinjy/.keras/datasets/quickdraw/eval.tfrecord-00007-of-00010'),\n",
       " WindowsPath('C:/Users/sinjy/.keras/datasets/quickdraw/eval.tfrecord-00008-of-00010'),\n",
       " WindowsPath('C:/Users/sinjy/.keras/datasets/quickdraw/eval.tfrecord-00009-of-00010'),\n",
       " WindowsPath('C:/Users/sinjy/.keras/datasets/quickdraw/eval.tfrecord.classes'),\n",
       " WindowsPath('C:/Users/sinjy/.keras/datasets/quickdraw/quickdraw_tutorial_dataset_v1.tar.gz'),\n",
       " WindowsPath('C:/Users/sinjy/.keras/datasets/quickdraw/training.tfrecord-00000-of-00010'),\n",
       " WindowsPath('C:/Users/sinjy/.keras/datasets/quickdraw/training.tfrecord-00001-of-00010'),\n",
       " WindowsPath('C:/Users/sinjy/.keras/datasets/quickdraw/training.tfrecord-00002-of-00010'),\n",
       " WindowsPath('C:/Users/sinjy/.keras/datasets/quickdraw/training.tfrecord-00003-of-00010'),\n",
       " WindowsPath('C:/Users/sinjy/.keras/datasets/quickdraw/training.tfrecord-00004-of-00010'),\n",
       " WindowsPath('C:/Users/sinjy/.keras/datasets/quickdraw/training.tfrecord-00005-of-00010'),\n",
       " WindowsPath('C:/Users/sinjy/.keras/datasets/quickdraw/training.tfrecord-00006-of-00010'),\n",
       " WindowsPath('C:/Users/sinjy/.keras/datasets/quickdraw/training.tfrecord-00007-of-00010'),\n",
       " WindowsPath('C:/Users/sinjy/.keras/datasets/quickdraw/training.tfrecord-00008-of-00010'),\n",
       " WindowsPath('C:/Users/sinjy/.keras/datasets/quickdraw/training.tfrecord-00009-of-00010'),\n",
       " WindowsPath('C:/Users/sinjy/.keras/datasets/quickdraw/training.tfrecord.classes')]"
      ]
     },
     "execution_count": 243,
     "metadata": {},
     "output_type": "execute_result"
    }
   ],
   "source": [
    "list(quickdraw_dir.glob(\"*\"))"
   ]
  },
  {
   "cell_type": "code",
   "execution_count": 244,
   "metadata": {
    "id": "Umh4scA9fpyP"
   },
   "outputs": [],
   "source": [
    "train_files = sorted([str(path) for path in quickdraw_dir.glob(\"training.tfrecord-*\")])\n",
    "eval_files = sorted([str(path) for path in quickdraw_dir.glob(\"eval.tfrecord-*\")])"
   ]
  },
  {
   "cell_type": "code",
   "execution_count": 245,
   "metadata": {
    "id": "FYFrStYbfpyP",
    "outputId": "b9d8b52d-57fd-46f1-e19c-b1854b4509c9"
   },
   "outputs": [
    {
     "data": {
      "text/plain": [
       "['C:\\\\Users\\\\sinjy\\\\.keras\\\\datasets\\\\quickdraw\\\\training.tfrecord-00000-of-00010',\n",
       " 'C:\\\\Users\\\\sinjy\\\\.keras\\\\datasets\\\\quickdraw\\\\training.tfrecord-00001-of-00010',\n",
       " 'C:\\\\Users\\\\sinjy\\\\.keras\\\\datasets\\\\quickdraw\\\\training.tfrecord-00002-of-00010',\n",
       " 'C:\\\\Users\\\\sinjy\\\\.keras\\\\datasets\\\\quickdraw\\\\training.tfrecord-00003-of-00010',\n",
       " 'C:\\\\Users\\\\sinjy\\\\.keras\\\\datasets\\\\quickdraw\\\\training.tfrecord-00004-of-00010',\n",
       " 'C:\\\\Users\\\\sinjy\\\\.keras\\\\datasets\\\\quickdraw\\\\training.tfrecord-00005-of-00010',\n",
       " 'C:\\\\Users\\\\sinjy\\\\.keras\\\\datasets\\\\quickdraw\\\\training.tfrecord-00006-of-00010',\n",
       " 'C:\\\\Users\\\\sinjy\\\\.keras\\\\datasets\\\\quickdraw\\\\training.tfrecord-00007-of-00010',\n",
       " 'C:\\\\Users\\\\sinjy\\\\.keras\\\\datasets\\\\quickdraw\\\\training.tfrecord-00008-of-00010',\n",
       " 'C:\\\\Users\\\\sinjy\\\\.keras\\\\datasets\\\\quickdraw\\\\training.tfrecord-00009-of-00010']"
      ]
     },
     "execution_count": 245,
     "metadata": {},
     "output_type": "execute_result"
    }
   ],
   "source": [
    "train_files"
   ]
  },
  {
   "cell_type": "code",
   "execution_count": 246,
   "metadata": {
    "id": "HKuq3ZFmfpyP",
    "outputId": "4f8a53f9-d7f6-444c-8258-6cfe09801b78"
   },
   "outputs": [
    {
     "data": {
      "text/plain": [
       "['C:\\\\Users\\\\sinjy\\\\.keras\\\\datasets\\\\quickdraw\\\\eval.tfrecord-00000-of-00010',\n",
       " 'C:\\\\Users\\\\sinjy\\\\.keras\\\\datasets\\\\quickdraw\\\\eval.tfrecord-00001-of-00010',\n",
       " 'C:\\\\Users\\\\sinjy\\\\.keras\\\\datasets\\\\quickdraw\\\\eval.tfrecord-00002-of-00010',\n",
       " 'C:\\\\Users\\\\sinjy\\\\.keras\\\\datasets\\\\quickdraw\\\\eval.tfrecord-00003-of-00010',\n",
       " 'C:\\\\Users\\\\sinjy\\\\.keras\\\\datasets\\\\quickdraw\\\\eval.tfrecord-00004-of-00010',\n",
       " 'C:\\\\Users\\\\sinjy\\\\.keras\\\\datasets\\\\quickdraw\\\\eval.tfrecord-00005-of-00010',\n",
       " 'C:\\\\Users\\\\sinjy\\\\.keras\\\\datasets\\\\quickdraw\\\\eval.tfrecord-00006-of-00010',\n",
       " 'C:\\\\Users\\\\sinjy\\\\.keras\\\\datasets\\\\quickdraw\\\\eval.tfrecord-00007-of-00010',\n",
       " 'C:\\\\Users\\\\sinjy\\\\.keras\\\\datasets\\\\quickdraw\\\\eval.tfrecord-00008-of-00010',\n",
       " 'C:\\\\Users\\\\sinjy\\\\.keras\\\\datasets\\\\quickdraw\\\\eval.tfrecord-00009-of-00010']"
      ]
     },
     "execution_count": 246,
     "metadata": {},
     "output_type": "execute_result"
    }
   ],
   "source": [
    "eval_files"
   ]
  },
  {
   "cell_type": "code",
   "execution_count": 247,
   "metadata": {
    "id": "sQ_FCGe8fpyP"
   },
   "outputs": [],
   "source": [
    "with open(quickdraw_dir / \"eval.tfrecord.classes\") as test_classes_file:\n",
    "    test_classes = test_classes_file.readlines()\n",
    "\n",
    "with open(quickdraw_dir / \"training.tfrecord.classes\") as train_classes_file:\n",
    "    train_classes = train_classes_file.readlines()"
   ]
  },
  {
   "cell_type": "code",
   "execution_count": 248,
   "metadata": {
    "id": "lOaPhDRafpyP",
    "outputId": "9857ae75-9e67-43b8-d478-a512b71bcacf"
   },
   "outputs": [
    {
     "data": {
      "text/plain": [
       "345"
      ]
     },
     "execution_count": 248,
     "metadata": {},
     "output_type": "execute_result"
    }
   ],
   "source": [
    "len(train_classes)"
   ]
  },
  {
   "cell_type": "code",
   "execution_count": 249,
   "metadata": {
    "id": "Z3w_PmuUfpyP",
    "outputId": "f0d0b37b-166e-497c-9b56-587e5b4b2c49"
   },
   "outputs": [
    {
     "data": {
      "text/plain": [
       "True"
      ]
     },
     "execution_count": 249,
     "metadata": {},
     "output_type": "execute_result"
    }
   ],
   "source": [
    "train_classes == test_classes"
   ]
  },
  {
   "cell_type": "code",
   "execution_count": 250,
   "metadata": {
    "id": "ual8KOQMfpyQ",
    "outputId": "f356b5d7-3870-4145-9c0d-3ca738820689"
   },
   "outputs": [
    {
     "data": {
      "text/plain": [
       "['garden hose\\n',\n",
       " 'lighter\\n',\n",
       " 'penguin\\n',\n",
       " 'tractor\\n',\n",
       " 'sheep\\n',\n",
       " 'skateboard\\n',\n",
       " 'mountain\\n',\n",
       " 'mouse\\n',\n",
       " 'chandelier\\n',\n",
       " 'guitar\\n',\n",
       " 'roller coaster\\n',\n",
       " 'owl\\n',\n",
       " 'toilet\\n',\n",
       " 'map\\n',\n",
       " 'snail\\n',\n",
       " 'yoga\\n',\n",
       " 'spoon\\n',\n",
       " 'camera\\n',\n",
       " 'telephone\\n',\n",
       " 'bench\\n',\n",
       " 'pig\\n',\n",
       " 'lion\\n',\n",
       " 'skull\\n',\n",
       " 'hand\\n',\n",
       " 'raccoon\\n',\n",
       " 'beard\\n',\n",
       " 'church\\n',\n",
       " 'animal migration\\n',\n",
       " 'whale\\n',\n",
       " 'sun\\n',\n",
       " 'washing machine\\n',\n",
       " 'airplane\\n',\n",
       " 'megaphone\\n',\n",
       " 'sleeping bag\\n',\n",
       " 'jail\\n',\n",
       " 'fire hydrant\\n',\n",
       " 'car\\n',\n",
       " 'barn\\n',\n",
       " 'swing set\\n',\n",
       " 'rake\\n',\n",
       " 'paintbrush\\n',\n",
       " 'van\\n',\n",
       " 'dragon\\n',\n",
       " 'sailboat\\n',\n",
       " 'compass\\n',\n",
       " 'duck\\n',\n",
       " 'hat\\n',\n",
       " 'kangaroo\\n',\n",
       " 'donut\\n',\n",
       " 'crocodile\\n',\n",
       " 'coffee cup\\n',\n",
       " 'cooler\\n',\n",
       " 'waterslide\\n',\n",
       " 'feather\\n',\n",
       " 'firetruck\\n',\n",
       " 'stereo\\n',\n",
       " 'leg\\n',\n",
       " 'tree\\n',\n",
       " 'pillow\\n',\n",
       " 'purse\\n',\n",
       " 'hourglass\\n',\n",
       " 'ear\\n',\n",
       " 'broccoli\\n',\n",
       " 'goatee\\n',\n",
       " 'moon\\n',\n",
       " 'bridge\\n',\n",
       " 'peas\\n',\n",
       " 'squiggle\\n',\n",
       " 'foot\\n',\n",
       " 'camouflage\\n',\n",
       " 'string bean\\n',\n",
       " 'pants\\n',\n",
       " 'lipstick\\n',\n",
       " 'jacket\\n',\n",
       " 'hockey puck\\n',\n",
       " 'truck\\n',\n",
       " 'table\\n',\n",
       " 'hammer\\n',\n",
       " 'The Great Wall of China\\n',\n",
       " 'paint can\\n',\n",
       " 'fireplace\\n',\n",
       " 'leaf\\n',\n",
       " 'apple\\n',\n",
       " 'beach\\n',\n",
       " 'windmill\\n',\n",
       " 'pear\\n',\n",
       " 'umbrella\\n',\n",
       " 'butterfly\\n',\n",
       " 'flower\\n',\n",
       " 'lighthouse\\n',\n",
       " 'parachute\\n',\n",
       " 'cow\\n',\n",
       " 'cat\\n',\n",
       " 'bottlecap\\n',\n",
       " 'elephant\\n',\n",
       " 'stethoscope\\n',\n",
       " 'river\\n',\n",
       " 'knife\\n',\n",
       " 'speedboat\\n',\n",
       " 'sweater\\n',\n",
       " 'axe\\n',\n",
       " 'tornado\\n',\n",
       " 'bulldozer\\n',\n",
       " 'microphone\\n',\n",
       " 'basketball\\n',\n",
       " 'crown\\n',\n",
       " 'rainbow\\n',\n",
       " 'cookie\\n',\n",
       " 'bathtub\\n',\n",
       " 'watermelon\\n',\n",
       " 'diving board\\n',\n",
       " 'remote control\\n',\n",
       " 'campfire\\n',\n",
       " 'sea turtle\\n',\n",
       " 'bird\\n',\n",
       " 'alarm clock\\n',\n",
       " 'eyeglasses\\n',\n",
       " 'laptop\\n',\n",
       " 'pickup truck\\n',\n",
       " 'onion\\n',\n",
       " 'wheel\\n',\n",
       " 'saxophone\\n',\n",
       " 'skyscraper\\n',\n",
       " 'bracelet\\n',\n",
       " 'syringe\\n',\n",
       " 'anvil\\n',\n",
       " 'rollerskates\\n',\n",
       " 'tooth\\n',\n",
       " 'broom\\n',\n",
       " 'oven\\n',\n",
       " 'belt\\n',\n",
       " 'asparagus\\n',\n",
       " 'necklace\\n',\n",
       " 'pond\\n',\n",
       " 'shoe\\n',\n",
       " 'envelope\\n',\n",
       " 'ant\\n',\n",
       " 'marker\\n',\n",
       " 'ladder\\n',\n",
       " 'tiger\\n',\n",
       " 'golf club\\n',\n",
       " 'hamburger\\n',\n",
       " 'birthday cake\\n',\n",
       " 'stitches\\n',\n",
       " 'moustache\\n',\n",
       " 'stove\\n',\n",
       " 'dresser\\n',\n",
       " 'triangle\\n',\n",
       " 'piano\\n',\n",
       " 'lollipop\\n',\n",
       " 'elbow\\n',\n",
       " 'hospital\\n',\n",
       " 'toothbrush\\n',\n",
       " 'bowtie\\n',\n",
       " 'suitcase\\n',\n",
       " 'dumbbell\\n',\n",
       " 'cup\\n',\n",
       " 'baseball bat\\n',\n",
       " 'clock\\n',\n",
       " 'monkey\\n',\n",
       " 'frog\\n',\n",
       " 'stop sign\\n',\n",
       " 'blackberry\\n',\n",
       " 'floor lamp\\n',\n",
       " 'dog\\n',\n",
       " 'trombone\\n',\n",
       " 'eraser\\n',\n",
       " 'parrot\\n',\n",
       " 'couch\\n',\n",
       " 'flashlight\\n',\n",
       " 'harp\\n',\n",
       " 'mug\\n',\n",
       " 'horse\\n',\n",
       " 'violin\\n',\n",
       " 'bee\\n',\n",
       " 'tennis racquet\\n',\n",
       " 'bat\\n',\n",
       " 'motorbike\\n',\n",
       " 'underwear\\n',\n",
       " 'frying pan\\n',\n",
       " 'rhinoceros\\n',\n",
       " 'brain\\n',\n",
       " 'passport\\n',\n",
       " 'steak\\n',\n",
       " 'see saw\\n',\n",
       " 'hockey stick\\n',\n",
       " 'rain\\n',\n",
       " 'snorkel\\n',\n",
       " 'strawberry\\n',\n",
       " 'knee\\n',\n",
       " 'baseball\\n',\n",
       " 'boomerang\\n',\n",
       " 'postcard\\n',\n",
       " 'fish\\n',\n",
       " 'mouth\\n',\n",
       " 'headphones\\n',\n",
       " 'snowflake\\n',\n",
       " 'bucket\\n',\n",
       " 'grapes\\n',\n",
       " 'scorpion\\n',\n",
       " 'drill\\n',\n",
       " 'helmet\\n',\n",
       " 'sock\\n',\n",
       " 'lobster\\n',\n",
       " 'radio\\n',\n",
       " 'bicycle\\n',\n",
       " 'arm\\n',\n",
       " 'helicopter\\n',\n",
       " 'house plant\\n',\n",
       " 'eye\\n',\n",
       " 'mermaid\\n',\n",
       " 'bush\\n',\n",
       " 'angel\\n',\n",
       " 'vase\\n',\n",
       " 'swan\\n',\n",
       " 'wine glass\\n',\n",
       " 'television\\n',\n",
       " 'traffic light\\n',\n",
       " 'soccer ball\\n',\n",
       " 'power outlet\\n',\n",
       " 'matches\\n',\n",
       " 'mosquito\\n',\n",
       " 'hot air balloon\\n',\n",
       " 'flip flops\\n',\n",
       " 'circle\\n',\n",
       " 'line\\n',\n",
       " 'picture frame\\n',\n",
       " 'crab\\n',\n",
       " 'panda\\n',\n",
       " 'pizza\\n',\n",
       " 'ceiling fan\\n',\n",
       " 'shark\\n',\n",
       " 'pliers\\n',\n",
       " 'zigzag\\n',\n",
       " 'rifle\\n',\n",
       " 'police car\\n',\n",
       " 'castle\\n',\n",
       " 'hexagon\\n',\n",
       " 'cello\\n',\n",
       " 'book\\n',\n",
       " 'door\\n',\n",
       " 'giraffe\\n',\n",
       " 'rabbit\\n',\n",
       " 'key\\n',\n",
       " 'ocean\\n',\n",
       " 'finger\\n',\n",
       " 'The Eiffel Tower\\n',\n",
       " 'clarinet\\n',\n",
       " 'flamingo\\n',\n",
       " 'banana\\n',\n",
       " 'spreadsheet\\n',\n",
       " 'sink\\n',\n",
       " 'face\\n',\n",
       " 'tent\\n',\n",
       " 'cruise ship\\n',\n",
       " 'square\\n',\n",
       " 'fence\\n',\n",
       " 'aircraft carrier\\n',\n",
       " 'canoe\\n',\n",
       " 'teapot\\n',\n",
       " 'camel\\n',\n",
       " 'mushroom\\n',\n",
       " 'streetlight\\n',\n",
       " 'submarine\\n',\n",
       " 'dolphin\\n',\n",
       " 'microwave\\n',\n",
       " 'octagon\\n',\n",
       " 'hot tub\\n',\n",
       " 'cactus\\n',\n",
       " 'hurricane\\n',\n",
       " 't-shirt\\n',\n",
       " 'snowman\\n',\n",
       " 'sandwich\\n',\n",
       " 'shovel\\n',\n",
       " 'lightning\\n',\n",
       " 'bread\\n',\n",
       " 'zebra\\n',\n",
       " 'teddy-bear\\n',\n",
       " 'smiley face\\n',\n",
       " 'toe\\n',\n",
       " 'train\\n',\n",
       " 'backpack\\n',\n",
       " 'blueberry\\n',\n",
       " 'stairs\\n',\n",
       " 'octopus\\n',\n",
       " 'cell phone\\n',\n",
       " 'calculator\\n',\n",
       " 'chair\\n',\n",
       " 'house\\n',\n",
       " 'peanut\\n',\n",
       " 'squirrel\\n',\n",
       " 'pineapple\\n',\n",
       " 'nail\\n',\n",
       " 'bus\\n',\n",
       " 'light bulb\\n',\n",
       " 'trumpet\\n',\n",
       " 'pencil\\n',\n",
       " 'saw\\n',\n",
       " 'nose\\n',\n",
       " 'keyboard\\n',\n",
       " 'crayon\\n',\n",
       " 'garden\\n',\n",
       " 'cake\\n',\n",
       " 'fan\\n',\n",
       " 'screwdriver\\n',\n",
       " 'dishwasher\\n',\n",
       " 'carrot\\n',\n",
       " 'cloud\\n',\n",
       " 'The Mona Lisa\\n',\n",
       " 'candle\\n',\n",
       " 'toothpaste\\n',\n",
       " 'computer\\n',\n",
       " 'drums\\n',\n",
       " 'school bus\\n',\n",
       " 'bandage\\n',\n",
       " 'pool\\n',\n",
       " 'toaster\\n',\n",
       " 'potato\\n',\n",
       " 'paper clip\\n',\n",
       " 'wristwatch\\n',\n",
       " 'fork\\n',\n",
       " 'grass\\n',\n",
       " 'bed\\n',\n",
       " 'bear\\n',\n",
       " 'ambulance\\n',\n",
       " 'basket\\n',\n",
       " 'hot dog\\n',\n",
       " 'scissors\\n',\n",
       " 'snake\\n',\n",
       " 'cannon\\n',\n",
       " 'spider\\n',\n",
       " 'hedgehog\\n',\n",
       " 'wine bottle\\n',\n",
       " 'calendar\\n',\n",
       " 'mailbox\\n',\n",
       " 'palm tree\\n',\n",
       " 'binoculars\\n',\n",
       " 'diamond\\n',\n",
       " 'star\\n',\n",
       " 'popsicle\\n',\n",
       " 'flying saucer\\n',\n",
       " 'sword\\n',\n",
       " 'ice cream\\n',\n",
       " 'lantern\\n',\n",
       " 'shorts\\n']"
      ]
     },
     "execution_count": 250,
     "metadata": {},
     "output_type": "execute_result"
    }
   ],
   "source": [
    "train_classes"
   ]
  },
  {
   "cell_type": "code",
   "execution_count": 251,
   "metadata": {
    "id": "_D4WbK7jfpyQ"
   },
   "outputs": [],
   "source": [
    "class_names = [name.strip().lower() for name in train_classes]"
   ]
  },
  {
   "cell_type": "code",
   "execution_count": 252,
   "metadata": {
    "id": "KdRQZNfAfpyQ",
    "outputId": "f1bfe5a8-998d-4abd-cc0b-f6348eb48007"
   },
   "outputs": [
    {
     "data": {
      "text/plain": [
       "345"
      ]
     },
     "execution_count": 252,
     "metadata": {},
     "output_type": "execute_result"
    }
   ],
   "source": [
    "len(class_names)"
   ]
  },
  {
   "cell_type": "code",
   "execution_count": 253,
   "metadata": {
    "id": "MwMDDj9SfpyQ"
   },
   "outputs": [],
   "source": [
    "def parse(data_batch):\n",
    "    feature_descriptions = {\n",
    "        \"ink\": tf.io.VarLenFeature(dtype=tf.float32),\n",
    "        \"shape\": tf.io.FixedLenFeature([2], dtype=tf.int64),\n",
    "        \"class_index\": tf.io.FixedLenFeature([1], dtype=tf.int64)\n",
    "    }\n",
    "    examples = tf.io.parse_example(data_batch, feature_descriptions)\n",
    "    print(examples[\"ink\"].values)\n",
    "    flat_sketches = tf.sparse.to_dense(examples['ink'])\n",
    "    print(flat_sketches)\n",
    "    sketches = tf.reshape(flat_sketches, shape=[tf.size(data_batch), -1, 3])\n",
    "    print(sketches)\n",
    "    lengths = examples['shape'][:, 0]\n",
    "    labels = examples['class_index'][:, 0]\n",
    "    return sketches, lengths, labels"
   ]
  },
  {
   "cell_type": "code",
   "execution_count": 254,
   "metadata": {
    "id": "c3WxSdb6fpyQ"
   },
   "outputs": [],
   "source": [
    "def quickdraw_dataset(filepaths, batch_size=32, shuffle_buffer_size=None,\n",
    "                     n_parse_threads=5, n_read_threads=5, cache=False):\n",
    "    dataset = tf.data.TFRecordDataset(filepaths, \n",
    "                                      num_parallel_reads=n_read_threads)\n",
    "    \n",
    "    if cache:\n",
    "        dataset = dataset.cache()\n",
    "    if shuffle_buffer_size:\n",
    "        dataset = dataset.shuffle(shuffle_buffer_size)\n",
    "    dataset = dataset.batch(batch_size)\n",
    "    dataset = dataset.map(parse, num_parallel_calls=n_parse_threads)\n",
    "    return dataset.prefetch(1)"
   ]
  },
  {
   "cell_type": "code",
   "execution_count": null,
   "metadata": {},
   "outputs": [],
   "source": []
  },
  {
   "cell_type": "code",
   "execution_count": 255,
   "metadata": {
    "id": "n5RH6ggFfpyR"
   },
   "outputs": [
    {
     "name": "stdout",
     "output_type": "stream",
     "text": [
      "Tensor(\"ParseExample/ParseExampleV2:1\", shape=(None,), dtype=float32)\n",
      "Tensor(\"SparseToDense:0\", shape=(None, None), dtype=float32)\n",
      "Tensor(\"Reshape:0\", shape=(None, None, 3), dtype=float32)\n",
      "Tensor(\"ParseExample/ParseExampleV2:1\", shape=(None,), dtype=float32)\n",
      "Tensor(\"SparseToDense:0\", shape=(None, None), dtype=float32)\n",
      "Tensor(\"Reshape:0\", shape=(None, None, 3), dtype=float32)\n",
      "Tensor(\"ParseExample/ParseExampleV2:1\", shape=(None,), dtype=float32)\n",
      "Tensor(\"SparseToDense:0\", shape=(None, None), dtype=float32)\n",
      "Tensor(\"Reshape:0\", shape=(None, None, 3), dtype=float32)\n"
     ]
    }
   ],
   "source": [
    "train_set = quickdraw_dataset(train_files, shuffle_buffer_size=10000)\n",
    "valid_set = quickdraw_dataset(eval_files[:5])\n",
    "test_set = quickdraw_dataset(eval_files[5:])"
   ]
  },
  {
   "cell_type": "code",
   "execution_count": 262,
   "metadata": {
    "id": "jUUIaSE-fpyR",
    "outputId": "8d1fc7f8-fb21-48d0-bfdc-6fd1a285afaf"
   },
   "outputs": [],
   "source": [
    "sketch, length, label = None, None, None\n",
    "for sketches, lengths, labels in valid_set.take(1):\n",
    "#     print(i)\n",
    "    sketch = sketches[0]\n",
    "    length = lengths[0]\n",
    "    label = labels[0]"
   ]
  },
  {
   "cell_type": "code",
   "execution_count": 264,
   "metadata": {
    "id": "J3tpAha6fpyR"
   },
   "outputs": [],
   "source": [
    "origin = np.zeros((3), dtype='float32')[np.newaxis, :]\n",
    "sketch_ = np.r_[origin, sketch]\n",
    "stroke_end_indices = np.argwhere(sketch_[:, -1] == 1.)[:, 0]\n",
    "coordinates = np.cumsum(sketch[:, :2], axis=0)\n",
    "strokes = np.split(coordinates, stroke_end_indices + 1)"
   ]
  },
  {
   "cell_type": "code",
   "execution_count": 265,
   "metadata": {
    "id": "X6Ckl16CfpyR",
    "outputId": "f15544b6-5c8b-4c07-cb06-4d09a92708e9"
   },
   "outputs": [
    {
     "data": {
      "image/png": "[encoded data removed]",
      "text/plain": [
       "<Figure size 432x288 with 1 Axes>"
      ]
     },
     "metadata": {
      "needs_background": "light"
     },
     "output_type": "display_data"
    }
   ],
   "source": [
    "import matplotlib.pyplot as plt\n",
    "plt.plot(coordinates[:, 0], - coordinates[:, 1], \"y:\")\n",
    "for stroke in strokes:\n",
    "    plt.plot(stroke[:, 0], -stroke[:, 1], \".-\")\n",
    "plt.show()"
   ]
  },
  {
   "cell_type": "code",
   "execution_count": 266,
   "metadata": {
    "id": "2jhk3Bp9fpyR",
    "outputId": "5abb7a69-3027-47c4-fe4d-1626544d72cd"
   },
   "outputs": [
    {
     "data": {
      "text/plain": [
       "'cooler'"
      ]
     },
     "execution_count": 266,
     "metadata": {},
     "output_type": "execute_result"
    }
   ],
   "source": [
    "class_names[label.numpy()]"
   ]
  },
  {
   "cell_type": "code",
   "execution_count": 267,
   "metadata": {
    "id": "7gVQqu5GfpyS",
    "outputId": "5c7b4f5c-36b1-496e-e4a4-02617b94d1c8"
   },
   "outputs": [
    {
     "data": {
      "text/plain": [
       "[<tf.Tensor: shape=(32,), dtype=int64, numpy=\n",
       " array([47, 28, 59, 29, 49, 34, 16, 25, 44, 28, 70, 16, 25, 33, 41, 32, 55,\n",
       "        66, 39, 65, 36, 21, 25, 30, 32, 88, 70, 29, 27, 36, 67, 68],\n",
       "       dtype=int64)>,\n",
       " <tf.Tensor: shape=(32,), dtype=int64, numpy=\n",
       " array([ 91,  30,  46,  11,  23,  45,  30,   6,  27,  51,  56,  69,  35,\n",
       "         40,  50,  55,  41,  60,  73,  48,  19, 103,  35,  14,  20,  43,\n",
       "          7,  52,  27,  32,  35, 110], dtype=int64)>,\n",
       " <tf.Tensor: shape=(32,), dtype=int64, numpy=\n",
       " array([93, 37, 31, 87, 77, 18, 14, 66, 72, 28, 44, 17, 38, 72, 44, 31, 29,\n",
       "        55, 15, 20, 12, 11, 58, 24, 35, 31, 63, 47, 40, 31, 39, 23],\n",
       "       dtype=int64)>,\n",
       " <tf.Tensor: shape=(32,), dtype=int64, numpy=\n",
       " array([ 46,  11,  35,  30,  90,  34,  33,  19,  54,  29,  16,  47,  24,\n",
       "         52,  77,  35,  35,  47,  61,  54,  38,  61,  52,  47,  50,  19,\n",
       "         49,  83,  33,  37, 129,  31], dtype=int64)>,\n",
       " <tf.Tensor: shape=(32,), dtype=int64, numpy=\n",
       " array([ 50,  26,  60,  45,  56,  84, 218,  73,  40,  34,  35,  25,  40,\n",
       "         40,  36,  74,  14,  40,  47,  26,  30,  45,  18,  21,  55,  22,\n",
       "         41,  36,  68,  54,  27,  12], dtype=int64)>,\n",
       " <tf.Tensor: shape=(32,), dtype=int64, numpy=\n",
       " array([ 25,  18,  35,  67,  27,  37,  44,  24,  36,  29,  46,  38,  54,\n",
       "         45,  63,  24,  35,  69,  50,  36,  28,  38,  94,  26,  51,   9,\n",
       "         71,  23,  71,  26, 332,  32], dtype=int64)>,\n",
       " <tf.Tensor: shape=(32,), dtype=int64, numpy=\n",
       " array([53, 29, 83, 40, 58, 76, 28, 25, 64, 36, 57, 44, 41, 40, 99, 35, 41,\n",
       "        29, 36, 42, 73, 67, 38, 46, 14, 46, 23, 23, 35, 97, 35, 41],\n",
       "       dtype=int64)>,\n",
       " <tf.Tensor: shape=(32,), dtype=int64, numpy=\n",
       " array([ 51,  22, 131,  58,  53, 106,  73,  67,  66,  27,  41,  22,  62,\n",
       "         40,  87,  78,  79,  34,  55,  55,  80,  18,  50,  22,  44,  27,\n",
       "         49,  12,  97,  26,  25,  21], dtype=int64)>,\n",
       " <tf.Tensor: shape=(32,), dtype=int64, numpy=\n",
       " array([ 40,  35,  31, 145,  29,  34,  56,  22,  71,  71,  67,  67,  54,\n",
       "         15,  53,  11,  51,  49,  51,  14,  23,  18,  51,  22,  37,  25,\n",
       "         34,  34,  35,  54,  28,  39], dtype=int64)>,\n",
       " <tf.Tensor: shape=(32,), dtype=int64, numpy=\n",
       " array([  7,  22,  48,  83,  37,  23,  62,  24,  18,  27,  31,  28,  31,\n",
       "        139,  64,  22,  12,  51,  92,   8,  31,  61,   9,  39,  59,  28,\n",
       "         59,  50,  24,  44,  13,  33], dtype=int64)>,\n",
       " <tf.Tensor: shape=(32,), dtype=int64, numpy=\n",
       " array([ 68,  33,  48, 420,  41,  17,  48,  81,  47,  49,  96, 157,  44,\n",
       "         29,  68,  33,  41,  32,  62,  38,  59,  28,  11,  19,  67,  22,\n",
       "         17,  74,  16,  33,  16,  16], dtype=int64)>,\n",
       " <tf.Tensor: shape=(32,), dtype=int64, numpy=\n",
       " array([ 22,  59,  32,  58,  58,  78,  27,  75,  31,  45,  67,  49,  84,\n",
       "         38,  11, 195,  38,  27,  94,  44,  15,  30,  14,  65,  62,  22,\n",
       "         29,  15,  47, 133,  42,  36], dtype=int64)>,\n",
       " <tf.Tensor: shape=(32,), dtype=int64, numpy=\n",
       " array([ 43,  25,  39, 124,  38,  40,  53,  31,  29,  32,  27,  49, 159,\n",
       "         27,  49,  59,  79,  61,  52,  65,  27,  43,  32,  48,  12,  76,\n",
       "        100,  27,  55,  20,  48,  36], dtype=int64)>,\n",
       " <tf.Tensor: shape=(32,), dtype=int64, numpy=\n",
       " array([48, 30, 15, 27, 23, 75, 43, 32, 25, 45, 19, 74, 47, 31, 53,  7, 25,\n",
       "        56, 48, 55, 22, 37, 51, 26, 24, 51, 21, 50, 28, 95, 41, 10],\n",
       "       dtype=int64)>,\n",
       " <tf.Tensor: shape=(32,), dtype=int64, numpy=\n",
       " array([ 49,  34,  41,  18,  43,  28,  65,  16,  41,  37, 112,  92,  15,\n",
       "         26,  51,  38,  71,  17,  37,  41,  53,  19,  33,  51,  39,  27,\n",
       "         24,  38,  19,  29,  35,  29], dtype=int64)>,\n",
       " <tf.Tensor: shape=(32,), dtype=int64, numpy=\n",
       " array([ 92,  48,  82,  37,  24,  21,  59,  53, 114,  76,  24,  19,  26,\n",
       "         31,  33,  10,  32,  75,  10,  19,  35,  56,  56,  28,  15,  10,\n",
       "         57,  37,  17,  29,  16,  22], dtype=int64)>,\n",
       " <tf.Tensor: shape=(32,), dtype=int64, numpy=\n",
       " array([ 51,  11,  71,  37,   4,  23,  64,  21,  49,  36,  80,  45,  35,\n",
       "         50,  61,  11,  40, 119,  44,  49,  23,  28,  67,  43,  25,  63,\n",
       "         29,  40,  65,  20,  31,  29], dtype=int64)>,\n",
       " <tf.Tensor: shape=(32,), dtype=int64, numpy=\n",
       " array([ 11,  44,  49,  24,  40,  27,  16,  46,  14,  87,  10,  20,  36,\n",
       "         35,  53,  54,   9,  49,  72, 109,  38,  44,  29,  51,  65,  78,\n",
       "         24,  44,  50,  28,  18,  39], dtype=int64)>,\n",
       " <tf.Tensor: shape=(32,), dtype=int64, numpy=\n",
       " array([26, 19, 35, 41, 32, 36, 14, 15, 60, 21, 16, 29, 46, 46, 29, 23, 24,\n",
       "        78, 22, 26,  5, 49, 95, 23, 44, 41, 62, 24, 65, 62, 37, 74],\n",
       "       dtype=int64)>,\n",
       " <tf.Tensor: shape=(32,), dtype=int64, numpy=\n",
       " array([95, 39, 30, 35, 43, 17, 30, 45, 17, 21, 32, 65, 33, 71, 39, 34, 25,\n",
       "        47, 39, 35, 46, 38, 24, 59, 29, 50, 36, 33, 61, 92, 98, 13],\n",
       "       dtype=int64)>,\n",
       " <tf.Tensor: shape=(32,), dtype=int64, numpy=\n",
       " array([67, 51, 37, 85, 33, 53, 42, 28, 39, 58, 28, 22, 19, 92, 38, 21, 93,\n",
       "        28, 39, 90, 53, 29, 79, 26, 84, 47, 13, 27, 65, 34, 57, 24],\n",
       "       dtype=int64)>,\n",
       " <tf.Tensor: shape=(32,), dtype=int64, numpy=\n",
       " array([ 24,  37,  79,  62,  25,  75,  78,  51,  46,  43,  70,  61,  26,\n",
       "         50,  86,  35, 152,  42,  21,  47,  62,  30,  30,  34,  36,  31,\n",
       "         16,  71,  96,  24,  30,  27], dtype=int64)>,\n",
       " <tf.Tensor: shape=(32,), dtype=int64, numpy=\n",
       " array([ 53,  17,  52,  50,  49,  25,  34,  32,  50,  40, 257,  85,  50,\n",
       "         15,  32, 104,  51,  62,  15,  75,  66,  35,  23,  52,  74,  45,\n",
       "         18,  35,  38,  17,  28,   3], dtype=int64)>,\n",
       " <tf.Tensor: shape=(32,), dtype=int64, numpy=\n",
       " array([ 44,  25,  92,  34,  60,  18,  24,  25,  54,  52,  59,  24,  66,\n",
       "         58, 160,  36,  35, 105,  30,  45,  22,  62,  54, 108,  37,  18,\n",
       "        126,  25,  47,  39,  30,  35], dtype=int64)>,\n",
       " <tf.Tensor: shape=(32,), dtype=int64, numpy=\n",
       " array([113,  68,  39,  58,  77,  43,  55,  17,  21,  47,  46,  29,  22,\n",
       "         65,  22,  19,  10,  70,  35,  26,  30,  52,  36,  30,  43,  43,\n",
       "         30, 271,  22,  17,  23,  54], dtype=int64)>,\n",
       " <tf.Tensor: shape=(32,), dtype=int64, numpy=\n",
       " array([27, 43, 67, 69, 19, 16, 70, 70, 33, 49, 76, 45, 36, 17, 42, 52, 41,\n",
       "        65, 85, 14, 28, 45, 17, 79, 32, 20, 32, 25, 37, 28, 50, 13],\n",
       "       dtype=int64)>,\n",
       " <tf.Tensor: shape=(32,), dtype=int64, numpy=\n",
       " array([21, 31, 16, 31, 62, 42, 47, 46, 55, 13, 59, 79, 29, 90, 24, 47, 30,\n",
       "         6, 60, 22, 30, 38, 21, 15, 67, 38, 22, 21, 16, 60, 22, 21],\n",
       "       dtype=int64)>,\n",
       " <tf.Tensor: shape=(32,), dtype=int64, numpy=\n",
       " array([ 58,  84,  55,  62,  26,  19,  35,  52,  24,  23,  47,  38,  62,\n",
       "         31,  35,  33,  32,  46,  42,  69,  31,  20,  74,  39,  12,  29,\n",
       "         41,  46,  23,  92, 102,  14], dtype=int64)>,\n",
       " <tf.Tensor: shape=(32,), dtype=int64, numpy=\n",
       " array([ 58,  28,  34,  26, 103,  45,  51,  57,  26,  30,  79,  56,  73,\n",
       "         21,  29,  55,  24,  35,  35,  37,  53,  53,  20,  25,  22,  72,\n",
       "         48,  34,  35,  51,  48,  21], dtype=int64)>,\n",
       " <tf.Tensor: shape=(32,), dtype=int64, numpy=\n",
       " array([ 18,  84,  76, 100,  41,  33,  22,  14,  25,  77,  21,  26,  16,\n",
       "         46,  57,  15,  63,  37,  46,  36,  14,  26,  37,  40,  69,  67,\n",
       "         80,  58,  20,  28,  50,  52], dtype=int64)>,\n",
       " <tf.Tensor: shape=(32,), dtype=int64, numpy=\n",
       " array([ 41,  31,  47,  33,  30,  14,  73,  56,  32,  52,  41,  22,  31,\n",
       "         23,  28,  42,  22,  41,  57, 126,  46,  14,  29,  19,  43,  57,\n",
       "         31, 128,  17,  39,  48,  42], dtype=int64)>,\n",
       " <tf.Tensor: shape=(32,), dtype=int64, numpy=\n",
       " array([ 19,  37,  27,  24,  40, 148,  23,  30,  15,  47,  26,  38,  25,\n",
       "         27,  65,  47,  67,  47,  25,  61,   5,  29,  39,  71,  24,  64,\n",
       "         30,  26,  27,  16,  23,  11], dtype=int64)>,\n",
       " <tf.Tensor: shape=(32,), dtype=int64, numpy=\n",
       " array([57, 34, 28, 36,  6, 33, 44, 60, 78, 23, 40, 38, 42, 43, 53, 40, 19,\n",
       "        41, 49, 38, 39, 57, 36, 65, 44, 33, 47, 37, 22, 39, 20, 23],\n",
       "       dtype=int64)>,\n",
       " <tf.Tensor: shape=(32,), dtype=int64, numpy=\n",
       " array([26, 44, 20, 56, 35, 28, 34, 18, 18, 49, 21, 38, 50, 57, 38, 13, 30,\n",
       "        48, 31, 43, 88, 52, 22, 31, 40, 24, 15, 29, 92, 21, 23, 38],\n",
       "       dtype=int64)>,\n",
       " <tf.Tensor: shape=(32,), dtype=int64, numpy=\n",
       " array([ 15,  27,  31,  41,  87,  53,  13,  36,  25,  52,  44,  85,  27,\n",
       "         49,  21,  48,  61,  58,  46,  20,  98,  53,  81,  55,  24, 188,\n",
       "         21,  50,  60,  75,  22,  62], dtype=int64)>,\n",
       " <tf.Tensor: shape=(32,), dtype=int64, numpy=\n",
       " array([50, 25, 44, 66, 48, 50, 52, 46, 29, 35, 56, 54, 18, 20, 57, 45, 18,\n",
       "        43, 36, 69, 49, 28, 48, 62, 80, 26, 25, 30, 12, 53, 10, 31],\n",
       "       dtype=int64)>,\n",
       " <tf.Tensor: shape=(32,), dtype=int64, numpy=\n",
       " array([68,  6, 90, 46, 52,  7, 44, 34,  8, 15, 34, 32, 78, 23,  4, 75, 25,\n",
       "        88, 16, 29, 83, 23, 63, 31, 56, 51, 35, 38, 33, 33, 21, 38],\n",
       "       dtype=int64)>,\n",
       " <tf.Tensor: shape=(32,), dtype=int64, numpy=\n",
       " array([ 66,  89,  63,  55,  34,  40,  30,  50, 113,  51,  25,  25,  70,\n",
       "         31,  27,  38,  39,  30,  56,  21,  65,  55,  45,  16,  19,  22,\n",
       "         67,  33,  31,  30,  47,  55], dtype=int64)>,\n",
       " <tf.Tensor: shape=(32,), dtype=int64, numpy=\n",
       " array([ 19,  27,  62,  99,  12,  25,  41,  34,  55,  13,  46,  48,  34,\n",
       "         47,  16,  19,  52,  44,  59,  10,  83,  64,  55,  23,  21,  80,\n",
       "         37, 111,  28,  76,  52,  68], dtype=int64)>,\n",
       " <tf.Tensor: shape=(32,), dtype=int64, numpy=\n",
       " array([107,  40,  35,  66,  40,  39,  42,  52,   9,  14, 152,  44,  18,\n",
       "        104,  43,  51,  47,  41,  46,  64,   2,  62,  30,  31,  49,  37,\n",
       "         43,  87,  18,  15,  48,  18], dtype=int64)>,\n",
       " <tf.Tensor: shape=(32,), dtype=int64, numpy=\n",
       " array([101,  62,  28,  44,  48,  38,  15,  20,  22,  35,  77,  37,  26,\n",
       "         27,  66,  59,  50,  77,  20,  35,  55,  57,  29,  40,  25,  23,\n",
       "         38, 840,  46,  57,  29,  25], dtype=int64)>,\n",
       " <tf.Tensor: shape=(32,), dtype=int64, numpy=\n",
       " array([12, 38, 32, 37, 67, 41, 62, 62, 40, 13, 57, 14, 19, 26, 88,  5, 43,\n",
       "        44, 28, 61, 35, 92, 32, 36, 19, 44, 53, 45, 20, 86, 19, 49],\n",
       "       dtype=int64)>,\n",
       " <tf.Tensor: shape=(32,), dtype=int64, numpy=\n",
       " array([10, 40, 16, 22, 67, 73, 40, 38, 25, 26, 34, 28, 32, 81, 54, 18, 46,\n",
       "        19, 33, 18, 58, 49,  6, 58, 41, 46, 34, 28, 69, 36, 50, 31],\n",
       "       dtype=int64)>,\n",
       " <tf.Tensor: shape=(32,), dtype=int64, numpy=\n",
       " array([52, 52, 24, 20, 25, 22, 52, 40, 24, 67, 39, 35, 24, 50, 40, 31, 45,\n",
       "        20, 37, 34, 40, 59, 16, 78, 27, 57, 18, 65, 83, 18, 45, 29],\n",
       "       dtype=int64)>,\n",
       " <tf.Tensor: shape=(32,), dtype=int64, numpy=\n",
       " array([ 35,  22,  25,  62,  24,  32,  26,  27,  47,  41,  43,  30,  21,\n",
       "         39,  42, 122,  26,  13,  54,  53,  52,  44,  44,  86,  42, 153,\n",
       "         36,  36,  19,  66,  29,  44], dtype=int64)>,\n",
       " <tf.Tensor: shape=(32,), dtype=int64, numpy=\n",
       " array([ 61,  25,  39,  31,  22,  34,  24,  52,  26,  27,  13,  29,  32,\n",
       "         36,  53,  62,  42,  35,  34,  19,  25,  19,  36,  46,  27,  30,\n",
       "         27,  31,  58,  46,  26, 182], dtype=int64)>,\n",
       " <tf.Tensor: shape=(32,), dtype=int64, numpy=\n",
       " array([ 38,  22,  15,  39,  70,  65,  36,  76,  79,  37,  19,  46,  44,\n",
       "         24,  73, 114,  53,  41,  57,   3,  43,  30,  78,  85,  21,  32,\n",
       "         46,  23,  21,  66,  37,  55], dtype=int64)>,\n",
       " <tf.Tensor: shape=(32,), dtype=int64, numpy=\n",
       " array([ 34,  24,  16,  16,  21,  65,  28,  36,  30,  38, 105,  47,  10,\n",
       "        102,  63,  39,  29,  96,  24,  28,  51,  48,  37,  25,  22,  29,\n",
       "         53,  14, 136,  88,  64,  26], dtype=int64)>,\n",
       " <tf.Tensor: shape=(32,), dtype=int64, numpy=\n",
       " array([ 74,  23,  30,  55,  81,  41,  35,  54, 105,  88,  61,  69,  68,\n",
       "         30,  51,  96,  32,  19,  25,  39,  14, 141,  40,  22,  62,  44,\n",
       "         46,  32,  37,  22,  61,  31], dtype=int64)>,\n",
       " <tf.Tensor: shape=(32,), dtype=int64, numpy=\n",
       " array([ 32,  36,  56,  24,  51,  24,  93,  78,  15,  29,  62,  42,  93,\n",
       "         15,  37,  23,  51, 120,  67,  53,  29,  15,  52,  55,  37,  27,\n",
       "         52,  38,  54,  28, 122,  45], dtype=int64)>,\n",
       " <tf.Tensor: shape=(32,), dtype=int64, numpy=\n",
       " array([ 30,  45,  26,  22,  71,  12,  20,  32,  45,  20,  12,  46,  33,\n",
       "         24,  51,  29,  18,  23,  53,  18,  18,  33, 105,  49,   1,  23,\n",
       "         11,  46,  72,  23,  38,  21], dtype=int64)>,\n",
       " <tf.Tensor: shape=(32,), dtype=int64, numpy=\n",
       " array([ 56,  28,  45,  17,  44,  34,  13,  38,  25,  20,  50,  55,  30,\n",
       "         22,  26,  82,  73,  30,  50,  38,  23,  28, 170,  25,  61,  30,\n",
       "         30,  29,  24,  47,  24,  20], dtype=int64)>,\n",
       " <tf.Tensor: shape=(32,), dtype=int64, numpy=\n",
       " array([ 26,  21,  85,  29,  33,  80,  32,  49, 108,  40,  80,  21, 112,\n",
       "         28,  38,  38,  32,  96,  46,  40,  81,  24, 123,  23,  40,  13,\n",
       "         24,  37,  26,  21,  25,  20], dtype=int64)>,\n",
       " <tf.Tensor: shape=(32,), dtype=int64, numpy=\n",
       " array([  3,  45,  43,   9, 133,  37,  20,  64,  34,  31,  23,  22,  20,\n",
       "         26,  14,  36,  60,  47,  30,  82,  29,  94,  46,  18,  35,  38,\n",
       "         92,  30,  17,  33,  36,  35], dtype=int64)>,\n",
       " <tf.Tensor: shape=(32,), dtype=int64, numpy=\n",
       " array([29, 45, 20, 51, 36, 58, 54, 31, 28, 41, 33, 60, 37, 32, 30, 52, 19,\n",
       "        27, 34, 17, 74, 21, 28, 33, 21, 49, 45, 17, 82, 86, 34, 41],\n",
       "       dtype=int64)>,\n",
       " <tf.Tensor: shape=(32,), dtype=int64, numpy=\n",
       " array([66, 72, 32, 41, 28, 38, 42, 22, 43, 79, 20, 46, 31, 78, 33, 16, 24,\n",
       "        57, 22, 24, 12, 40, 35, 32, 18, 38, 13, 40, 57, 40, 49, 81],\n",
       "       dtype=int64)>,\n",
       " <tf.Tensor: shape=(32,), dtype=int64, numpy=\n",
       " array([ 31,  47,  22,  20,  35,  47, 106,  32,  52,  46,  27,  40,  20,\n",
       "         47,  28,  47, 100,  25,  42,  32,  53,  75,  81,  24,  38,  81,\n",
       "         34,  30,  31,  24,  24,  30], dtype=int64)>,\n",
       " <tf.Tensor: shape=(32,), dtype=int64, numpy=\n",
       " array([ 32,  19,  27,  51,  65,  37,  12,  26,  31,  40,  35,  26,  64,\n",
       "         35,  15,  58, 140,  40,  21,  17,  13,  38,  91,  53,  28,  23,\n",
       "         48,  61,  33,  28,  20,  71], dtype=int64)>,\n",
       " <tf.Tensor: shape=(32,), dtype=int64, numpy=\n",
       " array([ 54,  40,  60,  21,  57,  35,  30,  36,  99,  86,  59,  22,  18,\n",
       "         75,  11,  21,  21,  42,  60,  26,  63,  17,  41, 101,  38,  24,\n",
       "         46,  24,  58,  56,  30,  27], dtype=int64)>,\n",
       " <tf.Tensor: shape=(32,), dtype=int64, numpy=\n",
       " array([ 50,  70,   4,  55,  28, 203,  90,  12,  94,  64,  74,  40,  50,\n",
       "         35,  33,   9,  59,  44,  25,  25,  40,  25,  41,  26,  15,  42,\n",
       "         74,  33,  56,  76,  30,  27], dtype=int64)>,\n",
       " <tf.Tensor: shape=(32,), dtype=int64, numpy=\n",
       " array([39, 85, 23, 49, 48, 93, 68, 25, 38, 62, 21, 15, 51, 54, 19,  3, 11,\n",
       "        58, 52, 18, 46,  7, 36,  6, 71, 22, 26, 53, 31, 25, 69, 19],\n",
       "       dtype=int64)>,\n",
       " <tf.Tensor: shape=(32,), dtype=int64, numpy=\n",
       " array([ 25,  55,  52,  57,  45,  70,  92,  85,  53,  23,  51,  23,  87,\n",
       "         23,  23,  48,  16,  24,  57,  31,  45,  21,  64,  53,  32,  46,\n",
       "         37, 100,  38,  32,  30,  25], dtype=int64)>,\n",
       " <tf.Tensor: shape=(32,), dtype=int64, numpy=\n",
       " array([37, 41, 52, 12, 36,  8, 61, 24, 38, 44, 35, 37, 33, 15, 60, 51, 29,\n",
       "        10, 83, 76, 49, 65, 30, 27, 40, 19, 48, 34, 44, 71, 89, 29],\n",
       "       dtype=int64)>,\n",
       " <tf.Tensor: shape=(32,), dtype=int64, numpy=\n",
       " array([ 34,  39,  21,  20,  21,  20,  87,  44,  15,  25,  48,  28,  30,\n",
       "         31,  31,  17,  12,  27,  56,  22,  36, 108,  43,  50,  23,  34,\n",
       "         24,  66,  35,  30,  33,  25], dtype=int64)>,\n",
       " <tf.Tensor: shape=(32,), dtype=int64, numpy=\n",
       " array([ 44,  25,  29,  27,  55,  29,  24,  40,  42, 117,  66,  24,  29,\n",
       "         80,  29,  17,  25,  59,  36,  83,  38,  30,  18,  45,  50,  23,\n",
       "         29,  23,  81,  25,  31,  25], dtype=int64)>,\n",
       " <tf.Tensor: shape=(32,), dtype=int64, numpy=\n",
       " array([ 28,  62,  14,  21,  66,  42,  17,  48,  48,  25,  27,   6,  66,\n",
       "         41,  73,  59,  38, 112,  39,  68,  31,  25,  16,  24,  50,  46,\n",
       "         23,  26,  42,  19,  59,  28], dtype=int64)>,\n",
       " <tf.Tensor: shape=(32,), dtype=int64, numpy=\n",
       " array([ 43,  37,  21,  31,  89,  32,  36,  72,  19,  37,  62,  90,  52,\n",
       "        105,  17,  69,  32,  33,  51,  23,  14,  71,  30,  23,  30,  34,\n",
       "         38,  47,  49,   8,  56,  62], dtype=int64)>,\n",
       " <tf.Tensor: shape=(32,), dtype=int64, numpy=\n",
       " array([ 45,  41,  54, 132,  20,  66,  31,  17,  80,  28,  38,  26,  21,\n",
       "         76,  23,  14,  29,  33,  28,  37, 116,  28,  76,  34,  27,  85,\n",
       "         58,  45,  40,  50,  17,  55], dtype=int64)>,\n",
       " <tf.Tensor: shape=(32,), dtype=int64, numpy=\n",
       " array([56, 30, 34, 35, 22, 25, 23, 23, 66, 41, 17, 39, 31, 92, 43, 14, 44,\n",
       "        32, 85, 37, 62, 73, 17, 40, 26, 36, 21, 30, 23, 80, 13, 46],\n",
       "       dtype=int64)>,\n",
       " <tf.Tensor: shape=(32,), dtype=int64, numpy=\n",
       " array([ 49,  37,  13,  30,  28,  75,  31,  31,  37,  20,  19,  39,  87,\n",
       "         17,  44,  36,  59,  19, 126,  28,  21,  29,  22,  25,  47,  45,\n",
       "         34,  33,  40,  97,  75,  39], dtype=int64)>,\n",
       " <tf.Tensor: shape=(32,), dtype=int64, numpy=\n",
       " array([ 17,  93,  48,  27,  45,  57,  25,  52,  37,  52,  17,  37,  28,\n",
       "         70,  70, 146,  47,  18,  25,  46,  18,  14,  75,  54,  35,  54,\n",
       "         18,  27,  46,  26,  46,  18], dtype=int64)>,\n",
       " <tf.Tensor: shape=(32,), dtype=int64, numpy=\n",
       " array([ 35,  27,  48,  42,  45,  49,  48,  12,  22,  34,  22,  31,  60,\n",
       "         80,  14,  27,  52, 259,  49,  35,  83,  91,  34,  24,  50,  61,\n",
       "         31,  27,  25,  23,  14,  44], dtype=int64)>,\n",
       " <tf.Tensor: shape=(32,), dtype=int64, numpy=\n",
       " array([ 36,  41,  38,  26,  62,  55,  74,  32,  20,  47,  73,  19,  32,\n",
       "         30, 145,  46,   6,  40,  33,   9,  57,  32,  21,  33, 120,  30,\n",
       "         14,   4,  33,  16,  90,  80], dtype=int64)>,\n",
       " <tf.Tensor: shape=(32,), dtype=int64, numpy=\n",
       " array([20, 95, 26, 25, 30, 36, 33, 38, 58, 20, 25, 20, 19, 16, 16, 25, 13,\n",
       "        30, 29, 88, 59, 78, 54, 59, 13, 48, 22, 52, 54, 25, 31, 78],\n",
       "       dtype=int64)>,\n",
       " <tf.Tensor: shape=(32,), dtype=int64, numpy=\n",
       " array([ 47,  23,  25,  40,  28,  11,  93,  64,  38,  44,  29,  54,  38,\n",
       "         95,  87,  30,  52,  33,  79,  23,  25,  49,  57,   3,  67,  18,\n",
       "         24,  18,  36, 152,  38,  30], dtype=int64)>,\n",
       " <tf.Tensor: shape=(32,), dtype=int64, numpy=\n",
       " array([ 29,  56,  47,  56,  42,  12,  76,  92,  14,  56,  20,  60,  29,\n",
       "         46,  27,  94,  40,  42,  32,  39,  53,  42,  84,  39,  29,  26,\n",
       "         66,  55,  14,  28, 114,  25], dtype=int64)>,\n",
       " <tf.Tensor: shape=(32,), dtype=int64, numpy=\n",
       " array([ 44,  80,  25,  13,  28,  41,  55,  28,  29,  37,  35,  22,  50,\n",
       "         43,  30,  67,  23,  85,  23, 110,  12,  44,  29,  20,  91,  46,\n",
       "         94,  45,  23,  53,  23,  24], dtype=int64)>,\n",
       " <tf.Tensor: shape=(32,), dtype=int64, numpy=\n",
       " array([40, 52,  5, 40, 60, 13, 18, 60, 10, 37, 58, 29, 55, 64, 51, 62, 62,\n",
       "        56, 50, 37, 56, 35, 39, 44, 25, 28, 49, 60, 23, 27, 18, 67],\n",
       "       dtype=int64)>,\n",
       " <tf.Tensor: shape=(32,), dtype=int64, numpy=\n",
       " array([ 73, 124,  35,  78,  55,  22,  44,  49,  18,  19,  33,  20,  48,\n",
       "         34,  52,  33,  35,  80,  44,  90,  49,  44,  58,  28,  26,  26,\n",
       "         89,  57,  43,  49,  20, 101], dtype=int64)>,\n",
       " <tf.Tensor: shape=(32,), dtype=int64, numpy=\n",
       " array([ 42,  51,  25,  49,  34, 104,  63,  29,  43,  32,  11,  77,  27,\n",
       "         62,  63,  14,  40,  56,  17,  40,  25,  28,  48,  21,  25,  53,\n",
       "         15,  26,  75,  20,  51,  31], dtype=int64)>,\n",
       " <tf.Tensor: shape=(32,), dtype=int64, numpy=\n",
       " array([ 52,  19,  35,  30,  46,  75,  42,  46,  60,  26,  20,  35,  62,\n",
       "         31,  30, 171, 137,  86,  48,  41,  47,  67,  18,  16,  36,  18,\n",
       "         23,  19,  52,  39,  30,  32], dtype=int64)>,\n",
       " <tf.Tensor: shape=(32,), dtype=int64, numpy=\n",
       " array([15, 54, 12, 27, 22, 44,  8, 51, 71, 65, 44, 54, 80, 36, 23,  8, 36,\n",
       "        29, 76, 79, 41, 22, 71, 48, 12, 55, 52, 11, 27, 28, 24, 71],\n",
       "       dtype=int64)>,\n",
       " <tf.Tensor: shape=(32,), dtype=int64, numpy=\n",
       " array([ 66,  68,  51,  37,  23,  25,  32,  26,  29, 245,  25,  28,  31,\n",
       "         64,  16,  47, 132,  23,  96,  42,  16,  55,  22,  27,  19,  64,\n",
       "         59,  38,  26,  23,  50,  16], dtype=int64)>,\n",
       " <tf.Tensor: shape=(32,), dtype=int64, numpy=\n",
       " array([52, 17, 71, 32, 15, 53, 58, 49, 18, 24, 85, 35, 23, 53, 33, 50, 33,\n",
       "        78, 14, 46, 50, 46, 63, 23, 17, 43, 50, 40, 81, 17, 23, 18],\n",
       "       dtype=int64)>,\n",
       " <tf.Tensor: shape=(32,), dtype=int64, numpy=\n",
       " array([ 54,  56,  28,  89,  26,  40,  69,  63,  37,  23,  38,  24,  67,\n",
       "         44,  48,  62,  52,  15, 113,  41,   3,  33,  80,  36,  38,  37,\n",
       "         58,  35,  66,  23,  43,  29], dtype=int64)>,\n",
       " <tf.Tensor: shape=(32,), dtype=int64, numpy=\n",
       " array([49, 26, 27, 56, 20, 24, 33, 32, 70, 40, 59, 18, 15, 13, 33, 43, 36,\n",
       "        26, 41, 76, 33, 68, 24, 35, 41, 50, 32, 22, 53, 31, 40, 12],\n",
       "       dtype=int64)>,\n",
       " <tf.Tensor: shape=(32,), dtype=int64, numpy=\n",
       " array([ 48,  33,  19,  34, 156,  33,  61,  74,  37,   9,  26,  27,  21,\n",
       "         22,  32,  43,  56,  64,  39,  17,  80,  97,  47,  21,  15,  36,\n",
       "         22,  14,  30,  76,  56,  66], dtype=int64)>,\n",
       " <tf.Tensor: shape=(32,), dtype=int64, numpy=\n",
       " array([22, 13, 43, 51, 24, 34, 29, 43, 28, 72, 17, 25, 29, 53, 57, 26, 52,\n",
       "        55, 43, 18, 21, 64, 28, 66, 25, 48, 19, 62, 51, 44, 23, 74],\n",
       "       dtype=int64)>,\n",
       " <tf.Tensor: shape=(32,), dtype=int64, numpy=\n",
       " array([ 32,  82,  35,  12,  24,  57,  25,  58,  39,  17, 107,  52,  51,\n",
       "         86,  23,  31, 116,  11,  23,  24,  46,  39,  44,  19,  26,  47,\n",
       "         17,  30,   8,  36,  58,  46], dtype=int64)>,\n",
       " <tf.Tensor: shape=(32,), dtype=int64, numpy=\n",
       " array([ 24,  32,  46,  23,  79,  49,  34,  87,  18,  40,  32,  59,  16,\n",
       "        113,  56,  78,  24,  75,  67,  53,  38,  72,  62,  13,  68,  94,\n",
       "         68, 146,  59,  11,  15,  41], dtype=int64)>,\n",
       " <tf.Tensor: shape=(32,), dtype=int64, numpy=\n",
       " array([ 30,  58,  46,  11,  64,  47,  47,  33,  17,  71, 131,  23,  78,\n",
       "         45,  47,  26,  55,  20,  22,  76,  58,  19,  51, 109,  29,  16,\n",
       "         16,  21,  25,  62,  32,  27], dtype=int64)>,\n",
       " <tf.Tensor: shape=(32,), dtype=int64, numpy=\n",
       " array([ 12,  32,   1,  61,  22,  18,  43,  37,  86,  30,   7,  46,  23,\n",
       "         31,  26,  48, 133,  21,  95,  53,  43,  95,  49,  47,  28,  63,\n",
       "         81,  70,  58,  89,  39,  43], dtype=int64)>,\n",
       " <tf.Tensor: shape=(32,), dtype=int64, numpy=\n",
       " array([ 28,  39,  36,  39,  81,  46,  39,  14,  21,  56,  28, 127,  35,\n",
       "         39,  55,   9,  28,  55,  59,  16,  50, 120,  22,  64,  57,  56,\n",
       "         23,  43,  47,  36,  30,  11], dtype=int64)>,\n",
       " <tf.Tensor: shape=(32,), dtype=int64, numpy=\n",
       " array([36, 27, 68, 43, 53, 31, 34, 45, 21, 41, 31, 22, 38, 30, 35, 27,  4,\n",
       "        98, 67, 15,  6, 60, 81, 35, 29, 66, 43, 14, 37, 60, 36, 57],\n",
       "       dtype=int64)>,\n",
       " <tf.Tensor: shape=(32,), dtype=int64, numpy=\n",
       " array([ 20,   4,  84,  35,  83,  17,  20,  46,  31,  17,  35,  44, 115,\n",
       "         31,  36,  21,  19,  31,  28,  47,  43,  27,  50,  50,  51,  25,\n",
       "         41,  29,  65,  46,  25,  39], dtype=int64)>,\n",
       " <tf.Tensor: shape=(32,), dtype=int64, numpy=\n",
       " array([143,  33,  27,  40,  33,  58,  56,  25,  27,  50,  13,  24,  27,\n",
       "         31,  30,  32,  34,  22,  48,  38,  79,  31,  85,  29,  44,  28,\n",
       "         32,  61,  71,  55,  75,  49], dtype=int64)>,\n",
       " <tf.Tensor: shape=(32,), dtype=int64, numpy=\n",
       " array([ 35,  84,  46,  65,  32,  37,  69,  47,  15,  40,  41,  35, 190,\n",
       "         40,  14,  22,  42,  34,  30,  99,  34,  35,  35,  49,  43,  21,\n",
       "         13,  49,  25,  15,  58,  57], dtype=int64)>,\n",
       " <tf.Tensor: shape=(32,), dtype=int64, numpy=\n",
       " array([ 36,  49,  39,  18,  41,  72,  19,  45, 173,  56,  40,  35,  62,\n",
       "         29,  50, 108,  85,  74,  51,  48,  35, 141,  20,  36,  39,  53,\n",
       "         45,  21,  55,  30,  29,  57], dtype=int64)>,\n",
       " <tf.Tensor: shape=(32,), dtype=int64, numpy=\n",
       " array([60, 30, 24, 10, 64, 70, 28, 47, 35, 76, 40, 63, 64, 42, 41, 37, 18,\n",
       "        66, 28, 61, 31, 77, 21, 42, 28, 60, 34, 10, 13, 30, 17, 14],\n",
       "       dtype=int64)>,\n",
       " <tf.Tensor: shape=(32,), dtype=int64, numpy=\n",
       " array([ 30,  33,  29,  69,  32,  20,  19,  19,  26,  50,  40,  36,  30,\n",
       "         27,  64,  24,  62,  21,  26,  44,  60,  18,  30,  62,  58,  66,\n",
       "         31,  51,  40,  76,  29, 111], dtype=int64)>]"
      ]
     },
     "execution_count": 267,
     "metadata": {},
     "output_type": "execute_result"
    }
   ],
   "source": [
    "[lengths for _, lengths, _ in train_set.take(100)]"
   ]
  },
  {
   "cell_type": "code",
   "execution_count": 268,
   "metadata": {
    "id": "TcJ7nkFxfpyS",
    "outputId": "5678f367-a3f8-497d-c55b-86e91aa8ada2"
   },
   "outputs": [
    {
     "data": {
      "text/plain": [
       "(3200,)"
      ]
     },
     "execution_count": 268,
     "metadata": {},
     "output_type": "execute_result"
    }
   ],
   "source": [
    "np.concatenate([lengths for _, lengths, _ in train_set.take(100)]).shape"
   ]
  },
  {
   "cell_type": "code",
   "execution_count": 269,
   "metadata": {
    "id": "NNepnCjhfpyS",
    "outputId": "4b817dbf-e026-4feb-ad29-a2f2e349f04c"
   },
   "outputs": [
    {
     "data": {
      "image/png": "[encoded data removed]",
      "text/plain": [
       "<Figure size 432x288 with 1 Axes>"
      ]
     },
     "metadata": {
      "needs_background": "light"
     },
     "output_type": "display_data"
    }
   ],
   "source": [
    "lengths = np.concatenate([lengths for _, lengths, _ in train_set.take(1000)])\n",
    "plt.hist(lengths, bins=150, density=True)\n",
    "plt.axis([0, 200, 0, 0.03])\n",
    "plt.xlabel(\"length\")\n",
    "plt.ylabel(\"density\")\n",
    "plt.show()"
   ]
  },
  {
   "cell_type": "code",
   "execution_count": 270,
   "metadata": {
    "id": "pa5G2wICfpyS"
   },
   "outputs": [],
   "source": [
    "def crop_long_sketches(dataset, max_length=100):\n",
    "    return dataset.map(lambda inks, lengths, labels: (inks[:, :max_length], labels))\n",
    "\n",
    "cropped_train_set = crop_long_sketches(train_set)\n",
    "cropped_valid_set = crop_long_sketches(valid_set)\n",
    "cropped_test_set = crop_long_sketches(test_set)"
   ]
  },
  {
   "cell_type": "code",
   "execution_count": 274,
   "metadata": {
    "id": "zyLPw4KefpyS",
    "outputId": "c5f311ce-968f-4e4c-ecbe-a84d88e0748c"
   },
   "outputs": [
    {
     "name": "stdout",
     "output_type": "stream",
     "text": [
      "(<tf.Tensor: shape=(32, 95, 3), dtype=float32, numpy=\n",
      "array([[[ 0.18110235, -0.06282723,  0.        ],\n",
      "        [ 0.20472443,  0.        ,  0.        ],\n",
      "        [ 0.07086611,  0.026178  ,  0.        ],\n",
      "        ...,\n",
      "        [ 0.        ,  0.        ,  0.        ],\n",
      "        [ 0.        ,  0.        ,  0.        ],\n",
      "        [ 0.        ,  0.        ,  0.        ]],\n",
      "\n",
      "       [[ 0.06692913, -0.05940595,  0.        ],\n",
      "        [ 0.1023622 , -0.01980197,  0.        ],\n",
      "        [ 0.        ,  0.32673267,  0.        ],\n",
      "        ...,\n",
      "        [ 0.        ,  0.        ,  0.        ],\n",
      "        [ 0.        ,  0.        ,  0.        ],\n",
      "        [ 0.        ,  0.        ,  0.        ]],\n",
      "\n",
      "       [[-0.08974355,  0.        ,  0.        ],\n",
      "        [-0.22435898, -0.03529412,  0.        ],\n",
      "        [-0.15384617,  0.00392157,  0.        ],\n",
      "        ...,\n",
      "        [ 0.        ,  0.        ,  0.        ],\n",
      "        [ 0.        ,  0.        ,  0.        ],\n",
      "        [ 0.        ,  0.        ,  0.        ]],\n",
      "\n",
      "       ...,\n",
      "\n",
      "       [[-0.09411764,  0.03571429,  0.        ],\n",
      "        [-0.08235294,  0.06122449,  0.        ],\n",
      "        [-0.02745098,  0.03571428,  0.        ],\n",
      "        ...,\n",
      "        [ 0.        ,  0.        ,  0.        ],\n",
      "        [ 0.        ,  0.        ,  0.        ],\n",
      "        [ 0.        ,  0.        ,  0.        ]],\n",
      "\n",
      "       [[-0.03673467,  0.07450983,  0.        ],\n",
      "        [ 0.00816324,  0.03921568,  0.        ],\n",
      "        [ 0.0367347 ,  0.03921568,  0.        ],\n",
      "        ...,\n",
      "        [ 0.        ,  0.        ,  0.        ],\n",
      "        [ 0.        ,  0.        ,  0.        ],\n",
      "        [ 0.        ,  0.        ,  0.        ]],\n",
      "\n",
      "       [[ 0.00784314,  0.3243243 ,  0.        ],\n",
      "        [ 0.04705883,  0.23873878,  0.        ],\n",
      "        [ 0.03137255,  0.27027023,  0.        ],\n",
      "        ...,\n",
      "        [ 0.        ,  0.        ,  0.        ],\n",
      "        [ 0.        ,  0.        ,  0.        ],\n",
      "        [ 0.        ,  0.        ,  0.        ]]], dtype=float32)>, <tf.Tensor: shape=(32,), dtype=int64, numpy=\n",
      "array([ 93, 310, 222, 214, 236, 251,  80, 143, 195, 307, 209, 117, 100,\n",
      "       214,  56, 167,   6, 170, 247, 164, 276,  41, 161, 221, 246, 133,\n",
      "       280,  75, 291,  52,  20, 146], dtype=int64)>)\n",
      "(<tf.Tensor: shape=(32, 70, 3), dtype=float32, numpy=\n",
      "array([[[-0.11764707, -0.03137255,  0.        ],\n",
      "        [-0.03431372, -0.05490196,  0.        ],\n",
      "        [ 0.00490196, -0.11372548,  0.        ],\n",
      "        ...,\n",
      "        [ 0.        ,  0.        ,  0.        ],\n",
      "        [ 0.        ,  0.        ,  0.        ],\n",
      "        [ 0.        ,  0.        ,  0.        ]],\n",
      "\n",
      "       [[ 0.00564972,  0.51968503,  0.        ],\n",
      "        [ 0.6497175 , -0.07874018,  0.        ],\n",
      "        [ 0.32768357, -0.05905509,  0.        ],\n",
      "        ...,\n",
      "        [ 0.        ,  0.        ,  0.        ],\n",
      "        [ 0.        ,  0.        ,  0.        ],\n",
      "        [ 0.        ,  0.        ,  0.        ]],\n",
      "\n",
      "       [[-0.00784314,  0.16447368,  0.        ],\n",
      "        [ 0.01176471,  0.31578946,  0.        ],\n",
      "        [-0.00392157, -0.3486842 ,  0.        ],\n",
      "        ...,\n",
      "        [ 0.        ,  0.        ,  0.        ],\n",
      "        [ 0.        ,  0.        ,  0.        ],\n",
      "        [ 0.        ,  0.        ,  0.        ]],\n",
      "\n",
      "       ...,\n",
      "\n",
      "       [[ 0.11049724,  0.        ,  0.        ],\n",
      "        [ 0.0441989 , -0.05905509,  0.        ],\n",
      "        [ 0.03867403, -0.10236222,  0.        ],\n",
      "        ...,\n",
      "        [ 0.        ,  0.        ,  0.        ],\n",
      "        [ 0.        ,  0.        ,  0.        ],\n",
      "        [ 0.        ,  0.        ,  0.        ]],\n",
      "\n",
      "       [[ 0.016     , -0.07874016,  0.        ],\n",
      "        [ 0.072     , -0.08267716,  0.        ],\n",
      "        [ 0.088     , -0.04330709,  0.        ],\n",
      "        ...,\n",
      "        [ 0.        ,  0.        ,  0.        ],\n",
      "        [ 0.        ,  0.        ,  0.        ],\n",
      "        [ 0.        ,  0.        ,  0.        ]],\n",
      "\n",
      "       [[ 0.08627451, -0.03225809,  0.        ],\n",
      "        [ 0.08235294, -0.12903225,  0.        ],\n",
      "        [ 0.07843137, -0.19354838,  0.        ],\n",
      "        ...,\n",
      "        [ 0.        ,  0.        ,  0.        ],\n",
      "        [ 0.        ,  0.        ,  0.        ],\n",
      "        [ 0.        ,  0.        ,  0.        ]]], dtype=float32)>, <tf.Tensor: shape=(32,), dtype=int64, numpy=\n",
      "array([187, 216, 151, 154, 327, 333, 343, 132, 127, 133, 213, 227, 131,\n",
      "        67, 306, 201, 339, 191, 297,  53, 270, 256, 323,  65, 305,  74,\n",
      "       326, 263, 221, 175, 343, 328], dtype=int64)>)\n",
      "(<tf.Tensor: shape=(32, 100, 3), dtype=float32, numpy=\n",
      "array([[[ 0.25490198, -0.13483143,  0.        ],\n",
      "        [ 0.10196078, -0.02247196,  0.        ],\n",
      "        [ 0.17254904,  0.05617982,  0.        ],\n",
      "        ...,\n",
      "        [ 0.        ,  0.        ,  0.        ],\n",
      "        [ 0.        ,  0.        ,  0.        ],\n",
      "        [ 0.        ,  0.        ,  0.        ]],\n",
      "\n",
      "       [[ 0.        , -0.12820515,  0.        ],\n",
      "        [-0.01960784, -0.01025641,  0.        ],\n",
      "        [-0.17254901,  0.04102564,  0.        ],\n",
      "        ...,\n",
      "        [ 0.        ,  0.        ,  0.        ],\n",
      "        [ 0.        ,  0.        ,  0.        ],\n",
      "        [ 0.        ,  0.        ,  0.        ]],\n",
      "\n",
      "       [[ 0.6106195 ,  0.41568625,  0.        ],\n",
      "        [ 0.07964599,  0.01960784,  0.        ],\n",
      "        [ 0.1681416 , -0.27843136,  0.        ],\n",
      "        ...,\n",
      "        [ 0.        ,  0.        ,  0.        ],\n",
      "        [ 0.        ,  0.        ,  0.        ],\n",
      "        [ 0.        ,  0.        ,  0.        ]],\n",
      "\n",
      "       ...,\n",
      "\n",
      "       [[ 0.        ,  0.12204725,  0.        ],\n",
      "        [ 0.25742573,  0.5472441 ,  0.        ],\n",
      "        [ 0.2772277 , -0.27165353,  0.        ],\n",
      "        ...,\n",
      "        [ 0.        ,  0.        ,  0.        ],\n",
      "        [ 0.        ,  0.        ,  0.        ],\n",
      "        [ 0.        ,  0.        ,  0.        ]],\n",
      "\n",
      "       [[-0.15544042, -0.08235294,  0.        ],\n",
      "        [-0.02590673, -0.07058823,  0.        ],\n",
      "        [ 0.        , -0.07843137,  0.        ],\n",
      "        ...,\n",
      "        [ 0.        ,  0.        ,  0.        ],\n",
      "        [ 0.        ,  0.        ,  0.        ],\n",
      "        [ 0.        ,  0.        ,  0.        ]],\n",
      "\n",
      "       [[ 0.05905512,  0.41089106,  0.        ],\n",
      "        [ 0.02362204,  0.09900993,  0.        ],\n",
      "        [ 0.01574802,  0.02970296,  0.        ],\n",
      "        ...,\n",
      "        [ 0.        ,  0.        ,  0.        ],\n",
      "        [ 0.        ,  0.        ,  0.        ],\n",
      "        [ 0.        ,  0.        ,  0.        ]]], dtype=float32)>, <tf.Tensor: shape=(32,), dtype=int64, numpy=\n",
      "array([ 65, 174, 337, 196, 109, 137, 256, 256, 305, 192, 304, 299, 172,\n",
      "       332, 192,  85, 199, 282, 141, 130, 142, 220, 103, 150,  14, 303,\n",
      "       252, 215, 293, 306, 112,  87], dtype=int64)>)\n",
      "(<tf.Tensor: shape=(32, 89, 3), dtype=float32, numpy=\n",
      "array([[[ 0.2322835 ,  0.        ,  0.        ],\n",
      "        [ 0.23228341, -0.24528302,  0.        ],\n",
      "        [ 0.1889764 ,  0.05660377,  0.        ],\n",
      "        ...,\n",
      "        [ 0.        ,  0.        ,  0.        ],\n",
      "        [ 0.        ,  0.        ,  0.        ],\n",
      "        [ 0.        ,  0.        ,  0.        ]],\n",
      "\n",
      "       [[ 0.30314958, -0.04761905,  0.        ],\n",
      "        [ 0.15354332,  0.30952382,  0.        ],\n",
      "        [ 0.29921257,  0.14285713,  0.        ],\n",
      "        ...,\n",
      "        [ 0.        ,  0.        ,  0.        ],\n",
      "        [ 0.        ,  0.        ,  0.        ],\n",
      "        [ 0.        ,  0.        ,  0.        ]],\n",
      "\n",
      "       [[-0.01960784,  0.        ,  0.        ],\n",
      "        [-0.01568628,  0.01960784,  0.        ],\n",
      "        [ 0.00392157,  0.08333334,  0.        ],\n",
      "        ...,\n",
      "        [ 0.01176471, -0.0490196 ,  0.        ],\n",
      "        [-0.11764705, -0.13235295,  0.        ],\n",
      "        [-0.09803921, -0.04901961,  1.        ]],\n",
      "\n",
      "       ...,\n",
      "\n",
      "       [[ 0.        , -0.06      ,  0.        ],\n",
      "        [ 0.04313726, -0.11000001,  0.        ],\n",
      "        [ 0.04705883,  0.04000002,  0.        ],\n",
      "        ...,\n",
      "        [ 0.        ,  0.        ,  0.        ],\n",
      "        [ 0.        ,  0.        ,  0.        ],\n",
      "        [ 0.        ,  0.        ,  0.        ]],\n",
      "\n",
      "       [[-0.14130434, -0.01176471,  0.        ],\n",
      "        [-0.10326087,  0.00392157,  0.        ],\n",
      "        [-0.02173913,  0.01176471,  0.        ],\n",
      "        ...,\n",
      "        [ 0.        ,  0.        ,  0.        ],\n",
      "        [ 0.        ,  0.        ,  0.        ],\n",
      "        [ 0.        ,  0.        ,  0.        ]],\n",
      "\n",
      "       [[-0.01968504, -0.03305787,  0.        ],\n",
      "        [-0.01574803, -0.11570245,  0.        ],\n",
      "        [ 0.00787402, -0.21487606,  0.        ],\n",
      "        ...,\n",
      "        [ 0.        ,  0.        ,  0.        ],\n",
      "        [ 0.        ,  0.        ,  0.        ],\n",
      "        [ 0.        ,  0.        ,  0.        ]]], dtype=float32)>, <tf.Tensor: shape=(32,), dtype=int64, numpy=\n",
      "array([ 49,  49, 132,  54, 124,  73, 222, 325,  36, 305,  51, 192, 318,\n",
      "       248,  27, 163,  14, 138, 274, 192, 304, 308, 300, 218, 148, 213,\n",
      "       189, 303, 164,  49, 187, 211], dtype=int64)>)\n",
      "(<tf.Tensor: shape=(32, 100, 3), dtype=float32, numpy=\n",
      "array([[[ 0.        ,  0.01369861,  0.        ],\n",
      "        [-0.0862745 ,  0.1278539 ,  0.        ],\n",
      "        [-0.02352942,  0.05479449,  0.        ],\n",
      "        ...,\n",
      "        [ 0.        ,  0.        ,  0.        ],\n",
      "        [ 0.        ,  0.        ,  0.        ],\n",
      "        [ 0.        ,  0.        ,  0.        ]],\n",
      "\n",
      "       [[-0.38738742,  0.00392157,  0.        ],\n",
      "        [-0.1081081 ,  0.12549019,  0.        ],\n",
      "        [-0.13513513,  0.07450981,  0.        ],\n",
      "        ...,\n",
      "        [ 0.        ,  0.        ,  0.        ],\n",
      "        [ 0.        ,  0.        ,  0.        ],\n",
      "        [ 0.        ,  0.        ,  0.        ]],\n",
      "\n",
      "       [[-0.10958904,  0.01960784,  0.        ],\n",
      "        [-0.14155251,  0.09411765,  0.        ],\n",
      "        [-0.1324201 ,  0.14901963,  0.        ],\n",
      "        ...,\n",
      "        [ 0.        ,  0.        ,  0.        ],\n",
      "        [ 0.        ,  0.        ,  0.        ],\n",
      "        [ 0.        ,  0.        ,  0.        ]],\n",
      "\n",
      "       ...,\n",
      "\n",
      "       [[-0.13333333, -0.03816794,  0.        ],\n",
      "        [-0.34901962,  0.        ,  0.        ],\n",
      "        [-0.11372548,  0.0610687 ,  0.        ],\n",
      "        ...,\n",
      "        [ 0.        ,  0.        ,  0.        ],\n",
      "        [ 0.        ,  0.        ,  0.        ],\n",
      "        [ 0.        ,  0.        ,  0.        ]],\n",
      "\n",
      "       [[ 0.14736842, -0.11764705,  0.        ],\n",
      "        [ 0.13684212, -0.19999999,  0.        ],\n",
      "        [ 0.07368422, -0.19215688,  0.        ],\n",
      "        ...,\n",
      "        [ 0.        ,  0.        ,  0.        ],\n",
      "        [ 0.        ,  0.        ,  0.        ],\n",
      "        [ 0.        ,  0.        ,  0.        ]],\n",
      "\n",
      "       [[ 0.02352941, -0.28244272,  0.        ],\n",
      "        [ 0.        , -0.24427482,  0.        ],\n",
      "        [ 0.02352941, -0.10687023,  0.        ],\n",
      "        ...,\n",
      "        [ 0.        ,  0.        ,  0.        ],\n",
      "        [ 0.        ,  0.        ,  0.        ],\n",
      "        [ 0.        ,  0.        ,  0.        ]]], dtype=float32)>, <tf.Tensor: shape=(32,), dtype=int64, numpy=\n",
      "array([259, 161, 261, 185, 198, 307, 182, 286, 215, 164,  95, 196, 143,\n",
      "        32,   6, 285, 315,  80, 216, 314, 170, 283, 180, 265, 225, 161,\n",
      "         9,  79, 144, 183, 246, 236], dtype=int64)>)\n"
     ]
    }
   ],
   "source": [
    "for i in cropped_train_set.take(5m):\n",
    "    print(i)"
   ]
  },
  {
   "cell_type": "code",
   "execution_count": null,
   "metadata": {
    "id": "5vFhfYU-fpyT"
   },
   "outputs": [],
   "source": [
    "x, y = None, None\n",
    "for x, y in cropped_train_set.take(1):\n",
    "    x = x\n",
    "    y = y"
   ]
  },
  {
   "cell_type": "code",
   "execution_count": null,
   "metadata": {
    "id": "0GylhwsQfpyT",
    "outputId": "13b71fb0-b6ce-41c0-bc5c-aee5244d14d4"
   },
   "outputs": [
    {
     "data": {
      "text/plain": [
       "TensorShape([32, 100, 3])"
      ]
     },
     "execution_count": 29,
     "metadata": {
      "tags": []
     },
     "output_type": "execute_result"
    }
   ],
   "source": [
    "x.shape"
   ]
  },
  {
   "cell_type": "code",
   "execution_count": null,
   "metadata": {
    "id": "ZpoX_Qw6fpyT"
   },
   "outputs": [],
   "source": [
    "log_dir = Path(\"C:/Users/sinjy/jupyter_notebook/my_logs\")\n",
    "log_dir_lstm = log_dir / \"lstm\"\n",
    "log_dir_lstm.mkdir(exist_ok=True)"
   ]
  },
  {
   "cell_type": "code",
   "execution_count": null,
   "metadata": {
    "id": "x_tgB3ldfpyT"
   },
   "outputs": [],
   "source": [
    "from functools import partial"
   ]
  },
  {
   "cell_type": "markdown",
   "metadata": {
    "id": "emtDxzDLfpyT"
   },
   "source": [
    "## lstm model"
   ]
  },
  {
   "cell_type": "code",
   "execution_count": null,
   "metadata": {
    "id": "tjl4iuFMfpyT"
   },
   "outputs": [],
   "source": [
    "LSTM = partial(keras.layers.LSTM, return_sequences=True)\n",
    "\n",
    "model = keras.models.Sequential([\n",
    "    LSTM(20, input_shape=[None, 3]),\n",
    "    LSTM(20),\n",
    "    LSTM(20, return_sequences=False),\n",
    "    keras.layers.Dense(345, activation='softmax')\n",
    "])"
   ]
  },
  {
   "cell_type": "code",
   "execution_count": null,
   "metadata": {
    "id": "v2ZTJaC9fpyT",
    "outputId": "0e24a67e-bb4a-41d5-c4fc-3b08d0264d99"
   },
   "outputs": [
    {
     "name": "stdout",
     "output_type": "stream",
     "text": [
      "107813/107813 [==============================] - 5286s 49ms/step - loss: 4.6307 - accuracy: 0.1013 - sparse_top_k_categorical_accuracy: 0.2463 - val_loss: 2.9249 - val_accuracy: 0.3418 - val_sparse_top_k_categorical_accuracy: 0.6267\n"
     ]
    },
    {
     "data": {
      "text/plain": [
       "<tensorflow.python.keras.callbacks.History at 0x273e90453c8>"
      ]
     },
     "execution_count": 34,
     "metadata": {
      "tags": []
     },
     "output_type": "execute_result"
    }
   ],
   "source": [
    "model.compile(optimizer='Adam', loss='sparse_categorical_crossentropy', \n",
    "              metrics=['accuracy', 'sparse_top_k_categorical_accuracy'])\n",
    "model.fit(cropped_train_set, epochs=1, \n",
    "          callbacks=[keras.callbacks.TensorBoard(log_dir_lstm, \n",
    "                                                 update_freq='batch')], \n",
    "         validation_data=cropped_valid_set)"
   ]
  },
  {
   "cell_type": "markdown",
   "metadata": {
    "id": "DrVvosfWfpyU"
   },
   "source": [
    "## lstm variety: peephole connection"
   ]
  },
  {
   "cell_type": "code",
   "execution_count": null,
   "metadata": {
    "id": "y-E1e77TfpyU"
   },
   "outputs": [],
   "source": [
    "log_dir = Path(\"C:/Users/sinjy/jupyter_notebook/my_logs\")\n",
    "log_dir_peephole = log_dir / \"peephole\"\n",
    "log_dir_peephole.mkdir(exist_ok=True)"
   ]
  },
  {
   "cell_type": "code",
   "execution_count": null,
   "metadata": {
    "id": "Ko4tEmSLfpyU"
   },
   "outputs": [],
   "source": [
    "keras.backend.clear_session()"
   ]
  },
  {
   "cell_type": "code",
   "execution_count": null,
   "metadata": {
    "id": "ptZQbMuQfpyU",
    "outputId": "fd00d82e-f7b9-41a8-9ff4-a739b209e9d1"
   },
   "outputs": [
    {
     "name": "stderr",
     "output_type": "stream",
     "text": [
      "C:\\Users\\sinjy\\anaconda3\\envs\\tensorflow_2\\lib\\site-packages\\tensorflow\\python\\keras\\layers\\recurrent.py:2560: UserWarning: `tf.keras.experimental.PeepholeLSTMCell` is deprecated and will be removed in a future version. Please use tensorflow_addons.rnn.PeepholeLSTMCell instead.\n",
      "  warnings.warn('`tf.keras.experimental.PeepholeLSTMCell` is deprecated '\n"
     ]
    }
   ],
   "source": [
    "model = keras.models.Sequential([\n",
    "    keras.layers.RNN(keras.experimental.PeepholeLSTMCell(20), \n",
    "                     return_sequences=True, input_shape=[None, 3]),\n",
    "    keras.layers.RNN(keras.experimental.PeepholeLSTMCell(20), \n",
    "                     return_sequences=True),\n",
    "    keras.layers.RNN(keras.experimental.PeepholeLSTMCell(20),\n",
    "                    return_sequences=False),\n",
    "    keras.layers.Dense(345, activation='softmax')\n",
    "])"
   ]
  },
  {
   "cell_type": "markdown",
   "metadata": {
    "id": "6DvaqIzXfpyU"
   },
   "source": [
    "# 연습문제 10번"
   ]
  },
  {
   "cell_type": "markdown",
   "metadata": {},
   "source": [
    "## data load"
   ]
  },
  {
   "cell_type": "code",
   "execution_count": 1,
   "metadata": {},
   "outputs": [],
   "source": [
    "import tensorflow as tf\n",
    "from tensorflow import keras\n",
    "import numpy as np\n",
    "from pathlib import Path"
   ]
  },
  {
   "cell_type": "code",
   "execution_count": 2,
   "metadata": {},
   "outputs": [],
   "source": [
    "DOWNLOAD_ROOT = \"https://github.com/ageron/handson-ml2/raw/master/datasets/jsb_chorales/\"\n",
    "FILENAME = \"jsb_chorales.tgz\"\n",
    "filepath = keras.utils.get_file(FILENAME, DOWNLOAD_ROOT+FILENAME, \n",
    "                              cache_subdir=\"datasets/jsb_chorales\",\n",
    "                              extract=True)"
   ]
  },
  {
   "cell_type": "code",
   "execution_count": 3,
   "metadata": {},
   "outputs": [],
   "source": [
    "chorales_dir = Path(filepath).parent"
   ]
  },
  {
   "cell_type": "code",
   "execution_count": 4,
   "metadata": {},
   "outputs": [],
   "source": [
    "train_dir = chorales_dir / \"train\"\n",
    "valid_dir = chorales_dir / \"valid\"\n",
    "test_dir = chorales_dir / \"test\""
   ]
  },
  {
   "cell_type": "code",
   "execution_count": 5,
   "metadata": {},
   "outputs": [],
   "source": [
    "train_dir_lst = list(map(lambda x: str(x), list(train_dir.glob(\"*\"))))\n",
    "valid_dir_lst = list(map(lambda x: str(x), list(valid_dir.glob(\"*\"))))\n",
    "test_dir_lst = list(map(lambda x: str(x), list(test_dir.glob(\"*\"))))"
   ]
  },
  {
   "cell_type": "code",
   "execution_count": 6,
   "metadata": {},
   "outputs": [],
   "source": [
    "import pandas as pd\n",
    "\n",
    "def dir_to_lstdata(dir_lst):\n",
    "    data = []\n",
    "    for i in range(len(dir_lst)):\n",
    "        csv_data = pd.read_csv(dir_lst[i])\n",
    "        data += [csv_data.values.tolist()]\n",
    "    return data\n",
    "\n",
    "train_data = dir_to_lstdata(train_dir_lst)\n",
    "valid_data = dir_to_lstdata(valid_dir_lst)\n",
    "test_data = dir_to_lstdata(test_dir_lst)"
   ]
  },
  {
   "cell_type": "code",
   "execution_count": 7,
   "metadata": {},
   "outputs": [],
   "source": [
    "notes = set()\n",
    "\n",
    "for data in (train_data, valid_data, test_data):\n",
    "    for sample in data:\n",
    "        for time in sample:\n",
    "            notes |= set(time)"
   ]
  },
  {
   "cell_type": "code",
   "execution_count": 8,
   "metadata": {},
   "outputs": [
    {
     "data": {
      "text/plain": [
       "(47, 36, 81)"
      ]
     },
     "execution_count": 8,
     "metadata": {},
     "output_type": "execute_result"
    }
   ],
   "source": [
    "n_notes = len(notes)\n",
    "min_notes = min(notes - {0})\n",
    "max_notes = max(notes)\n",
    "n_notes, min_notes, max_notes"
   ]
  },
  {
   "cell_type": "markdown",
   "metadata": {},
   "source": [
    "## my pipeline 1 ( shift and one hot )"
   ]
  },
  {
   "cell_type": "code",
   "execution_count": 17,
   "metadata": {},
   "outputs": [],
   "source": [
    "class Pipeline1:\n",
    "    def __init__(self, n_notes, min_notes):\n",
    "        self.n_notes = n_notes\n",
    "        self.min_notes = min_notes\n",
    "        \n",
    "    def shift(self, sample):\n",
    "        return tf.where(sample == 0, 0, sample - self.min_notes + 1)\n",
    "    \n",
    "    def one_hot(self, batch_x): \n",
    "        return tf.one_hot(batch_x, self.n_notes)\n",
    "    \n",
    "    def xysplit(self, batch):\n",
    "        batch = tf.map_fn(self.shift, batch)\n",
    "        x, y = self.one_hot(batch[:, :-1]).to_tensor(), batch[:, -1:].to_tensor()\n",
    "        x.set_shape([None, None, 4, 47])\n",
    "        y.set_shape([None, 1, 4])\n",
    "        return x, y\n",
    "    \n",
    "    def __call__(self, data, shuffle_buffer=None):\n",
    "        data_ragged = tf.ragged.constant(data, ragged_rank=1)\n",
    "        dataset = tf.data.Dataset.from_tensor_slices(data_ragged)\n",
    "        \n",
    "        if shuffle_buffer:\n",
    "            dataset = dataset.shuffle(shuffle_buffer)\n",
    "        dataset = dataset.batch(32).map(self.xysplit).cache().prefetch(1)\n",
    "        return dataset"
   ]
  },
  {
   "cell_type": "code",
   "execution_count": 31,
   "metadata": {},
   "outputs": [],
   "source": [
    "pipeline = Pipeline1(n_notes, min_notes) \n",
    "\n",
    "train_set = pipeline(train_data, shuffle_buffer=500)\n",
    "valid_set = pipeline(valid_data)\n",
    "test_set = pipeline(test_data)"
   ]
  },
  {
   "cell_type": "markdown",
   "metadata": {},
   "source": [
    "### RNN model ( GRU )"
   ]
  },
  {
   "cell_type": "code",
   "execution_count": 19,
   "metadata": {},
   "outputs": [],
   "source": [
    "def logdir(model_name):\n",
    "    cur_dir = Path(\".\")\n",
    "    jyp_dir = cur_dir.absolute().parent\n",
    "    log_dir = jyp_dir / \"my_logs\" / \"chorales\"\n",
    "    log_dir.mkdir(exist_ok=True)\n",
    "    log_dir_gru = log_dir / model_name\n",
    "    log_dir_gru.mkdir(exist_ok=True)\n",
    "    return log_dir_gru"
   ]
  },
  {
   "cell_type": "code",
   "execution_count": 20,
   "metadata": {},
   "outputs": [],
   "source": [
    "log_dir = logdir(\"GRU\")"
   ]
  },
  {
   "cell_type": "code",
   "execution_count": 22,
   "metadata": {},
   "outputs": [],
   "source": [
    "keras.backend.clear_session()\n",
    "model = keras.models.Sequential([\n",
    "    keras.layers.Reshape((-1, 188), input_shape=(4, 47)),\n",
    "    keras.layers.GRU(32, return_sequences=True),\n",
    "    keras.layers.GRU(64, return_sequences=True),\n",
    "    keras.layers.GRU(64, return_sequences=True),\n",
    "    keras.layers.GRU(32),\n",
    "    keras.layers.Dense(188),\n",
    "    keras.layers.Reshape((-1, 4, 47)),\n",
    "    keras.layers.Softmax()\n",
    "])"
   ]
  },
  {
   "cell_type": "code",
   "execution_count": 23,
   "metadata": {},
   "outputs": [
    {
     "name": "stdout",
     "output_type": "stream",
     "text": [
      "Epoch 1/100\n",
      "WARNING:tensorflow:Model was constructed with shape (None, 4, 47) for input KerasTensor(type_spec=TensorSpec(shape=(None, 4, 47), dtype=tf.float32, name='reshape_input'), name='reshape_input', description=\"created by layer 'reshape_input'\"), but it was called on an input with incompatible shape (None, None, 4, 47).\n",
      "WARNING:tensorflow:Model was constructed with shape (None, 4, 47) for input KerasTensor(type_spec=TensorSpec(shape=(None, 4, 47), dtype=tf.float32, name='reshape_input'), name='reshape_input', description=\"created by layer 'reshape_input'\"), but it was called on an input with incompatible shape (None, None, 4, 47).\n",
      "8/8 [==============================] - ETA: 0s - loss: 3.8431 - accuracy: 0.0557WARNING:tensorflow:Model was constructed with shape (None, 4, 47) for input KerasTensor(type_spec=TensorSpec(shape=(None, 4, 47), dtype=tf.float32, name='reshape_input'), name='reshape_input', description=\"created by layer 'reshape_input'\"), but it was called on an input with incompatible shape (None, None, 4, 47).\n",
      "8/8 [==============================] - 11s 833ms/step - loss: 3.8424 - accuracy: 0.0571 - val_loss: 3.8025 - val_accuracy: 0.0757\n",
      "Epoch 2/100\n",
      "8/8 [==============================] - 3s 425ms/step - loss: 3.7628 - accuracy: 0.0833 - val_loss: 3.5332 - val_accuracy: 0.0757\n",
      "Epoch 3/100\n",
      "8/8 [==============================] - 3s 429ms/step - loss: 3.3646 - accuracy: 0.1064 - val_loss: 3.0060 - val_accuracy: 0.1941\n",
      "Epoch 4/100\n",
      "8/8 [==============================] - 3s 425ms/step - loss: 2.8918 - accuracy: 0.2001 - val_loss: 2.7971 - val_accuracy: 0.1941\n",
      "Epoch 5/100\n",
      "8/8 [==============================] - 3s 413ms/step - loss: 2.6828 - accuracy: 0.2001 - val_loss: 2.6676 - val_accuracy: 0.1941\n",
      "Epoch 6/100\n",
      "8/8 [==============================] - 3s 408ms/step - loss: 2.5477 - accuracy: 0.2001 - val_loss: 2.5904 - val_accuracy: 0.1941\n",
      "Epoch 7/100\n",
      "8/8 [==============================] - 3s 413ms/step - loss: 2.4638 - accuracy: 0.2148 - val_loss: 2.5471 - val_accuracy: 0.2434\n",
      "Epoch 8/100\n",
      "8/8 [==============================] - 3s 412ms/step - loss: 2.4135 - accuracy: 0.2578 - val_loss: 2.5234 - val_accuracy: 0.2434\n",
      "Epoch 9/100\n",
      "8/8 [==============================] - 3s 410ms/step - loss: 2.3834 - accuracy: 0.2578 - val_loss: 2.5099 - val_accuracy: 0.2434\n",
      "Epoch 10/100\n",
      "8/8 [==============================] - 4s 464ms/step - loss: 2.3647 - accuracy: 0.2578 - val_loss: 2.5013 - val_accuracy: 0.2434\n",
      "Epoch 11/100\n",
      "8/8 [==============================] - 4s 481ms/step - loss: 2.3520 - accuracy: 0.2578 - val_loss: 2.4947 - val_accuracy: 0.2434\n",
      "Epoch 12/100\n",
      "8/8 [==============================] - 4s 475ms/step - loss: 2.3426 - accuracy: 0.2578 - val_loss: 2.4890 - val_accuracy: 0.2434\n",
      "Epoch 13/100\n",
      "8/8 [==============================] - 4s 463ms/step - loss: 2.3352 - accuracy: 0.2578 - val_loss: 2.4841 - val_accuracy: 0.2434\n",
      "Epoch 14/100\n",
      "8/8 [==============================] - 4s 456ms/step - loss: 2.3292 - accuracy: 0.2578 - val_loss: 2.4799 - val_accuracy: 0.2434\n",
      "Epoch 15/100\n",
      "8/8 [==============================] - 4s 454ms/step - loss: 2.3244 - accuracy: 0.2578 - val_loss: 2.4764 - val_accuracy: 0.2434\n",
      "Epoch 16/100\n",
      "8/8 [==============================] - 4s 451ms/step - loss: 2.3204 - accuracy: 0.2578 - val_loss: 2.4734 - val_accuracy: 0.2434\n",
      "Epoch 17/100\n",
      "8/8 [==============================] - 4s 448ms/step - loss: 2.3171 - accuracy: 0.2578 - val_loss: 2.4710 - val_accuracy: 0.2434\n",
      "Epoch 18/100\n",
      "8/8 [==============================] - 4s 466ms/step - loss: 2.3143 - accuracy: 0.2578 - val_loss: 2.4689 - val_accuracy: 0.2434\n",
      "Epoch 19/100\n",
      "8/8 [==============================] - 4s 461ms/step - loss: 2.3119 - accuracy: 0.2578 - val_loss: 2.4672 - val_accuracy: 0.2434\n",
      "Epoch 20/100\n",
      "8/8 [==============================] - 3s 444ms/step - loss: 2.3098 - accuracy: 0.2578 - val_loss: 2.4657 - val_accuracy: 0.2434\n",
      "Epoch 21/100\n",
      "8/8 [==============================] - 3s 445ms/step - loss: 2.3080 - accuracy: 0.2578 - val_loss: 2.4644 - val_accuracy: 0.2434\n",
      "Epoch 22/100\n",
      "8/8 [==============================] - 3s 442ms/step - loss: 2.3063 - accuracy: 0.2578 - val_loss: 2.4632 - val_accuracy: 0.2434\n",
      "Epoch 23/100\n",
      "8/8 [==============================] - 3s 444ms/step - loss: 2.3049 - accuracy: 0.2578 - val_loss: 2.4621 - val_accuracy: 0.2434\n",
      "Epoch 24/100\n",
      "8/8 [==============================] - 4s 450ms/step - loss: 2.3035 - accuracy: 0.2578 - val_loss: 2.4611 - val_accuracy: 0.2434\n",
      "Epoch 25/100\n",
      "8/8 [==============================] - 4s 451ms/step - loss: 2.3023 - accuracy: 0.2578 - val_loss: 2.4602 - val_accuracy: 0.2434\n",
      "Epoch 26/100\n",
      "8/8 [==============================] - 3s 438ms/step - loss: 2.3012 - accuracy: 0.2578 - val_loss: 2.4594 - val_accuracy: 0.2434\n",
      "Epoch 27/100\n",
      "8/8 [==============================] - 3s 437ms/step - loss: 2.3002 - accuracy: 0.2578 - val_loss: 2.4587 - val_accuracy: 0.2434\n",
      "Epoch 28/100\n",
      "8/8 [==============================] - 3s 441ms/step - loss: 2.2992 - accuracy: 0.2578 - val_loss: 2.4580 - val_accuracy: 0.2434\n",
      "Epoch 29/100\n",
      "8/8 [==============================] - 3s 442ms/step - loss: 2.2984 - accuracy: 0.2578 - val_loss: 2.4574 - val_accuracy: 0.2434\n",
      "Epoch 30/100\n",
      "8/8 [==============================] - 3s 440ms/step - loss: 2.2976 - accuracy: 0.2578 - val_loss: 2.4569 - val_accuracy: 0.2434\n",
      "Epoch 31/100\n",
      "8/8 [==============================] - 3s 437ms/step - loss: 2.2968 - accuracy: 0.2578 - val_loss: 2.4564 - val_accuracy: 0.2434\n",
      "Epoch 32/100\n",
      "8/8 [==============================] - 3s 440ms/step - loss: 2.2962 - accuracy: 0.2578 - val_loss: 2.4559 - val_accuracy: 0.2434\n",
      "Epoch 33/100\n",
      "8/8 [==============================] - 3s 440ms/step - loss: 2.2955 - accuracy: 0.2578 - val_loss: 2.4555 - val_accuracy: 0.2434\n",
      "Epoch 34/100\n",
      "8/8 [==============================] - 4s 475ms/step - loss: 2.2950 - accuracy: 0.2578 - val_loss: 2.4552 - val_accuracy: 0.2434\n",
      "Epoch 35/100\n",
      "8/8 [==============================] - 3s 442ms/step - loss: 2.2944 - accuracy: 0.2578 - val_loss: 2.4549 - val_accuracy: 0.2434\n",
      "Epoch 36/100\n",
      "8/8 [==============================] - 3s 441ms/step - loss: 2.2939 - accuracy: 0.2578 - val_loss: 2.4546 - val_accuracy: 0.2434\n",
      "Epoch 37/100\n",
      "8/8 [==============================] - 4s 462ms/step - loss: 2.2934 - accuracy: 0.2578 - val_loss: 2.4543 - val_accuracy: 0.2434\n",
      "Epoch 38/100\n",
      "8/8 [==============================] - 4s 450ms/step - loss: 2.2930 - accuracy: 0.2578 - val_loss: 2.4540 - val_accuracy: 0.2434\n",
      "Epoch 39/100\n",
      "8/8 [==============================] - 3s 442ms/step - loss: 2.2926 - accuracy: 0.2578 - val_loss: 2.4538 - val_accuracy: 0.2434\n",
      "Epoch 40/100\n",
      "8/8 [==============================] - 3s 440ms/step - loss: 2.2922 - accuracy: 0.2578 - val_loss: 2.4536 - val_accuracy: 0.2434\n",
      "Epoch 41/100\n",
      "8/8 [==============================] - 3s 439ms/step - loss: 2.2918 - accuracy: 0.2578 - val_loss: 2.4534 - val_accuracy: 0.2434\n",
      "Epoch 42/100\n",
      "8/8 [==============================] - 3s 439ms/step - loss: 2.2914 - accuracy: 0.2578 - val_loss: 2.4533 - val_accuracy: 0.2434\n",
      "Epoch 43/100\n",
      "8/8 [==============================] - 3s 439ms/step - loss: 2.2911 - accuracy: 0.2578 - val_loss: 2.4531 - val_accuracy: 0.2434\n",
      "Epoch 44/100\n",
      "8/8 [==============================] - 3s 441ms/step - loss: 2.2908 - accuracy: 0.2578 - val_loss: 2.4530 - val_accuracy: 0.2434\n",
      "Epoch 45/100\n",
      "8/8 [==============================] - 3s 439ms/step - loss: 2.2905 - accuracy: 0.2578 - val_loss: 2.4529 - val_accuracy: 0.2434\n",
      "Epoch 46/100\n",
      "8/8 [==============================] - 3s 438ms/step - loss: 2.2902 - accuracy: 0.2578 - val_loss: 2.4528 - val_accuracy: 0.2434\n",
      "Epoch 47/100\n",
      "8/8 [==============================] - 3s 437ms/step - loss: 2.2900 - accuracy: 0.2578 - val_loss: 2.4527 - val_accuracy: 0.2434\n",
      "Epoch 48/100\n",
      "8/8 [==============================] - 3s 438ms/step - loss: 2.2897 - accuracy: 0.2578 - val_loss: 2.4526 - val_accuracy: 0.2434\n",
      "Epoch 49/100\n",
      "8/8 [==============================] - 3s 439ms/step - loss: 2.2895 - accuracy: 0.2578 - val_loss: 2.4525 - val_accuracy: 0.2434\n",
      "Epoch 50/100\n",
      "8/8 [==============================] - 3s 438ms/step - loss: 2.2892 - accuracy: 0.2578 - val_loss: 2.4525 - val_accuracy: 0.2434\n",
      "Epoch 51/100\n",
      "8/8 [==============================] - 4s 446ms/step - loss: 2.2890 - accuracy: 0.2578 - val_loss: 2.4524 - val_accuracy: 0.2434\n",
      "Epoch 52/100\n",
      "8/8 [==============================] - 3s 443ms/step - loss: 2.2888 - accuracy: 0.2578 - val_loss: 2.4523 - val_accuracy: 0.2434\n",
      "Epoch 53/100\n",
      "8/8 [==============================] - 3s 442ms/step - loss: 2.2886 - accuracy: 0.2578 - val_loss: 2.4523 - val_accuracy: 0.2434\n",
      "Epoch 54/100\n",
      "8/8 [==============================] - 3s 441ms/step - loss: 2.2884 - accuracy: 0.2578 - val_loss: 2.4523 - val_accuracy: 0.2434\n",
      "Epoch 55/100\n",
      "8/8 [==============================] - 3s 440ms/step - loss: 2.2882 - accuracy: 0.2578 - val_loss: 2.4522 - val_accuracy: 0.2434\n",
      "Epoch 56/100\n",
      "8/8 [==============================] - 3s 440ms/step - loss: 2.2881 - accuracy: 0.2578 - val_loss: 2.4522 - val_accuracy: 0.2434\n",
      "Epoch 57/100\n",
      "8/8 [==============================] - 3s 437ms/step - loss: 2.2879 - accuracy: 0.2578 - val_loss: 2.4522 - val_accuracy: 0.2434\n",
      "Epoch 58/100\n",
      "8/8 [==============================] - 3s 442ms/step - loss: 2.2877 - accuracy: 0.2578 - val_loss: 2.4522 - val_accuracy: 0.2434\n",
      "Epoch 59/100\n",
      "8/8 [==============================] - 3s 444ms/step - loss: 2.2876 - accuracy: 0.2578 - val_loss: 2.4522 - val_accuracy: 0.2434\n",
      "Epoch 60/100\n",
      "8/8 [==============================] - 3s 445ms/step - loss: 2.2874 - accuracy: 0.2578 - val_loss: 2.4522 - val_accuracy: 0.2434\n",
      "Epoch 61/100\n",
      "8/8 [==============================] - 3s 447ms/step - loss: 2.2873 - accuracy: 0.2578 - val_loss: 2.4522 - val_accuracy: 0.2434\n",
      "Epoch 62/100\n",
      "8/8 [==============================] - 3s 442ms/step - loss: 2.2871 - accuracy: 0.2578 - val_loss: 2.4522 - val_accuracy: 0.2434\n",
      "Epoch 63/100\n",
      "8/8 [==============================] - 3s 441ms/step - loss: 2.2870 - accuracy: 0.2578 - val_loss: 2.4522 - val_accuracy: 0.2434\n",
      "Epoch 64/100\n",
      "8/8 [==============================] - 3s 439ms/step - loss: 2.2869 - accuracy: 0.2578 - val_loss: 2.4522 - val_accuracy: 0.2434\n",
      "Epoch 65/100\n",
      "8/8 [==============================] - 3s 440ms/step - loss: 2.2868 - accuracy: 0.2578 - val_loss: 2.4522 - val_accuracy: 0.2434\n",
      "Epoch 66/100\n",
      "8/8 [==============================] - 3s 439ms/step - loss: 2.2866 - accuracy: 0.2578 - val_loss: 2.4522 - val_accuracy: 0.2434\n",
      "Epoch 67/100\n",
      "8/8 [==============================] - 3s 442ms/step - loss: 2.2865 - accuracy: 0.2578 - val_loss: 2.4523 - val_accuracy: 0.2434\n",
      "Epoch 68/100\n",
      "8/8 [==============================] - 4s 483ms/step - loss: 2.2864 - accuracy: 0.2578 - val_loss: 2.4523 - val_accuracy: 0.2434\n",
      "Epoch 69/100\n",
      "8/8 [==============================] - 4s 449ms/step - loss: 2.2863 - accuracy: 0.2578 - val_loss: 2.4523 - val_accuracy: 0.2434\n",
      "Epoch 70/100\n",
      "8/8 [==============================] - 3s 445ms/step - loss: 2.2862 - accuracy: 0.2578 - val_loss: 2.4523 - val_accuracy: 0.2434\n"
     ]
    },
    {
     "data": {
      "text/plain": [
       "<tensorflow.python.keras.callbacks.History at 0x1f4edb63408>"
      ]
     },
     "execution_count": 23,
     "metadata": {},
     "output_type": "execute_result"
    }
   ],
   "source": [
    "model.compile(optimizer=\"Adam\", loss=\"sparse_categorical_crossentropy\", metrics=[\"accuracy\"])\n",
    "model.fit(train_set, epochs=100, \n",
    "          callbacks=[keras.callbacks.EarlyStopping(patience=10),\n",
    "                    keras.callbacks.TensorBoard(log_dir=log_dir)],\n",
    "         validation_data=valid_set)"
   ]
  },
  {
   "cell_type": "code",
   "execution_count": 24,
   "metadata": {},
   "outputs": [
    {
     "name": "stdout",
     "output_type": "stream",
     "text": [
      "3/3 [==============================] - 0s 85ms/step - loss: 2.5850 - accuracy: 0.1461\n"
     ]
    },
    {
     "data": {
      "text/plain": [
       "[2.584959030151367, 0.1461038887500763]"
      ]
     },
     "execution_count": 24,
     "metadata": {},
     "output_type": "execute_result"
    }
   ],
   "source": [
    "model.evaluate(test_set)"
   ]
  },
  {
   "cell_type": "markdown",
   "metadata": {},
   "source": [
    "## my pipeline2 ( not one hot but embedding )"
   ]
  },
  {
   "cell_type": "code",
   "execution_count": 9,
   "metadata": {},
   "outputs": [],
   "source": [
    "class Pipeline2:\n",
    "    def __init__(self, n_notes, min_notes):\n",
    "        self.n_notes = n_notes\n",
    "        self.min_notes = min_notes\n",
    "        \n",
    "    def shift(self, sample):\n",
    "        return tf.where(sample == 0, 0, sample - self.min_notes + 1)\n",
    "    \n",
    "    def one_hot(self, batch_x): \n",
    "        return tf.one_hot(batch_x, self.n_notes)\n",
    "    \n",
    "    def xysplit(self, batch):\n",
    "        batch = tf.map_fn(self.shift, batch)\n",
    "        x, y = batch[:, :-1].to_tensor(), batch[:, -1:].to_tensor()\n",
    "        x.set_shape([None, None, 4])\n",
    "        y.set_shape([None, 1, 4])\n",
    "        return x, y\n",
    "    \n",
    "    def __call__(self, data, shuffle_buffer=None):\n",
    "        data_ragged = tf.ragged.constant(data, ragged_rank=1)\n",
    "        dataset = tf.data.Dataset.from_tensor_slices(data_ragged)\n",
    "        \n",
    "        if shuffle_buffer:\n",
    "            dataset = dataset.shuffle(shuffle_buffer)\n",
    "        dataset = dataset.batch(32).map(self.xysplit).cache().prefetch(1)\n",
    "        return dataset"
   ]
  },
  {
   "cell_type": "code",
   "execution_count": 10,
   "metadata": {},
   "outputs": [],
   "source": [
    "pipeline = Pipeline2(n_notes, min_notes) \n",
    "\n",
    "train_set = pipeline(train_data, shuffle_buffer=500)\n",
    "valid_set = pipeline(valid_data)\n",
    "test_set = pipeline(test_data)"
   ]
  },
  {
   "cell_type": "code",
   "execution_count": 11,
   "metadata": {},
   "outputs": [
    {
     "name": "stdout",
     "output_type": "stream",
     "text": [
      "(32, 455, 4)\n",
      "(32, 1, 4)\n"
     ]
    }
   ],
   "source": [
    "for x, y in train_set.take(1):\n",
    "    print(x.shape)\n",
    "    print(y.shape)"
   ]
  },
  {
   "cell_type": "markdown",
   "metadata": {},
   "source": [
    "### RNN model ( GRU )"
   ]
  },
  {
   "cell_type": "code",
   "execution_count": 12,
   "metadata": {},
   "outputs": [],
   "source": [
    "def logdir(model_name):\n",
    "    cur_dir = Path(\".\")\n",
    "    jyp_dir = cur_dir.absolute().parent\n",
    "    log_dir = jyp_dir / \"my_logs\" / \"chorales\"\n",
    "    log_dir.mkdir(exist_ok=True)\n",
    "    log_dir_gru = log_dir / model_name\n",
    "    log_dir_gru.mkdir(exist_ok=True)\n",
    "    return log_dir_gru"
   ]
  },
  {
   "cell_type": "code",
   "execution_count": 13,
   "metadata": {},
   "outputs": [],
   "source": [
    "log_dir = logdir(\"GRU_embedding2\")"
   ]
  },
  {
   "cell_type": "code",
   "execution_count": 14,
   "metadata": {},
   "outputs": [],
   "source": [
    "keras.backend.clear_session()\n",
    "model = keras.models.Sequential([\n",
    "    keras.layers.Embedding(n_notes, 10, input_shape=[None, 4]),\n",
    "    keras.layers.Reshape((-1, 40)),\n",
    "    keras.layers.GRU(100, return_sequences=True),\n",
    "    keras.layers.GRU(200, return_sequences=True),\n",
    "    keras.layers.GRU(200, return_sequences=True),\n",
    "    keras.layers.GRU(200),\n",
    "    keras.layers.Dense(188),\n",
    "    keras.layers.Reshape((-1, 4, 47)),\n",
    "    keras.layers.Softmax()\n",
    "])"
   ]
  },
  {
   "cell_type": "code",
   "execution_count": 15,
   "metadata": {},
   "outputs": [
    {
     "name": "stdout",
     "output_type": "stream",
     "text": [
      "Epoch 1/100\n",
      "8/8 [==============================] - 33s 4s/step - loss: 3.6964 - accuracy: 0.1085 - val_loss: 2.7710 - val_accuracy: 0.2434\n",
      "Epoch 2/100\n",
      "8/8 [==============================] - 24s 3s/step - loss: 2.6533 - accuracy: 0.1967 - val_loss: 2.5379 - val_accuracy: 0.2434\n",
      "Epoch 3/100\n",
      "8/8 [==============================] - 25s 3s/step - loss: 2.4716 - accuracy: 0.2095 - val_loss: 2.4861 - val_accuracy: 0.2434\n",
      "Epoch 4/100\n",
      "8/8 [==============================] - 24s 3s/step - loss: 2.4258 - accuracy: 0.2095 - val_loss: 2.4675 - val_accuracy: 0.2434\n",
      "Epoch 5/100\n",
      "8/8 [==============================] - 25s 3s/step - loss: 2.4072 - accuracy: 0.2127 - val_loss: 2.4506 - val_accuracy: 0.2467\n",
      "Epoch 6/100\n",
      "8/8 [==============================] - 25s 3s/step - loss: 2.3963 - accuracy: 0.2127 - val_loss: 2.4467 - val_accuracy: 0.2566\n",
      "Epoch 7/100\n",
      "8/8 [==============================] - 25s 3s/step - loss: 2.3958 - accuracy: 0.2065 - val_loss: 2.4755 - val_accuracy: 0.2467\n",
      "Epoch 8/100\n",
      "8/8 [==============================] - 26s 3s/step - loss: 2.3968 - accuracy: 0.2149 - val_loss: 2.4460 - val_accuracy: 0.2566\n",
      "Epoch 9/100\n",
      "8/8 [==============================] - 26s 3s/step - loss: 2.3893 - accuracy: 0.2125 - val_loss: 2.4667 - val_accuracy: 0.2467\n",
      "Epoch 10/100\n",
      "8/8 [==============================] - 26s 3s/step - loss: 2.3816 - accuracy: 0.2133 - val_loss: 2.4335 - val_accuracy: 0.2599\n",
      "Epoch 11/100\n",
      "8/8 [==============================] - 27s 3s/step - loss: 2.3696 - accuracy: 0.2185 - val_loss: 2.4265 - val_accuracy: 0.2599\n",
      "Epoch 12/100\n",
      "8/8 [==============================] - 26s 3s/step - loss: 2.3485 - accuracy: 0.2188 - val_loss: 2.4190 - val_accuracy: 0.2599\n",
      "Epoch 13/100\n",
      "8/8 [==============================] - 27s 3s/step - loss: 2.3297 - accuracy: 0.2240 - val_loss: 2.3919 - val_accuracy: 0.2862\n",
      "Epoch 14/100\n",
      "8/8 [==============================] - 26s 3s/step - loss: 2.2850 - accuracy: 0.2440 - val_loss: 2.3622 - val_accuracy: 0.2664\n",
      "Epoch 15/100\n",
      "8/8 [==============================] - 26s 3s/step - loss: 2.1742 - accuracy: 0.2923 - val_loss: 2.3610 - val_accuracy: 0.2697\n",
      "Epoch 16/100\n",
      "8/8 [==============================] - 26s 3s/step - loss: 2.2113 - accuracy: 0.2717 - val_loss: 2.1970 - val_accuracy: 0.3191\n",
      "Epoch 17/100\n",
      "8/8 [==============================] - 26s 3s/step - loss: 2.0115 - accuracy: 0.3407 - val_loss: 2.1583 - val_accuracy: 0.3224\n",
      "Epoch 18/100\n",
      "8/8 [==============================] - 26s 3s/step - loss: 1.9569 - accuracy: 0.3474 - val_loss: 2.1435 - val_accuracy: 0.3224\n",
      "Epoch 19/100\n",
      "8/8 [==============================] - 26s 3s/step - loss: 1.9248 - accuracy: 0.3524 - val_loss: 2.1294 - val_accuracy: 0.3224\n",
      "Epoch 20/100\n",
      "8/8 [==============================] - 27s 3s/step - loss: 1.9130 - accuracy: 0.3479 - val_loss: 2.1052 - val_accuracy: 0.3224\n",
      "Epoch 21/100\n",
      "8/8 [==============================] - 27s 3s/step - loss: 1.8735 - accuracy: 0.3558 - val_loss: 2.0664 - val_accuracy: 0.3289\n",
      "Epoch 22/100\n",
      "8/8 [==============================] - 27s 3s/step - loss: 1.8948 - accuracy: 0.3497 - val_loss: 2.0651 - val_accuracy: 0.3355\n",
      "Epoch 23/100\n",
      "8/8 [==============================] - 26s 3s/step - loss: 1.8659 - accuracy: 0.3679 - val_loss: 2.0381 - val_accuracy: 0.3783\n",
      "Epoch 24/100\n",
      "8/8 [==============================] - 26s 3s/step - loss: 1.8179 - accuracy: 0.3821 - val_loss: 2.0124 - val_accuracy: 0.4243\n",
      "Epoch 25/100\n",
      "8/8 [==============================] - 27s 3s/step - loss: 1.8000 - accuracy: 0.4135 - val_loss: 2.0168 - val_accuracy: 0.4408\n",
      "Epoch 26/100\n",
      "8/8 [==============================] - 26s 3s/step - loss: 1.7618 - accuracy: 0.4196 - val_loss: 2.0836 - val_accuracy: 0.4145\n",
      "Epoch 27/100\n",
      "8/8 [==============================] - 26s 3s/step - loss: 1.7562 - accuracy: 0.4317 - val_loss: 1.9072 - val_accuracy: 0.4868\n",
      "Epoch 28/100\n",
      "8/8 [==============================] - 26s 3s/step - loss: 1.6566 - accuracy: 0.4771 - val_loss: 1.8227 - val_accuracy: 0.4967\n",
      "Epoch 29/100\n",
      "8/8 [==============================] - 27s 3s/step - loss: 1.5689 - accuracy: 0.5112 - val_loss: 1.8275 - val_accuracy: 0.5033\n",
      "Epoch 30/100\n",
      "8/8 [==============================] - 26s 3s/step - loss: 1.5269 - accuracy: 0.5173 - val_loss: 1.7697 - val_accuracy: 0.4868\n",
      "Epoch 31/100\n",
      "8/8 [==============================] - 27s 3s/step - loss: 1.6547 - accuracy: 0.4686 - val_loss: 1.8336 - val_accuracy: 0.4934\n",
      "Epoch 32/100\n",
      "8/8 [==============================] - 27s 3s/step - loss: 1.5453 - accuracy: 0.5134 - val_loss: 1.7699 - val_accuracy: 0.4901\n",
      "Epoch 33/100\n",
      "8/8 [==============================] - 27s 3s/step - loss: 1.4551 - accuracy: 0.5183 - val_loss: 1.7518 - val_accuracy: 0.4967\n",
      "Epoch 34/100\n",
      "8/8 [==============================] - 28s 3s/step - loss: 1.4128 - accuracy: 0.5364 - val_loss: 1.7125 - val_accuracy: 0.5132\n",
      "Epoch 35/100\n",
      "8/8 [==============================] - 27s 3s/step - loss: 1.3701 - accuracy: 0.5429 - val_loss: 1.6964 - val_accuracy: 0.5164\n",
      "Epoch 36/100\n",
      "8/8 [==============================] - 26s 3s/step - loss: 1.3101 - accuracy: 0.5661 - val_loss: 1.6947 - val_accuracy: 0.5197\n",
      "Epoch 37/100\n",
      "8/8 [==============================] - 26s 3s/step - loss: 1.2660 - accuracy: 0.5882 - val_loss: 1.7040 - val_accuracy: 0.5033\n",
      "Epoch 38/100\n",
      "8/8 [==============================] - 27s 3s/step - loss: 1.4046 - accuracy: 0.5523 - val_loss: 1.7534 - val_accuracy: 0.5099\n",
      "Epoch 39/100\n",
      "8/8 [==============================] - 27s 3s/step - loss: 1.2916 - accuracy: 0.5803 - val_loss: 1.6661 - val_accuracy: 0.5296\n",
      "Epoch 40/100\n",
      "8/8 [==============================] - 26s 3s/step - loss: 1.1895 - accuracy: 0.6220 - val_loss: 1.5608 - val_accuracy: 0.5691\n",
      "Epoch 41/100\n",
      "8/8 [==============================] - 26s 3s/step - loss: 1.1239 - accuracy: 0.6467 - val_loss: 1.5730 - val_accuracy: 0.5362\n",
      "Epoch 42/100\n",
      "8/8 [==============================] - 27s 3s/step - loss: 1.1569 - accuracy: 0.6260 - val_loss: 1.6700 - val_accuracy: 0.5461\n",
      "Epoch 43/100\n",
      "8/8 [==============================] - 27s 3s/step - loss: 1.2319 - accuracy: 0.6041 - val_loss: 1.5980 - val_accuracy: 0.5559\n",
      "Epoch 44/100\n",
      "8/8 [==============================] - 27s 3s/step - loss: 1.0313 - accuracy: 0.6724 - val_loss: 1.5258 - val_accuracy: 0.5757\n",
      "Epoch 45/100\n",
      "8/8 [==============================] - 27s 3s/step - loss: 0.9695 - accuracy: 0.6988 - val_loss: 1.4952 - val_accuracy: 0.5789\n",
      "Epoch 46/100\n",
      "8/8 [==============================] - 27s 3s/step - loss: 0.9143 - accuracy: 0.7277 - val_loss: 1.5648 - val_accuracy: 0.5691\n",
      "Epoch 47/100\n",
      "8/8 [==============================] - 27s 3s/step - loss: 0.9264 - accuracy: 0.7203 - val_loss: 1.4827 - val_accuracy: 0.5822\n",
      "Epoch 48/100\n",
      "8/8 [==============================] - 26s 3s/step - loss: 0.8398 - accuracy: 0.7358 - val_loss: 1.4882 - val_accuracy: 0.5822\n",
      "Epoch 49/100\n",
      "8/8 [==============================] - 26s 3s/step - loss: 0.8460 - accuracy: 0.7362 - val_loss: 1.4540 - val_accuracy: 0.6020\n",
      "Epoch 50/100\n",
      "8/8 [==============================] - 27s 3s/step - loss: 0.8720 - accuracy: 0.7328 - val_loss: 1.4497 - val_accuracy: 0.6053\n",
      "Epoch 51/100\n",
      "8/8 [==============================] - 27s 3s/step - loss: 0.7536 - accuracy: 0.7711 - val_loss: 1.4124 - val_accuracy: 0.6151\n",
      "Epoch 52/100\n",
      "8/8 [==============================] - 27s 3s/step - loss: 0.7053 - accuracy: 0.7954 - val_loss: 1.3774 - val_accuracy: 0.6283\n",
      "Epoch 53/100\n",
      "8/8 [==============================] - 27s 3s/step - loss: 0.6605 - accuracy: 0.8117 - val_loss: 1.3341 - val_accuracy: 0.6382\n",
      "Epoch 54/100\n",
      "8/8 [==============================] - 28s 3s/step - loss: 0.6310 - accuracy: 0.8091 - val_loss: 1.6945 - val_accuracy: 0.5625\n",
      "Epoch 55/100\n",
      "8/8 [==============================] - 27s 3s/step - loss: 0.8011 - accuracy: 0.7428 - val_loss: 1.3517 - val_accuracy: 0.6020\n",
      "Epoch 56/100\n",
      "8/8 [==============================] - 27s 3s/step - loss: 0.5990 - accuracy: 0.8423 - val_loss: 1.2655 - val_accuracy: 0.6447\n",
      "Epoch 57/100\n",
      "8/8 [==============================] - 26s 3s/step - loss: 0.5746 - accuracy: 0.8443 - val_loss: 1.2679 - val_accuracy: 0.6513\n",
      "Epoch 58/100\n",
      "8/8 [==============================] - 27s 3s/step - loss: 0.5189 - accuracy: 0.8695 - val_loss: 1.2774 - val_accuracy: 0.6447\n",
      "Epoch 59/100\n",
      "8/8 [==============================] - 26s 3s/step - loss: 0.4841 - accuracy: 0.8762 - val_loss: 1.2637 - val_accuracy: 0.6414\n",
      "Epoch 60/100\n",
      "8/8 [==============================] - 26s 3s/step - loss: 0.4580 - accuracy: 0.8874 - val_loss: 1.2704 - val_accuracy: 0.6349\n",
      "Epoch 61/100\n",
      "8/8 [==============================] - 28s 3s/step - loss: 0.4321 - accuracy: 0.8932 - val_loss: 1.2587 - val_accuracy: 0.6382\n",
      "Epoch 62/100\n",
      "8/8 [==============================] - 27s 3s/step - loss: 0.4081 - accuracy: 0.8954 - val_loss: 1.2643 - val_accuracy: 0.6316\n",
      "Epoch 63/100\n",
      "8/8 [==============================] - 26s 3s/step - loss: 0.3956 - accuracy: 0.8999 - val_loss: 1.2705 - val_accuracy: 0.6283\n",
      "Epoch 64/100\n",
      "8/8 [==============================] - 27s 3s/step - loss: 0.3724 - accuracy: 0.9086 - val_loss: 1.2628 - val_accuracy: 0.6316\n",
      "Epoch 65/100\n",
      "8/8 [==============================] - 27s 3s/step - loss: 0.3680 - accuracy: 0.9082 - val_loss: 1.3315 - val_accuracy: 0.6546\n",
      "Epoch 66/100\n",
      "8/8 [==============================] - 26s 3s/step - loss: 0.3691 - accuracy: 0.9081 - val_loss: 1.2565 - val_accuracy: 0.6447\n",
      "Epoch 67/100\n",
      "8/8 [==============================] - 26s 3s/step - loss: 0.8753 - accuracy: 0.7552 - val_loss: 2.7109 - val_accuracy: 0.3717\n",
      "Epoch 68/100\n",
      "8/8 [==============================] - 26s 3s/step - loss: 2.4616 - accuracy: 0.3544 - val_loss: 2.4277 - val_accuracy: 0.3322\n",
      "Epoch 69/100\n",
      "8/8 [==============================] - 27s 3s/step - loss: 2.0511 - accuracy: 0.3585 - val_loss: 2.0784 - val_accuracy: 0.4013\n",
      "Epoch 70/100\n",
      "8/8 [==============================] - 27s 3s/step - loss: 1.6625 - accuracy: 0.4301 - val_loss: 2.0223 - val_accuracy: 0.4046\n",
      "Epoch 71/100\n",
      "8/8 [==============================] - 27s 3s/step - loss: 1.5111 - accuracy: 0.4813 - val_loss: 1.9816 - val_accuracy: 0.4079\n",
      "Epoch 72/100\n",
      "8/8 [==============================] - 27s 3s/step - loss: 1.4161 - accuracy: 0.4969 - val_loss: 1.9047 - val_accuracy: 0.4638\n",
      "Epoch 73/100\n",
      "8/8 [==============================] - 27s 3s/step - loss: 1.3497 - accuracy: 0.5700 - val_loss: 1.8562 - val_accuracy: 0.4967\n",
      "Epoch 74/100\n",
      "8/8 [==============================] - 27s 3s/step - loss: 1.2374 - accuracy: 0.6277 - val_loss: 1.9133 - val_accuracy: 0.4770\n",
      "Epoch 75/100\n",
      "8/8 [==============================] - 26s 3s/step - loss: 1.2706 - accuracy: 0.6384 - val_loss: 1.8226 - val_accuracy: 0.5230\n",
      "Epoch 76/100\n",
      "8/8 [==============================] - 26s 3s/step - loss: 1.2405 - accuracy: 0.6422 - val_loss: 1.7915 - val_accuracy: 0.5526\n"
     ]
    },
    {
     "data": {
      "text/plain": [
       "<tensorflow.python.keras.callbacks.History at 0x21d7b80d848>"
      ]
     },
     "execution_count": 15,
     "metadata": {},
     "output_type": "execute_result"
    }
   ],
   "source": [
    "model.compile(optimizer=\"Nadam\", loss=\"sparse_categorical_crossentropy\", metrics=[\"accuracy\"])\n",
    "model.fit(train_set, epochs=100, \n",
    "          callbacks=[keras.callbacks.EarlyStopping(patience=10),\n",
    "                    keras.callbacks.TensorBoard(log_dir=log_dir)],\n",
    "         validation_data=valid_set)"
   ]
  },
  {
   "cell_type": "markdown",
   "metadata": {},
   "source": [
    "### RNN + CNN model"
   ]
  },
  {
   "cell_type": "code",
   "execution_count": 12,
   "metadata": {},
   "outputs": [],
   "source": [
    "def logdir(model_name):\n",
    "    cur_dir = Path(\".\")\n",
    "    jyp_dir = cur_dir.absolute().parent\n",
    "    log_dir = jyp_dir / \"my_logs\" / \"chorales\"\n",
    "    log_dir.mkdir(exist_ok=True)\n",
    "    log_dir_gru = log_dir / model_name\n",
    "    log_dir_gru.mkdir(exist_ok=True)\n",
    "    return log_dir_gru"
   ]
  },
  {
   "cell_type": "code",
   "execution_count": 13,
   "metadata": {},
   "outputs": [],
   "source": [
    "log_dir = logdir(\"GRU_embedding3\")"
   ]
  },
  {
   "cell_type": "code",
   "execution_count": 19,
   "metadata": {},
   "outputs": [],
   "source": [
    "keras.backend.clear_session()\n",
    "model = keras.models.Sequential([\n",
    "    keras.layers.Embedding(n_notes, 10, input_shape=[None, 4]),\n",
    "    keras.layers.Reshape((-1, 40)),\n",
    "    keras.layers.Conv1D(filters=100, kernel_size=4, strides=4, padding=\"valid\"),\n",
    "    keras.layers.Conv1D(filters=100, kernel_size=4, strides=2, padding='valid'),\n",
    "    keras.layers.Conv1D(filters=200, kernel_size=4, strides=2, padding=\"valid\"),\n",
    "    keras.layers.GRU(200, return_sequences=True),\n",
    "    keras.layers.GRU(200, return_sequences=True),\n",
    "    keras.layers.GRU(200),\n",
    "    keras.layers.Dense(188),\n",
    "    keras.layers.Reshape((-1, 4, 47)),\n",
    "    keras.layers.Softmax()\n",
    "])"
   ]
  },
  {
   "cell_type": "code",
   "execution_count": 20,
   "metadata": {},
   "outputs": [
    {
     "name": "stdout",
     "output_type": "stream",
     "text": [
      "Epoch 1/100\n",
      "8/8 [==============================] - 7s 376ms/step - loss: 3.5572 - accuracy: 0.1817 - val_loss: 2.8476 - val_accuracy: 0.1579\n",
      "Epoch 2/100\n",
      "8/8 [==============================] - 1s 88ms/step - loss: 2.5500 - accuracy: 0.2197 - val_loss: 2.6604 - val_accuracy: 0.1579\n",
      "Epoch 3/100\n",
      "8/8 [==============================] - 1s 83ms/step - loss: 2.4282 - accuracy: 0.2318 - val_loss: 2.6029 - val_accuracy: 0.1579\n",
      "Epoch 4/100\n",
      "8/8 [==============================] - 1s 83ms/step - loss: 2.3882 - accuracy: 0.2318 - val_loss: 2.5791 - val_accuracy: 0.1579\n",
      "Epoch 5/100\n",
      "8/8 [==============================] - 1s 84ms/step - loss: 2.3719 - accuracy: 0.2318 - val_loss: 2.5685 - val_accuracy: 0.1579\n",
      "Epoch 6/100\n",
      "8/8 [==============================] - 1s 83ms/step - loss: 2.3641 - accuracy: 0.2325 - val_loss: 2.5638 - val_accuracy: 0.1579\n",
      "Epoch 7/100\n",
      "8/8 [==============================] - 1s 82ms/step - loss: 2.3589 - accuracy: 0.2317 - val_loss: 2.5558 - val_accuracy: 0.2401\n",
      "Epoch 8/100\n",
      "8/8 [==============================] - 1s 83ms/step - loss: 2.3520 - accuracy: 0.2647 - val_loss: 2.6056 - val_accuracy: 0.2434\n",
      "Epoch 9/100\n",
      "8/8 [==============================] - 1s 84ms/step - loss: 2.3527 - accuracy: 0.2679 - val_loss: 2.6146 - val_accuracy: 0.1250\n",
      "Epoch 10/100\n",
      "8/8 [==============================] - 1s 88ms/step - loss: 2.3804 - accuracy: 0.2146 - val_loss: 2.5584 - val_accuracy: 0.1579\n",
      "Epoch 11/100\n",
      "8/8 [==============================] - 1s 84ms/step - loss: 2.3457 - accuracy: 0.2337 - val_loss: 2.5260 - val_accuracy: 0.2467\n",
      "Epoch 12/100\n",
      "8/8 [==============================] - 1s 84ms/step - loss: 2.3144 - accuracy: 0.2723 - val_loss: 2.5037 - val_accuracy: 0.2467\n",
      "Epoch 13/100\n",
      "8/8 [==============================] - 1s 82ms/step - loss: 2.2597 - accuracy: 0.2854 - val_loss: 2.4218 - val_accuracy: 0.2763\n",
      "Epoch 14/100\n",
      "8/8 [==============================] - 1s 82ms/step - loss: 2.1333 - accuracy: 0.3348 - val_loss: 3.3536 - val_accuracy: 0.0757\n",
      "Epoch 15/100\n",
      "8/8 [==============================] - 1s 82ms/step - loss: 2.5750 - accuracy: 0.2417 - val_loss: 2.4926 - val_accuracy: 0.2434\n",
      "Epoch 16/100\n",
      "8/8 [==============================] - 1s 84ms/step - loss: 2.1754 - accuracy: 0.3086 - val_loss: 2.4845 - val_accuracy: 0.2697\n",
      "Epoch 17/100\n",
      "8/8 [==============================] - 1s 83ms/step - loss: 2.3184 - accuracy: 0.2600 - val_loss: 2.4272 - val_accuracy: 0.2632\n",
      "Epoch 18/100\n",
      "8/8 [==============================] - 1s 83ms/step - loss: 2.0929 - accuracy: 0.3509 - val_loss: 2.3477 - val_accuracy: 0.2928\n",
      "Epoch 19/100\n",
      "8/8 [==============================] - 1s 84ms/step - loss: 1.9762 - accuracy: 0.3713 - val_loss: 2.2782 - val_accuracy: 0.3158\n",
      "Epoch 20/100\n",
      "8/8 [==============================] - 1s 82ms/step - loss: 1.8756 - accuracy: 0.4006 - val_loss: 2.2562 - val_accuracy: 0.3158\n",
      "Epoch 21/100\n",
      "8/8 [==============================] - 1s 82ms/step - loss: 1.8362 - accuracy: 0.4071 - val_loss: 2.2504 - val_accuracy: 0.3224\n",
      "Epoch 22/100\n",
      "8/8 [==============================] - 1s 82ms/step - loss: 1.7880 - accuracy: 0.4241 - val_loss: 2.2255 - val_accuracy: 0.3289\n",
      "Epoch 23/100\n",
      "8/8 [==============================] - 1s 82ms/step - loss: 1.8589 - accuracy: 0.4235 - val_loss: 2.1846 - val_accuracy: 0.3421\n",
      "Epoch 24/100\n",
      "8/8 [==============================] - 1s 83ms/step - loss: 1.7255 - accuracy: 0.4628 - val_loss: 2.1181 - val_accuracy: 0.3849\n",
      "Epoch 25/100\n",
      "8/8 [==============================] - 1s 82ms/step - loss: 1.8559 - accuracy: 0.4403 - val_loss: 2.1251 - val_accuracy: 0.3586\n",
      "Epoch 26/100\n",
      "8/8 [==============================] - 1s 84ms/step - loss: 1.6168 - accuracy: 0.4920 - val_loss: 2.1341 - val_accuracy: 0.3553\n",
      "Epoch 27/100\n",
      "8/8 [==============================] - 1s 89ms/step - loss: 1.5872 - accuracy: 0.4934 - val_loss: 2.0394 - val_accuracy: 0.4079\n",
      "Epoch 28/100\n",
      "8/8 [==============================] - 1s 85ms/step - loss: 1.4883 - accuracy: 0.5429 - val_loss: 2.0666 - val_accuracy: 0.4145\n",
      "Epoch 29/100\n",
      "8/8 [==============================] - 1s 83ms/step - loss: 1.5059 - accuracy: 0.5365 - val_loss: 2.0785 - val_accuracy: 0.3914\n",
      "Epoch 30/100\n",
      "8/8 [==============================] - 1s 83ms/step - loss: 1.4015 - accuracy: 0.5642 - val_loss: 2.0419 - val_accuracy: 0.4243\n",
      "Epoch 31/100\n",
      "8/8 [==============================] - 1s 89ms/step - loss: 1.4555 - accuracy: 0.5378 - val_loss: 2.3765 - val_accuracy: 0.3684\n",
      "Epoch 32/100\n",
      "8/8 [==============================] - 1s 86ms/step - loss: 1.5479 - accuracy: 0.5097 - val_loss: 2.0829 - val_accuracy: 0.4046\n",
      "Epoch 33/100\n",
      "8/8 [==============================] - 1s 82ms/step - loss: 1.3388 - accuracy: 0.5980 - val_loss: 1.9398 - val_accuracy: 0.4441\n",
      "Epoch 34/100\n",
      "8/8 [==============================] - 1s 84ms/step - loss: 1.2306 - accuracy: 0.6250 - val_loss: 1.9303 - val_accuracy: 0.4441\n",
      "Epoch 35/100\n",
      "8/8 [==============================] - 1s 82ms/step - loss: 1.1601 - accuracy: 0.6389 - val_loss: 1.9243 - val_accuracy: 0.4671\n",
      "Epoch 36/100\n",
      "8/8 [==============================] - 1s 81ms/step - loss: 1.1239 - accuracy: 0.6486 - val_loss: 2.0126 - val_accuracy: 0.4441\n",
      "Epoch 37/100\n",
      "8/8 [==============================] - 1s 83ms/step - loss: 1.1290 - accuracy: 0.6307 - val_loss: 2.0801 - val_accuracy: 0.3980\n",
      "Epoch 38/100\n",
      "8/8 [==============================] - 1s 82ms/step - loss: 1.2225 - accuracy: 0.5899 - val_loss: 1.8943 - val_accuracy: 0.4605\n",
      "Epoch 39/100\n",
      "8/8 [==============================] - 1s 81ms/step - loss: 1.0425 - accuracy: 0.6551 - val_loss: 1.9066 - val_accuracy: 0.4967\n",
      "Epoch 40/100\n",
      "8/8 [==============================] - 1s 82ms/step - loss: 1.1544 - accuracy: 0.6229 - val_loss: 1.8208 - val_accuracy: 0.4868\n",
      "Epoch 41/100\n",
      "8/8 [==============================] - 1s 84ms/step - loss: 0.9872 - accuracy: 0.6708 - val_loss: 1.8469 - val_accuracy: 0.4803\n",
      "Epoch 42/100\n",
      "8/8 [==============================] - 1s 82ms/step - loss: 0.9047 - accuracy: 0.7229 - val_loss: 1.8978 - val_accuracy: 0.4770\n",
      "Epoch 43/100\n",
      "8/8 [==============================] - 1s 82ms/step - loss: 0.8623 - accuracy: 0.7431 - val_loss: 1.8328 - val_accuracy: 0.4704\n",
      "Epoch 44/100\n",
      "8/8 [==============================] - 1s 82ms/step - loss: 1.1192 - accuracy: 0.6460 - val_loss: 2.1993 - val_accuracy: 0.3914\n",
      "Epoch 45/100\n",
      "8/8 [==============================] - 1s 80ms/step - loss: 1.1604 - accuracy: 0.6154 - val_loss: 2.4114 - val_accuracy: 0.3947\n",
      "Epoch 46/100\n",
      "8/8 [==============================] - 1s 83ms/step - loss: 1.3113 - accuracy: 0.6024 - val_loss: 2.0924 - val_accuracy: 0.4243\n",
      "Epoch 47/100\n",
      "8/8 [==============================] - 1s 84ms/step - loss: 0.9259 - accuracy: 0.6824 - val_loss: 1.9558 - val_accuracy: 0.4145\n",
      "Epoch 48/100\n",
      "8/8 [==============================] - 1s 82ms/step - loss: 0.8636 - accuracy: 0.6962 - val_loss: 2.0983 - val_accuracy: 0.4243\n",
      "Epoch 49/100\n",
      "8/8 [==============================] - 1s 84ms/step - loss: 0.8014 - accuracy: 0.7505 - val_loss: 2.0499 - val_accuracy: 0.4342\n",
      "Epoch 50/100\n",
      "8/8 [==============================] - 1s 86ms/step - loss: 0.7107 - accuracy: 0.7725 - val_loss: 2.0792 - val_accuracy: 0.4408\n"
     ]
    },
    {
     "data": {
      "text/plain": [
       "<tensorflow.python.keras.callbacks.History at 0x1c11e8a0c08>"
      ]
     },
     "execution_count": 20,
     "metadata": {},
     "output_type": "execute_result"
    }
   ],
   "source": [
    "model.compile(optimizer=\"Nadam\", loss=\"sparse_categorical_crossentropy\", metrics=[\"accuracy\"])\n",
    "model.fit(train_set, epochs=100, \n",
    "          callbacks=[keras.callbacks.EarlyStopping(patience=10),\n",
    "                    keras.callbacks.TensorBoard(log_dir=log_dir)],\n",
    "         validation_data=valid_set)"
   ]
  },
  {
   "cell_type": "code",
   "execution_count": 21,
   "metadata": {},
   "outputs": [
    {
     "name": "stdout",
     "output_type": "stream",
     "text": [
      "3/3 [==============================] - 0s 20ms/step - loss: 2.0208 - accuracy: 0.4253\n"
     ]
    },
    {
     "data": {
      "text/plain": [
       "[2.0207560062408447, 0.4253246784210205]"
      ]
     },
     "execution_count": 21,
     "metadata": {},
     "output_type": "execute_result"
    }
   ],
   "source": [
    "model.evaluate(test_set)"
   ]
  },
  {
   "cell_type": "markdown",
   "metadata": {},
   "source": [
    "### CNN model ( WAVENET )  "
   ]
  },
  {
   "cell_type": "code",
   "execution_count": 12,
   "metadata": {},
   "outputs": [],
   "source": [
    "def logdir(model_name):\n",
    "    cur_dir = Path(\".\")\n",
    "    jyp_dir = cur_dir.absolute().parent\n",
    "    log_dir = jyp_dir / \"my_logs\" / \"chorales\"\n",
    "    log_dir.mkdir(exist_ok=True)\n",
    "    log_dir_gru = log_dir / model_name\n",
    "    log_dir_gru.mkdir(exist_ok=True)\n",
    "    return log_dir_gru"
   ]
  },
  {
   "cell_type": "code",
   "execution_count": 13,
   "metadata": {},
   "outputs": [],
   "source": [
    "log_dir = logdir(\"wavenet_embedding\")"
   ]
  },
  {
   "cell_type": "code",
   "execution_count": 22,
   "metadata": {},
   "outputs": [],
   "source": [
    "keras.backend.clear_session()\n",
    "\n",
    "model = keras.models.Sequential()\n",
    "model.add(keras.layers.Embedding(n_notes, 10, input_shape=[None, 4]))\n",
    "model.add(keras.layers.Reshape((-1, 40)))\n",
    "\n",
    "for rate in (1, 2, 4, 8, 16) * 2:\n",
    "    model.add(keras.layers.Conv1D(filters=200, kernel_size=4, padding='causal', dilation_rate=rate))\n",
    "model.add(keras.layers.GRU(500))\n",
    "model.add(keras.layers.Flatten())\n",
    "model.add(keras.layers.Dense(188))\n",
    "model.add(keras.layers.Reshape((-1, 4, 47)))\n",
    "model.add(keras.layers.Softmax())"
   ]
  },
  {
   "cell_type": "code",
   "execution_count": 23,
   "metadata": {},
   "outputs": [
    {
     "name": "stdout",
     "output_type": "stream",
     "text": [
      "Epoch 1/100\n",
      "8/8 [==============================] - 27s 3s/step - loss: 3.5001 - accuracy: 0.1356 - val_loss: 2.7109 - val_accuracy: 0.2072\n",
      "Epoch 2/100\n",
      "8/8 [==============================] - 23s 3s/step - loss: 2.5570 - accuracy: 0.1791 - val_loss: 2.6050 - val_accuracy: 0.1020\n",
      "Epoch 3/100\n",
      "8/8 [==============================] - 25s 3s/step - loss: 2.3779 - accuracy: 0.1904 - val_loss: 2.6321 - val_accuracy: 0.2039\n",
      "Epoch 4/100\n",
      "8/8 [==============================] - 24s 3s/step - loss: 2.3768 - accuracy: 0.2186 - val_loss: 2.5219 - val_accuracy: 0.2072\n",
      "Epoch 5/100\n",
      "8/8 [==============================] - 24s 3s/step - loss: 2.3551 - accuracy: 0.2009 - val_loss: 2.5564 - val_accuracy: 0.1612\n",
      "Epoch 6/100\n",
      "8/8 [==============================] - 24s 3s/step - loss: 2.3642 - accuracy: 0.2152 - val_loss: 2.5392 - val_accuracy: 0.1776\n",
      "Epoch 7/100\n",
      "8/8 [==============================] - 24s 3s/step - loss: 2.3801 - accuracy: 0.1690 - val_loss: 2.5849 - val_accuracy: 0.1447\n",
      "Epoch 8/100\n",
      "8/8 [==============================] - 25s 3s/step - loss: 2.3650 - accuracy: 0.2102 - val_loss: 2.5320 - val_accuracy: 0.1875\n",
      "Epoch 9/100\n",
      "8/8 [==============================] - 25s 3s/step - loss: 2.3505 - accuracy: 0.2238 - val_loss: 2.5660 - val_accuracy: 0.1349\n",
      "Epoch 10/100\n",
      "8/8 [==============================] - 26s 3s/step - loss: 2.3851 - accuracy: 0.1890 - val_loss: 2.6778 - val_accuracy: 0.1579\n",
      "Epoch 11/100\n",
      "8/8 [==============================] - 24s 3s/step - loss: 2.3882 - accuracy: 0.1963 - val_loss: 2.5194 - val_accuracy: 0.2072\n",
      "Epoch 12/100\n",
      "8/8 [==============================] - 24s 3s/step - loss: 2.3379 - accuracy: 0.2167 - val_loss: 2.5135 - val_accuracy: 0.2039\n",
      "Epoch 13/100\n",
      "8/8 [==============================] - 24s 3s/step - loss: 2.3316 - accuracy: 0.2256 - val_loss: 2.5251 - val_accuracy: 0.2072\n",
      "Epoch 14/100\n",
      "8/8 [==============================] - 24s 3s/step - loss: 2.3687 - accuracy: 0.2371 - val_loss: 2.4876 - val_accuracy: 0.2007\n",
      "Epoch 15/100\n",
      "8/8 [==============================] - 24s 3s/step - loss: 2.3580 - accuracy: 0.2424 - val_loss: 2.5839 - val_accuracy: 0.2105\n",
      "Epoch 16/100\n",
      "8/8 [==============================] - 24s 3s/step - loss: 2.3945 - accuracy: 0.2428 - val_loss: 2.5817 - val_accuracy: 0.1283\n",
      "Epoch 17/100\n",
      "8/8 [==============================] - 24s 3s/step - loss: 2.6939 - accuracy: 0.1643 - val_loss: 4.0279 - val_accuracy: 0.0428\n",
      "Epoch 18/100\n",
      "8/8 [==============================] - 24s 3s/step - loss: 3.3421 - accuracy: 0.0782 - val_loss: 2.4998 - val_accuracy: 0.2072\n",
      "Epoch 19/100\n",
      "8/8 [==============================] - 24s 3s/step - loss: 2.3487 - accuracy: 0.2240 - val_loss: 2.5065 - val_accuracy: 0.2434\n",
      "Epoch 20/100\n",
      "8/8 [==============================] - 24s 3s/step - loss: 2.4058 - accuracy: 0.2447 - val_loss: 2.6504 - val_accuracy: 0.1809\n",
      "Epoch 21/100\n",
      "8/8 [==============================] - 24s 3s/step - loss: 2.4988 - accuracy: 0.1612 - val_loss: 2.5282 - val_accuracy: 0.2434\n",
      "Epoch 22/100\n",
      "8/8 [==============================] - 23s 3s/step - loss: 2.3791 - accuracy: 0.2683 - val_loss: 2.5154 - val_accuracy: 0.2138\n",
      "Epoch 23/100\n",
      "8/8 [==============================] - 24s 3s/step - loss: 2.3595 - accuracy: 0.2206 - val_loss: 2.5081 - val_accuracy: 0.2072\n",
      "Epoch 24/100\n",
      "8/8 [==============================] - 24s 3s/step - loss: 2.3434 - accuracy: 0.2181 - val_loss: 2.5232 - val_accuracy: 0.1645\n"
     ]
    },
    {
     "data": {
      "text/plain": [
       "<tensorflow.python.keras.callbacks.History at 0x2b1881706c8>"
      ]
     },
     "execution_count": 23,
     "metadata": {},
     "output_type": "execute_result"
    }
   ],
   "source": [
    "model.compile(optimizer=\"Nadam\", loss=\"sparse_categorical_crossentropy\", metrics=[\"accuracy\"])\n",
    "model.fit(train_set, epochs=100, \n",
    "          callbacks=[keras.callbacks.EarlyStopping(patience=10),\n",
    "                    keras.callbacks.TensorBoard(log_dir=log_dir)],\n",
    "         validation_data=valid_set)"
   ]
  },
  {
   "cell_type": "markdown",
   "metadata": {},
   "source": [
    "## my pipeline3 ( embedding and sequence loss )"
   ]
  },
  {
   "cell_type": "code",
   "execution_count": 46,
   "metadata": {},
   "outputs": [],
   "source": [
    "class Pipeline3:\n",
    "    def __init__(self, n_notes, min_notes):\n",
    "        self.n_notes = n_notes\n",
    "        self.min_notes = min_notes\n",
    "        \n",
    "    def shift(self, sample):\n",
    "        return tf.where(sample == 0, 0, sample - self.min_notes + 1)\n",
    "    \n",
    "    def one_hot(self, batch_x): \n",
    "        return tf.one_hot(batch_x, self.n_notes)\n",
    "    \n",
    "    def xysplit(self, batch):\n",
    "        batch = tf.map_fn(self.shift, batch)\n",
    "        x, y = batch[:, :-1].to_tensor(), batch[:, 1:].to_tensor()\n",
    "        x.set_shape([None, None, 4])\n",
    "        y.set_shape([None, None, 4])\n",
    "        return x, y\n",
    "    \n",
    "    def __call__(self, data, shuffle_buffer=None):\n",
    "        data_ragged = tf.ragged.constant(data, ragged_rank=1)\n",
    "        dataset = tf.data.Dataset.from_tensor_slices(data_ragged)\n",
    "        \n",
    "        if shuffle_buffer:\n",
    "            dataset = dataset.shuffle(shuffle_buffer)\n",
    "        dataset = dataset.batch(32).map(self.xysplit).cache().prefetch(1)\n",
    "        return dataset"
   ]
  },
  {
   "cell_type": "code",
   "execution_count": 47,
   "metadata": {},
   "outputs": [],
   "source": [
    "pipeline = Pipeline3(n_notes, min_notes)"
   ]
  },
  {
   "cell_type": "code",
   "execution_count": 48,
   "metadata": {},
   "outputs": [],
   "source": [
    "train_set = pipeline(train_data, shuffle_buffer=500)\n",
    "valid_set = pipeline(valid_data)\n",
    "test_set = pipeline(test_data)"
   ]
  },
  {
   "cell_type": "code",
   "execution_count": 50,
   "metadata": {},
   "outputs": [],
   "source": [
    "def logdir(model_name):\n",
    "    cur_dir = Path(\".\")\n",
    "    jyp_dir = cur_dir.absolute().parent\n",
    "    log_dir = jyp_dir / \"my_logs\" / \"chorales\"\n",
    "    log_dir.mkdir(exist_ok=True)\n",
    "    log_dir_gru = log_dir / model_name\n",
    "    log_dir_gru.mkdir(exist_ok=True)\n",
    "    return log_dir_gru"
   ]
  },
  {
   "cell_type": "markdown",
   "metadata": {},
   "source": [
    "### RNN model ( GRU )"
   ]
  },
  {
   "cell_type": "code",
   "execution_count": 51,
   "metadata": {},
   "outputs": [],
   "source": [
    "log_dir = logdir(\"GRU_sequenceloss\")"
   ]
  },
  {
   "cell_type": "code",
   "execution_count": 56,
   "metadata": {},
   "outputs": [],
   "source": [
    "keras.backend.clear_session()\n",
    "model = keras.models.Sequential([\n",
    "    keras.layers.Embedding(n_notes, 10, input_shape=[None, 4]),\n",
    "    keras.layers.Reshape((-1, 40)),\n",
    "    keras.layers.GRU(100, return_sequences=True),\n",
    "    keras.layers.GRU(200, return_sequences=True),\n",
    "    keras.layers.GRU(200, return_sequences=True),\n",
    "    keras.layers.GRU(200, return_sequences=True),\n",
    "    keras.layers.TimeDistributed(\n",
    "        keras.layers.Dense(188)),\n",
    "    keras.layers.TimeDistributed(\n",
    "        keras.layers.Reshape((4, 47))),\n",
    "    keras.layers.Softmax()\n",
    "])"
   ]
  },
  {
   "cell_type": "code",
   "execution_count": 62,
   "metadata": {},
   "outputs": [
    {
     "name": "stdout",
     "output_type": "stream",
     "text": [
      "Epoch 1/100\n",
      "8/8 [==============================] - 33s 3s/step - loss: 3.5410 - accuracy: 0.3136 - val_loss: 1.9238 - val_accuracy: 0.5652\n",
      "Epoch 2/100\n",
      "8/8 [==============================] - 25s 3s/step - loss: 1.9916 - accuracy: 0.4848 - val_loss: 1.4575 - val_accuracy: 0.5691\n",
      "Epoch 3/100\n",
      "8/8 [==============================] - 26s 3s/step - loss: 1.6434 - accuracy: 0.4998 - val_loss: 1.2971 - val_accuracy: 0.6226\n",
      "Epoch 4/100\n",
      "8/8 [==============================] - 26s 3s/step - loss: 1.4779 - accuracy: 0.5554 - val_loss: 1.2326 - val_accuracy: 0.6245\n",
      "Epoch 5/100\n",
      "8/8 [==============================] - 26s 3s/step - loss: 1.4187 - accuracy: 0.5591 - val_loss: 1.2064 - val_accuracy: 0.6278\n",
      "Epoch 6/100\n",
      "8/8 [==============================] - 26s 3s/step - loss: 1.3926 - accuracy: 0.5637 - val_loss: 1.1957 - val_accuracy: 0.6305\n",
      "Epoch 7/100\n",
      "8/8 [==============================] - 26s 3s/step - loss: 1.3742 - accuracy: 0.5673 - val_loss: 1.1767 - val_accuracy: 0.6336\n",
      "Epoch 8/100\n",
      "8/8 [==============================] - 26s 3s/step - loss: 1.3600 - accuracy: 0.5706 - val_loss: 1.1510 - val_accuracy: 0.6379\n",
      "Epoch 9/100\n",
      "8/8 [==============================] - 27s 3s/step - loss: 1.3348 - accuracy: 0.5759 - val_loss: 1.1540 - val_accuracy: 0.6352\n",
      "Epoch 10/100\n",
      "8/8 [==============================] - 30s 4s/step - loss: 1.3279 - accuracy: 0.5739 - val_loss: 1.1396 - val_accuracy: 0.6395\n",
      "Epoch 11/100\n",
      "8/8 [==============================] - 31s 4s/step - loss: 1.3030 - accuracy: 0.5801 - val_loss: 1.1127 - val_accuracy: 0.6446\n",
      "Epoch 12/100\n",
      "8/8 [==============================] - 31s 4s/step - loss: 1.2805 - accuracy: 0.5846 - val_loss: 1.0953 - val_accuracy: 0.6474\n",
      "Epoch 13/100\n",
      "8/8 [==============================] - 31s 4s/step - loss: 1.2659 - accuracy: 0.5871 - val_loss: 1.0798 - val_accuracy: 0.6505\n",
      "Epoch 14/100\n",
      "8/8 [==============================] - 29s 3s/step - loss: 1.2441 - accuracy: 0.5919 - val_loss: 1.0564 - val_accuracy: 0.6536\n",
      "Epoch 15/100\n",
      "8/8 [==============================] - 27s 3s/step - loss: 1.2252 - accuracy: 0.5942 - val_loss: 1.0993 - val_accuracy: 0.6425\n",
      "Epoch 16/100\n",
      "8/8 [==============================] - 27s 3s/step - loss: 2.4125 - accuracy: 0.5376 - val_loss: 1.5550 - val_accuracy: 0.6132\n",
      "Epoch 17/100\n",
      "8/8 [==============================] - 27s 3s/step - loss: 1.6123 - accuracy: 0.5496 - val_loss: 1.1936 - val_accuracy: 0.6495\n",
      "Epoch 18/100\n",
      "8/8 [==============================] - 27s 3s/step - loss: 1.3325 - accuracy: 0.5894 - val_loss: 1.0961 - val_accuracy: 0.6558\n",
      "Epoch 19/100\n",
      "8/8 [==============================] - 27s 3s/step - loss: 1.2511 - accuracy: 0.5955 - val_loss: 1.0632 - val_accuracy: 0.6595\n",
      "Epoch 20/100\n",
      "8/8 [==============================] - 27s 3s/step - loss: 1.2187 - accuracy: 0.5984 - val_loss: 1.0511 - val_accuracy: 0.6615\n",
      "Epoch 21/100\n",
      "8/8 [==============================] - 28s 3s/step - loss: 1.2031 - accuracy: 0.6016 - val_loss: 1.0366 - val_accuracy: 0.6644\n",
      "Epoch 22/100\n",
      "8/8 [==============================] - 28s 3s/step - loss: 1.1856 - accuracy: 0.6054 - val_loss: 1.0274 - val_accuracy: 0.6672\n",
      "Epoch 23/100\n",
      "8/8 [==============================] - 28s 3s/step - loss: 1.1748 - accuracy: 0.6085 - val_loss: 1.0222 - val_accuracy: 0.6684\n",
      "Epoch 24/100\n",
      "8/8 [==============================] - 27s 3s/step - loss: 1.1659 - accuracy: 0.6122 - val_loss: 1.0123 - val_accuracy: 0.6713\n",
      "Epoch 25/100\n",
      "8/8 [==============================] - 28s 3s/step - loss: 1.1540 - accuracy: 0.6159 - val_loss: 1.0077 - val_accuracy: 0.6721\n",
      "Epoch 26/100\n",
      "8/8 [==============================] - 28s 3s/step - loss: 1.1482 - accuracy: 0.6175 - val_loss: 1.0052 - val_accuracy: 0.6723\n",
      "Epoch 27/100\n",
      "8/8 [==============================] - 28s 3s/step - loss: 1.1427 - accuracy: 0.6193 - val_loss: 0.9969 - val_accuracy: 0.6746\n",
      "Epoch 28/100\n",
      "8/8 [==============================] - 28s 3s/step - loss: 1.1329 - accuracy: 0.6228 - val_loss: 0.9925 - val_accuracy: 0.6762\n",
      "Epoch 29/100\n",
      "8/8 [==============================] - 28s 3s/step - loss: 1.1279 - accuracy: 0.6246 - val_loss: 0.9920 - val_accuracy: 0.6766\n",
      "Epoch 30/100\n",
      "8/8 [==============================] - 28s 3s/step - loss: 1.1256 - accuracy: 0.6252 - val_loss: 0.9852 - val_accuracy: 0.6786\n",
      "Epoch 31/100\n",
      "8/8 [==============================] - 28s 3s/step - loss: 1.1171 - accuracy: 0.6286 - val_loss: 0.9791 - val_accuracy: 0.6804\n",
      "Epoch 32/100\n",
      "8/8 [==============================] - 28s 3s/step - loss: 1.1107 - accuracy: 0.6310 - val_loss: 0.9771 - val_accuracy: 0.6810\n",
      "Epoch 33/100\n",
      "8/8 [==============================] - 28s 3s/step - loss: 1.1087 - accuracy: 0.6312 - val_loss: 0.9746 - val_accuracy: 0.6820\n",
      "Epoch 34/100\n",
      "8/8 [==============================] - 28s 3s/step - loss: 1.1042 - accuracy: 0.6323 - val_loss: 0.9667 - val_accuracy: 0.6847\n",
      "Epoch 35/100\n",
      "8/8 [==============================] - 28s 3s/step - loss: 1.0951 - accuracy: 0.6360 - val_loss: 0.9614 - val_accuracy: 0.6866\n",
      "Epoch 36/100\n",
      "8/8 [==============================] - 28s 3s/step - loss: 1.0894 - accuracy: 0.6379 - val_loss: 0.9593 - val_accuracy: 0.6881\n",
      "Epoch 37/100\n",
      "8/8 [==============================] - 28s 3s/step - loss: 1.0872 - accuracy: 0.6379 - val_loss: 0.9552 - val_accuracy: 0.6887\n",
      "Epoch 38/100\n",
      "8/8 [==============================] - 28s 3s/step - loss: 1.0789 - accuracy: 0.6399 - val_loss: 0.9430 - val_accuracy: 0.6918\n",
      "Epoch 39/100\n",
      "8/8 [==============================] - 28s 3s/step - loss: 1.0638 - accuracy: 0.6447 - val_loss: 0.9300 - val_accuracy: 0.6961\n",
      "Epoch 40/100\n",
      "8/8 [==============================] - 28s 3s/step - loss: 1.0507 - accuracy: 0.6495 - val_loss: 0.9158 - val_accuracy: 0.6990\n",
      "Epoch 41/100\n",
      "8/8 [==============================] - 29s 3s/step - loss: 1.0413 - accuracy: 0.6510 - val_loss: 0.9099 - val_accuracy: 0.6986\n",
      "Epoch 42/100\n",
      "8/8 [==============================] - 28s 3s/step - loss: 1.0426 - accuracy: 0.6495 - val_loss: 0.8988 - val_accuracy: 0.7016\n",
      "Epoch 43/100\n",
      "8/8 [==============================] - 29s 3s/step - loss: 1.0262 - accuracy: 0.6550 - val_loss: 0.8873 - val_accuracy: 0.7063\n",
      "Epoch 44/100\n",
      "8/8 [==============================] - 28s 3s/step - loss: 1.0107 - accuracy: 0.6617 - val_loss: 0.8989 - val_accuracy: 0.7022\n",
      "Epoch 45/100\n",
      "8/8 [==============================] - 28s 3s/step - loss: 1.0148 - accuracy: 0.6604 - val_loss: 0.8796 - val_accuracy: 0.7098\n",
      "Epoch 46/100\n",
      "8/8 [==============================] - 28s 3s/step - loss: 0.9958 - accuracy: 0.6692 - val_loss: 0.8649 - val_accuracy: 0.7174\n",
      "Epoch 47/100\n",
      "8/8 [==============================] - 29s 3s/step - loss: 0.9882 - accuracy: 0.6728 - val_loss: 0.8725 - val_accuracy: 0.7154\n",
      "Epoch 48/100\n",
      "8/8 [==============================] - 28s 3s/step - loss: 0.9947 - accuracy: 0.6699 - val_loss: 0.8481 - val_accuracy: 0.7264\n",
      "Epoch 49/100\n",
      "8/8 [==============================] - 29s 3s/step - loss: 0.9762 - accuracy: 0.6803 - val_loss: 0.8432 - val_accuracy: 0.7280\n",
      "Epoch 50/100\n",
      "8/8 [==============================] - 28s 3s/step - loss: 0.9541 - accuracy: 0.6892 - val_loss: 0.8282 - val_accuracy: 0.7322\n",
      "Epoch 51/100\n",
      "8/8 [==============================] - 28s 3s/step - loss: 0.9451 - accuracy: 0.6927 - val_loss: 0.8337 - val_accuracy: 0.7307\n",
      "Epoch 52/100\n",
      "8/8 [==============================] - 28s 3s/step - loss: 0.9437 - accuracy: 0.6948 - val_loss: 0.8078 - val_accuracy: 0.7424\n",
      "Epoch 53/100\n",
      "8/8 [==============================] - 28s 3s/step - loss: 0.9171 - accuracy: 0.7074 - val_loss: 0.8100 - val_accuracy: 0.7453\n",
      "Epoch 54/100\n",
      "8/8 [==============================] - 28s 3s/step - loss: 0.9235 - accuracy: 0.7060 - val_loss: 0.7919 - val_accuracy: 0.7521\n",
      "Epoch 55/100\n",
      "8/8 [==============================] - 28s 3s/step - loss: 0.8963 - accuracy: 0.7181 - val_loss: 0.7804 - val_accuracy: 0.7567\n",
      "Epoch 56/100\n",
      "8/8 [==============================] - 29s 3s/step - loss: 0.8852 - accuracy: 0.7240 - val_loss: 0.7810 - val_accuracy: 0.7564\n",
      "Epoch 57/100\n",
      "8/8 [==============================] - 28s 3s/step - loss: 0.8896 - accuracy: 0.7214 - val_loss: 0.7725 - val_accuracy: 0.7610\n",
      "Epoch 58/100\n",
      "8/8 [==============================] - 28s 3s/step - loss: 0.8714 - accuracy: 0.7304 - val_loss: 0.7565 - val_accuracy: 0.7703\n",
      "Epoch 59/100\n",
      "8/8 [==============================] - 28s 3s/step - loss: 0.8567 - accuracy: 0.7386 - val_loss: 0.7549 - val_accuracy: 0.7714\n",
      "Epoch 60/100\n",
      "8/8 [==============================] - 28s 3s/step - loss: 0.8503 - accuracy: 0.7411 - val_loss: 0.7357 - val_accuracy: 0.7790\n",
      "Epoch 61/100\n",
      "8/8 [==============================] - 28s 3s/step - loss: 0.8322 - accuracy: 0.7502 - val_loss: 0.7357 - val_accuracy: 0.7785\n",
      "Epoch 62/100\n",
      "8/8 [==============================] - 28s 3s/step - loss: 0.8336 - accuracy: 0.7493 - val_loss: 0.7329 - val_accuracy: 0.7808\n",
      "Epoch 63/100\n",
      "8/8 [==============================] - 28s 3s/step - loss: 0.8259 - accuracy: 0.7524 - val_loss: 0.7177 - val_accuracy: 0.7870\n",
      "Epoch 64/100\n",
      "8/8 [==============================] - 29s 3s/step - loss: 0.8066 - accuracy: 0.7609 - val_loss: 0.7161 - val_accuracy: 0.7876\n",
      "Epoch 65/100\n",
      "8/8 [==============================] - 28s 3s/step - loss: 0.8042 - accuracy: 0.7603 - val_loss: 0.7071 - val_accuracy: 0.7912\n",
      "Epoch 66/100\n",
      "8/8 [==============================] - 28s 3s/step - loss: 0.7944 - accuracy: 0.7644 - val_loss: 0.6994 - val_accuracy: 0.7931\n",
      "Epoch 67/100\n",
      "8/8 [==============================] - 28s 3s/step - loss: 0.7927 - accuracy: 0.7655 - val_loss: 0.7023 - val_accuracy: 0.7915\n",
      "Epoch 68/100\n",
      "8/8 [==============================] - 28s 3s/step - loss: 0.7842 - accuracy: 0.7682 - val_loss: 0.6812 - val_accuracy: 0.8003\n",
      "Epoch 69/100\n",
      "8/8 [==============================] - 28s 3s/step - loss: 0.7655 - accuracy: 0.7767 - val_loss: 0.6752 - val_accuracy: 0.8031\n",
      "Epoch 70/100\n",
      "8/8 [==============================] - 28s 3s/step - loss: 0.7583 - accuracy: 0.7792 - val_loss: 0.6703 - val_accuracy: 0.8051\n",
      "Epoch 71/100\n",
      "8/8 [==============================] - 28s 3s/step - loss: 0.7525 - accuracy: 0.7812 - val_loss: 0.6720 - val_accuracy: 0.8041\n",
      "Epoch 72/100\n",
      "8/8 [==============================] - 28s 3s/step - loss: 0.7629 - accuracy: 0.7753 - val_loss: 0.6926 - val_accuracy: 0.7961\n",
      "Epoch 73/100\n",
      "8/8 [==============================] - 28s 3s/step - loss: 0.7787 - accuracy: 0.7676 - val_loss: 0.6595 - val_accuracy: 0.8084\n",
      "Epoch 74/100\n",
      "8/8 [==============================] - 28s 3s/step - loss: 0.7378 - accuracy: 0.7857 - val_loss: 0.6532 - val_accuracy: 0.8122\n",
      "Epoch 75/100\n",
      "8/8 [==============================] - 28s 3s/step - loss: 0.7304 - accuracy: 0.7889 - val_loss: 0.6482 - val_accuracy: 0.8140\n",
      "Epoch 76/100\n",
      "8/8 [==============================] - 28s 3s/step - loss: 0.7244 - accuracy: 0.7908 - val_loss: 0.6441 - val_accuracy: 0.8150\n",
      "Epoch 77/100\n",
      "8/8 [==============================] - 29s 4s/step - loss: 0.7191 - accuracy: 0.7926 - val_loss: 0.6404 - val_accuracy: 0.8162\n",
      "Epoch 78/100\n",
      "8/8 [==============================] - 28s 3s/step - loss: 0.7142 - accuracy: 0.7939 - val_loss: 0.6371 - val_accuracy: 0.8170\n",
      "Epoch 79/100\n",
      "8/8 [==============================] - 28s 3s/step - loss: 0.7097 - accuracy: 0.7951 - val_loss: 0.6344 - val_accuracy: 0.8176\n",
      "Epoch 80/100\n",
      "8/8 [==============================] - 28s 3s/step - loss: 0.7063 - accuracy: 0.7961 - val_loss: 0.6365 - val_accuracy: 0.8157\n",
      "Epoch 81/100\n",
      "8/8 [==============================] - 28s 3s/step - loss: 0.7143 - accuracy: 0.7927 - val_loss: 0.7275 - val_accuracy: 0.7764\n",
      "Epoch 82/100\n",
      "8/8 [==============================] - 28s 3s/step - loss: 0.7573 - accuracy: 0.7714 - val_loss: 0.6336 - val_accuracy: 0.8170\n",
      "Epoch 83/100\n",
      "8/8 [==============================] - 28s 3s/step - loss: 0.6975 - accuracy: 0.7985 - val_loss: 0.6279 - val_accuracy: 0.8183\n",
      "Epoch 84/100\n",
      "8/8 [==============================] - 28s 3s/step - loss: 0.6935 - accuracy: 0.7992 - val_loss: 0.6226 - val_accuracy: 0.8201\n",
      "Epoch 85/100\n",
      "8/8 [==============================] - 28s 3s/step - loss: 0.6869 - accuracy: 0.8014 - val_loss: 0.6175 - val_accuracy: 0.8222\n",
      "Epoch 86/100\n",
      "8/8 [==============================] - 29s 3s/step - loss: 0.6810 - accuracy: 0.8030 - val_loss: 0.6136 - val_accuracy: 0.8235\n",
      "Epoch 87/100\n",
      "8/8 [==============================] - 28s 3s/step - loss: 0.6761 - accuracy: 0.8044 - val_loss: 0.6102 - val_accuracy: 0.8249\n",
      "Epoch 88/100\n",
      "8/8 [==============================] - 28s 3s/step - loss: 0.6718 - accuracy: 0.8056 - val_loss: 0.6073 - val_accuracy: 0.8253\n",
      "Epoch 89/100\n",
      "8/8 [==============================] - 29s 3s/step - loss: 0.6680 - accuracy: 0.8065 - val_loss: 0.6052 - val_accuracy: 0.8258\n",
      "Epoch 90/100\n",
      "8/8 [==============================] - 29s 3s/step - loss: 0.6647 - accuracy: 0.8073 - val_loss: 0.6027 - val_accuracy: 0.8264\n",
      "Epoch 91/100\n",
      "8/8 [==============================] - 29s 3s/step - loss: 0.6598 - accuracy: 0.8089 - val_loss: 0.5967 - val_accuracy: 0.8296\n",
      "Epoch 92/100\n",
      "8/8 [==============================] - 28s 3s/step - loss: 0.6549 - accuracy: 0.8102 - val_loss: 0.5956 - val_accuracy: 0.8291\n",
      "Epoch 93/100\n",
      "8/8 [==============================] - 28s 3s/step - loss: 0.6534 - accuracy: 0.8109 - val_loss: 0.5983 - val_accuracy: 0.8263\n",
      "Epoch 94/100\n",
      "8/8 [==============================] - 29s 4s/step - loss: 0.6514 - accuracy: 0.8101 - val_loss: 0.5863 - val_accuracy: 0.8311\n",
      "Epoch 95/100\n",
      "8/8 [==============================] - 28s 3s/step - loss: 0.6390 - accuracy: 0.8148 - val_loss: 0.5895 - val_accuracy: 0.8296\n",
      "Epoch 96/100\n",
      "8/8 [==============================] - 29s 3s/step - loss: 0.6429 - accuracy: 0.8126 - val_loss: 0.5774 - val_accuracy: 0.8347\n",
      "Epoch 97/100\n",
      "8/8 [==============================] - 28s 3s/step - loss: 0.6278 - accuracy: 0.8185 - val_loss: 0.5717 - val_accuracy: 0.8362\n",
      "Epoch 98/100\n",
      "8/8 [==============================] - 29s 3s/step - loss: 0.6213 - accuracy: 0.8207 - val_loss: 0.5650 - val_accuracy: 0.8384\n",
      "Epoch 99/100\n",
      "8/8 [==============================] - 29s 3s/step - loss: 0.6137 - accuracy: 0.8228 - val_loss: 0.5622 - val_accuracy: 0.8396\n",
      "Epoch 100/100\n",
      "8/8 [==============================] - 29s 3s/step - loss: 0.6107 - accuracy: 0.8234 - val_loss: 0.5636 - val_accuracy: 0.8385\n"
     ]
    },
    {
     "data": {
      "text/plain": [
       "<tensorflow.python.keras.callbacks.History at 0x2b189a9f088>"
      ]
     },
     "execution_count": 62,
     "metadata": {},
     "output_type": "execute_result"
    }
   ],
   "source": [
    "model.compile(optimizer=\"Nadam\", \n",
    "              loss=\"sparse_categorical_crossentropy\", \n",
    "              metrics=[\"accuracy\"])\n",
    "model.fit(train_set, epochs=100, \n",
    "          callbacks=[keras.callbacks.EarlyStopping(patience=10),\n",
    "                    keras.callbacks.TensorBoard(log_dir=log_dir)],\n",
    "         validation_data=valid_set)"
   ]
  },
  {
   "cell_type": "code",
   "execution_count": 63,
   "metadata": {},
   "outputs": [
    {
     "name": "stdout",
     "output_type": "stream",
     "text": [
      "3/3 [==============================] - 2s 486ms/step - loss: 0.5552 - accuracy: 0.8381\n"
     ]
    },
    {
     "data": {
      "text/plain": [
       "[0.5551502108573914, 0.8380746841430664]"
      ]
     },
     "execution_count": 63,
     "metadata": {},
     "output_type": "execute_result"
    }
   ],
   "source": [
    "model.evaluate(test_set)"
   ]
  },
  {
   "cell_type": "markdown",
   "metadata": {},
   "source": [
    "### CNN model ( WAVENET )"
   ]
  },
  {
   "cell_type": "code",
   "execution_count": 76,
   "metadata": {},
   "outputs": [],
   "source": [
    "log_dir = logdir(\"wavenet_sequenceloss4\")"
   ]
  },
  {
   "cell_type": "code",
   "execution_count": 77,
   "metadata": {},
   "outputs": [],
   "source": [
    "keras.backend.clear_session()\n",
    "\n",
    "model = keras.models.Sequential()\n",
    "model.add(keras.layers.Embedding(n_notes, 10, input_shape=[None, 4]))\n",
    "model.add(keras.layers.Reshape((-1, 40)))\n",
    "\n",
    "for rate in (1, 2, 4, 8, 16, 32) * 4:\n",
    "    model.add(keras.layers.Conv1D(filters=200, kernel_size=4, padding='causal', dilation_rate=rate))\n",
    "model.add(keras.layers.Conv1D(filters=188, kernel_size=1))\n",
    "model.add(keras.layers.TimeDistributed(keras.layers.Reshape((4, 47))))\n",
    "model.add(keras.layers.Softmax())"
   ]
  },
  {
   "cell_type": "code",
   "execution_count": 78,
   "metadata": {},
   "outputs": [
    {
     "name": "stdout",
     "output_type": "stream",
     "text": [
      "Epoch 1/100\n",
      "8/8 [==============================] - 24s 2s/step - loss: 3.8483 - accuracy: 0.0446 - val_loss: 3.8341 - val_accuracy: 0.2179\n",
      "Epoch 2/100\n",
      "8/8 [==============================] - 18s 2s/step - loss: 3.8227 - accuracy: 0.2595 - val_loss: 3.7015 - val_accuracy: 0.4096\n",
      "Epoch 3/100\n",
      "8/8 [==============================] - 21s 3s/step - loss: 3.6099 - accuracy: 0.3583 - val_loss: 2.7952 - val_accuracy: 0.5118\n",
      "Epoch 4/100\n",
      "8/8 [==============================] - 19s 2s/step - loss: 2.7252 - accuracy: 0.4741 - val_loss: 2.1959 - val_accuracy: 0.5663\n",
      "Epoch 5/100\n",
      "8/8 [==============================] - 19s 2s/step - loss: 2.4200 - accuracy: 0.4851 - val_loss: 2.1582 - val_accuracy: 0.5652\n",
      "Epoch 6/100\n",
      "8/8 [==============================] - 18s 2s/step - loss: 2.3853 - accuracy: 0.4847 - val_loss: 2.1049 - val_accuracy: 0.5652\n",
      "Epoch 7/100\n",
      "8/8 [==============================] - 19s 2s/step - loss: 2.3421 - accuracy: 0.4852 - val_loss: 2.0650 - val_accuracy: 0.5667\n",
      "Epoch 8/100\n",
      "8/8 [==============================] - 18s 2s/step - loss: 2.3076 - accuracy: 0.4860 - val_loss: 2.0305 - val_accuracy: 0.5674\n",
      "Epoch 9/100\n",
      "8/8 [==============================] - 18s 2s/step - loss: 2.2768 - accuracy: 0.4867 - val_loss: 1.9989 - val_accuracy: 0.5694\n",
      "Epoch 10/100\n",
      "8/8 [==============================] - 19s 2s/step - loss: 2.2481 - accuracy: 0.4891 - val_loss: 1.9697 - val_accuracy: 0.5711\n",
      "Epoch 11/100\n",
      "8/8 [==============================] - 19s 2s/step - loss: 2.2211 - accuracy: 0.4911 - val_loss: 1.9431 - val_accuracy: 0.5724\n",
      "Epoch 12/100\n",
      "8/8 [==============================] - 19s 2s/step - loss: 2.1957 - accuracy: 0.4924 - val_loss: 1.9187 - val_accuracy: 0.5736\n",
      "Epoch 13/100\n",
      "8/8 [==============================] - 19s 2s/step - loss: 2.1715 - accuracy: 0.4937 - val_loss: 1.8962 - val_accuracy: 0.5746\n",
      "Epoch 14/100\n",
      "8/8 [==============================] - 19s 2s/step - loss: 2.1483 - accuracy: 0.4950 - val_loss: 1.8752 - val_accuracy: 0.5758\n",
      "Epoch 15/100\n",
      "8/8 [==============================] - 19s 2s/step - loss: 2.1258 - accuracy: 0.4961 - val_loss: 1.8555 - val_accuracy: 0.5770\n",
      "Epoch 16/100\n",
      "8/8 [==============================] - 19s 2s/step - loss: 2.1040 - accuracy: 0.4975 - val_loss: 1.8369 - val_accuracy: 0.5783\n",
      "Epoch 17/100\n",
      "8/8 [==============================] - 19s 2s/step - loss: 2.0830 - accuracy: 0.4987 - val_loss: 1.8192 - val_accuracy: 0.5801\n",
      "Epoch 18/100\n",
      "8/8 [==============================] - 19s 2s/step - loss: 2.0628 - accuracy: 0.5001 - val_loss: 1.8024 - val_accuracy: 0.5813\n",
      "Epoch 19/100\n",
      "8/8 [==============================] - 19s 2s/step - loss: 2.0436 - accuracy: 0.5012 - val_loss: 1.7865 - val_accuracy: 0.5820\n",
      "Epoch 20/100\n",
      "8/8 [==============================] - 19s 2s/step - loss: 2.0255 - accuracy: 0.5021 - val_loss: 1.7717 - val_accuracy: 0.5827\n",
      "Epoch 21/100\n",
      "8/8 [==============================] - 19s 2s/step - loss: 2.0083 - accuracy: 0.5031 - val_loss: 1.7581 - val_accuracy: 0.5840\n",
      "Epoch 22/100\n",
      "8/8 [==============================] - 19s 2s/step - loss: 1.9921 - accuracy: 0.5042 - val_loss: 1.7455 - val_accuracy: 0.5840\n",
      "Epoch 23/100\n",
      "8/8 [==============================] - 18s 2s/step - loss: 1.9769 - accuracy: 0.5046 - val_loss: 1.7339 - val_accuracy: 0.5840\n",
      "Epoch 24/100\n",
      "8/8 [==============================] - 19s 2s/step - loss: 1.9625 - accuracy: 0.5049 - val_loss: 1.7230 - val_accuracy: 0.5843\n",
      "Epoch 25/100\n",
      "8/8 [==============================] - 19s 2s/step - loss: 1.9490 - accuracy: 0.5056 - val_loss: 1.7127 - val_accuracy: 0.5848\n",
      "Epoch 26/100\n",
      "8/8 [==============================] - 19s 2s/step - loss: 1.9362 - accuracy: 0.5066 - val_loss: 1.7031 - val_accuracy: 0.5856\n",
      "Epoch 27/100\n",
      "8/8 [==============================] - 19s 2s/step - loss: 1.9243 - accuracy: 0.5075 - val_loss: 1.6940 - val_accuracy: 0.5860\n",
      "Epoch 28/100\n",
      "8/8 [==============================] - 19s 2s/step - loss: 1.9131 - accuracy: 0.5079 - val_loss: 1.6854 - val_accuracy: 0.5863\n",
      "Epoch 29/100\n",
      "8/8 [==============================] - 19s 2s/step - loss: 1.9025 - accuracy: 0.5081 - val_loss: 1.6773 - val_accuracy: 0.5865\n",
      "Epoch 30/100\n",
      "8/8 [==============================] - 19s 2s/step - loss: 1.8926 - accuracy: 0.5080 - val_loss: 1.6695 - val_accuracy: 0.5864\n",
      "Epoch 31/100\n",
      "8/8 [==============================] - 19s 2s/step - loss: 1.8832 - accuracy: 0.5078 - val_loss: 1.6620 - val_accuracy: 0.5860\n",
      "Epoch 32/100\n",
      "8/8 [==============================] - 19s 2s/step - loss: 1.8742 - accuracy: 0.5074 - val_loss: 1.6547 - val_accuracy: 0.5855\n",
      "Epoch 33/100\n",
      "8/8 [==============================] - 19s 2s/step - loss: 1.8656 - accuracy: 0.5069 - val_loss: 1.6475 - val_accuracy: 0.5849\n",
      "Epoch 34/100\n",
      "8/8 [==============================] - 19s 2s/step - loss: 1.8572 - accuracy: 0.5064 - val_loss: 1.6403 - val_accuracy: 0.5838\n",
      "Epoch 35/100\n",
      "8/8 [==============================] - 19s 2s/step - loss: 1.8490 - accuracy: 0.5057 - val_loss: 1.6332 - val_accuracy: 0.5829\n",
      "Epoch 36/100\n",
      "8/8 [==============================] - 19s 2s/step - loss: 1.8409 - accuracy: 0.5047 - val_loss: 1.6260 - val_accuracy: 0.5812\n",
      "Epoch 37/100\n",
      "8/8 [==============================] - 19s 2s/step - loss: 1.8330 - accuracy: 0.5031 - val_loss: 1.6188 - val_accuracy: 0.5798\n",
      "Epoch 38/100\n",
      "8/8 [==============================] - 19s 2s/step - loss: 1.8251 - accuracy: 0.5011 - val_loss: 1.6116 - val_accuracy: 0.5790\n",
      "Epoch 39/100\n",
      "8/8 [==============================] - 19s 2s/step - loss: 1.8173 - accuracy: 0.5002 - val_loss: 1.6044 - val_accuracy: 0.5781\n",
      "Epoch 40/100\n",
      "8/8 [==============================] - 19s 2s/step - loss: 1.8096 - accuracy: 0.4993 - val_loss: 1.5972 - val_accuracy: 0.5765\n",
      "Epoch 41/100\n",
      "8/8 [==============================] - 19s 2s/step - loss: 1.8020 - accuracy: 0.4978 - val_loss: 1.5899 - val_accuracy: 0.5747\n",
      "Epoch 42/100\n",
      "8/8 [==============================] - 19s 2s/step - loss: 1.7944 - accuracy: 0.4963 - val_loss: 1.5828 - val_accuracy: 0.5725\n",
      "Epoch 43/100\n",
      "8/8 [==============================] - 19s 2s/step - loss: 1.7870 - accuracy: 0.4934 - val_loss: 1.5757 - val_accuracy: 0.5720\n",
      "Epoch 44/100\n",
      "8/8 [==============================] - 19s 2s/step - loss: 1.7797 - accuracy: 0.4929 - val_loss: 1.5688 - val_accuracy: 0.5715\n",
      "Epoch 45/100\n",
      "8/8 [==============================] - 19s 2s/step - loss: 1.7727 - accuracy: 0.4923 - val_loss: 1.5621 - val_accuracy: 0.5711\n",
      "Epoch 46/100\n",
      "8/8 [==============================] - 19s 2s/step - loss: 1.7658 - accuracy: 0.4921 - val_loss: 1.5557 - val_accuracy: 0.5708\n",
      "Epoch 47/100\n",
      "8/8 [==============================] - 19s 2s/step - loss: 1.7592 - accuracy: 0.4921 - val_loss: 1.5495 - val_accuracy: 0.5706\n",
      "Epoch 48/100\n",
      "8/8 [==============================] - 19s 2s/step - loss: 1.7527 - accuracy: 0.4920 - val_loss: 1.5436 - val_accuracy: 0.5706\n",
      "Epoch 49/100\n",
      "8/8 [==============================] - 19s 2s/step - loss: 1.7465 - accuracy: 0.4921 - val_loss: 1.5380 - val_accuracy: 0.5706\n",
      "Epoch 50/100\n",
      "8/8 [==============================] - 19s 2s/step - loss: 1.7405 - accuracy: 0.4925 - val_loss: 1.5326 - val_accuracy: 0.5710\n",
      "Epoch 51/100\n",
      "8/8 [==============================] - 19s 2s/step - loss: 1.7347 - accuracy: 0.4929 - val_loss: 1.5275 - val_accuracy: 0.5712\n",
      "Epoch 52/100\n",
      "8/8 [==============================] - 19s 2s/step - loss: 1.7290 - accuracy: 0.4932 - val_loss: 1.5225 - val_accuracy: 0.5716\n",
      "Epoch 53/100\n",
      "8/8 [==============================] - 19s 2s/step - loss: 1.7234 - accuracy: 0.4935 - val_loss: 1.5177 - val_accuracy: 0.5721\n",
      "Epoch 54/100\n",
      "8/8 [==============================] - 19s 2s/step - loss: 1.7180 - accuracy: 0.4938 - val_loss: 1.5131 - val_accuracy: 0.5725\n",
      "Epoch 55/100\n",
      "8/8 [==============================] - 19s 2s/step - loss: 1.7128 - accuracy: 0.4941 - val_loss: 1.5086 - val_accuracy: 0.5730\n",
      "Epoch 56/100\n",
      "8/8 [==============================] - 19s 2s/step - loss: 1.7076 - accuracy: 0.4944 - val_loss: 1.5042 - val_accuracy: 0.5731\n",
      "Epoch 57/100\n",
      "8/8 [==============================] - 19s 2s/step - loss: 1.7026 - accuracy: 0.4948 - val_loss: 1.4999 - val_accuracy: 0.5732\n",
      "Epoch 58/100\n",
      "8/8 [==============================] - 19s 2s/step - loss: 1.6977 - accuracy: 0.4951 - val_loss: 1.4957 - val_accuracy: 0.5732\n",
      "Epoch 59/100\n",
      "8/8 [==============================] - 18s 2s/step - loss: 1.6929 - accuracy: 0.4954 - val_loss: 1.4917 - val_accuracy: 0.5735\n",
      "Epoch 60/100\n",
      "8/8 [==============================] - 19s 2s/step - loss: 1.6882 - accuracy: 0.4957 - val_loss: 1.4877 - val_accuracy: 0.5736\n",
      "Epoch 61/100\n",
      "8/8 [==============================] - 19s 2s/step - loss: 1.6836 - accuracy: 0.4960 - val_loss: 1.4839 - val_accuracy: 0.5739\n",
      "Epoch 62/100\n",
      "8/8 [==============================] - 19s 2s/step - loss: 1.6792 - accuracy: 0.4965 - val_loss: 1.4801 - val_accuracy: 0.5737\n",
      "Epoch 63/100\n",
      "8/8 [==============================] - 19s 2s/step - loss: 1.6748 - accuracy: 0.4969 - val_loss: 1.4765 - val_accuracy: 0.5735\n",
      "Epoch 64/100\n",
      "8/8 [==============================] - 20s 3s/step - loss: 1.6706 - accuracy: 0.4972 - val_loss: 1.4730 - val_accuracy: 0.5739\n",
      "Epoch 65/100\n",
      "8/8 [==============================] - 19s 2s/step - loss: 1.6664 - accuracy: 0.4976 - val_loss: 1.4697 - val_accuracy: 0.5741\n",
      "Epoch 66/100\n",
      "8/8 [==============================] - 19s 2s/step - loss: 1.6624 - accuracy: 0.4980 - val_loss: 1.4664 - val_accuracy: 0.5745\n",
      "Epoch 67/100\n",
      "8/8 [==============================] - 19s 2s/step - loss: 1.6584 - accuracy: 0.4984 - val_loss: 1.4633 - val_accuracy: 0.5745\n",
      "Epoch 68/100\n",
      "8/8 [==============================] - 19s 2s/step - loss: 1.6546 - accuracy: 0.4988 - val_loss: 1.4603 - val_accuracy: 0.5748\n",
      "Epoch 69/100\n",
      "8/8 [==============================] - 19s 2s/step - loss: 1.6508 - accuracy: 0.4991 - val_loss: 1.4574 - val_accuracy: 0.5750\n",
      "Epoch 70/100\n",
      "8/8 [==============================] - 19s 2s/step - loss: 1.6471 - accuracy: 0.4996 - val_loss: 1.4546 - val_accuracy: 0.5751\n",
      "Epoch 71/100\n",
      "8/8 [==============================] - 22s 3s/step - loss: 1.6435 - accuracy: 0.4998 - val_loss: 1.4520 - val_accuracy: 0.5755\n",
      "Epoch 72/100\n",
      "8/8 [==============================] - 20s 2s/step - loss: 1.6400 - accuracy: 0.5002 - val_loss: 1.4494 - val_accuracy: 0.5757\n",
      "Epoch 73/100\n",
      "8/8 [==============================] - 19s 2s/step - loss: 1.6366 - accuracy: 0.5005 - val_loss: 1.4470 - val_accuracy: 0.5759\n",
      "Epoch 74/100\n",
      "8/8 [==============================] - 19s 2s/step - loss: 1.6332 - accuracy: 0.5009 - val_loss: 1.4446 - val_accuracy: 0.5760\n",
      "Epoch 75/100\n",
      "8/8 [==============================] - 19s 2s/step - loss: 1.6299 - accuracy: 0.5013 - val_loss: 1.4423 - val_accuracy: 0.5761\n",
      "Epoch 76/100\n",
      "8/8 [==============================] - 19s 2s/step - loss: 1.6267 - accuracy: 0.5017 - val_loss: 1.4401 - val_accuracy: 0.5764\n",
      "Epoch 77/100\n",
      "8/8 [==============================] - 19s 2s/step - loss: 1.6236 - accuracy: 0.5022 - val_loss: 1.4379 - val_accuracy: 0.5769\n",
      "Epoch 78/100\n",
      "8/8 [==============================] - 19s 2s/step - loss: 1.6205 - accuracy: 0.5025 - val_loss: 1.4359 - val_accuracy: 0.5770\n",
      "Epoch 79/100\n",
      "8/8 [==============================] - 19s 2s/step - loss: 1.6175 - accuracy: 0.5028 - val_loss: 1.4339 - val_accuracy: 0.5773\n",
      "Epoch 80/100\n",
      "8/8 [==============================] - 19s 2s/step - loss: 1.6145 - accuracy: 0.5031 - val_loss: 1.4320 - val_accuracy: 0.5775\n",
      "Epoch 81/100\n",
      "8/8 [==============================] - 19s 2s/step - loss: 1.6117 - accuracy: 0.5034 - val_loss: 1.4301 - val_accuracy: 0.5777\n",
      "Epoch 82/100\n",
      "8/8 [==============================] - 20s 2s/step - loss: 1.6088 - accuracy: 0.5036 - val_loss: 1.4283 - val_accuracy: 0.5780\n",
      "Epoch 83/100\n",
      "8/8 [==============================] - 27s 3s/step - loss: 1.6061 - accuracy: 0.5039 - val_loss: 1.4266 - val_accuracy: 0.5783\n",
      "Epoch 84/100\n",
      "8/8 [==============================] - 29s 3s/step - loss: 1.6034 - accuracy: 0.5041 - val_loss: 1.4250 - val_accuracy: 0.5784\n",
      "Epoch 85/100\n",
      "8/8 [==============================] - 21s 3s/step - loss: 1.6008 - accuracy: 0.5043 - val_loss: 1.4234 - val_accuracy: 0.5786\n",
      "Epoch 86/100\n",
      "8/8 [==============================] - 20s 2s/step - loss: 1.5983 - accuracy: 0.5045 - val_loss: 1.4219 - val_accuracy: 0.5788\n",
      "Epoch 87/100\n",
      "8/8 [==============================] - 19s 2s/step - loss: 1.5958 - accuracy: 0.5046 - val_loss: 1.4204 - val_accuracy: 0.5790\n",
      "Epoch 88/100\n",
      "8/8 [==============================] - 20s 2s/step - loss: 1.5934 - accuracy: 0.5048 - val_loss: 1.4190 - val_accuracy: 0.5790\n",
      "Epoch 89/100\n",
      "8/8 [==============================] - 25s 3s/step - loss: 1.5911 - accuracy: 0.5050 - val_loss: 1.4177 - val_accuracy: 0.5791\n",
      "Epoch 90/100\n",
      "8/8 [==============================] - 23s 3s/step - loss: 1.5888 - accuracy: 0.5053 - val_loss: 1.4164 - val_accuracy: 0.5792\n",
      "Epoch 91/100\n",
      "8/8 [==============================] - 26s 3s/step - loss: 1.5866 - accuracy: 0.5056 - val_loss: 1.4151 - val_accuracy: 0.5794\n",
      "Epoch 92/100\n",
      "8/8 [==============================] - 23s 3s/step - loss: 1.5845 - accuracy: 0.5058 - val_loss: 1.4139 - val_accuracy: 0.5797\n",
      "Epoch 93/100\n",
      "8/8 [==============================] - 20s 3s/step - loss: 1.5824 - accuracy: 0.5062 - val_loss: 1.4127 - val_accuracy: 0.5800\n",
      "Epoch 94/100\n",
      "8/8 [==============================] - 19s 2s/step - loss: 1.5803 - accuracy: 0.5066 - val_loss: 1.4115 - val_accuracy: 0.5804\n",
      "Epoch 95/100\n",
      "8/8 [==============================] - 19s 2s/step - loss: 1.5783 - accuracy: 0.5069 - val_loss: 1.4104 - val_accuracy: 0.5807\n",
      "Epoch 96/100\n",
      "8/8 [==============================] - 19s 2s/step - loss: 1.5764 - accuracy: 0.5072 - val_loss: 1.4093 - val_accuracy: 0.5808\n",
      "Epoch 97/100\n",
      "8/8 [==============================] - 20s 3s/step - loss: 1.5745 - accuracy: 0.5075 - val_loss: 1.4081 - val_accuracy: 0.5809\n",
      "Epoch 98/100\n",
      "8/8 [==============================] - 19s 2s/step - loss: 1.5725 - accuracy: 0.5079 - val_loss: 1.4071 - val_accuracy: 0.5810\n",
      "Epoch 99/100\n",
      "8/8 [==============================] - 19s 2s/step - loss: 1.5705 - accuracy: 0.5083 - val_loss: 1.4060 - val_accuracy: 0.5812\n",
      "Epoch 100/100\n",
      "8/8 [==============================] - 19s 2s/step - loss: 1.5686 - accuracy: 0.5087 - val_loss: 1.4050 - val_accuracy: 0.5815\n"
     ]
    },
    {
     "data": {
      "text/plain": [
       "<tensorflow.python.keras.callbacks.History at 0x2b1947677c8>"
      ]
     },
     "execution_count": 78,
     "metadata": {},
     "output_type": "execute_result"
    }
   ],
   "source": [
    "model.compile(optimizer=keras.optimizers.Nadam(0.00001), \n",
    "              loss=\"sparse_categorical_crossentropy\", \n",
    "              metrics=[\"accuracy\"])\n",
    "model.fit(train_set, epochs=100, \n",
    "          callbacks=[keras.callbacks.EarlyStopping(patience=10),\n",
    "                    keras.callbacks.TensorBoard(log_dir=log_dir)],\n",
    "         validation_data=valid_set)"
   ]
  },
  {
   "cell_type": "markdown",
   "metadata": {},
   "source": [
    "## my pipeline4 ( embedding and split data )"
   ]
  },
  {
   "cell_type": "code",
   "execution_count": 9,
   "metadata": {},
   "outputs": [],
   "source": [
    "class Pipeline4:\n",
    "    def __init__(self, n_notes, min_notes, batch_size, window_size, window_shift):\n",
    "        self.n_notes = n_notes\n",
    "        self.min_notes = min_notes\n",
    "        self.batch_size = batch_size\n",
    "        self.window_size = window_size\n",
    "        self.window_shift = window_shift\n",
    "        \n",
    "    def shift(self, sample):\n",
    "        sample = tf.where(sample == 0, 0, sample - self.min_notes + 1)\n",
    "        return tf.reshape(sample, [-1])\n",
    "    \n",
    "    def create_target(self, sample):\n",
    "        return sample[:-1], sample[1:]\n",
    "    \n",
    "    def to_window(self, sample):\n",
    "        dataset = tf.data.Dataset.from_tensor_slices(sample)\n",
    "        dataset = dataset.window(self.window_size+1, self.window_shift,\n",
    "                                drop_remainder=True)\n",
    "        return dataset.flat_map(lambda window: window.batch(33))\n",
    "    \n",
    "    def __call__(self, data, shuffle_buffer=None):\n",
    "        data_ragged = tf.ragged.constant(data, ragged_rank=1)\n",
    "        dataset = tf.data.Dataset.from_tensor_slices(data_ragged)\n",
    "        \n",
    "        dataset = dataset.flat_map(self.to_window).map(self.shift)\n",
    "        \n",
    "        if shuffle_buffer:\n",
    "            dataset = dataset.shuffle(shuffle_buffer)\n",
    "            \n",
    "        dataset = dataset.cache()\n",
    "        dataset = dataset.map(self.create_target)\n",
    "        dataset = dataset.batch(self.batch_size)\n",
    "        return dataset.prefetch(1)"
   ]
  },
  {
   "cell_type": "code",
   "execution_count": 10,
   "metadata": {},
   "outputs": [],
   "source": [
    "pipeline = Pipeline4(n_notes, min_notes, batch_size=32, window_size=32,\n",
    "                     window_shift=1)"
   ]
  },
  {
   "cell_type": "code",
   "execution_count": 11,
   "metadata": {},
   "outputs": [],
   "source": [
    "train_set = pipeline(train_data, shuffle_buffer=10000)\n",
    "valid_set = pipeline(valid_data)\n",
    "test_set = pipeline(test_data)"
   ]
  },
  {
   "cell_type": "code",
   "execution_count": 12,
   "metadata": {},
   "outputs": [
    {
     "name": "stdout",
     "output_type": "stream",
     "text": [
      "(32, 131) (32, 131)\n"
     ]
    }
   ],
   "source": [
    "for x, y in train_set.take(1):\n",
    "    print(x.shape, y.shape)"
   ]
  },
  {
   "cell_type": "code",
   "execution_count": 13,
   "metadata": {},
   "outputs": [],
   "source": [
    "def logdir(model_name):\n",
    "    cur_dir = Path(\".\")\n",
    "    jyp_dir = cur_dir.absolute().parent\n",
    "    log_dir = jyp_dir / \"my_logs\" / \"chorales\"\n",
    "    log_dir.mkdir(exist_ok=True)\n",
    "    log_dir_gru = log_dir / model_name\n",
    "    log_dir_gru.mkdir(exist_ok=True)\n",
    "    return log_dir_gru"
   ]
  },
  {
   "cell_type": "markdown",
   "metadata": {},
   "source": [
    "### RNN model ( GRU )"
   ]
  },
  {
   "cell_type": "code",
   "execution_count": 14,
   "metadata": {},
   "outputs": [],
   "source": [
    "log_dir = logdir(\"GRU\")"
   ]
  },
  {
   "cell_type": "code",
   "execution_count": 15,
   "metadata": {},
   "outputs": [],
   "source": [
    "keras.backend.clear_session()\n",
    "model = keras.models.Sequential([\n",
    "    keras.layers.Embedding(n_notes, 5, input_shape=[None]),\n",
    "    keras.layers.GRU(50, return_sequences=True),\n",
    "    keras.layers.GRU(100, return_sequences=True),\n",
    "    keras.layers.GRU(100, return_sequences=True),\n",
    "    keras.layers.GRU(50, return_sequences=True),\n",
    "    keras.layers.TimeDistributed(\n",
    "        keras.layers.Dense(n_notes, activation='softmax'))\n",
    "])"
   ]
  },
  {
   "cell_type": "code",
   "execution_count": 16,
   "metadata": {},
   "outputs": [
    {
     "name": "stdout",
     "output_type": "stream",
     "text": [
      "Epoch 1/100\n",
      "1497/1497 [==============================] - 240s 157ms/step - loss: 2.7601 - accuracy: 0.2282 - val_loss: 1.5111 - val_accuracy: 0.5619\n",
      "Epoch 2/100\n",
      "1497/1497 [==============================] - 238s 159ms/step - loss: 1.3652 - accuracy: 0.6077 - val_loss: 1.1030 - val_accuracy: 0.6990\n",
      "Epoch 3/100\n",
      "1497/1497 [==============================] - 241s 161ms/step - loss: 1.0001 - accuracy: 0.7328 - val_loss: 0.8970 - val_accuracy: 0.7618\n",
      "Epoch 4/100\n",
      "1497/1497 [==============================] - 261s 175ms/step - loss: 0.8239 - accuracy: 0.7773 - val_loss: 0.8139 - val_accuracy: 0.7807\n",
      "Epoch 5/100\n",
      "1497/1497 [==============================] - 315s 210ms/step - loss: 0.7323 - accuracy: 0.7974 - val_loss: 0.7764 - val_accuracy: 0.7891\n",
      "Epoch 6/100\n",
      "1497/1497 [==============================] - 357s 239ms/step - loss: 0.6712 - accuracy: 0.8105 - val_loss: 0.7572 - val_accuracy: 0.7925\n",
      "Epoch 7/100\n",
      "1497/1497 [==============================] - 343s 229ms/step - loss: 0.6232 - accuracy: 0.8210 - val_loss: 0.7442 - val_accuracy: 0.7939\n",
      "Epoch 8/100\n",
      "1497/1497 [==============================] - 332s 221ms/step - loss: 0.5838 - accuracy: 0.8302 - val_loss: 0.7413 - val_accuracy: 0.7942\n",
      "Epoch 9/100\n",
      "1497/1497 [==============================] - 339s 226ms/step - loss: 0.5506 - accuracy: 0.8384 - val_loss: 0.7435 - val_accuracy: 0.7949\n",
      "Epoch 10/100\n",
      "1497/1497 [==============================] - 343s 229ms/step - loss: 0.5231 - accuracy: 0.8455 - val_loss: 0.7500 - val_accuracy: 0.7947\n",
      "Epoch 11/100\n",
      "1497/1497 [==============================] - 331s 221ms/step - loss: 0.4993 - accuracy: 0.8523 - val_loss: 0.7594 - val_accuracy: 0.7946\n",
      "Epoch 12/100\n",
      "1497/1497 [==============================] - 331s 221ms/step - loss: 0.4784 - accuracy: 0.8585 - val_loss: 0.7717 - val_accuracy: 0.7931\n",
      "Epoch 13/100\n",
      "1497/1497 [==============================] - 330s 221ms/step - loss: 0.4597 - accuracy: 0.8643 - val_loss: 0.7859 - val_accuracy: 0.7909\n",
      "Epoch 14/100\n",
      "1497/1497 [==============================] - 329s 220ms/step - loss: 0.4426 - accuracy: 0.8694 - val_loss: 0.8022 - val_accuracy: 0.7885\n",
      "Epoch 15/100\n",
      "1497/1497 [==============================] - 329s 220ms/step - loss: 0.4269 - accuracy: 0.8743 - val_loss: 0.8199 - val_accuracy: 0.7872\n",
      "Epoch 16/100\n",
      "1497/1497 [==============================] - 330s 221ms/step - loss: 0.4127 - accuracy: 0.8787 - val_loss: 0.8378 - val_accuracy: 0.7852\n",
      "Epoch 17/100\n",
      "1497/1497 [==============================] - 329s 220ms/step - loss: 0.4003 - accuracy: 0.8825 - val_loss: 0.8543 - val_accuracy: 0.7835\n",
      "Epoch 18/100\n",
      "1497/1497 [==============================] - 333s 222ms/step - loss: 0.3883 - accuracy: 0.8863 - val_loss: 0.8714 - val_accuracy: 0.7817\n"
     ]
    },
    {
     "data": {
      "text/plain": [
       "<tensorflow.python.keras.callbacks.History at 0x26ca49ab088>"
      ]
     },
     "execution_count": 16,
     "metadata": {},
     "output_type": "execute_result"
    }
   ],
   "source": [
    "model.compile(optimizer=keras.optimizers.Nadam(0.0005), \n",
    "              loss=\"sparse_categorical_crossentropy\", \n",
    "              metrics=[\"accuracy\"])\n",
    "model.fit(train_set, epochs=100, \n",
    "          callbacks=[keras.callbacks.EarlyStopping(patience=10),\n",
    "                    keras.callbacks.TensorBoard(log_dir=log_dir)],\n",
    "         validation_data=valid_set)"
   ]
  },
  {
   "cell_type": "code",
   "execution_count": 17,
   "metadata": {},
   "outputs": [
    {
     "name": "stdout",
     "output_type": "stream",
     "text": [
      "514/514 [==============================] - 31s 61ms/step - loss: 0.8936 - accuracy: 0.7777\n"
     ]
    },
    {
     "data": {
      "text/plain": [
       "[0.8935859799385071, 0.7777114510536194]"
      ]
     },
     "execution_count": 17,
     "metadata": {},
     "output_type": "execute_result"
    }
   ],
   "source": [
    "model.evaluate(test_set)"
   ]
  },
  {
   "cell_type": "markdown",
   "metadata": {},
   "source": [
    "### CNN model ( WAVENET )"
   ]
  },
  {
   "cell_type": "code",
   "execution_count": 14,
   "metadata": {},
   "outputs": [],
   "source": [
    "log_dir = logdir(\"wavenet_batchnorm\")"
   ]
  },
  {
   "cell_type": "code",
   "execution_count": 15,
   "metadata": {},
   "outputs": [],
   "source": [
    "keras.backend.clear_session()\n",
    "\n",
    "model = keras.models.Sequential()\n",
    "model.add(keras.layers.Embedding(n_notes, 5, input_shape=[None]))\n",
    "\n",
    "for rate in (1, 2, 4, 8, 16):\n",
    "    model.add(keras.layers.Conv1D(filters=100, kernel_size=2, padding='causal', \n",
    "                                  dilation_rate=rate))\n",
    "    model.add(keras.layers.BatchNormalization())\n",
    "model.add(keras.layers.Conv1D(filters=n_notes, kernel_size=1, \n",
    "                              activation='softmax'))"
   ]
  },
  {
   "cell_type": "code",
   "execution_count": 16,
   "metadata": {},
   "outputs": [
    {
     "name": "stdout",
     "output_type": "stream",
     "text": [
      "Epoch 1/1000\n",
      "1497/1497 [==============================] - 110s 72ms/step - loss: 1.7991 - accuracy: 0.5758 - val_loss: 0.9430 - val_accuracy: 0.7611\n",
      "Epoch 2/1000\n",
      "1497/1497 [==============================] - 129s 86ms/step - loss: 0.8903 - accuracy: 0.7720 - val_loss: 0.8706 - val_accuracy: 0.7758\n",
      "Epoch 3/1000\n",
      "1497/1497 [==============================] - 105s 70ms/step - loss: 0.8373 - accuracy: 0.7804 - val_loss: 0.8553 - val_accuracy: 0.7783\n",
      "Epoch 4/1000\n",
      "1497/1497 [==============================] - 123s 82ms/step - loss: 0.8196 - accuracy: 0.7831 - val_loss: 0.8471 - val_accuracy: 0.7802\n",
      "Epoch 5/1000\n",
      "1497/1497 [==============================] - 105s 70ms/step - loss: 0.8101 - accuracy: 0.7844 - val_loss: 0.8389 - val_accuracy: 0.7809\n",
      "Epoch 6/1000\n",
      "1497/1497 [==============================] - 104s 69ms/step - loss: 0.8037 - accuracy: 0.7853 - val_loss: 0.8334 - val_accuracy: 0.7814\n",
      "Epoch 7/1000\n",
      "1497/1497 [==============================] - 109s 73ms/step - loss: 0.7989 - accuracy: 0.7861 - val_loss: 0.8323 - val_accuracy: 0.7823\n",
      "Epoch 8/1000\n",
      "1497/1497 [==============================] - 109s 73ms/step - loss: 0.7953 - accuracy: 0.7866 - val_loss: 0.8247 - val_accuracy: 0.7838\n",
      "Epoch 9/1000\n",
      "1497/1497 [==============================] - 103s 69ms/step - loss: 0.7925 - accuracy: 0.7871 - val_loss: 0.8233 - val_accuracy: 0.7841\n",
      "Epoch 10/1000\n",
      "1497/1497 [==============================] - 109s 73ms/step - loss: 0.7902 - accuracy: 0.7874 - val_loss: 0.8231 - val_accuracy: 0.7828\n",
      "Epoch 11/1000\n",
      "1497/1497 [==============================] - 108s 72ms/step - loss: 0.7884 - accuracy: 0.7877 - val_loss: 0.8220 - val_accuracy: 0.7834\n",
      "Epoch 12/1000\n",
      "1497/1497 [==============================] - 105s 70ms/step - loss: 0.7869 - accuracy: 0.7880 - val_loss: 0.8227 - val_accuracy: 0.7833\n",
      "Epoch 13/1000\n",
      "1497/1497 [==============================] - 114s 76ms/step - loss: 0.7855 - accuracy: 0.7883 - val_loss: 0.8177 - val_accuracy: 0.7844\n",
      "Epoch 14/1000\n",
      "1497/1497 [==============================] - 115s 77ms/step - loss: 0.7844 - accuracy: 0.7885 - val_loss: 0.8204 - val_accuracy: 0.7839\n",
      "Epoch 15/1000\n",
      "1497/1497 [==============================] - 111s 74ms/step - loss: 0.7833 - accuracy: 0.7887 - val_loss: 0.8226 - val_accuracy: 0.7831\n",
      "Epoch 16/1000\n",
      "1497/1497 [==============================] - 109s 73ms/step - loss: 0.7823 - accuracy: 0.7889 - val_loss: 0.8172 - val_accuracy: 0.7841\n",
      "Epoch 17/1000\n",
      "1497/1497 [==============================] - 113s 75ms/step - loss: 0.7814 - accuracy: 0.7891 - val_loss: 0.8189 - val_accuracy: 0.7839\n",
      "Epoch 18/1000\n",
      "1497/1497 [==============================] - 112s 75ms/step - loss: 0.7805 - accuracy: 0.7893 - val_loss: 0.8139 - val_accuracy: 0.7846\n",
      "Epoch 19/1000\n",
      "1497/1497 [==============================] - 113s 75ms/step - loss: 0.7797 - accuracy: 0.7895 - val_loss: 0.8145 - val_accuracy: 0.7844\n",
      "Epoch 20/1000\n",
      "1497/1497 [==============================] - 106s 71ms/step - loss: 0.7790 - accuracy: 0.7896 - val_loss: 0.8135 - val_accuracy: 0.7845\n",
      "Epoch 21/1000\n",
      "1497/1497 [==============================] - 108s 72ms/step - loss: 0.7783 - accuracy: 0.7898 - val_loss: 0.8150 - val_accuracy: 0.7842\n",
      "Epoch 22/1000\n",
      "1497/1497 [==============================] - 113s 76ms/step - loss: 0.7777 - accuracy: 0.7899 - val_loss: 0.8135 - val_accuracy: 0.7845\n",
      "Epoch 23/1000\n",
      "1497/1497 [==============================] - 111s 74ms/step - loss: 0.7771 - accuracy: 0.7900 - val_loss: 0.8124 - val_accuracy: 0.7849\n",
      "Epoch 24/1000\n",
      "1497/1497 [==============================] - 126s 84ms/step - loss: 0.7765 - accuracy: 0.7901 - val_loss: 0.8124 - val_accuracy: 0.7848\n",
      "Epoch 25/1000\n",
      "1497/1497 [==============================] - 142s 95ms/step - loss: 0.7760 - accuracy: 0.7902 - val_loss: 0.8154 - val_accuracy: 0.7841\n",
      "Epoch 26/1000\n",
      "1497/1497 [==============================] - 136s 91ms/step - loss: 0.7755 - accuracy: 0.7903 - val_loss: 0.8125 - val_accuracy: 0.7842\n",
      "Epoch 27/1000\n",
      "1497/1497 [==============================] - 140s 93ms/step - loss: 0.7751 - accuracy: 0.7904 - val_loss: 0.8118 - val_accuracy: 0.7855\n",
      "Epoch 28/1000\n",
      "1497/1497 [==============================] - 135s 90ms/step - loss: 0.7747 - accuracy: 0.7904 - val_loss: 0.8110 - val_accuracy: 0.7850\n",
      "Epoch 29/1000\n",
      "1497/1497 [==============================] - 164s 110ms/step - loss: 0.7743 - accuracy: 0.7905 - val_loss: 0.8100 - val_accuracy: 0.7852\n",
      "Epoch 30/1000\n",
      "1497/1497 [==============================] - 140s 93ms/step - loss: 0.7739 - accuracy: 0.7905 - val_loss: 0.8108 - val_accuracy: 0.7847\n",
      "Epoch 31/1000\n",
      "1497/1497 [==============================] - 138s 92ms/step - loss: 0.7736 - accuracy: 0.7905 - val_loss: 0.8106 - val_accuracy: 0.7850\n",
      "Epoch 32/1000\n",
      "1497/1497 [==============================] - 145s 97ms/step - loss: 0.7733 - accuracy: 0.7906 - val_loss: 0.8124 - val_accuracy: 0.7848\n",
      "Epoch 33/1000\n",
      "1497/1497 [==============================] - 140s 93ms/step - loss: 0.7730 - accuracy: 0.7906 - val_loss: 0.8113 - val_accuracy: 0.7848\n",
      "Epoch 34/1000\n",
      "1497/1497 [==============================] - 146s 97ms/step - loss: 0.7727 - accuracy: 0.7906 - val_loss: 0.8129 - val_accuracy: 0.7847\n",
      "Epoch 35/1000\n",
      "1497/1497 [==============================] - 111s 74ms/step - loss: 0.7724 - accuracy: 0.7907 - val_loss: 0.8113 - val_accuracy: 0.7848\n",
      "Epoch 36/1000\n",
      "1497/1497 [==============================] - 109s 73ms/step - loss: 0.7721 - accuracy: 0.7907 - val_loss: 0.8116 - val_accuracy: 0.7848\n",
      "Epoch 37/1000\n",
      "1497/1497 [==============================] - 109s 73ms/step - loss: 0.7719 - accuracy: 0.7907 - val_loss: 0.8103 - val_accuracy: 0.7848\n",
      "Epoch 38/1000\n",
      "1497/1497 [==============================] - 109s 73ms/step - loss: 0.7716 - accuracy: 0.7908 - val_loss: 0.8110 - val_accuracy: 0.7850\n",
      "Epoch 39/1000\n",
      "1497/1497 [==============================] - 109s 73ms/step - loss: 0.7714 - accuracy: 0.7908 - val_loss: 0.8091 - val_accuracy: 0.7858\n",
      "Epoch 40/1000\n",
      "1497/1497 [==============================] - 109s 73ms/step - loss: 0.7712 - accuracy: 0.7908 - val_loss: 0.8116 - val_accuracy: 0.7850\n",
      "Epoch 41/1000\n",
      "1497/1497 [==============================] - 109s 73ms/step - loss: 0.7710 - accuracy: 0.7908 - val_loss: 0.8117 - val_accuracy: 0.7850\n",
      "Epoch 42/1000\n",
      "1497/1497 [==============================] - 109s 73ms/step - loss: 0.7708 - accuracy: 0.7908 - val_loss: 0.8125 - val_accuracy: 0.7846\n",
      "Epoch 43/1000\n",
      "1497/1497 [==============================] - 109s 73ms/step - loss: 0.7707 - accuracy: 0.7908 - val_loss: 0.8096 - val_accuracy: 0.7852\n",
      "Epoch 44/1000\n",
      "1497/1497 [==============================] - 108s 72ms/step - loss: 0.7705 - accuracy: 0.7909 - val_loss: 0.8103 - val_accuracy: 0.7853\n",
      "Epoch 45/1000\n",
      "1497/1497 [==============================] - 112s 75ms/step - loss: 0.7703 - accuracy: 0.7909 - val_loss: 0.8100 - val_accuracy: 0.7852\n",
      "Epoch 46/1000\n",
      "1497/1497 [==============================] - 127s 85ms/step - loss: 0.7702 - accuracy: 0.7909 - val_loss: 0.8100 - val_accuracy: 0.7849\n",
      "Epoch 47/1000\n",
      "1497/1497 [==============================] - 111s 74ms/step - loss: 0.7700 - accuracy: 0.7909 - val_loss: 0.8096 - val_accuracy: 0.7854\n",
      "Epoch 48/1000\n",
      "1497/1497 [==============================] - 109s 73ms/step - loss: 0.7699 - accuracy: 0.7909 - val_loss: 0.8105 - val_accuracy: 0.7847\n",
      "Epoch 49/1000\n",
      "1497/1497 [==============================] - 108s 72ms/step - loss: 0.7697 - accuracy: 0.7909 - val_loss: 0.8113 - val_accuracy: 0.7850\n"
     ]
    },
    {
     "data": {
      "text/plain": [
       "<tensorflow.python.keras.callbacks.History at 0x2995889f508>"
      ]
     },
     "execution_count": 16,
     "metadata": {},
     "output_type": "execute_result"
    }
   ],
   "source": [
    "model.compile(optimizer=keras.optimizers.Nadam(learning_rate=0.0001), \n",
    "              loss=\"sparse_categorical_crossentropy\", \n",
    "              metrics=[\"accuracy\"])\n",
    "model.fit(train_set, epochs=1000, \n",
    "          callbacks=[keras.callbacks.EarlyStopping(patience=10),\n",
    "                    keras.callbacks.TensorBoard(log_dir=log_dir)],\n",
    "         validation_data=valid_set)"
   ]
  },
  {
   "cell_type": "code",
   "execution_count": 17,
   "metadata": {},
   "outputs": [
    {
     "name": "stdout",
     "output_type": "stream",
     "text": [
      "514/514 [==============================] - 9s 17ms/step - loss: 0.8527 - accuracy: 0.7707\n"
     ]
    },
    {
     "data": {
      "text/plain": [
       "[0.852692723274231, 0.770695149898529]"
      ]
     },
     "execution_count": 17,
     "metadata": {},
     "output_type": "execute_result"
    }
   ],
   "source": [
    "model.evaluate(test_set)"
   ]
  },
  {
   "cell_type": "markdown",
   "metadata": {},
   "source": [
    "### test \n",
    "wavenet(kernel_size=2) : loss 0.847, acc 0.77\n",
    "\n",
    "wavenet(kernel_size=4) : loss 0.86  , acc 0.769\n",
    "\n",
    "wavenet(kernel_size=2, batchnorm) : loss 0.85, acc 0.77"
   ]
  },
  {
   "cell_type": "markdown",
   "metadata": {},
   "source": [
    "### CNN + RNN model"
   ]
  },
  {
   "cell_type": "code",
   "execution_count": 14,
   "metadata": {},
   "outputs": [],
   "source": [
    "log_dir = logdir(\"cnnrnn_batchnorm\")"
   ]
  },
  {
   "cell_type": "code",
   "execution_count": 15,
   "metadata": {},
   "outputs": [],
   "source": [
    "keras.backend.clear_session()\n",
    "\n",
    "model = keras.models.Sequential()\n",
    "model.add(keras.layers.Embedding(n_notes, 5, input_shape=[None]))\n",
    "\n",
    "for rate in (1, 2, 4, 8, 16):\n",
    "    model.add(keras.layers.Conv1D(filters=100, kernel_size=2, padding='causal', \n",
    "                                  dilation_rate=rate))\n",
    "    model.add(keras.layers.BatchNormalization())\n",
    "model.add(keras.layers.GRU(100, return_sequences=True))\n",
    "model.add(keras.layers.TimeDistributed(keras.layers.Dense(n_notes, activation='softmax')))"
   ]
  },
  {
   "cell_type": "code",
   "execution_count": 16,
   "metadata": {},
   "outputs": [
    {
     "name": "stdout",
     "output_type": "stream",
     "text": [
      "Epoch 1/100\n",
      "1497/1497 [==============================] - 196s 128ms/step - loss: 1.9456 - accuracy: 0.5574 - val_loss: 0.8665 - val_accuracy: 0.7793\n",
      "Epoch 2/100\n",
      "1497/1497 [==============================] - 186s 124ms/step - loss: 0.8060 - accuracy: 0.7860 - val_loss: 0.7639 - val_accuracy: 0.7947\n",
      "Epoch 3/100\n",
      "1497/1497 [==============================] - 180s 120ms/step - loss: 0.7081 - accuracy: 0.8041 - val_loss: 0.7248 - val_accuracy: 0.8019\n",
      "Epoch 4/100\n",
      "1497/1497 [==============================] - 184s 123ms/step - loss: 0.6542 - accuracy: 0.8145 - val_loss: 0.7006 - val_accuracy: 0.8059\n",
      "Epoch 5/100\n",
      "1497/1497 [==============================] - 181s 121ms/step - loss: 0.6170 - accuracy: 0.8229 - val_loss: 0.6828 - val_accuracy: 0.8095\n",
      "Epoch 6/100\n",
      "1497/1497 [==============================] - 186s 124ms/step - loss: 0.5888 - accuracy: 0.8296 - val_loss: 0.6744 - val_accuracy: 0.8112\n",
      "Epoch 7/100\n",
      "1497/1497 [==============================] - 187s 125ms/step - loss: 0.5661 - accuracy: 0.8352 - val_loss: 0.6677 - val_accuracy: 0.8124\n",
      "Epoch 8/100\n",
      "1497/1497 [==============================] - 186s 124ms/step - loss: 0.5473 - accuracy: 0.8399 - val_loss: 0.6664 - val_accuracy: 0.8117\n",
      "Epoch 9/100\n",
      "1497/1497 [==============================] - 187s 125ms/step - loss: 0.5310 - accuracy: 0.8441 - val_loss: 0.6651 - val_accuracy: 0.8129\n",
      "Epoch 10/100\n",
      "1497/1497 [==============================] - 189s 126ms/step - loss: 0.5167 - accuracy: 0.8480 - val_loss: 0.6676 - val_accuracy: 0.8129\n",
      "Epoch 11/100\n",
      "1497/1497 [==============================] - 191s 128ms/step - loss: 0.5039 - accuracy: 0.8516 - val_loss: 0.6671 - val_accuracy: 0.8126\n",
      "Epoch 12/100\n",
      "1497/1497 [==============================] - 189s 126ms/step - loss: 0.4923 - accuracy: 0.8548 - val_loss: 0.6691 - val_accuracy: 0.8122\n",
      "Epoch 13/100\n",
      "1497/1497 [==============================] - 190s 127ms/step - loss: 0.4817 - accuracy: 0.8579 - val_loss: 0.6727 - val_accuracy: 0.8112\n",
      "Epoch 14/100\n",
      "1497/1497 [==============================] - 189s 127ms/step - loss: 0.4719 - accuracy: 0.8607 - val_loss: 0.6765 - val_accuracy: 0.8112\n",
      "Epoch 15/100\n",
      "1497/1497 [==============================] - 198s 133ms/step - loss: 0.4628 - accuracy: 0.8633 - val_loss: 0.6797 - val_accuracy: 0.8113\n",
      "Epoch 16/100\n",
      "1497/1497 [==============================] - 197s 132ms/step - loss: 0.4544 - accuracy: 0.8658 - val_loss: 0.6849 - val_accuracy: 0.8102\n",
      "Epoch 17/100\n",
      "1497/1497 [==============================] - 199s 133ms/step - loss: 0.4466 - accuracy: 0.8680 - val_loss: 0.6881 - val_accuracy: 0.8097\n",
      "Epoch 18/100\n",
      "1497/1497 [==============================] - 203s 135ms/step - loss: 0.4393 - accuracy: 0.8701 - val_loss: 0.6926 - val_accuracy: 0.8092\n",
      "Epoch 19/100\n",
      "1497/1497 [==============================] - 203s 136ms/step - loss: 0.4325 - accuracy: 0.8722 - val_loss: 0.6957 - val_accuracy: 0.8092\n"
     ]
    },
    {
     "data": {
      "text/plain": [
       "<tensorflow.python.keras.callbacks.History at 0x22247288f48>"
      ]
     },
     "execution_count": 16,
     "metadata": {},
     "output_type": "execute_result"
    }
   ],
   "source": [
    "model.compile(optimizer=keras.optimizers.Nadam(learning_rate=0.0001), \n",
    "              loss=\"sparse_categorical_crossentropy\", \n",
    "              metrics=[\"accuracy\"])\n",
    "model.fit(train_set, epochs=100, \n",
    "          callbacks=[keras.callbacks.EarlyStopping(patience=10),\n",
    "                    keras.callbacks.TensorBoard(log_dir=log_dir)],\n",
    "         validation_data=valid_set)"
   ]
  },
  {
   "cell_type": "code",
   "execution_count": 17,
   "metadata": {},
   "outputs": [
    {
     "name": "stdout",
     "output_type": "stream",
     "text": [
      "514/514 [==============================] - 15s 29ms/step - loss: 0.7181 - accuracy: 0.8016\n"
     ]
    },
    {
     "data": {
      "text/plain": [
       "[0.7180909514427185, 0.801592230796814]"
      ]
     },
     "execution_count": 17,
     "metadata": {},
     "output_type": "execute_result"
    }
   ],
   "source": [
    "model.evaluate(test_set)"
   ]
  }
 ],
 "metadata": {
  "colab": {
   "collapsed_sections": [
    "9ZCW-dbLfpyN",
    "emtDxzDLfpyT",
    "DrVvosfWfpyU",
    "6DvaqIzXfpyU",
    "Z8lKHlw5fpyj"
   ],
   "name": "chapter15.ipynb",
   "provenance": []
  },
  "kernelspec": {
   "display_name": "tensorflow_2",
   "language": "python",
   "name": "tensorflow_2"
  },
  "language_info": {
   "codemirror_mode": {
    "name": "ipython",
    "version": 3
   },
   "file_extension": ".py",
   "mimetype": "text/x-python",
   "name": "python",
   "nbconvert_exporter": "python",
   "pygments_lexer": "ipython3",
   "version": "3.7.9"
  }
 },
 "nbformat": 4,
 "nbformat_minor": 1
}
